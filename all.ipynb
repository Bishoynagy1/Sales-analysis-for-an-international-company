{
 "cells": [
  {
   "cell_type": "code",
   "execution_count": 46,
   "metadata": {},
   "outputs": [],
   "source": [
    "import pandas as pd\n",
    "import seaborn as sns\n",
    "import plotly_express as px\n",
    "import numpy as np\n",
    "from matplotlib import pyplot as plt \n",
    "pd.options.display.max_columns=None\n",
    "pd.options.display.max_rows=None"
   ]
  },
  {
   "cell_type": "code",
   "execution_count": 47,
   "metadata": {},
   "outputs": [],
   "source": [
    "df=pd.read_csv('all_data.csv',encoding='latin-1')"
   ]
  },
  {
   "cell_type": "code",
   "execution_count": 48,
   "metadata": {},
   "outputs": [
    {
     "name": "stdout",
     "output_type": "stream",
     "text": [
      "<class 'pandas.core.frame.DataFrame'>\n",
      "RangeIndex: 2161 entries, 0 to 2160\n",
      "Data columns (total 22 columns):\n",
      " #   Column          Non-Null Count  Dtype  \n",
      "---  ------          --------------  -----  \n",
      " 0   CustomerID      2158 non-null   float64\n",
      " 1   FirstName       2158 non-null   object \n",
      " 2   LastName        2158 non-null   object \n",
      " 3   City            2158 non-null   object \n",
      " 4   Country         2158 non-null   object \n",
      " 5   Phone           2158 non-null   object \n",
      " 6   OrderID         2155 non-null   float64\n",
      " 7   OrderDate       2155 non-null   object \n",
      " 8   OrderNumber     2155 non-null   float64\n",
      " 9   TotalAmount     2155 non-null   float64\n",
      " 10  ProductID       2157 non-null   float64\n",
      " 11  ProductName     2157 non-null   object \n",
      " 12  UnitPrice       2157 non-null   float64\n",
      " 13  Package         2157 non-null   object \n",
      " 14  IsDiscontinued  2157 non-null   object \n",
      " 15  SupplierID      2157 non-null   float64\n",
      " 16  CompanyName     2157 non-null   object \n",
      " 17  ContactName     2157 non-null   object \n",
      " 18  City.1          2157 non-null   object \n",
      " 19  Country.1       2157 non-null   object \n",
      " 20  Phone.1         2157 non-null   object \n",
      " 21  Fax             947 non-null    object \n",
      "dtypes: float64(7), object(15)\n",
      "memory usage: 371.6+ KB\n"
     ]
    }
   ],
   "source": [
    "df.info()"
   ]
  },
  {
   "cell_type": "code",
   "execution_count": 49,
   "metadata": {},
   "outputs": [
    {
     "data": {
      "text/html": [
       "<div>\n",
       "<style scoped>\n",
       "    .dataframe tbody tr th:only-of-type {\n",
       "        vertical-align: middle;\n",
       "    }\n",
       "\n",
       "    .dataframe tbody tr th {\n",
       "        vertical-align: top;\n",
       "    }\n",
       "\n",
       "    .dataframe thead th {\n",
       "        text-align: right;\n",
       "    }\n",
       "</style>\n",
       "<table border=\"1\" class=\"dataframe\">\n",
       "  <thead>\n",
       "    <tr style=\"text-align: right;\">\n",
       "      <th></th>\n",
       "      <th>CustomerID</th>\n",
       "      <th>FirstName</th>\n",
       "      <th>LastName</th>\n",
       "      <th>City</th>\n",
       "      <th>Country</th>\n",
       "      <th>Phone</th>\n",
       "      <th>OrderID</th>\n",
       "      <th>OrderDate</th>\n",
       "      <th>OrderNumber</th>\n",
       "      <th>TotalAmount</th>\n",
       "      <th>ProductID</th>\n",
       "      <th>ProductName</th>\n",
       "      <th>UnitPrice</th>\n",
       "      <th>Package</th>\n",
       "      <th>IsDiscontinued</th>\n",
       "      <th>SupplierID</th>\n",
       "      <th>CompanyName</th>\n",
       "      <th>ContactName</th>\n",
       "      <th>City.1</th>\n",
       "      <th>Country.1</th>\n",
       "      <th>Phone.1</th>\n",
       "      <th>Fax</th>\n",
       "    </tr>\n",
       "  </thead>\n",
       "  <tbody>\n",
       "    <tr>\n",
       "      <th>0</th>\n",
       "      <td>85.0</td>\n",
       "      <td>Paul</td>\n",
       "      <td>Henriot</td>\n",
       "      <td>Reims</td>\n",
       "      <td>France</td>\n",
       "      <td>26.47.15.10</td>\n",
       "      <td>1.0</td>\n",
       "      <td>7/4/2012 0:00</td>\n",
       "      <td>542378.0</td>\n",
       "      <td>440.0</td>\n",
       "      <td>11.0</td>\n",
       "      <td>Queso Cabrales</td>\n",
       "      <td>21.00</td>\n",
       "      <td>1 kg pkg.</td>\n",
       "      <td>False</td>\n",
       "      <td>5.0</td>\n",
       "      <td>Cooperativa de Quesos 'Las Cabras'</td>\n",
       "      <td>Antonio del Valle Saavedra</td>\n",
       "      <td>Oviedo</td>\n",
       "      <td>Spain</td>\n",
       "      <td>(98) 598 76 54</td>\n",
       "      <td>NaN</td>\n",
       "    </tr>\n",
       "    <tr>\n",
       "      <th>1</th>\n",
       "      <td>85.0</td>\n",
       "      <td>Paul</td>\n",
       "      <td>Henriot</td>\n",
       "      <td>Reims</td>\n",
       "      <td>France</td>\n",
       "      <td>26.47.15.10</td>\n",
       "      <td>1.0</td>\n",
       "      <td>7/4/2012 0:00</td>\n",
       "      <td>542378.0</td>\n",
       "      <td>440.0</td>\n",
       "      <td>42.0</td>\n",
       "      <td>Singaporean Hokkien Fried Mee</td>\n",
       "      <td>14.00</td>\n",
       "      <td>32 - 1 kg pkgs.</td>\n",
       "      <td>True</td>\n",
       "      <td>20.0</td>\n",
       "      <td>Leka Trading</td>\n",
       "      <td>Chandra Leka</td>\n",
       "      <td>Singapore</td>\n",
       "      <td>Singapore</td>\n",
       "      <td>555-8787</td>\n",
       "      <td>NaN</td>\n",
       "    </tr>\n",
       "    <tr>\n",
       "      <th>2</th>\n",
       "      <td>85.0</td>\n",
       "      <td>Paul</td>\n",
       "      <td>Henriot</td>\n",
       "      <td>Reims</td>\n",
       "      <td>France</td>\n",
       "      <td>26.47.15.10</td>\n",
       "      <td>1.0</td>\n",
       "      <td>7/4/2012 0:00</td>\n",
       "      <td>542378.0</td>\n",
       "      <td>440.0</td>\n",
       "      <td>72.0</td>\n",
       "      <td>Mozzarella di Giovanni</td>\n",
       "      <td>34.80</td>\n",
       "      <td>24 - 200 g pkgs.</td>\n",
       "      <td>False</td>\n",
       "      <td>14.0</td>\n",
       "      <td>Formaggi Fortini s.r.l.</td>\n",
       "      <td>Elio Rossi</td>\n",
       "      <td>Ravenna</td>\n",
       "      <td>Italy</td>\n",
       "      <td>(0544) 60323</td>\n",
       "      <td>(0544) 60603</td>\n",
       "    </tr>\n",
       "    <tr>\n",
       "      <th>3</th>\n",
       "      <td>79.0</td>\n",
       "      <td>Karin</td>\n",
       "      <td>Josephs</td>\n",
       "      <td>Münster</td>\n",
       "      <td>Germany</td>\n",
       "      <td>0251-031259</td>\n",
       "      <td>2.0</td>\n",
       "      <td>7/5/2012 0:00</td>\n",
       "      <td>542379.0</td>\n",
       "      <td>1863.4</td>\n",
       "      <td>14.0</td>\n",
       "      <td>Tofu</td>\n",
       "      <td>23.25</td>\n",
       "      <td>40 - 100 g pkgs.</td>\n",
       "      <td>False</td>\n",
       "      <td>6.0</td>\n",
       "      <td>Mayumi's</td>\n",
       "      <td>Mayumi Ohno</td>\n",
       "      <td>Osaka</td>\n",
       "      <td>Japan</td>\n",
       "      <td>(06) 431-7877</td>\n",
       "      <td>NaN</td>\n",
       "    </tr>\n",
       "    <tr>\n",
       "      <th>4</th>\n",
       "      <td>79.0</td>\n",
       "      <td>Karin</td>\n",
       "      <td>Josephs</td>\n",
       "      <td>Münster</td>\n",
       "      <td>Germany</td>\n",
       "      <td>0251-031259</td>\n",
       "      <td>2.0</td>\n",
       "      <td>7/5/2012 0:00</td>\n",
       "      <td>542379.0</td>\n",
       "      <td>1863.4</td>\n",
       "      <td>51.0</td>\n",
       "      <td>Manjimup Dried Apples</td>\n",
       "      <td>53.00</td>\n",
       "      <td>50 - 300 g pkgs.</td>\n",
       "      <td>False</td>\n",
       "      <td>24.0</td>\n",
       "      <td>G'day, Mate</td>\n",
       "      <td>Wendy Mackenzie</td>\n",
       "      <td>Sydney</td>\n",
       "      <td>Australia</td>\n",
       "      <td>(02) 555-5914</td>\n",
       "      <td>(02) 555-4873</td>\n",
       "    </tr>\n",
       "  </tbody>\n",
       "</table>\n",
       "</div>"
      ],
      "text/plain": [
       "   CustomerID FirstName LastName     City  Country        Phone  OrderID  \\\n",
       "0        85.0      Paul  Henriot    Reims   France  26.47.15.10      1.0   \n",
       "1        85.0      Paul  Henriot    Reims   France  26.47.15.10      1.0   \n",
       "2        85.0      Paul  Henriot    Reims   France  26.47.15.10      1.0   \n",
       "3        79.0     Karin  Josephs  Münster  Germany  0251-031259      2.0   \n",
       "4        79.0     Karin  Josephs  Münster  Germany  0251-031259      2.0   \n",
       "\n",
       "       OrderDate  OrderNumber  TotalAmount  ProductID  \\\n",
       "0  7/4/2012 0:00     542378.0        440.0       11.0   \n",
       "1  7/4/2012 0:00     542378.0        440.0       42.0   \n",
       "2  7/4/2012 0:00     542378.0        440.0       72.0   \n",
       "3  7/5/2012 0:00     542379.0       1863.4       14.0   \n",
       "4  7/5/2012 0:00     542379.0       1863.4       51.0   \n",
       "\n",
       "                     ProductName  UnitPrice           Package IsDiscontinued  \\\n",
       "0                 Queso Cabrales      21.00         1 kg pkg.          False   \n",
       "1  Singaporean Hokkien Fried Mee      14.00   32 - 1 kg pkgs.           True   \n",
       "2         Mozzarella di Giovanni      34.80  24 - 200 g pkgs.          False   \n",
       "3                           Tofu      23.25  40 - 100 g pkgs.          False   \n",
       "4          Manjimup Dried Apples      53.00  50 - 300 g pkgs.          False   \n",
       "\n",
       "   SupplierID                         CompanyName                 ContactName  \\\n",
       "0         5.0  Cooperativa de Quesos 'Las Cabras'  Antonio del Valle Saavedra   \n",
       "1        20.0                        Leka Trading                Chandra Leka   \n",
       "2        14.0             Formaggi Fortini s.r.l.                  Elio Rossi   \n",
       "3         6.0                            Mayumi's                 Mayumi Ohno   \n",
       "4        24.0                         G'day, Mate             Wendy Mackenzie   \n",
       "\n",
       "      City.1  Country.1         Phone.1            Fax  \n",
       "0     Oviedo      Spain  (98) 598 76 54            NaN  \n",
       "1  Singapore  Singapore        555-8787            NaN  \n",
       "2    Ravenna      Italy    (0544) 60323   (0544) 60603  \n",
       "3      Osaka      Japan   (06) 431-7877            NaN  \n",
       "4     Sydney  Australia   (02) 555-5914  (02) 555-4873  "
      ]
     },
     "execution_count": 49,
     "metadata": {},
     "output_type": "execute_result"
    }
   ],
   "source": [
    "df.head()"
   ]
  },
  {
   "cell_type": "code",
   "execution_count": 50,
   "metadata": {},
   "outputs": [
    {
     "data": {
      "text/html": [
       "<div>\n",
       "<style scoped>\n",
       "    .dataframe tbody tr th:only-of-type {\n",
       "        vertical-align: middle;\n",
       "    }\n",
       "\n",
       "    .dataframe tbody tr th {\n",
       "        vertical-align: top;\n",
       "    }\n",
       "\n",
       "    .dataframe thead th {\n",
       "        text-align: right;\n",
       "    }\n",
       "</style>\n",
       "<table border=\"1\" class=\"dataframe\">\n",
       "  <thead>\n",
       "    <tr style=\"text-align: right;\">\n",
       "      <th></th>\n",
       "      <th>CustomerID</th>\n",
       "      <th>FirstName</th>\n",
       "      <th>LastName</th>\n",
       "      <th>City</th>\n",
       "      <th>Country</th>\n",
       "      <th>Phone</th>\n",
       "      <th>OrderID</th>\n",
       "      <th>OrderDate</th>\n",
       "      <th>OrderNumber</th>\n",
       "      <th>TotalAmount</th>\n",
       "      <th>ProductID</th>\n",
       "      <th>ProductName</th>\n",
       "      <th>UnitPrice</th>\n",
       "      <th>Package</th>\n",
       "      <th>IsDiscontinued</th>\n",
       "      <th>SupplierID</th>\n",
       "      <th>CompanyName</th>\n",
       "      <th>ContactName</th>\n",
       "      <th>City.1</th>\n",
       "      <th>Country.1</th>\n",
       "      <th>Phone.1</th>\n",
       "      <th>Fax</th>\n",
       "    </tr>\n",
       "  </thead>\n",
       "  <tbody>\n",
       "    <tr>\n",
       "      <th>2006</th>\n",
       "      <td>19.0</td>\n",
       "      <td>Ann</td>\n",
       "      <td>Devon</td>\n",
       "      <td>London</td>\n",
       "      <td>UK</td>\n",
       "      <td>(171) 555-0297</td>\n",
       "      <td>777.0</td>\n",
       "      <td>4/15/2014 0:00</td>\n",
       "      <td>543154.0</td>\n",
       "      <td>1966.81</td>\n",
       "      <td>71.0</td>\n",
       "      <td>Flotemysost</td>\n",
       "      <td>21.5</td>\n",
       "      <td>10 - 500 g pkgs.</td>\n",
       "      <td>False</td>\n",
       "      <td>15.0</td>\n",
       "      <td>Norske Meierier</td>\n",
       "      <td>Beate Vileid</td>\n",
       "      <td>Sandvika</td>\n",
       "      <td>Norway</td>\n",
       "      <td>(0)2-953010</td>\n",
       "      <td>NaN</td>\n",
       "    </tr>\n",
       "    <tr>\n",
       "      <th>1000</th>\n",
       "      <td>5.0</td>\n",
       "      <td>Christina</td>\n",
       "      <td>Berglund</td>\n",
       "      <td>Lule?</td>\n",
       "      <td>Sweden</td>\n",
       "      <td>0921-12 34 65</td>\n",
       "      <td>379.0</td>\n",
       "      <td>8/11/2013 0:00</td>\n",
       "      <td>542756.0</td>\n",
       "      <td>1503.60</td>\n",
       "      <td>53.0</td>\n",
       "      <td>Perth Pasties</td>\n",
       "      <td>32.8</td>\n",
       "      <td>48 pieces</td>\n",
       "      <td>True</td>\n",
       "      <td>24.0</td>\n",
       "      <td>G'day, Mate</td>\n",
       "      <td>Wendy Mackenzie</td>\n",
       "      <td>Sydney</td>\n",
       "      <td>Australia</td>\n",
       "      <td>(02) 555-5914</td>\n",
       "      <td>(02) 555-4873</td>\n",
       "    </tr>\n",
       "    <tr>\n",
       "      <th>306</th>\n",
       "      <td>9.0</td>\n",
       "      <td>Laurence</td>\n",
       "      <td>Lebihan</td>\n",
       "      <td>Marseille</td>\n",
       "      <td>France</td>\n",
       "      <td>91.24.45.40</td>\n",
       "      <td>115.0</td>\n",
       "      <td>11/25/2012 0:00</td>\n",
       "      <td>542492.0</td>\n",
       "      <td>1549.60</td>\n",
       "      <td>51.0</td>\n",
       "      <td>Manjimup Dried Apples</td>\n",
       "      <td>53.0</td>\n",
       "      <td>50 - 300 g pkgs.</td>\n",
       "      <td>False</td>\n",
       "      <td>24.0</td>\n",
       "      <td>G'day, Mate</td>\n",
       "      <td>Wendy Mackenzie</td>\n",
       "      <td>Sydney</td>\n",
       "      <td>Australia</td>\n",
       "      <td>(02) 555-5914</td>\n",
       "      <td>(02) 555-4873</td>\n",
       "    </tr>\n",
       "    <tr>\n",
       "      <th>1424</th>\n",
       "      <td>91.0</td>\n",
       "      <td>Zbyszek</td>\n",
       "      <td>Piestrzeniewicz</td>\n",
       "      <td>Warszawa</td>\n",
       "      <td>Poland</td>\n",
       "      <td>(26) 642-7012</td>\n",
       "      <td>545.0</td>\n",
       "      <td>12/23/2013 0:00</td>\n",
       "      <td>542922.0</td>\n",
       "      <td>399.85</td>\n",
       "      <td>2.0</td>\n",
       "      <td>Chang</td>\n",
       "      <td>19.0</td>\n",
       "      <td>24 - 12 oz bottles</td>\n",
       "      <td>False</td>\n",
       "      <td>1.0</td>\n",
       "      <td>Exotic Liquids</td>\n",
       "      <td>Charlotte Cooper</td>\n",
       "      <td>London</td>\n",
       "      <td>UK</td>\n",
       "      <td>(171) 555-2222</td>\n",
       "      <td>NaN</td>\n",
       "    </tr>\n",
       "    <tr>\n",
       "      <th>1159</th>\n",
       "      <td>34.0</td>\n",
       "      <td>Mario</td>\n",
       "      <td>Pontes</td>\n",
       "      <td>Rio de Janeiro</td>\n",
       "      <td>Brazil</td>\n",
       "      <td>(21) 555-0091</td>\n",
       "      <td>443.0</td>\n",
       "      <td>10/2/2013 0:00</td>\n",
       "      <td>542820.0</td>\n",
       "      <td>1150.00</td>\n",
       "      <td>56.0</td>\n",
       "      <td>Gnocchi di nonna Alice</td>\n",
       "      <td>38.0</td>\n",
       "      <td>24 - 250 g pkgs.</td>\n",
       "      <td>False</td>\n",
       "      <td>26.0</td>\n",
       "      <td>Pasta Buttini s.r.l.</td>\n",
       "      <td>Giovanni Giudici</td>\n",
       "      <td>Salerno</td>\n",
       "      <td>Italy</td>\n",
       "      <td>(089) 6547665</td>\n",
       "      <td>(089) 6547667</td>\n",
       "    </tr>\n",
       "  </tbody>\n",
       "</table>\n",
       "</div>"
      ],
      "text/plain": [
       "      CustomerID  FirstName         LastName            City Country  \\\n",
       "2006        19.0        Ann            Devon          London      UK   \n",
       "1000         5.0  Christina         Berglund           Lule?  Sweden   \n",
       "306          9.0   Laurence          Lebihan       Marseille  France   \n",
       "1424        91.0    Zbyszek  Piestrzeniewicz        Warszawa  Poland   \n",
       "1159        34.0      Mario           Pontes  Rio de Janeiro  Brazil   \n",
       "\n",
       "               Phone  OrderID        OrderDate  OrderNumber  TotalAmount  \\\n",
       "2006  (171) 555-0297    777.0   4/15/2014 0:00     543154.0      1966.81   \n",
       "1000   0921-12 34 65    379.0   8/11/2013 0:00     542756.0      1503.60   \n",
       "306      91.24.45.40    115.0  11/25/2012 0:00     542492.0      1549.60   \n",
       "1424   (26) 642-7012    545.0  12/23/2013 0:00     542922.0       399.85   \n",
       "1159   (21) 555-0091    443.0   10/2/2013 0:00     542820.0      1150.00   \n",
       "\n",
       "      ProductID             ProductName  UnitPrice             Package  \\\n",
       "2006       71.0             Flotemysost       21.5    10 - 500 g pkgs.   \n",
       "1000       53.0           Perth Pasties       32.8           48 pieces   \n",
       "306        51.0   Manjimup Dried Apples       53.0    50 - 300 g pkgs.   \n",
       "1424        2.0                   Chang       19.0  24 - 12 oz bottles   \n",
       "1159       56.0  Gnocchi di nonna Alice       38.0    24 - 250 g pkgs.   \n",
       "\n",
       "     IsDiscontinued  SupplierID           CompanyName       ContactName  \\\n",
       "2006          False        15.0       Norske Meierier      Beate Vileid   \n",
       "1000           True        24.0           G'day, Mate   Wendy Mackenzie   \n",
       "306           False        24.0           G'day, Mate   Wendy Mackenzie   \n",
       "1424          False         1.0        Exotic Liquids  Charlotte Cooper   \n",
       "1159          False        26.0  Pasta Buttini s.r.l.  Giovanni Giudici   \n",
       "\n",
       "        City.1  Country.1         Phone.1            Fax  \n",
       "2006  Sandvika     Norway     (0)2-953010            NaN  \n",
       "1000    Sydney  Australia   (02) 555-5914  (02) 555-4873  \n",
       "306     Sydney  Australia   (02) 555-5914  (02) 555-4873  \n",
       "1424    London         UK  (171) 555-2222            NaN  \n",
       "1159   Salerno      Italy   (089) 6547665  (089) 6547667  "
      ]
     },
     "execution_count": 50,
     "metadata": {},
     "output_type": "execute_result"
    }
   ],
   "source": [
    "df.sample(5)"
   ]
  },
  {
   "cell_type": "code",
   "execution_count": 51,
   "metadata": {},
   "outputs": [
    {
     "data": {
      "text/html": [
       "<div>\n",
       "<style scoped>\n",
       "    .dataframe tbody tr th:only-of-type {\n",
       "        vertical-align: middle;\n",
       "    }\n",
       "\n",
       "    .dataframe tbody tr th {\n",
       "        vertical-align: top;\n",
       "    }\n",
       "\n",
       "    .dataframe thead th {\n",
       "        text-align: right;\n",
       "    }\n",
       "</style>\n",
       "<table border=\"1\" class=\"dataframe\">\n",
       "  <thead>\n",
       "    <tr style=\"text-align: right;\">\n",
       "      <th></th>\n",
       "      <th>CustomerID</th>\n",
       "      <th>FirstName</th>\n",
       "      <th>LastName</th>\n",
       "      <th>City</th>\n",
       "      <th>Country</th>\n",
       "      <th>Phone</th>\n",
       "      <th>OrderID</th>\n",
       "      <th>OrderDate</th>\n",
       "      <th>OrderNumber</th>\n",
       "      <th>TotalAmount</th>\n",
       "      <th>ProductID</th>\n",
       "      <th>ProductName</th>\n",
       "      <th>UnitPrice</th>\n",
       "      <th>Package</th>\n",
       "      <th>IsDiscontinued</th>\n",
       "      <th>SupplierID</th>\n",
       "      <th>CompanyName</th>\n",
       "      <th>ContactName</th>\n",
       "      <th>City.1</th>\n",
       "      <th>Country.1</th>\n",
       "      <th>Phone.1</th>\n",
       "      <th>Fax</th>\n",
       "    </tr>\n",
       "  </thead>\n",
       "  <tbody>\n",
       "    <tr>\n",
       "      <th>2156</th>\n",
       "      <td>NaN</td>\n",
       "      <td>NaN</td>\n",
       "      <td>NaN</td>\n",
       "      <td>NaN</td>\n",
       "      <td>NaN</td>\n",
       "      <td>NaN</td>\n",
       "      <td>NaN</td>\n",
       "      <td>NaN</td>\n",
       "      <td>NaN</td>\n",
       "      <td>NaN</td>\n",
       "      <td>79.0</td>\n",
       "      <td>DataScience</td>\n",
       "      <td>50.0</td>\n",
       "      <td>1</td>\n",
       "      <td>False</td>\n",
       "      <td>NaN</td>\n",
       "      <td>NaN</td>\n",
       "      <td>NaN</td>\n",
       "      <td>NaN</td>\n",
       "      <td>NaN</td>\n",
       "      <td>NaN</td>\n",
       "      <td>NaN</td>\n",
       "    </tr>\n",
       "    <tr>\n",
       "      <th>2157</th>\n",
       "      <td>92.0</td>\n",
       "      <td>Ali</td>\n",
       "      <td>Ali</td>\n",
       "      <td>Cairo</td>\n",
       "      <td>Egypt</td>\n",
       "      <td>0</td>\n",
       "      <td>NaN</td>\n",
       "      <td>NaN</td>\n",
       "      <td>NaN</td>\n",
       "      <td>NaN</td>\n",
       "      <td>NaN</td>\n",
       "      <td>NaN</td>\n",
       "      <td>NaN</td>\n",
       "      <td>NaN</td>\n",
       "      <td>NaN</td>\n",
       "      <td>NaN</td>\n",
       "      <td>NaN</td>\n",
       "      <td>NaN</td>\n",
       "      <td>NaN</td>\n",
       "      <td>NaN</td>\n",
       "      <td>NaN</td>\n",
       "      <td>NaN</td>\n",
       "    </tr>\n",
       "    <tr>\n",
       "      <th>2158</th>\n",
       "      <td>22.0</td>\n",
       "      <td>Diego</td>\n",
       "      <td>Roel</td>\n",
       "      <td>Madrid</td>\n",
       "      <td>Spain</td>\n",
       "      <td>(91) 555 94 44</td>\n",
       "      <td>NaN</td>\n",
       "      <td>NaN</td>\n",
       "      <td>NaN</td>\n",
       "      <td>NaN</td>\n",
       "      <td>NaN</td>\n",
       "      <td>NaN</td>\n",
       "      <td>NaN</td>\n",
       "      <td>NaN</td>\n",
       "      <td>NaN</td>\n",
       "      <td>NaN</td>\n",
       "      <td>NaN</td>\n",
       "      <td>NaN</td>\n",
       "      <td>NaN</td>\n",
       "      <td>NaN</td>\n",
       "      <td>NaN</td>\n",
       "      <td>NaN</td>\n",
       "    </tr>\n",
       "    <tr>\n",
       "      <th>2159</th>\n",
       "      <td>57.0</td>\n",
       "      <td>Marie</td>\n",
       "      <td>Bertrand</td>\n",
       "      <td>Paris</td>\n",
       "      <td>France</td>\n",
       "      <td>(1) 42.34.22.66</td>\n",
       "      <td>NaN</td>\n",
       "      <td>NaN</td>\n",
       "      <td>NaN</td>\n",
       "      <td>NaN</td>\n",
       "      <td>NaN</td>\n",
       "      <td>NaN</td>\n",
       "      <td>NaN</td>\n",
       "      <td>NaN</td>\n",
       "      <td>NaN</td>\n",
       "      <td>NaN</td>\n",
       "      <td>NaN</td>\n",
       "      <td>NaN</td>\n",
       "      <td>NaN</td>\n",
       "      <td>NaN</td>\n",
       "      <td>NaN</td>\n",
       "      <td>NaN</td>\n",
       "    </tr>\n",
       "    <tr>\n",
       "      <th>2160</th>\n",
       "      <td>NaN</td>\n",
       "      <td>NaN</td>\n",
       "      <td>NaN</td>\n",
       "      <td>NaN</td>\n",
       "      <td>NaN</td>\n",
       "      <td>NaN</td>\n",
       "      <td>NaN</td>\n",
       "      <td>NaN</td>\n",
       "      <td>NaN</td>\n",
       "      <td>NaN</td>\n",
       "      <td>NaN</td>\n",
       "      <td>NaN</td>\n",
       "      <td>NaN</td>\n",
       "      <td>NaN</td>\n",
       "      <td>NaN</td>\n",
       "      <td>30.0</td>\n",
       "      <td>DSClub</td>\n",
       "      <td>AEmad</td>\n",
       "      <td>Alex</td>\n",
       "      <td>Egypt</td>\n",
       "      <td>11111</td>\n",
       "      <td>11111</td>\n",
       "    </tr>\n",
       "  </tbody>\n",
       "</table>\n",
       "</div>"
      ],
      "text/plain": [
       "      CustomerID FirstName  LastName    City Country            Phone  \\\n",
       "2156         NaN       NaN       NaN     NaN     NaN              NaN   \n",
       "2157        92.0       Ali       Ali   Cairo   Egypt                0   \n",
       "2158        22.0     Diego      Roel  Madrid   Spain   (91) 555 94 44   \n",
       "2159        57.0     Marie  Bertrand   Paris  France  (1) 42.34.22.66   \n",
       "2160         NaN       NaN       NaN     NaN     NaN              NaN   \n",
       "\n",
       "      OrderID OrderDate  OrderNumber  TotalAmount  ProductID  ProductName  \\\n",
       "2156      NaN       NaN          NaN          NaN       79.0  DataScience   \n",
       "2157      NaN       NaN          NaN          NaN        NaN          NaN   \n",
       "2158      NaN       NaN          NaN          NaN        NaN          NaN   \n",
       "2159      NaN       NaN          NaN          NaN        NaN          NaN   \n",
       "2160      NaN       NaN          NaN          NaN        NaN          NaN   \n",
       "\n",
       "      UnitPrice Package IsDiscontinued  SupplierID CompanyName ContactName  \\\n",
       "2156       50.0       1          False         NaN         NaN         NaN   \n",
       "2157        NaN     NaN            NaN         NaN         NaN         NaN   \n",
       "2158        NaN     NaN            NaN         NaN         NaN         NaN   \n",
       "2159        NaN     NaN            NaN         NaN         NaN         NaN   \n",
       "2160        NaN     NaN            NaN        30.0      DSClub       AEmad   \n",
       "\n",
       "     City.1 Country.1 Phone.1    Fax  \n",
       "2156    NaN       NaN     NaN    NaN  \n",
       "2157    NaN       NaN     NaN    NaN  \n",
       "2158    NaN       NaN     NaN    NaN  \n",
       "2159    NaN       NaN     NaN    NaN  \n",
       "2160   Alex     Egypt   11111  11111  "
      ]
     },
     "execution_count": 51,
     "metadata": {},
     "output_type": "execute_result"
    }
   ],
   "source": [
    "df.tail(5)"
   ]
  },
  {
   "cell_type": "markdown",
   "metadata": {},
   "source": [
    "###Issues:\n",
    "* Delet orders with NAN Value \n",
    "* rename columns\n",
    "* change orderDate tybe Into Date \n",
    "* change ID columns and Order Number Columns to integer "
   ]
  },
  {
   "cell_type": "code",
   "execution_count": 52,
   "metadata": {},
   "outputs": [
    {
     "data": {
      "text/plain": [
       "Index(['CustomerID', 'FirstName', 'LastName', 'City', 'Country', 'Phone',\n",
       "       'OrderID', 'OrderDate', 'OrderNumber', 'TotalAmount', 'ProductID',\n",
       "       'ProductName', 'UnitPrice', 'Package', 'IsDiscontinued', 'SupplierID',\n",
       "       'CompanyName', 'ContactName', 'City.1', 'Country.1', 'Phone.1', 'Fax'],\n",
       "      dtype='object')"
      ]
     },
     "execution_count": 52,
     "metadata": {},
     "output_type": "execute_result"
    }
   ],
   "source": [
    "df.columns"
   ]
  },
  {
   "cell_type": "code",
   "execution_count": 53,
   "metadata": {},
   "outputs": [
    {
     "data": {
      "text/html": [
       "<div>\n",
       "<style scoped>\n",
       "    .dataframe tbody tr th:only-of-type {\n",
       "        vertical-align: middle;\n",
       "    }\n",
       "\n",
       "    .dataframe tbody tr th {\n",
       "        vertical-align: top;\n",
       "    }\n",
       "\n",
       "    .dataframe thead th {\n",
       "        text-align: right;\n",
       "    }\n",
       "</style>\n",
       "<table border=\"1\" class=\"dataframe\">\n",
       "  <thead>\n",
       "    <tr style=\"text-align: right;\">\n",
       "      <th></th>\n",
       "      <th>CustomerID</th>\n",
       "      <th>FirstName</th>\n",
       "      <th>LastName</th>\n",
       "      <th>City</th>\n",
       "      <th>Country</th>\n",
       "      <th>Phone</th>\n",
       "      <th>OrderID</th>\n",
       "      <th>OrderDate</th>\n",
       "      <th>OrderNumber</th>\n",
       "      <th>TotalAmount</th>\n",
       "      <th>ProductID</th>\n",
       "      <th>ProductName</th>\n",
       "      <th>UnitPrice</th>\n",
       "      <th>Package</th>\n",
       "      <th>IsDiscontinued</th>\n",
       "      <th>SupplierID</th>\n",
       "      <th>CompanyName</th>\n",
       "      <th>ContactName</th>\n",
       "      <th>City.1</th>\n",
       "      <th>Country.1</th>\n",
       "      <th>Phone.1</th>\n",
       "      <th>Fax</th>\n",
       "    </tr>\n",
       "  </thead>\n",
       "  <tbody>\n",
       "    <tr>\n",
       "      <th>2155</th>\n",
       "      <td>NaN</td>\n",
       "      <td>NaN</td>\n",
       "      <td>NaN</td>\n",
       "      <td>NaN</td>\n",
       "      <td>NaN</td>\n",
       "      <td>NaN</td>\n",
       "      <td>NaN</td>\n",
       "      <td>NaN</td>\n",
       "      <td>NaN</td>\n",
       "      <td>NaN</td>\n",
       "      <td>78.0</td>\n",
       "      <td>Stroopwafels</td>\n",
       "      <td>9.75</td>\n",
       "      <td>24 pieces</td>\n",
       "      <td>False</td>\n",
       "      <td>22.0</td>\n",
       "      <td>Zaanse Snoepfabriek</td>\n",
       "      <td>Dirk Luchte</td>\n",
       "      <td>Zaandam</td>\n",
       "      <td>Netherlands</td>\n",
       "      <td>(12345) 1212</td>\n",
       "      <td>(12345) 1210</td>\n",
       "    </tr>\n",
       "    <tr>\n",
       "      <th>2156</th>\n",
       "      <td>NaN</td>\n",
       "      <td>NaN</td>\n",
       "      <td>NaN</td>\n",
       "      <td>NaN</td>\n",
       "      <td>NaN</td>\n",
       "      <td>NaN</td>\n",
       "      <td>NaN</td>\n",
       "      <td>NaN</td>\n",
       "      <td>NaN</td>\n",
       "      <td>NaN</td>\n",
       "      <td>79.0</td>\n",
       "      <td>DataScience</td>\n",
       "      <td>50.00</td>\n",
       "      <td>1</td>\n",
       "      <td>False</td>\n",
       "      <td>NaN</td>\n",
       "      <td>NaN</td>\n",
       "      <td>NaN</td>\n",
       "      <td>NaN</td>\n",
       "      <td>NaN</td>\n",
       "      <td>NaN</td>\n",
       "      <td>NaN</td>\n",
       "    </tr>\n",
       "    <tr>\n",
       "      <th>2157</th>\n",
       "      <td>92.0</td>\n",
       "      <td>Ali</td>\n",
       "      <td>Ali</td>\n",
       "      <td>Cairo</td>\n",
       "      <td>Egypt</td>\n",
       "      <td>0</td>\n",
       "      <td>NaN</td>\n",
       "      <td>NaN</td>\n",
       "      <td>NaN</td>\n",
       "      <td>NaN</td>\n",
       "      <td>NaN</td>\n",
       "      <td>NaN</td>\n",
       "      <td>NaN</td>\n",
       "      <td>NaN</td>\n",
       "      <td>NaN</td>\n",
       "      <td>NaN</td>\n",
       "      <td>NaN</td>\n",
       "      <td>NaN</td>\n",
       "      <td>NaN</td>\n",
       "      <td>NaN</td>\n",
       "      <td>NaN</td>\n",
       "      <td>NaN</td>\n",
       "    </tr>\n",
       "    <tr>\n",
       "      <th>2158</th>\n",
       "      <td>22.0</td>\n",
       "      <td>Diego</td>\n",
       "      <td>Roel</td>\n",
       "      <td>Madrid</td>\n",
       "      <td>Spain</td>\n",
       "      <td>(91) 555 94 44</td>\n",
       "      <td>NaN</td>\n",
       "      <td>NaN</td>\n",
       "      <td>NaN</td>\n",
       "      <td>NaN</td>\n",
       "      <td>NaN</td>\n",
       "      <td>NaN</td>\n",
       "      <td>NaN</td>\n",
       "      <td>NaN</td>\n",
       "      <td>NaN</td>\n",
       "      <td>NaN</td>\n",
       "      <td>NaN</td>\n",
       "      <td>NaN</td>\n",
       "      <td>NaN</td>\n",
       "      <td>NaN</td>\n",
       "      <td>NaN</td>\n",
       "      <td>NaN</td>\n",
       "    </tr>\n",
       "    <tr>\n",
       "      <th>2159</th>\n",
       "      <td>57.0</td>\n",
       "      <td>Marie</td>\n",
       "      <td>Bertrand</td>\n",
       "      <td>Paris</td>\n",
       "      <td>France</td>\n",
       "      <td>(1) 42.34.22.66</td>\n",
       "      <td>NaN</td>\n",
       "      <td>NaN</td>\n",
       "      <td>NaN</td>\n",
       "      <td>NaN</td>\n",
       "      <td>NaN</td>\n",
       "      <td>NaN</td>\n",
       "      <td>NaN</td>\n",
       "      <td>NaN</td>\n",
       "      <td>NaN</td>\n",
       "      <td>NaN</td>\n",
       "      <td>NaN</td>\n",
       "      <td>NaN</td>\n",
       "      <td>NaN</td>\n",
       "      <td>NaN</td>\n",
       "      <td>NaN</td>\n",
       "      <td>NaN</td>\n",
       "    </tr>\n",
       "    <tr>\n",
       "      <th>2160</th>\n",
       "      <td>NaN</td>\n",
       "      <td>NaN</td>\n",
       "      <td>NaN</td>\n",
       "      <td>NaN</td>\n",
       "      <td>NaN</td>\n",
       "      <td>NaN</td>\n",
       "      <td>NaN</td>\n",
       "      <td>NaN</td>\n",
       "      <td>NaN</td>\n",
       "      <td>NaN</td>\n",
       "      <td>NaN</td>\n",
       "      <td>NaN</td>\n",
       "      <td>NaN</td>\n",
       "      <td>NaN</td>\n",
       "      <td>NaN</td>\n",
       "      <td>30.0</td>\n",
       "      <td>DSClub</td>\n",
       "      <td>AEmad</td>\n",
       "      <td>Alex</td>\n",
       "      <td>Egypt</td>\n",
       "      <td>11111</td>\n",
       "      <td>11111</td>\n",
       "    </tr>\n",
       "  </tbody>\n",
       "</table>\n",
       "</div>"
      ],
      "text/plain": [
       "      CustomerID FirstName  LastName    City Country            Phone  \\\n",
       "2155         NaN       NaN       NaN     NaN     NaN              NaN   \n",
       "2156         NaN       NaN       NaN     NaN     NaN              NaN   \n",
       "2157        92.0       Ali       Ali   Cairo   Egypt                0   \n",
       "2158        22.0     Diego      Roel  Madrid   Spain   (91) 555 94 44   \n",
       "2159        57.0     Marie  Bertrand   Paris  France  (1) 42.34.22.66   \n",
       "2160         NaN       NaN       NaN     NaN     NaN              NaN   \n",
       "\n",
       "      OrderID OrderDate  OrderNumber  TotalAmount  ProductID   ProductName  \\\n",
       "2155      NaN       NaN          NaN          NaN       78.0  Stroopwafels   \n",
       "2156      NaN       NaN          NaN          NaN       79.0   DataScience   \n",
       "2157      NaN       NaN          NaN          NaN        NaN           NaN   \n",
       "2158      NaN       NaN          NaN          NaN        NaN           NaN   \n",
       "2159      NaN       NaN          NaN          NaN        NaN           NaN   \n",
       "2160      NaN       NaN          NaN          NaN        NaN           NaN   \n",
       "\n",
       "      UnitPrice    Package IsDiscontinued  SupplierID          CompanyName  \\\n",
       "2155       9.75  24 pieces          False        22.0  Zaanse Snoepfabriek   \n",
       "2156      50.00          1          False         NaN                  NaN   \n",
       "2157        NaN        NaN            NaN         NaN                  NaN   \n",
       "2158        NaN        NaN            NaN         NaN                  NaN   \n",
       "2159        NaN        NaN            NaN         NaN                  NaN   \n",
       "2160        NaN        NaN            NaN        30.0               DSClub   \n",
       "\n",
       "      ContactName   City.1    Country.1       Phone.1           Fax  \n",
       "2155  Dirk Luchte  Zaandam  Netherlands  (12345) 1212  (12345) 1210  \n",
       "2156          NaN      NaN          NaN           NaN           NaN  \n",
       "2157          NaN      NaN          NaN           NaN           NaN  \n",
       "2158          NaN      NaN          NaN           NaN           NaN  \n",
       "2159          NaN      NaN          NaN           NaN           NaN  \n",
       "2160        AEmad     Alex        Egypt         11111         11111  "
      ]
     },
     "execution_count": 53,
     "metadata": {},
     "output_type": "execute_result"
    }
   ],
   "source": [
    "df[df['OrderID'].isnull()]"
   ]
  },
  {
   "cell_type": "code",
   "execution_count": 54,
   "metadata": {},
   "outputs": [],
   "source": [
    "df.dropna(subset='OrderID',inplace=True)"
   ]
  },
  {
   "cell_type": "code",
   "execution_count": 55,
   "metadata": {},
   "outputs": [],
   "source": [
    "df.rename(columns={'City.1':'suppcity','Country.1':'suppcountry', 'Phone.1':'tele'},inplace=True)"
   ]
  },
  {
   "cell_type": "code",
   "execution_count": 56,
   "metadata": {},
   "outputs": [],
   "source": [
    "df.OrderDate=pd.to_datetime(df.OrderDate)"
   ]
  },
  {
   "cell_type": "code",
   "execution_count": 57,
   "metadata": {},
   "outputs": [],
   "source": [
    "for cols in df.columns:\n",
    "    if'ID'in cols or 'OrderNumber'in cols:\n",
    "        df[cols]=df[cols].astype(int)"
   ]
  },
  {
   "cell_type": "code",
   "execution_count": 58,
   "metadata": {},
   "outputs": [
    {
     "name": "stdout",
     "output_type": "stream",
     "text": [
      "<class 'pandas.core.frame.DataFrame'>\n",
      "Index: 2155 entries, 0 to 2154\n",
      "Data columns (total 22 columns):\n",
      " #   Column          Non-Null Count  Dtype         \n",
      "---  ------          --------------  -----         \n",
      " 0   CustomerID      2155 non-null   int32         \n",
      " 1   FirstName       2155 non-null   object        \n",
      " 2   LastName        2155 non-null   object        \n",
      " 3   City            2155 non-null   object        \n",
      " 4   Country         2155 non-null   object        \n",
      " 5   Phone           2155 non-null   object        \n",
      " 6   OrderID         2155 non-null   int32         \n",
      " 7   OrderDate       2155 non-null   datetime64[ns]\n",
      " 8   OrderNumber     2155 non-null   int32         \n",
      " 9   TotalAmount     2155 non-null   float64       \n",
      " 10  ProductID       2155 non-null   int32         \n",
      " 11  ProductName     2155 non-null   object        \n",
      " 12  UnitPrice       2155 non-null   float64       \n",
      " 13  Package         2155 non-null   object        \n",
      " 14  IsDiscontinued  2155 non-null   object        \n",
      " 15  SupplierID      2155 non-null   int32         \n",
      " 16  CompanyName     2155 non-null   object        \n",
      " 17  ContactName     2155 non-null   object        \n",
      " 18  suppcity        2155 non-null   object        \n",
      " 19  suppcountry     2155 non-null   object        \n",
      " 20  tele            2155 non-null   object        \n",
      " 21  Fax             945 non-null    object        \n",
      "dtypes: datetime64[ns](1), float64(2), int32(5), object(14)\n",
      "memory usage: 345.1+ KB\n"
     ]
    }
   ],
   "source": [
    "df.info()"
   ]
  },
  {
   "cell_type": "markdown",
   "metadata": {},
   "source": [
    "EDA \n",
    "Univariate Analysis"
   ]
  },
  {
   "cell_type": "code",
   "execution_count": 59,
   "metadata": {},
   "outputs": [
    {
     "data": {
      "text/plain": [
       "Index(['CustomerID', 'FirstName', 'LastName', 'City', 'Country', 'Phone',\n",
       "       'OrderID', 'OrderDate', 'OrderNumber', 'TotalAmount', 'ProductID',\n",
       "       'ProductName', 'UnitPrice', 'Package', 'IsDiscontinued', 'SupplierID',\n",
       "       'CompanyName', 'ContactName', 'suppcity', 'suppcountry', 'tele', 'Fax'],\n",
       "      dtype='object')"
      ]
     },
     "execution_count": 59,
     "metadata": {},
     "output_type": "execute_result"
    }
   ],
   "source": [
    "df.columns"
   ]
  },
  {
   "cell_type": "code",
   "execution_count": 60,
   "metadata": {},
   "outputs": [
    {
     "data": {
      "text/html": [
       "<div>\n",
       "<style scoped>\n",
       "    .dataframe tbody tr th:only-of-type {\n",
       "        vertical-align: middle;\n",
       "    }\n",
       "\n",
       "    .dataframe tbody tr th {\n",
       "        vertical-align: top;\n",
       "    }\n",
       "\n",
       "    .dataframe thead th {\n",
       "        text-align: right;\n",
       "    }\n",
       "</style>\n",
       "<table border=\"1\" class=\"dataframe\">\n",
       "  <thead>\n",
       "    <tr style=\"text-align: right;\">\n",
       "      <th></th>\n",
       "      <th>CustomerID</th>\n",
       "      <th>fullname</th>\n",
       "      <th>City</th>\n",
       "      <th>Country</th>\n",
       "      <th>OrderID</th>\n",
       "      <th>OrderDate</th>\n",
       "      <th>OrderNumber</th>\n",
       "      <th>TotalAmount</th>\n",
       "    </tr>\n",
       "  </thead>\n",
       "  <tbody>\n",
       "    <tr>\n",
       "      <th>0</th>\n",
       "      <td>85</td>\n",
       "      <td>Paul Henriot</td>\n",
       "      <td>Reims</td>\n",
       "      <td>France</td>\n",
       "      <td>1</td>\n",
       "      <td>2012-07-04</td>\n",
       "      <td>542378</td>\n",
       "      <td>440.0</td>\n",
       "    </tr>\n",
       "    <tr>\n",
       "      <th>1</th>\n",
       "      <td>85</td>\n",
       "      <td>Paul Henriot</td>\n",
       "      <td>Reims</td>\n",
       "      <td>France</td>\n",
       "      <td>1</td>\n",
       "      <td>2012-07-04</td>\n",
       "      <td>542378</td>\n",
       "      <td>440.0</td>\n",
       "    </tr>\n",
       "    <tr>\n",
       "      <th>2</th>\n",
       "      <td>85</td>\n",
       "      <td>Paul Henriot</td>\n",
       "      <td>Reims</td>\n",
       "      <td>France</td>\n",
       "      <td>1</td>\n",
       "      <td>2012-07-04</td>\n",
       "      <td>542378</td>\n",
       "      <td>440.0</td>\n",
       "    </tr>\n",
       "    <tr>\n",
       "      <th>3</th>\n",
       "      <td>79</td>\n",
       "      <td>Karin Josephs</td>\n",
       "      <td>Münster</td>\n",
       "      <td>Germany</td>\n",
       "      <td>2</td>\n",
       "      <td>2012-07-05</td>\n",
       "      <td>542379</td>\n",
       "      <td>1863.4</td>\n",
       "    </tr>\n",
       "    <tr>\n",
       "      <th>4</th>\n",
       "      <td>79</td>\n",
       "      <td>Karin Josephs</td>\n",
       "      <td>Münster</td>\n",
       "      <td>Germany</td>\n",
       "      <td>2</td>\n",
       "      <td>2012-07-05</td>\n",
       "      <td>542379</td>\n",
       "      <td>1863.4</td>\n",
       "    </tr>\n",
       "  </tbody>\n",
       "</table>\n",
       "</div>"
      ],
      "text/plain": [
       "   CustomerID       fullname     City  Country  OrderID  OrderDate  \\\n",
       "0          85   Paul Henriot    Reims   France        1 2012-07-04   \n",
       "1          85   Paul Henriot    Reims   France        1 2012-07-04   \n",
       "2          85   Paul Henriot    Reims   France        1 2012-07-04   \n",
       "3          79  Karin Josephs  Münster  Germany        2 2012-07-05   \n",
       "4          79  Karin Josephs  Münster  Germany        2 2012-07-05   \n",
       "\n",
       "   OrderNumber  TotalAmount  \n",
       "0       542378        440.0  \n",
       "1       542378        440.0  \n",
       "2       542378        440.0  \n",
       "3       542379       1863.4  \n",
       "4       542379       1863.4  "
      ]
     },
     "execution_count": 60,
     "metadata": {},
     "output_type": "execute_result"
    }
   ],
   "source": [
    "order={\n",
    "    'CustomerID':df.CustomerID,\n",
    "    'fullname':df.FirstName + ' ' + df.LastName,\n",
    "    'City':df.City,\n",
    "    'Country':df.Country,\n",
    "    'OrderID':df.OrderID,\n",
    "    'OrderDate':df.OrderDate,\n",
    "    'OrderNumber':df.OrderNumber,\n",
    "    'TotalAmount':df.TotalAmount\n",
    "}\n",
    "order=pd.DataFrame(order)\n",
    "order.head()"
   ]
  },
  {
   "cell_type": "code",
   "execution_count": 61,
   "metadata": {},
   "outputs": [
    {
     "name": "stdout",
     "output_type": "stream",
     "text": [
      "<class 'pandas.core.frame.DataFrame'>\n",
      "Index: 2155 entries, 0 to 2154\n",
      "Data columns (total 8 columns):\n",
      " #   Column       Non-Null Count  Dtype         \n",
      "---  ------       --------------  -----         \n",
      " 0   CustomerID   2155 non-null   int32         \n",
      " 1   fullname     2155 non-null   object        \n",
      " 2   City         2155 non-null   object        \n",
      " 3   Country      2155 non-null   object        \n",
      " 4   OrderID      2155 non-null   int32         \n",
      " 5   OrderDate    2155 non-null   datetime64[ns]\n",
      " 6   OrderNumber  2155 non-null   int32         \n",
      " 7   TotalAmount  2155 non-null   float64       \n",
      "dtypes: datetime64[ns](1), float64(1), int32(3), object(3)\n",
      "memory usage: 126.3+ KB\n"
     ]
    }
   ],
   "source": [
    "order.info()"
   ]
  },
  {
   "cell_type": "markdown",
   "metadata": {},
   "source": [
    "DATA Shape "
   ]
  },
  {
   "cell_type": "markdown",
   "metadata": {},
   "source": [
    "Quantitative data"
   ]
  },
  {
   "cell_type": "code",
   "execution_count": 62,
   "metadata": {},
   "outputs": [
    {
     "data": {
      "text/plain": [
       "<matplotlib.lines.Line2D at 0x1b0758fc920>"
      ]
     },
     "execution_count": 62,
     "metadata": {},
     "output_type": "execute_result"
    },
    {
     "data": {
      "image/png": "[encoded data removed]",
      "text/plain": [
       "<Figure size 640x480 with 1 Axes>"
      ]
     },
     "metadata": {},
     "output_type": "display_data"
    }
   ],
   "source": [
    "sns.histplot(data=order,x='TotalAmount',kde=True)\n",
    "plt.title('Distribution of totalAmount of invoices')\n",
    "plt.xlabel(\"TotalAmount\")\n",
    "plt.ylabel('Frequency')\n",
    "plt.axvline(order.TotalAmount.mean(),color='red')\n",
    "plt.axvline(order.TotalAmount.median(),color='black')\n"
   ]
  },
  {
   "cell_type": "markdown",
   "metadata": {},
   "source": [
    "##IQR##"
   ]
  },
  {
   "cell_type": "code",
   "execution_count": 63,
   "metadata": {},
   "outputs": [
    {
     "name": "stdout",
     "output_type": "stream",
     "text": [
      "4977.55\n"
     ]
    }
   ],
   "source": [
    "min=order.TotalAmount.min()\n",
    "q1=order.TotalAmount.quantile(0.25)\n",
    "q2=order.TotalAmount.median()\n",
    "q3=order.TotalAmount.quantile(0.75)\n",
    "\n",
    "iqr=q3-q1\n",
    "\n",
    "UB=q3+(1.5*iqr)\n",
    "LW=q1-(1.5*iqr)\n",
    "\n",
    "print(UB)"
   ]
  },
  {
   "cell_type": "code",
   "execution_count": 64,
   "metadata": {},
   "outputs": [
    {
     "data": {
      "application/vnd.plotly.v1+json": {
       "config": {
        "plotlyServerURL": "https://plot.ly"
       },
       "data": [
        {
         "alignmentgroup": "True",
         "hovertemplate": "TotalAmount=%{x}<extra></extra>",
         "legendgroup": "",
         "marker": {
          "color": "#636efa"
         },
         "name": "",
         "notched": false,
         "offsetgroup": "",
         "orientation": "h",
         "showlegend": false,
         "type": "box",
         "x": [
          440,
          440,
          440,
          1863.4,
          1863.4,
          1813,
          1813,
          1813,
          670.8,
          670.8,
          670.8,
          3730,
          3730,
          3730,
          1444.8,
          1444.8,
          1444.8,
          625.2,
          625.2,
          625.2,
          2490.5,
          2490.5,
          2490.5,
          2490.5,
          517.8,
          517.8,
          1119.9,
          1119.9,
          1119.9,
          2018.6,
          2018.6,
          2018.6,
          100.8,
          100.8,
          1746.2,
          1746.2,
          1746.2,
          1746.2,
          448,
          448,
          624.8,
          624.8,
          624.8,
          2464.8,
          2464.8,
          2464.8,
          2464.8,
          724.5,
          724.5,
          1176,
          1176,
          364.8,
          4031,
          4031,
          4031,
          1101.2,
          1101.2,
          676,
          676,
          1376,
          1376,
          48,
          1456,
          1456,
          1456,
          2142.4,
          2142.4,
          2142.4,
          2142.4,
          2142.4,
          538.6,
          538.6,
          307.2,
          307.2,
          420,
          420,
          1200.8,
          1200.8,
          1488.8,
          1488.8,
          1488.8,
          1488.8,
          468,
          613.2,
          613.2,
          613.2,
          86.5,
          86.5,
          86.5,
          155.4,
          155.4,
          1414.8,
          1414.8,
          1414.8,
          1414.8,
          1452,
          1452,
          1452,
          1452,
          2179.2,
          2179.2,
          2179.2,
          3016,
          3016,
          924,
          924,
          924,
          89,
          89,
          479.4,
          479.4,
          2169,
          2169,
          2169,
          2169,
          552.8,
          552.8,
          552.8,
          1296,
          848.7,
          848.7,
          848.7,
          848.7,
          1887.6,
          1887.6,
          1887.6,
          1887.6,
          1887.6,
          121.6,
          1050.6,
          1050.6,
          1050.6,
          1420,
          1420,
          3127,
          3127,
          3127,
          3127,
          349.5,
          349.5,
          608,
          608,
          755,
          755,
          2708.8,
          2708.8,
          2708.8,
          1242,
          1242,
          1242,
          954.4,
          954.4,
          954.4,
          4157,
          4157,
          4157,
          498.5,
          498.5,
          498.5,
          424,
          424,
          88.8,
          88.8,
          1762,
          1762,
          1762,
          1762,
          1762,
          336,
          336,
          268.8,
          268.8,
          1614.8,
          1614.8,
          1614.8,
          1614.8,
          182.4,
          2327,
          2327,
          2327,
          516.8,
          516.8,
          2835,
          2835,
          288,
          240.4,
          240.4,
          1191.2,
          1191.2,
          1191.2,
          516,
          144,
          112,
          164.4,
          164.4,
          164.4,
          6155.9,
          6155.9,
          6155.9,
          6155.9,
          6155.9,
          1497,
          1497,
          1497,
          1497,
          1497,
          982,
          982,
          982,
          2262.5,
          2262.5,
          2262.5,
          2262.5,
          1168,
          1168,
          1168,
          4819.4,
          4819.4,
          4819.4,
          4819.4,
          1940,
          1940,
          88.5,
          2233.6,
          2233.6,
          2233.6,
          954,
          954,
          954,
          144.8,
          144.8,
          2545.2,
          2545.2,
          2545.2,
          2545.2,
          316.8,
          2467,
          2467,
          2467,
          2467,
          2467,
          934.5,
          934.5,
          3463.2,
          3463.2,
          3463.2,
          2564.4,
          2564.4,
          2564.4,
          412,
          412,
          2300.8,
          2300.8,
          2300.8,
          2300.8,
          1586,
          1586,
          1586,
          2856,
          2856,
          2924.8,
          2924.8,
          2924.8,
          1731.2,
          1731.2,
          928,
          928,
          928,
          928,
          396,
          396,
          141.6,
          713.4,
          713.4,
          5677.6,
          5677.6,
          5677.6,
          5677.6,
          154,
          154,
          10741.6,
          10741.6,
          568.8,
          568.8,
          480,
          480,
          1106.4,
          1106.4,
          1106.4,
          1360,
          1360,
          1360,
          452,
          452,
          452,
          3654.4,
          3654.4,
          3654.4,
          7390.2,
          7390.2,
          7390.2,
          7390.2,
          7390.2,
          2273.6,
          2273.6,
          1549.6,
          1549.6,
          1549.6,
          447.2,
          447.2,
          447.2,
          950,
          950,
          403.2,
          136,
          136,
          834.2,
          834.2,
          834.2,
          834.2,
          1834.2,
          1834.2,
          1834.2,
          1834.2,
          2527.2,
          2527.2,
          1174,
          1174,
          1174,
          91.2,
          12281.2,
          12281.2,
          12281.2,
          12281.2,
          1708,
          1708,
          459,
          459,
          338,
          338,
          420,
          1016,
          1016,
          103.2,
          959.2,
          959.2,
          959.2,
          1419.8,
          1419.8,
          1419.8,
          1419.8,
          112,
          2900,
          2900,
          2900,
          2900,
          2900,
          899,
          899,
          899,
          2222.4,
          2222.4,
          864,
          864,
          864,
          166,
          166,
          1058.4,
          1058.4,
          1058.4,
          1058.4,
          1274,
          1274,
          1274,
          1832.8,
          1832.8,
          1832.8,
          1832.8,
          2275.2,
          2275.2,
          2275.2,
          2275.2,
          86.4,
          1440,
          3302.6,
          3302.6,
          3302.6,
          3302.6,
          3302.6,
          442,
          442,
          2333.2,
          2333.2,
          2333.2,
          1903.8,
          1903.8,
          1903.8,
          843.2,
          843.2,
          2736,
          2736,
          1765.6,
          1765.6,
          1765.6,
          1765.6,
          3063,
          3063,
          3063,
          3868.6,
          3868.6,
          3868.6,
          3868.6,
          2713.5,
          2713.5,
          1005.9,
          1005.9,
          1675,
          1675,
          1675,
          400,
          2018.2,
          2018.2,
          2018.2,
          2018.2,
          2018.2,
          1194,
          1194,
          1194,
          1622.4,
          1622.4,
          1622.4,
          319.2,
          319.2,
          802,
          802,
          1208.5,
          1208.5,
          1208.5,
          372,
          2123.2,
          2123.2,
          2123.2,
          231.4,
          231.4,
          102.4,
          102.4,
          720,
          720,
          720,
          11283.2,
          11283.2,
          11283.2,
          11283.2,
          1814.8,
          1814.8,
          1814.8,
          1814.8,
          2208,
          2208,
          1897.6,
          1897.6,
          1897.6,
          1897.6,
          1273.2,
          1273.2,
          1273.2,
          1273.2,
          49.8,
          1020,
          1020,
          11493.2,
          11493.2,
          11493.2,
          480,
          480,
          338.2,
          338.2,
          651,
          192,
          1748.5,
          1748.5,
          5796,
          5796,
          5796,
          5796,
          2523,
          2523,
          2523,
          485,
          485,
          851.2,
          360,
          360,
          631.6,
          631.6,
          631.6,
          2210.8,
          2210.8,
          2210.8,
          2210.8,
          393,
          567.5,
          567.5,
          567.5,
          1078,
          1078,
          1078,
          1078,
          5793.1,
          5793.1,
          5793.1,
          5793.1,
          1755,
          1792,
          1792,
          1792,
          537.6,
          537.6,
          1031.7,
          1031.7,
          1031.7,
          1031.7,
          174.9,
          174.9,
          273.6,
          273.6,
          273.6,
          273.6,
          914.4,
          914.4,
          914.4,
          443.4,
          443.4,
          1838.2,
          1838.2,
          1838.2,
          531.4,
          531.4,
          4277.4,
          4277.4,
          4277.4,
          4277.4,
          2096,
          2096,
          453,
          453,
          414,
          414,
          414,
          2684,
          2684,
          2684,
          2684,
          656,
          656,
          1584,
          3891,
          3891,
          3891,
          3891,
          3891,
          1688,
          1688,
          1688,
          234.8,
          234.8,
          2051.6,
          2051.6,
          2051.6,
          156,
          156,
          713.3,
          713.3,
          1848,
          1848,
          1848,
          1848,
          2719,
          2719,
          2719,
          2719,
          2719,
          216,
          216,
          235.2,
          235.2,
          717.6,
          717.6,
          1125.5,
          1125.5,
          1125.5,
          1820.8,
          1820.8,
          1820.8,
          1328,
          1328,
          1051.2,
          1051.2,
          230.4,
          230.4,
          1249.1,
          1249.1,
          1249.1,
          1249.1,
          1770.8,
          1770.8,
          1770.8,
          182.4,
          182.4,
          672,
          672,
          672,
          496,
          10495.6,
          10495.6,
          10495.6,
          10495.6,
          756,
          756,
          1472,
          1472,
          147,
          704,
          704,
          386.2,
          386.2,
          386.2,
          1760,
          1760,
          1760,
          1760,
          1272,
          1272,
          1272,
          925.1,
          925.1,
          925.1,
          1560,
          1560,
          502.2,
          502.2,
          3163.2,
          3163.2,
          3163.2,
          305.3,
          305.3,
          896,
          896,
          676,
          676,
          676,
          912,
          278,
          278,
          278,
          200,
          1380.6,
          1380.6,
          1380.6,
          575,
          575,
          575,
          1412,
          1412,
          550.8,
          550.8,
          149,
          816.3,
          816.3,
          816.3,
          2048.5,
          2048.5,
          1388.5,
          1388.5,
          1388.5,
          1388.5,
          147.9,
          462,
          462,
          881.25,
          881.25,
          240,
          240,
          136.8,
          4735.44,
          4735.44,
          3000,
          3000,
          3000,
          618,
          618,
          618,
          618,
          2427.5,
          2427.5,
          2427.5,
          8623.45,
          8623.45,
          8623.45,
          8623.45,
          8623.45,
          10588.5,
          10588.5,
          10588.5,
          10588.5,
          10588.5,
          2614.5,
          2614.5,
          2614.5,
          352,
          352,
          352,
          4150.05,
          4150.05,
          4150.05,
          2356,
          2356,
          2356,
          200,
          200,
          225.5,
          225.5,
          225.5,
          2657.8,
          2657.8,
          2657.8,
          2657.8,
          2715.9,
          2715.9,
          2715.9,
          2715.9,
          3192.65,
          3192.65,
          3192.65,
          3192.65,
          846,
          846,
          1344,
          1344,
          1344,
          1670,
          1670,
          396.2,
          396.2,
          396.2,
          946,
          946,
          946,
          4180,
          4180,
          4180,
          4180,
          110,
          796.35,
          796.35,
          2295.2,
          2295.2,
          2295.2,
          517.4,
          517.4,
          517.4,
          2156.5,
          2156.5,
          2156.5,
          2156.5,
          2085,
          2085,
          2085,
          2085,
          1823.8,
          1823.8,
          1823.8,
          1823.8,
          1823.8,
          139.8,
          139.8,
          355.5,
          355.5,
          355.5,
          355.5,
          10191.7,
          10191.7,
          10191.7,
          10191.7,
          2162.8,
          2162.8,
          2162.8,
          2162.8,
          493.8,
          493.8,
          1770,
          1770,
          417.2,
          417.2,
          210,
          2812,
          2812,
          2812,
          1908,
          1908,
          275.1,
          275.1,
          4181.5,
          4181.5,
          4181.5,
          749,
          749,
          749,
          749,
          1836,
          1836,
          1836,
          880.5,
          880.5,
          1546.3,
          1546.3,
          1546.3,
          1546.3,
          1546.3,
          1819.5,
          1819.5,
          1819.5,
          1819.5,
          3680.5,
          3680.5,
          3680.5,
          3680.5,
          3680.5,
          835.2,
          1152.5,
          1152.5,
          2142.9,
          2142.9,
          2142.9,
          2142.9,
          2142.9,
          547.8,
          547.8,
          1257.3,
          1257.3,
          2844.5,
          2844.5,
          543,
          543,
          965,
          965,
          1299,
          1299,
          1299,
          711,
          711,
          2040,
          2040,
          2040,
          3109,
          3109,
          3109,
          155,
          977.5,
          977.5,
          2595,
          2595,
          647.75,
          647.75,
          1565.65,
          1565.65,
          1565.65,
          1565.65,
          2082,
          2082,
          2082,
          764.3,
          764.3,
          764.3,
          764.3,
          2147.4,
          2147.4,
          2147.4,
          2147.4,
          838.45,
          838.45,
          838.45,
          569,
          569,
          569,
          477,
          477,
          317.75,
          317.75,
          1067.1,
          1067.1,
          1067.1,
          387.5,
          330,
          330,
          2413.9,
          2413.9,
          2413.9,
          625,
          142.5,
          28,
          807.38,
          807.38,
          807.38,
          3900,
          3900,
          72,
          1140,
          1140,
          812.5,
          812.5,
          812.5,
          543.65,
          543.65,
          2493,
          2493,
          2493,
          565.5,
          565.5,
          6300,
          6300,
          6300,
          1476.1,
          1476.1,
          1476.1,
          800.1,
          800.1,
          800.1,
          2388.5,
          2388.5,
          493,
          479.8,
          479.8,
          2285,
          2285,
          65,
          1508,
          1508,
          256.5,
          256.5,
          4326,
          4326,
          4326,
          4326,
          1413,
          1413,
          1413,
          6475.4,
          6475.4,
          6475.4,
          6475.4,
          6475.4,
          1064,
          424,
          424,
          424,
          399,
          808,
          808,
          808,
          6375,
          6375,
          6375,
          6375,
          6375,
          358,
          358,
          464,
          464,
          464,
          120,
          5032,
          5032,
          5032,
          5032,
          1650,
          2697.5,
          2697.5,
          2697.5,
          1260,
          1260,
          57.5,
          57.5,
          758.5,
          758.5,
          758.5,
          758.5,
          605,
          605,
          1429.75,
          1429.75,
          1429.75,
          1429.75,
          1429.75,
          1393.24,
          1393.24,
          1393.24,
          479.75,
          479.75,
          479.75,
          1503.6,
          1503.6,
          1503.6,
          1264.5,
          1264.5,
          450,
          2775.05,
          2775.05,
          918,
          918,
          62,
          620,
          620,
          6483.05,
          6483.05,
          6483.05,
          6483.05,
          4985.5,
          4985.5,
          4985.5,
          4985.5,
          1380.25,
          1380.25,
          1380.25,
          629.5,
          629.5,
          2896.25,
          2896.25,
          2896.25,
          2720.05,
          2720.05,
          2720.05,
          500,
          945,
          945,
          2054,
          2054,
          870,
          870,
          1086,
          1086,
          1086,
          1422,
          1422,
          1422,
          1535,
          1535,
          1928,
          1928,
          1928,
          1928,
          636,
          636,
          382.5,
          382.5,
          1434,
          1434,
          1820.2,
          1820.2,
          1820.2,
          530.4,
          530.4,
          331.78,
          331.78,
          1203.5,
          1203.5,
          668.7,
          668.7,
          668.7,
          193,
          671.35,
          671.35,
          671.35,
          4371.6,
          4371.6,
          4371.6,
          4371.6,
          4371.6,
          4371.6,
          4668,
          4668,
          4668,
          4668,
          1291.6,
          1291.6,
          1291.6,
          1701,
          703.25,
          703.25,
          125,
          2032,
          2032,
          2032,
          1515.75,
          1515.75,
          1515.75,
          1295,
          1295,
          1295,
          4666.94,
          4666.94,
          1921,
          1921,
          694.75,
          694.75,
          694.75,
          570,
          2301.75,
          2301.75,
          2301.75,
          2301.75,
          2301.75,
          920.1,
          920.1,
          920.1,
          4210.5,
          4210.5,
          412.35,
          412.35,
          412.35,
          45,
          1423,
          1423,
          1423,
          534.85,
          534.85,
          534.85,
          956.9,
          956.9,
          5256.5,
          5256.5,
          5256.5,
          5256.5,
          660,
          1682.5,
          1682.5,
          1682.5,
          1327,
          1327,
          1327,
          375.5,
          375.5,
          375.5,
          63,
          1768,
          1768,
          1768,
          801.1,
          801.1,
          801.1,
          1638.45,
          1638.45,
          6201.9,
          6201.9,
          6201.9,
          3490,
          3490,
          3490,
          630,
          1150,
          1150,
          10164.8,
          10164.8,
          10164.8,
          10164.8,
          10164.8,
          878,
          2334,
          2334,
          2334,
          2334,
          4825,
          4825,
          4825,
          642,
          642,
          642,
          996,
          996,
          1073.9,
          1073.9,
          1073.9,
          1073.9,
          3600.73,
          3600.73,
          3600.73,
          3600.73,
          3600.73,
          114,
          2048,
          2048,
          2048,
          2048,
          3370,
          3370,
          3370,
          330,
          330,
          2545,
          2545,
          2545,
          595.5,
          595.5,
          595.5,
          378,
          378,
          1893,
          1893,
          1893,
          1704,
          1704,
          1704,
          180.4,
          180.4,
          3424,
          3424,
          3424,
          93.5,
          93.5,
          4451.7,
          4451.7,
          4451.7,
          1238.4,
          1238.4,
          2827.9,
          2827.9,
          2827.9,
          2827.9,
          2941,
          2941,
          2941,
          2941,
          2941,
          1296,
          1296,
          706,
          706,
          706,
          1331.75,
          1331.75,
          1331.75,
          3463,
          3463,
          3463,
          3463,
          1125.67,
          1125.67,
          1125.67,
          550,
          550,
          972.5,
          1570,
          1570,
          1570,
          1570,
          468.45,
          638.5,
          638.5,
          287.8,
          287.8,
          287.8,
          655,
          655,
          1710,
          1710,
          1710,
          1296.75,
          1296.75,
          1296.75,
          1296.75,
          1850,
          1850,
          1850,
          509.75,
          509.75,
          509.75,
          1990,
          1990,
          360,
          1459,
          1459,
          1459,
          1498.35,
          1498.35,
          1498.35,
          596,
          596,
          997,
          997,
          139.8,
          139.8,
          52.35,
          240,
          240,
          1770,
          1770,
          1770,
          1770,
          285,
          3118,
          3118,
          3118,
          336,
          920,
          4529.8,
          4529.8,
          4529.8,
          4529.8,
          2311.7,
          2311.7,
          2311.7,
          2311.7,
          1912.85,
          1912.85,
          1912.85,
          1912.85,
          2196,
          2196,
          2196,
          1080,
          1080,
          1080,
          1871.25,
          1871.25,
          1871.25,
          1701.46,
          1701.46,
          1701.46,
          1701.46,
          252,
          252,
          88,
          88,
          55.2,
          2598,
          2598,
          2598,
          2598,
          2487.5,
          2487.5,
          2487.5,
          2487.5,
          3082,
          3082,
          3082,
          3082,
          1644.6,
          1644.6,
          1644.6,
          320,
          3304,
          3304,
          3304,
          629.5,
          629.5,
          4337,
          4337,
          4337,
          4337,
          616,
          616,
          616,
          2540,
          2540,
          1684,
          2310,
          2310,
          2310,
          28,
          1477,
          1477,
          1477,
          1477,
          1704,
          1704,
          1704,
          1704,
          315,
          344,
          3603.22,
          3603.22,
          2216.25,
          2216.25,
          2216.25,
          875,
          875,
          228,
          228,
          6984.5,
          6984.5,
          6984.5,
          6984.5,
          280,
          96.5,
          1335,
          1335,
          720,
          720,
          1132.35,
          1132.35,
          1132.35,
          12.5,
          1442.5,
          1442.5,
          1650,
          1650,
          1650,
          387.5,
          387.5,
          1913.85,
          1913.85,
          1913.85,
          2760.8,
          2760.8,
          770,
          770,
          3687,
          3687,
          3687,
          3687,
          850,
          850,
          1926.06,
          1926.06,
          399.85,
          399.85,
          399.85,
          191.1,
          191.1,
          393.45,
          393.45,
          2499.25,
          2499.25,
          2878.08,
          2878.08,
          2878.08,
          2878.08,
          420,
          446.6,
          446.6,
          1585,
          1585,
          1585,
          1632.15,
          1632.15,
          1632.15,
          4035.8,
          4035.8,
          3923.75,
          3923.75,
          3923.75,
          3923.75,
          1255.8,
          1255.8,
          1255.8,
          2290.4,
          2290.4,
          2290.4,
          2775,
          2775,
          572.1,
          572.1,
          572.1,
          18.4,
          1660,
          1660,
          140,
          187,
          187,
          187,
          852,
          852,
          852,
          1852,
          1852,
          1852,
          648,
          648,
          2070,
          2070,
          2070,
          2070,
          40,
          8891,
          8891,
          11490.7,
          11490.7,
          11490.7,
          11490.7,
          833,
          833,
          477,
          477,
          1140,
          678,
          678,
          237.9,
          237.9,
          3107.5,
          3107.5,
          3107.5,
          3107.5,
          250.8,
          250.8,
          1030.76,
          1030.76,
          730,
          730,
          843,
          843,
          932,
          932,
          1764,
          1764,
          1764,
          1764,
          1974,
          1974,
          1974,
          1974,
          2684.4,
          2684.4,
          2684.4,
          2684.4,
          568.95,
          568.95,
          568.95,
          568.95,
          1007.7,
          1007.7,
          1007.7,
          1508.12,
          1508.12,
          851,
          851,
          4705.5,
          4705.5,
          4705.5,
          4705.5,
          4705.5,
          1254,
          1254,
          1254,
          1254,
          2584.5,
          2584.5,
          2584.5,
          919.5,
          919.5,
          264,
          264,
          4581,
          4581,
          4581,
          4581,
          975,
          975,
          975,
          975,
          212,
          735,
          4059,
          4059,
          4059,
          4059,
          4059,
          1112,
          1112,
          1112,
          6164.9,
          6164.9,
          6164.9,
          6164.9,
          6164.9,
          6164.9,
          931.5,
          931.5,
          1052.14,
          1052.14,
          740,
          740,
          740,
          2740,
          2740,
          2740,
          2740,
          2984,
          2984,
          2984,
          625,
          3490,
          3490,
          2275.25,
          2275.25,
          2275.25,
          2275.25,
          660,
          660,
          2630.95,
          2630.95,
          2630.95,
          649,
          649,
          649,
          1438.25,
          1438.25,
          1438.25,
          519,
          519,
          3523.4,
          3523.4,
          3523.4,
          3523.4,
          3523.4,
          581,
          581,
          519,
          519,
          282,
          282,
          17250,
          17250,
          1461.6,
          1461.6,
          1461.6,
          98.4,
          2004.6,
          2004.6,
          2004.6,
          1630,
          1630,
          1630,
          1630,
          160,
          160,
          2083.4,
          2083.4,
          2083.4,
          2166.8,
          2166.8,
          2166.8,
          2166.8,
          336.8,
          336.8,
          310,
          729.5,
          729.5,
          729.5,
          917,
          917,
          2086,
          2086,
          1620,
          611.3,
          611.3,
          611.3,
          1875,
          1875,
          1875,
          150,
          988.4,
          988.4,
          988.4,
          36,
          1450.6,
          1450.6,
          1450.6,
          1209,
          1209,
          1209,
          1209,
          3127.5,
          3127.5,
          3127.5,
          70,
          605,
          605,
          11380,
          11380,
          860.1,
          860.1,
          860.1,
          388.35,
          2200,
          5502.11,
          5502.11,
          5502.11,
          5502.11,
          5502.11,
          2898,
          2898,
          2898,
          6379.4,
          6379.4,
          6379.4,
          6379.4,
          750.5,
          750.5,
          10835.24,
          10835.24,
          30,
          144,
          45,
          934.5,
          934.5,
          1015.8,
          1015.8,
          932.05,
          932.05,
          932.05,
          1924.25,
          1924.25,
          360,
          427.5,
          108.5,
          698,
          698,
          670,
          670,
          670,
          452.9,
          452.9,
          452.9,
          858,
          858,
          858,
          8267.4,
          8267.4,
          958.75,
          958.75,
          958.75,
          537.5,
          539.5,
          539.5,
          539.5,
          686.7,
          686.7,
          686.7,
          365.89,
          365.89,
          1930,
          1930,
          1122.8,
          1122.8,
          1122.8,
          390,
          1936,
          1936,
          742.5,
          742.5,
          936,
          936,
          936,
          2034.5,
          2034.5,
          2034.5,
          559,
          559,
          514.4,
          514.4,
          514.4,
          514.4,
          800,
          800,
          800,
          137.5,
          137.5,
          1174.75,
          1174.75,
          1174.75,
          2455,
          2455,
          2455,
          2455,
          837,
          837,
          1925.5,
          1925.5,
          1925.5,
          1925.5,
          920.6,
          920.6,
          500,
          700,
          700,
          700,
          570,
          644.8,
          644.8,
          3642.5,
          3642.5,
          3642.5,
          3642.5,
          750,
          750,
          360,
          360,
          4769,
          4769,
          4769,
          4769,
          560,
          711,
          711,
          711,
          1139.1,
          1139.1,
          1139.1,
          245,
          245,
          1407.5,
          1407.5,
          1407.5,
          220,
          2362.25,
          2362.25,
          2362.25,
          4422,
          4422,
          4422,
          4422,
          110,
          482.9,
          482.9,
          482.9,
          491.2,
          491.2,
          4675,
          4675,
          1902.1,
          1902.1,
          1902.1,
          1902.1,
          93,
          677,
          677,
          677,
          1762.7,
          1762.7,
          1762.7,
          781,
          781,
          781,
          155,
          276.6,
          276.6,
          1122,
          1122,
          3584,
          3584,
          3584,
          3584,
          3584,
          68,
          2052.5,
          2052.5,
          2052.5,
          848,
          1255.6,
          1255.6,
          1255.6,
          910.4,
          910.4,
          1408,
          1408,
          1408,
          108,
          280,
          1733.06,
          251.5,
          251.5,
          291.55,
          291.55,
          291.55,
          439,
          717.5,
          717.5,
          912,
          2233,
          2233,
          2233,
          2233,
          1500.7,
          1500.7,
          1500.7,
          1500.7,
          4813.5,
          4813.5,
          4813.5,
          4813.5,
          4813.5,
          4813.5,
          310,
          15810,
          1014,
          1014,
          796.5,
          796.5,
          1809.75,
          1809.75,
          1809.75,
          2248.2,
          2248.2,
          2248.2,
          2220,
          2220,
          2220,
          2220,
          2772,
          2772,
          2772,
          3772,
          3772,
          1353.6,
          1353.6,
          1353.6,
          4931,
          4931,
          4931,
          4931,
          2870,
          2870,
          2870,
          69.6,
          6527.25,
          6527.25,
          990,
          1196,
          1196,
          560,
          1980,
          1980,
          1980,
          686,
          686,
          686,
          686,
          1261,
          1261,
          1261,
          1075,
          1075,
          1075,
          2769,
          2769,
          2769,
          2769,
          1902,
          1902,
          1902,
          1902,
          326,
          326,
          326,
          295.38,
          295.38,
          586,
          586,
          391.58,
          391.58,
          2633.9,
          2633.9,
          2633.9,
          4903.5,
          4903.5,
          4903.5,
          702,
          702,
          702,
          645,
          645,
          960,
          960,
          2974,
          2974,
          2974,
          361,
          361,
          361,
          361,
          270.2,
          622.35,
          622.35,
          491.5,
          491.5,
          6750,
          6750,
          6750,
          1575,
          1575,
          1575,
          76,
          76,
          744,
          6941.49,
          6941.49,
          6941.49,
          6941.49,
          6941.49,
          1402,
          1402,
          1500,
          1500,
          1966.81,
          1966.81,
          1966.81,
          1966.81,
          300,
          300,
          1030,
          1030,
          1170.3,
          1170.3,
          2160,
          2160,
          1286.8,
          1286.8,
          16321.9,
          16321.9,
          16321.9,
          16321.9,
          2393.5,
          2393.5,
          2393.5,
          2393.5,
          2393.5,
          8902.5,
          8902.5,
          8902.5,
          3592,
          3592,
          554.4,
          554.4,
          554.4,
          1754.5,
          1754.5,
          1754.5,
          1754.5,
          1692,
          1692,
          60,
          751,
          751,
          751,
          3090,
          3090,
          3090,
          3090,
          200,
          1887,
          1887,
          405.75,
          405.75,
          210,
          591.6,
          1309.5,
          1309.5,
          1564,
          1564,
          1564,
          1090.5,
          1090.5,
          525,
          342,
          342,
          900,
          45,
          1665,
          1665,
          3658.75,
          3658.75,
          3658.75,
          305,
          305,
          1727.5,
          1727.5,
          1727.5,
          1727.5,
          3740,
          3740,
          3740,
          45,
          858,
          858,
          858,
          1838,
          1838,
          1838,
          266,
          266,
          510,
          508,
          508,
          1445.5,
          1445.5,
          1445.5,
          4722.3,
          4722.3,
          4722.3,
          4722.3,
          4722.3,
          252.56,
          252.56,
          928.75,
          928.75,
          928.75,
          86.85,
          2384.8,
          2384.8,
          2384.8,
          360,
          1873.5,
          1873.5,
          1873.5,
          1873.5,
          510,
          510,
          5218,
          5218,
          5218,
          5218,
          300,
          300,
          244.3,
          586,
          586,
          586,
          1057,
          1057,
          1057,
          1374.6,
          1374.6,
          1374.6,
          1374.6,
          1374.6,
          1374.6,
          1374.6,
          1374.6,
          1374.6,
          1374.6,
          1374.6,
          1374.6,
          1374.6,
          1374.6,
          1374.6,
          1374.6,
          1374.6,
          1374.6,
          1374.6,
          1374.6,
          1374.6,
          1374.6,
          1374.6,
          1374.6,
          1374.6
         ],
         "x0": " ",
         "xaxis": "x",
         "y0": " ",
         "yaxis": "y"
        }
       ],
       "layout": {
        "boxmode": "group",
        "legend": {
         "tracegroupgap": 0
        },
        "margin": {
         "t": 60
        },
        "template": {
         "data": {
          "bar": [
           {
            "error_x": {
             "color": "#2a3f5f"
            },
            "error_y": {
             "color": "#2a3f5f"
            },
            "marker": {
             "line": {
              "color": "#E5ECF6",
              "width": 0.5
             },
             "pattern": {
              "fillmode": "overlay",
              "size": 10,
              "solidity": 0.2
             }
            },
            "type": "bar"
           }
          ],
          "barpolar": [
           {
            "marker": {
             "line": {
              "color": "#E5ECF6",
              "width": 0.5
             },
             "pattern": {
              "fillmode": "overlay",
              "size": 10,
              "solidity": 0.2
             }
            },
            "type": "barpolar"
           }
          ],
          "carpet": [
           {
            "aaxis": {
             "endlinecolor": "#2a3f5f",
             "gridcolor": "white",
             "linecolor": "white",
             "minorgridcolor": "white",
             "startlinecolor": "#2a3f5f"
            },
            "baxis": {
             "endlinecolor": "#2a3f5f",
             "gridcolor": "white",
             "linecolor": "white",
             "minorgridcolor": "white",
             "startlinecolor": "#2a3f5f"
            },
            "type": "carpet"
           }
          ],
          "choropleth": [
           {
            "colorbar": {
             "outlinewidth": 0,
             "ticks": ""
            },
            "type": "choropleth"
           }
          ],
          "contour": [
           {
            "colorbar": {
             "outlinewidth": 0,
             "ticks": ""
            },
            "colorscale": [
             [
              0,
              "#0d0887"
             ],
             [
              0.1111111111111111,
              "#46039f"
             ],
             [
              0.2222222222222222,
              "#7201a8"
             ],
             [
              0.3333333333333333,
              "#9c179e"
             ],
             [
              0.4444444444444444,
              "#bd3786"
             ],
             [
              0.5555555555555556,
              "#d8576b"
             ],
             [
              0.6666666666666666,
              "#ed7953"
             ],
             [
              0.7777777777777778,
              "#fb9f3a"
             ],
             [
              0.8888888888888888,
              "#fdca26"
             ],
             [
              1,
              "#f0f921"
             ]
            ],
            "type": "contour"
           }
          ],
          "contourcarpet": [
           {
            "colorbar": {
             "outlinewidth": 0,
             "ticks": ""
            },
            "type": "contourcarpet"
           }
          ],
          "heatmap": [
           {
            "colorbar": {
             "outlinewidth": 0,
             "ticks": ""
            },
            "colorscale": [
             [
              0,
              "#0d0887"
             ],
             [
              0.1111111111111111,
              "#46039f"
             ],
             [
              0.2222222222222222,
              "#7201a8"
             ],
             [
              0.3333333333333333,
              "#9c179e"
             ],
             [
              0.4444444444444444,
              "#bd3786"
             ],
             [
              0.5555555555555556,
              "#d8576b"
             ],
             [
              0.6666666666666666,
              "#ed7953"
             ],
             [
              0.7777777777777778,
              "#fb9f3a"
             ],
             [
              0.8888888888888888,
              "#fdca26"
             ],
             [
              1,
              "#f0f921"
             ]
            ],
            "type": "heatmap"
           }
          ],
          "heatmapgl": [
           {
            "colorbar": {
             "outlinewidth": 0,
             "ticks": ""
            },
            "colorscale": [
             [
              0,
              "#0d0887"
             ],
             [
              0.1111111111111111,
              "#46039f"
             ],
             [
              0.2222222222222222,
              "#7201a8"
             ],
             [
              0.3333333333333333,
              "#9c179e"
             ],
             [
              0.4444444444444444,
              "#bd3786"
             ],
             [
              0.5555555555555556,
              "#d8576b"
             ],
             [
              0.6666666666666666,
              "#ed7953"
             ],
             [
              0.7777777777777778,
              "#fb9f3a"
             ],
             [
              0.8888888888888888,
              "#fdca26"
             ],
             [
              1,
              "#f0f921"
             ]
            ],
            "type": "heatmapgl"
           }
          ],
          "histogram": [
           {
            "marker": {
             "pattern": {
              "fillmode": "overlay",
              "size": 10,
              "solidity": 0.2
             }
            },
            "type": "histogram"
           }
          ],
          "histogram2d": [
           {
            "colorbar": {
             "outlinewidth": 0,
             "ticks": ""
            },
            "colorscale": [
             [
              0,
              "#0d0887"
             ],
             [
              0.1111111111111111,
              "#46039f"
             ],
             [
              0.2222222222222222,
              "#7201a8"
             ],
             [
              0.3333333333333333,
              "#9c179e"
             ],
             [
              0.4444444444444444,
              "#bd3786"
             ],
             [
              0.5555555555555556,
              "#d8576b"
             ],
             [
              0.6666666666666666,
              "#ed7953"
             ],
             [
              0.7777777777777778,
              "#fb9f3a"
             ],
             [
              0.8888888888888888,
              "#fdca26"
             ],
             [
              1,
              "#f0f921"
             ]
            ],
            "type": "histogram2d"
           }
          ],
          "histogram2dcontour": [
           {
            "colorbar": {
             "outlinewidth": 0,
             "ticks": ""
            },
            "colorscale": [
             [
              0,
              "#0d0887"
             ],
             [
              0.1111111111111111,
              "#46039f"
             ],
             [
              0.2222222222222222,
              "#7201a8"
             ],
             [
              0.3333333333333333,
              "#9c179e"
             ],
             [
              0.4444444444444444,
              "#bd3786"
             ],
             [
              0.5555555555555556,
              "#d8576b"
             ],
             [
              0.6666666666666666,
              "#ed7953"
             ],
             [
              0.7777777777777778,
              "#fb9f3a"
             ],
             [
              0.8888888888888888,
              "#fdca26"
             ],
             [
              1,
              "#f0f921"
             ]
            ],
            "type": "histogram2dcontour"
           }
          ],
          "mesh3d": [
           {
            "colorbar": {
             "outlinewidth": 0,
             "ticks": ""
            },
            "type": "mesh3d"
           }
          ],
          "parcoords": [
           {
            "line": {
             "colorbar": {
              "outlinewidth": 0,
              "ticks": ""
             }
            },
            "type": "parcoords"
           }
          ],
          "pie": [
           {
            "automargin": true,
            "type": "pie"
           }
          ],
          "scatter": [
           {
            "fillpattern": {
             "fillmode": "overlay",
             "size": 10,
             "solidity": 0.2
            },
            "type": "scatter"
           }
          ],
          "scatter3d": [
           {
            "line": {
             "colorbar": {
              "outlinewidth": 0,
              "ticks": ""
             }
            },
            "marker": {
             "colorbar": {
              "outlinewidth": 0,
              "ticks": ""
             }
            },
            "type": "scatter3d"
           }
          ],
          "scattercarpet": [
           {
            "marker": {
             "colorbar": {
              "outlinewidth": 0,
              "ticks": ""
             }
            },
            "type": "scattercarpet"
           }
          ],
          "scattergeo": [
           {
            "marker": {
             "colorbar": {
              "outlinewidth": 0,
              "ticks": ""
             }
            },
            "type": "scattergeo"
           }
          ],
          "scattergl": [
           {
            "marker": {
             "colorbar": {
              "outlinewidth": 0,
              "ticks": ""
             }
            },
            "type": "scattergl"
           }
          ],
          "scattermapbox": [
           {
            "marker": {
             "colorbar": {
              "outlinewidth": 0,
              "ticks": ""
             }
            },
            "type": "scattermapbox"
           }
          ],
          "scatterpolar": [
           {
            "marker": {
             "colorbar": {
              "outlinewidth": 0,
              "ticks": ""
             }
            },
            "type": "scatterpolar"
           }
          ],
          "scatterpolargl": [
           {
            "marker": {
             "colorbar": {
              "outlinewidth": 0,
              "ticks": ""
             }
            },
            "type": "scatterpolargl"
           }
          ],
          "scatterternary": [
           {
            "marker": {
             "colorbar": {
              "outlinewidth": 0,
              "ticks": ""
             }
            },
            "type": "scatterternary"
           }
          ],
          "surface": [
           {
            "colorbar": {
             "outlinewidth": 0,
             "ticks": ""
            },
            "colorscale": [
             [
              0,
              "#0d0887"
             ],
             [
              0.1111111111111111,
              "#46039f"
             ],
             [
              0.2222222222222222,
              "#7201a8"
             ],
             [
              0.3333333333333333,
              "#9c179e"
             ],
             [
              0.4444444444444444,
              "#bd3786"
             ],
             [
              0.5555555555555556,
              "#d8576b"
             ],
             [
              0.6666666666666666,
              "#ed7953"
             ],
             [
              0.7777777777777778,
              "#fb9f3a"
             ],
             [
              0.8888888888888888,
              "#fdca26"
             ],
             [
              1,
              "#f0f921"
             ]
            ],
            "type": "surface"
           }
          ],
          "table": [
           {
            "cells": {
             "fill": {
              "color": "#EBF0F8"
             },
             "line": {
              "color": "white"
             }
            },
            "header": {
             "fill": {
              "color": "#C8D4E3"
             },
             "line": {
              "color": "white"
             }
            },
            "type": "table"
           }
          ]
         },
         "layout": {
          "annotationdefaults": {
           "arrowcolor": "#2a3f5f",
           "arrowhead": 0,
           "arrowwidth": 1
          },
          "autotypenumbers": "strict",
          "coloraxis": {
           "colorbar": {
            "outlinewidth": 0,
            "ticks": ""
           }
          },
          "colorscale": {
           "diverging": [
            [
             0,
             "#8e0152"
            ],
            [
             0.1,
             "#c51b7d"
            ],
            [
             0.2,
             "#de77ae"
            ],
            [
             0.3,
             "#f1b6da"
            ],
            [
             0.4,
             "#fde0ef"
            ],
            [
             0.5,
             "#f7f7f7"
            ],
            [
             0.6,
             "#e6f5d0"
            ],
            [
             0.7,
             "#b8e186"
            ],
            [
             0.8,
             "#7fbc41"
            ],
            [
             0.9,
             "#4d9221"
            ],
            [
             1,
             "#276419"
            ]
           ],
           "sequential": [
            [
             0,
             "#0d0887"
            ],
            [
             0.1111111111111111,
             "#46039f"
            ],
            [
             0.2222222222222222,
             "#7201a8"
            ],
            [
             0.3333333333333333,
             "#9c179e"
            ],
            [
             0.4444444444444444,
             "#bd3786"
            ],
            [
             0.5555555555555556,
             "#d8576b"
            ],
            [
             0.6666666666666666,
             "#ed7953"
            ],
            [
             0.7777777777777778,
             "#fb9f3a"
            ],
            [
             0.8888888888888888,
             "#fdca26"
            ],
            [
             1,
             "#f0f921"
            ]
           ],
           "sequentialminus": [
            [
             0,
             "#0d0887"
            ],
            [
             0.1111111111111111,
             "#46039f"
            ],
            [
             0.2222222222222222,
             "#7201a8"
            ],
            [
             0.3333333333333333,
             "#9c179e"
            ],
            [
             0.4444444444444444,
             "#bd3786"
            ],
            [
             0.5555555555555556,
             "#d8576b"
            ],
            [
             0.6666666666666666,
             "#ed7953"
            ],
            [
             0.7777777777777778,
             "#fb9f3a"
            ],
            [
             0.8888888888888888,
             "#fdca26"
            ],
            [
             1,
             "#f0f921"
            ]
           ]
          },
          "colorway": [
           "#636efa",
           "#EF553B",
           "#00cc96",
           "#ab63fa",
           "#FFA15A",
           "#19d3f3",
           "#FF6692",
           "#B6E880",
           "#FF97FF",
           "#FECB52"
          ],
          "font": {
           "color": "#2a3f5f"
          },
          "geo": {
           "bgcolor": "white",
           "lakecolor": "white",
           "landcolor": "#E5ECF6",
           "showlakes": true,
           "showland": true,
           "subunitcolor": "white"
          },
          "hoverlabel": {
           "align": "left"
          },
          "hovermode": "closest",
          "mapbox": {
           "style": "light"
          },
          "paper_bgcolor": "white",
          "plot_bgcolor": "#E5ECF6",
          "polar": {
           "angularaxis": {
            "gridcolor": "white",
            "linecolor": "white",
            "ticks": ""
           },
           "bgcolor": "#E5ECF6",
           "radialaxis": {
            "gridcolor": "white",
            "linecolor": "white",
            "ticks": ""
           }
          },
          "scene": {
           "xaxis": {
            "backgroundcolor": "#E5ECF6",
            "gridcolor": "white",
            "gridwidth": 2,
            "linecolor": "white",
            "showbackground": true,
            "ticks": "",
            "zerolinecolor": "white"
           },
           "yaxis": {
            "backgroundcolor": "#E5ECF6",
            "gridcolor": "white",
            "gridwidth": 2,
            "linecolor": "white",
            "showbackground": true,
            "ticks": "",
            "zerolinecolor": "white"
           },
           "zaxis": {
            "backgroundcolor": "#E5ECF6",
            "gridcolor": "white",
            "gridwidth": 2,
            "linecolor": "white",
            "showbackground": true,
            "ticks": "",
            "zerolinecolor": "white"
           }
          },
          "shapedefaults": {
           "line": {
            "color": "#2a3f5f"
           }
          },
          "ternary": {
           "aaxis": {
            "gridcolor": "white",
            "linecolor": "white",
            "ticks": ""
           },
           "baxis": {
            "gridcolor": "white",
            "linecolor": "white",
            "ticks": ""
           },
           "bgcolor": "#E5ECF6",
           "caxis": {
            "gridcolor": "white",
            "linecolor": "white",
            "ticks": ""
           }
          },
          "title": {
           "x": 0.05
          },
          "xaxis": {
           "automargin": true,
           "gridcolor": "white",
           "linecolor": "white",
           "ticks": "",
           "title": {
            "standoff": 15
           },
           "zerolinecolor": "white",
           "zerolinewidth": 2
          },
          "yaxis": {
           "automargin": true,
           "gridcolor": "white",
           "linecolor": "white",
           "ticks": "",
           "title": {
            "standoff": 15
           },
           "zerolinecolor": "white",
           "zerolinewidth": 2
          }
         }
        },
        "xaxis": {
         "anchor": "y",
         "domain": [
          0,
          1
         ],
         "title": {
          "text": "TotalAmount"
         }
        },
        "yaxis": {
         "anchor": "x",
         "domain": [
          0,
          1
         ]
        }
       }
      }
     },
     "metadata": {},
     "output_type": "display_data"
    }
   ],
   "source": [
    "px.box(data_frame=order,x='TotalAmount')"
   ]
  },
  {
   "cell_type": "markdown",
   "metadata": {},
   "source": [
    "Remove outliers"
   ]
  },
  {
   "cell_type": "code",
   "execution_count": 65,
   "metadata": {},
   "outputs": [],
   "source": [
    "order=order[order.TotalAmount<15000]"
   ]
  },
  {
   "cell_type": "code",
   "execution_count": 66,
   "metadata": {},
   "outputs": [
    {
     "data": {
      "application/vnd.plotly.v1+json": {
       "config": {
        "plotlyServerURL": "https://plot.ly"
       },
       "data": [
        {
         "alignmentgroup": "True",
         "hovertemplate": "TotalAmount=%{x}<extra></extra>",
         "legendgroup": "",
         "marker": {
          "color": "#636efa"
         },
         "name": "",
         "notched": false,
         "offsetgroup": "",
         "orientation": "h",
         "showlegend": false,
         "type": "box",
         "x": [
          440,
          440,
          440,
          1863.4,
          1863.4,
          1813,
          1813,
          1813,
          670.8,
          670.8,
          670.8,
          3730,
          3730,
          3730,
          1444.8,
          1444.8,
          1444.8,
          625.2,
          625.2,
          625.2,
          2490.5,
          2490.5,
          2490.5,
          2490.5,
          517.8,
          517.8,
          1119.9,
          1119.9,
          1119.9,
          2018.6,
          2018.6,
          2018.6,
          100.8,
          100.8,
          1746.2,
          1746.2,
          1746.2,
          1746.2,
          448,
          448,
          624.8,
          624.8,
          624.8,
          2464.8,
          2464.8,
          2464.8,
          2464.8,
          724.5,
          724.5,
          1176,
          1176,
          364.8,
          4031,
          4031,
          4031,
          1101.2,
          1101.2,
          676,
          676,
          1376,
          1376,
          48,
          1456,
          1456,
          1456,
          2142.4,
          2142.4,
          2142.4,
          2142.4,
          2142.4,
          538.6,
          538.6,
          307.2,
          307.2,
          420,
          420,
          1200.8,
          1200.8,
          1488.8,
          1488.8,
          1488.8,
          1488.8,
          468,
          613.2,
          613.2,
          613.2,
          86.5,
          86.5,
          86.5,
          155.4,
          155.4,
          1414.8,
          1414.8,
          1414.8,
          1414.8,
          1452,
          1452,
          1452,
          1452,
          2179.2,
          2179.2,
          2179.2,
          3016,
          3016,
          924,
          924,
          924,
          89,
          89,
          479.4,
          479.4,
          2169,
          2169,
          2169,
          2169,
          552.8,
          552.8,
          552.8,
          1296,
          848.7,
          848.7,
          848.7,
          848.7,
          1887.6,
          1887.6,
          1887.6,
          1887.6,
          1887.6,
          121.6,
          1050.6,
          1050.6,
          1050.6,
          1420,
          1420,
          3127,
          3127,
          3127,
          3127,
          349.5,
          349.5,
          608,
          608,
          755,
          755,
          2708.8,
          2708.8,
          2708.8,
          1242,
          1242,
          1242,
          954.4,
          954.4,
          954.4,
          4157,
          4157,
          4157,
          498.5,
          498.5,
          498.5,
          424,
          424,
          88.8,
          88.8,
          1762,
          1762,
          1762,
          1762,
          1762,
          336,
          336,
          268.8,
          268.8,
          1614.8,
          1614.8,
          1614.8,
          1614.8,
          182.4,
          2327,
          2327,
          2327,
          516.8,
          516.8,
          2835,
          2835,
          288,
          240.4,
          240.4,
          1191.2,
          1191.2,
          1191.2,
          516,
          144,
          112,
          164.4,
          164.4,
          164.4,
          6155.9,
          6155.9,
          6155.9,
          6155.9,
          6155.9,
          1497,
          1497,
          1497,
          1497,
          1497,
          982,
          982,
          982,
          2262.5,
          2262.5,
          2262.5,
          2262.5,
          1168,
          1168,
          1168,
          4819.4,
          4819.4,
          4819.4,
          4819.4,
          1940,
          1940,
          88.5,
          2233.6,
          2233.6,
          2233.6,
          954,
          954,
          954,
          144.8,
          144.8,
          2545.2,
          2545.2,
          2545.2,
          2545.2,
          316.8,
          2467,
          2467,
          2467,
          2467,
          2467,
          934.5,
          934.5,
          3463.2,
          3463.2,
          3463.2,
          2564.4,
          2564.4,
          2564.4,
          412,
          412,
          2300.8,
          2300.8,
          2300.8,
          2300.8,
          1586,
          1586,
          1586,
          2856,
          2856,
          2924.8,
          2924.8,
          2924.8,
          1731.2,
          1731.2,
          928,
          928,
          928,
          928,
          396,
          396,
          141.6,
          713.4,
          713.4,
          5677.6,
          5677.6,
          5677.6,
          5677.6,
          154,
          154,
          10741.6,
          10741.6,
          568.8,
          568.8,
          480,
          480,
          1106.4,
          1106.4,
          1106.4,
          1360,
          1360,
          1360,
          452,
          452,
          452,
          3654.4,
          3654.4,
          3654.4,
          7390.2,
          7390.2,
          7390.2,
          7390.2,
          7390.2,
          2273.6,
          2273.6,
          1549.6,
          1549.6,
          1549.6,
          447.2,
          447.2,
          447.2,
          950,
          950,
          403.2,
          136,
          136,
          834.2,
          834.2,
          834.2,
          834.2,
          1834.2,
          1834.2,
          1834.2,
          1834.2,
          2527.2,
          2527.2,
          1174,
          1174,
          1174,
          91.2,
          12281.2,
          12281.2,
          12281.2,
          12281.2,
          1708,
          1708,
          459,
          459,
          338,
          338,
          420,
          1016,
          1016,
          103.2,
          959.2,
          959.2,
          959.2,
          1419.8,
          1419.8,
          1419.8,
          1419.8,
          112,
          2900,
          2900,
          2900,
          2900,
          2900,
          899,
          899,
          899,
          2222.4,
          2222.4,
          864,
          864,
          864,
          166,
          166,
          1058.4,
          1058.4,
          1058.4,
          1058.4,
          1274,
          1274,
          1274,
          1832.8,
          1832.8,
          1832.8,
          1832.8,
          2275.2,
          2275.2,
          2275.2,
          2275.2,
          86.4,
          1440,
          3302.6,
          3302.6,
          3302.6,
          3302.6,
          3302.6,
          442,
          442,
          2333.2,
          2333.2,
          2333.2,
          1903.8,
          1903.8,
          1903.8,
          843.2,
          843.2,
          2736,
          2736,
          1765.6,
          1765.6,
          1765.6,
          1765.6,
          3063,
          3063,
          3063,
          3868.6,
          3868.6,
          3868.6,
          3868.6,
          2713.5,
          2713.5,
          1005.9,
          1005.9,
          1675,
          1675,
          1675,
          400,
          2018.2,
          2018.2,
          2018.2,
          2018.2,
          2018.2,
          1194,
          1194,
          1194,
          1622.4,
          1622.4,
          1622.4,
          319.2,
          319.2,
          802,
          802,
          1208.5,
          1208.5,
          1208.5,
          372,
          2123.2,
          2123.2,
          2123.2,
          231.4,
          231.4,
          102.4,
          102.4,
          720,
          720,
          720,
          11283.2,
          11283.2,
          11283.2,
          11283.2,
          1814.8,
          1814.8,
          1814.8,
          1814.8,
          2208,
          2208,
          1897.6,
          1897.6,
          1897.6,
          1897.6,
          1273.2,
          1273.2,
          1273.2,
          1273.2,
          49.8,
          1020,
          1020,
          11493.2,
          11493.2,
          11493.2,
          480,
          480,
          338.2,
          338.2,
          651,
          192,
          1748.5,
          1748.5,
          5796,
          5796,
          5796,
          5796,
          2523,
          2523,
          2523,
          485,
          485,
          851.2,
          360,
          360,
          631.6,
          631.6,
          631.6,
          2210.8,
          2210.8,
          2210.8,
          2210.8,
          393,
          567.5,
          567.5,
          567.5,
          1078,
          1078,
          1078,
          1078,
          5793.1,
          5793.1,
          5793.1,
          5793.1,
          1755,
          1792,
          1792,
          1792,
          537.6,
          537.6,
          1031.7,
          1031.7,
          1031.7,
          1031.7,
          174.9,
          174.9,
          273.6,
          273.6,
          273.6,
          273.6,
          914.4,
          914.4,
          914.4,
          443.4,
          443.4,
          1838.2,
          1838.2,
          1838.2,
          531.4,
          531.4,
          4277.4,
          4277.4,
          4277.4,
          4277.4,
          2096,
          2096,
          453,
          453,
          414,
          414,
          414,
          2684,
          2684,
          2684,
          2684,
          656,
          656,
          1584,
          3891,
          3891,
          3891,
          3891,
          3891,
          1688,
          1688,
          1688,
          234.8,
          234.8,
          2051.6,
          2051.6,
          2051.6,
          156,
          156,
          713.3,
          713.3,
          1848,
          1848,
          1848,
          1848,
          2719,
          2719,
          2719,
          2719,
          2719,
          216,
          216,
          235.2,
          235.2,
          717.6,
          717.6,
          1125.5,
          1125.5,
          1125.5,
          1820.8,
          1820.8,
          1820.8,
          1328,
          1328,
          1051.2,
          1051.2,
          230.4,
          230.4,
          1249.1,
          1249.1,
          1249.1,
          1249.1,
          1770.8,
          1770.8,
          1770.8,
          182.4,
          182.4,
          672,
          672,
          672,
          496,
          10495.6,
          10495.6,
          10495.6,
          10495.6,
          756,
          756,
          1472,
          1472,
          147,
          704,
          704,
          386.2,
          386.2,
          386.2,
          1760,
          1760,
          1760,
          1760,
          1272,
          1272,
          1272,
          925.1,
          925.1,
          925.1,
          1560,
          1560,
          502.2,
          502.2,
          3163.2,
          3163.2,
          3163.2,
          305.3,
          305.3,
          896,
          896,
          676,
          676,
          676,
          912,
          278,
          278,
          278,
          200,
          1380.6,
          1380.6,
          1380.6,
          575,
          575,
          575,
          1412,
          1412,
          550.8,
          550.8,
          149,
          816.3,
          816.3,
          816.3,
          2048.5,
          2048.5,
          1388.5,
          1388.5,
          1388.5,
          1388.5,
          147.9,
          462,
          462,
          881.25,
          881.25,
          240,
          240,
          136.8,
          4735.44,
          4735.44,
          3000,
          3000,
          3000,
          618,
          618,
          618,
          618,
          2427.5,
          2427.5,
          2427.5,
          8623.45,
          8623.45,
          8623.45,
          8623.45,
          8623.45,
          10588.5,
          10588.5,
          10588.5,
          10588.5,
          10588.5,
          2614.5,
          2614.5,
          2614.5,
          352,
          352,
          352,
          4150.05,
          4150.05,
          4150.05,
          2356,
          2356,
          2356,
          200,
          200,
          225.5,
          225.5,
          225.5,
          2657.8,
          2657.8,
          2657.8,
          2657.8,
          2715.9,
          2715.9,
          2715.9,
          2715.9,
          3192.65,
          3192.65,
          3192.65,
          3192.65,
          846,
          846,
          1344,
          1344,
          1344,
          1670,
          1670,
          396.2,
          396.2,
          396.2,
          946,
          946,
          946,
          4180,
          4180,
          4180,
          4180,
          110,
          796.35,
          796.35,
          2295.2,
          2295.2,
          2295.2,
          517.4,
          517.4,
          517.4,
          2156.5,
          2156.5,
          2156.5,
          2156.5,
          2085,
          2085,
          2085,
          2085,
          1823.8,
          1823.8,
          1823.8,
          1823.8,
          1823.8,
          139.8,
          139.8,
          355.5,
          355.5,
          355.5,
          355.5,
          10191.7,
          10191.7,
          10191.7,
          10191.7,
          2162.8,
          2162.8,
          2162.8,
          2162.8,
          493.8,
          493.8,
          1770,
          1770,
          417.2,
          417.2,
          210,
          2812,
          2812,
          2812,
          1908,
          1908,
          275.1,
          275.1,
          4181.5,
          4181.5,
          4181.5,
          749,
          749,
          749,
          749,
          1836,
          1836,
          1836,
          880.5,
          880.5,
          1546.3,
          1546.3,
          1546.3,
          1546.3,
          1546.3,
          1819.5,
          1819.5,
          1819.5,
          1819.5,
          3680.5,
          3680.5,
          3680.5,
          3680.5,
          3680.5,
          835.2,
          1152.5,
          1152.5,
          2142.9,
          2142.9,
          2142.9,
          2142.9,
          2142.9,
          547.8,
          547.8,
          1257.3,
          1257.3,
          2844.5,
          2844.5,
          543,
          543,
          965,
          965,
          1299,
          1299,
          1299,
          711,
          711,
          2040,
          2040,
          2040,
          3109,
          3109,
          3109,
          155,
          977.5,
          977.5,
          2595,
          2595,
          647.75,
          647.75,
          1565.65,
          1565.65,
          1565.65,
          1565.65,
          2082,
          2082,
          2082,
          764.3,
          764.3,
          764.3,
          764.3,
          2147.4,
          2147.4,
          2147.4,
          2147.4,
          838.45,
          838.45,
          838.45,
          569,
          569,
          569,
          477,
          477,
          317.75,
          317.75,
          1067.1,
          1067.1,
          1067.1,
          387.5,
          330,
          330,
          2413.9,
          2413.9,
          2413.9,
          625,
          142.5,
          28,
          807.38,
          807.38,
          807.38,
          3900,
          3900,
          72,
          1140,
          1140,
          812.5,
          812.5,
          812.5,
          543.65,
          543.65,
          2493,
          2493,
          2493,
          565.5,
          565.5,
          6300,
          6300,
          6300,
          1476.1,
          1476.1,
          1476.1,
          800.1,
          800.1,
          800.1,
          2388.5,
          2388.5,
          493,
          479.8,
          479.8,
          2285,
          2285,
          65,
          1508,
          1508,
          256.5,
          256.5,
          4326,
          4326,
          4326,
          4326,
          1413,
          1413,
          1413,
          6475.4,
          6475.4,
          6475.4,
          6475.4,
          6475.4,
          1064,
          424,
          424,
          424,
          399,
          808,
          808,
          808,
          6375,
          6375,
          6375,
          6375,
          6375,
          358,
          358,
          464,
          464,
          464,
          120,
          5032,
          5032,
          5032,
          5032,
          1650,
          2697.5,
          2697.5,
          2697.5,
          1260,
          1260,
          57.5,
          57.5,
          758.5,
          758.5,
          758.5,
          758.5,
          605,
          605,
          1429.75,
          1429.75,
          1429.75,
          1429.75,
          1429.75,
          1393.24,
          1393.24,
          1393.24,
          479.75,
          479.75,
          479.75,
          1503.6,
          1503.6,
          1503.6,
          1264.5,
          1264.5,
          450,
          2775.05,
          2775.05,
          918,
          918,
          62,
          620,
          620,
          6483.05,
          6483.05,
          6483.05,
          6483.05,
          4985.5,
          4985.5,
          4985.5,
          4985.5,
          1380.25,
          1380.25,
          1380.25,
          629.5,
          629.5,
          2896.25,
          2896.25,
          2896.25,
          2720.05,
          2720.05,
          2720.05,
          500,
          945,
          945,
          2054,
          2054,
          870,
          870,
          1086,
          1086,
          1086,
          1422,
          1422,
          1422,
          1535,
          1535,
          1928,
          1928,
          1928,
          1928,
          636,
          636,
          382.5,
          382.5,
          1434,
          1434,
          1820.2,
          1820.2,
          1820.2,
          530.4,
          530.4,
          331.78,
          331.78,
          1203.5,
          1203.5,
          668.7,
          668.7,
          668.7,
          193,
          671.35,
          671.35,
          671.35,
          4371.6,
          4371.6,
          4371.6,
          4371.6,
          4371.6,
          4371.6,
          4668,
          4668,
          4668,
          4668,
          1291.6,
          1291.6,
          1291.6,
          1701,
          703.25,
          703.25,
          125,
          2032,
          2032,
          2032,
          1515.75,
          1515.75,
          1515.75,
          1295,
          1295,
          1295,
          4666.94,
          4666.94,
          1921,
          1921,
          694.75,
          694.75,
          694.75,
          570,
          2301.75,
          2301.75,
          2301.75,
          2301.75,
          2301.75,
          920.1,
          920.1,
          920.1,
          4210.5,
          4210.5,
          412.35,
          412.35,
          412.35,
          45,
          1423,
          1423,
          1423,
          534.85,
          534.85,
          534.85,
          956.9,
          956.9,
          5256.5,
          5256.5,
          5256.5,
          5256.5,
          660,
          1682.5,
          1682.5,
          1682.5,
          1327,
          1327,
          1327,
          375.5,
          375.5,
          375.5,
          63,
          1768,
          1768,
          1768,
          801.1,
          801.1,
          801.1,
          1638.45,
          1638.45,
          6201.9,
          6201.9,
          6201.9,
          3490,
          3490,
          3490,
          630,
          1150,
          1150,
          10164.8,
          10164.8,
          10164.8,
          10164.8,
          10164.8,
          878,
          2334,
          2334,
          2334,
          2334,
          4825,
          4825,
          4825,
          642,
          642,
          642,
          996,
          996,
          1073.9,
          1073.9,
          1073.9,
          1073.9,
          3600.73,
          3600.73,
          3600.73,
          3600.73,
          3600.73,
          114,
          2048,
          2048,
          2048,
          2048,
          3370,
          3370,
          3370,
          330,
          330,
          2545,
          2545,
          2545,
          595.5,
          595.5,
          595.5,
          378,
          378,
          1893,
          1893,
          1893,
          1704,
          1704,
          1704,
          180.4,
          180.4,
          3424,
          3424,
          3424,
          93.5,
          93.5,
          4451.7,
          4451.7,
          4451.7,
          1238.4,
          1238.4,
          2827.9,
          2827.9,
          2827.9,
          2827.9,
          2941,
          2941,
          2941,
          2941,
          2941,
          1296,
          1296,
          706,
          706,
          706,
          1331.75,
          1331.75,
          1331.75,
          3463,
          3463,
          3463,
          3463,
          1125.67,
          1125.67,
          1125.67,
          550,
          550,
          972.5,
          1570,
          1570,
          1570,
          1570,
          468.45,
          638.5,
          638.5,
          287.8,
          287.8,
          287.8,
          655,
          655,
          1710,
          1710,
          1710,
          1296.75,
          1296.75,
          1296.75,
          1296.75,
          1850,
          1850,
          1850,
          509.75,
          509.75,
          509.75,
          1990,
          1990,
          360,
          1459,
          1459,
          1459,
          1498.35,
          1498.35,
          1498.35,
          596,
          596,
          997,
          997,
          139.8,
          139.8,
          52.35,
          240,
          240,
          1770,
          1770,
          1770,
          1770,
          285,
          3118,
          3118,
          3118,
          336,
          920,
          4529.8,
          4529.8,
          4529.8,
          4529.8,
          2311.7,
          2311.7,
          2311.7,
          2311.7,
          1912.85,
          1912.85,
          1912.85,
          1912.85,
          2196,
          2196,
          2196,
          1080,
          1080,
          1080,
          1871.25,
          1871.25,
          1871.25,
          1701.46,
          1701.46,
          1701.46,
          1701.46,
          252,
          252,
          88,
          88,
          55.2,
          2598,
          2598,
          2598,
          2598,
          2487.5,
          2487.5,
          2487.5,
          2487.5,
          3082,
          3082,
          3082,
          3082,
          1644.6,
          1644.6,
          1644.6,
          320,
          3304,
          3304,
          3304,
          629.5,
          629.5,
          4337,
          4337,
          4337,
          4337,
          616,
          616,
          616,
          2540,
          2540,
          1684,
          2310,
          2310,
          2310,
          28,
          1477,
          1477,
          1477,
          1477,
          1704,
          1704,
          1704,
          1704,
          315,
          344,
          3603.22,
          3603.22,
          2216.25,
          2216.25,
          2216.25,
          875,
          875,
          228,
          228,
          6984.5,
          6984.5,
          6984.5,
          6984.5,
          280,
          96.5,
          1335,
          1335,
          720,
          720,
          1132.35,
          1132.35,
          1132.35,
          12.5,
          1442.5,
          1442.5,
          1650,
          1650,
          1650,
          387.5,
          387.5,
          1913.85,
          1913.85,
          1913.85,
          2760.8,
          2760.8,
          770,
          770,
          3687,
          3687,
          3687,
          3687,
          850,
          850,
          1926.06,
          1926.06,
          399.85,
          399.85,
          399.85,
          191.1,
          191.1,
          393.45,
          393.45,
          2499.25,
          2499.25,
          2878.08,
          2878.08,
          2878.08,
          2878.08,
          420,
          446.6,
          446.6,
          1585,
          1585,
          1585,
          1632.15,
          1632.15,
          1632.15,
          4035.8,
          4035.8,
          3923.75,
          3923.75,
          3923.75,
          3923.75,
          1255.8,
          1255.8,
          1255.8,
          2290.4,
          2290.4,
          2290.4,
          2775,
          2775,
          572.1,
          572.1,
          572.1,
          18.4,
          1660,
          1660,
          140,
          187,
          187,
          187,
          852,
          852,
          852,
          1852,
          1852,
          1852,
          648,
          648,
          2070,
          2070,
          2070,
          2070,
          40,
          8891,
          8891,
          11490.7,
          11490.7,
          11490.7,
          11490.7,
          833,
          833,
          477,
          477,
          1140,
          678,
          678,
          237.9,
          237.9,
          3107.5,
          3107.5,
          3107.5,
          3107.5,
          250.8,
          250.8,
          1030.76,
          1030.76,
          730,
          730,
          843,
          843,
          932,
          932,
          1764,
          1764,
          1764,
          1764,
          1974,
          1974,
          1974,
          1974,
          2684.4,
          2684.4,
          2684.4,
          2684.4,
          568.95,
          568.95,
          568.95,
          568.95,
          1007.7,
          1007.7,
          1007.7,
          1508.12,
          1508.12,
          851,
          851,
          4705.5,
          4705.5,
          4705.5,
          4705.5,
          4705.5,
          1254,
          1254,
          1254,
          1254,
          2584.5,
          2584.5,
          2584.5,
          919.5,
          919.5,
          264,
          264,
          4581,
          4581,
          4581,
          4581,
          975,
          975,
          975,
          975,
          212,
          735,
          4059,
          4059,
          4059,
          4059,
          4059,
          1112,
          1112,
          1112,
          6164.9,
          6164.9,
          6164.9,
          6164.9,
          6164.9,
          6164.9,
          931.5,
          931.5,
          1052.14,
          1052.14,
          740,
          740,
          740,
          2740,
          2740,
          2740,
          2740,
          2984,
          2984,
          2984,
          625,
          3490,
          3490,
          2275.25,
          2275.25,
          2275.25,
          2275.25,
          660,
          660,
          2630.95,
          2630.95,
          2630.95,
          649,
          649,
          649,
          1438.25,
          1438.25,
          1438.25,
          519,
          519,
          3523.4,
          3523.4,
          3523.4,
          3523.4,
          3523.4,
          581,
          581,
          519,
          519,
          282,
          282,
          1461.6,
          1461.6,
          1461.6,
          98.4,
          2004.6,
          2004.6,
          2004.6,
          1630,
          1630,
          1630,
          1630,
          160,
          160,
          2083.4,
          2083.4,
          2083.4,
          2166.8,
          2166.8,
          2166.8,
          2166.8,
          336.8,
          336.8,
          310,
          729.5,
          729.5,
          729.5,
          917,
          917,
          2086,
          2086,
          1620,
          611.3,
          611.3,
          611.3,
          1875,
          1875,
          1875,
          150,
          988.4,
          988.4,
          988.4,
          36,
          1450.6,
          1450.6,
          1450.6,
          1209,
          1209,
          1209,
          1209,
          3127.5,
          3127.5,
          3127.5,
          70,
          605,
          605,
          11380,
          11380,
          860.1,
          860.1,
          860.1,
          388.35,
          2200,
          5502.11,
          5502.11,
          5502.11,
          5502.11,
          5502.11,
          2898,
          2898,
          2898,
          6379.4,
          6379.4,
          6379.4,
          6379.4,
          750.5,
          750.5,
          10835.24,
          10835.24,
          30,
          144,
          45,
          934.5,
          934.5,
          1015.8,
          1015.8,
          932.05,
          932.05,
          932.05,
          1924.25,
          1924.25,
          360,
          427.5,
          108.5,
          698,
          698,
          670,
          670,
          670,
          452.9,
          452.9,
          452.9,
          858,
          858,
          858,
          8267.4,
          8267.4,
          958.75,
          958.75,
          958.75,
          537.5,
          539.5,
          539.5,
          539.5,
          686.7,
          686.7,
          686.7,
          365.89,
          365.89,
          1930,
          1930,
          1122.8,
          1122.8,
          1122.8,
          390,
          1936,
          1936,
          742.5,
          742.5,
          936,
          936,
          936,
          2034.5,
          2034.5,
          2034.5,
          559,
          559,
          514.4,
          514.4,
          514.4,
          514.4,
          800,
          800,
          800,
          137.5,
          137.5,
          1174.75,
          1174.75,
          1174.75,
          2455,
          2455,
          2455,
          2455,
          837,
          837,
          1925.5,
          1925.5,
          1925.5,
          1925.5,
          920.6,
          920.6,
          500,
          700,
          700,
          700,
          570,
          644.8,
          644.8,
          3642.5,
          3642.5,
          3642.5,
          3642.5,
          750,
          750,
          360,
          360,
          4769,
          4769,
          4769,
          4769,
          560,
          711,
          711,
          711,
          1139.1,
          1139.1,
          1139.1,
          245,
          245,
          1407.5,
          1407.5,
          1407.5,
          220,
          2362.25,
          2362.25,
          2362.25,
          4422,
          4422,
          4422,
          4422,
          110,
          482.9,
          482.9,
          482.9,
          491.2,
          491.2,
          4675,
          4675,
          1902.1,
          1902.1,
          1902.1,
          1902.1,
          93,
          677,
          677,
          677,
          1762.7,
          1762.7,
          1762.7,
          781,
          781,
          781,
          155,
          276.6,
          276.6,
          1122,
          1122,
          3584,
          3584,
          3584,
          3584,
          3584,
          68,
          2052.5,
          2052.5,
          2052.5,
          848,
          1255.6,
          1255.6,
          1255.6,
          910.4,
          910.4,
          1408,
          1408,
          1408,
          108,
          280,
          1733.06,
          251.5,
          251.5,
          291.55,
          291.55,
          291.55,
          439,
          717.5,
          717.5,
          912,
          2233,
          2233,
          2233,
          2233,
          1500.7,
          1500.7,
          1500.7,
          1500.7,
          4813.5,
          4813.5,
          4813.5,
          4813.5,
          4813.5,
          4813.5,
          310,
          1014,
          1014,
          796.5,
          796.5,
          1809.75,
          1809.75,
          1809.75,
          2248.2,
          2248.2,
          2248.2,
          2220,
          2220,
          2220,
          2220,
          2772,
          2772,
          2772,
          3772,
          3772,
          1353.6,
          1353.6,
          1353.6,
          4931,
          4931,
          4931,
          4931,
          2870,
          2870,
          2870,
          69.6,
          6527.25,
          6527.25,
          990,
          1196,
          1196,
          560,
          1980,
          1980,
          1980,
          686,
          686,
          686,
          686,
          1261,
          1261,
          1261,
          1075,
          1075,
          1075,
          2769,
          2769,
          2769,
          2769,
          1902,
          1902,
          1902,
          1902,
          326,
          326,
          326,
          295.38,
          295.38,
          586,
          586,
          391.58,
          391.58,
          2633.9,
          2633.9,
          2633.9,
          4903.5,
          4903.5,
          4903.5,
          702,
          702,
          702,
          645,
          645,
          960,
          960,
          2974,
          2974,
          2974,
          361,
          361,
          361,
          361,
          270.2,
          622.35,
          622.35,
          491.5,
          491.5,
          6750,
          6750,
          6750,
          1575,
          1575,
          1575,
          76,
          76,
          744,
          6941.49,
          6941.49,
          6941.49,
          6941.49,
          6941.49,
          1402,
          1402,
          1500,
          1500,
          1966.81,
          1966.81,
          1966.81,
          1966.81,
          300,
          300,
          1030,
          1030,
          1170.3,
          1170.3,
          2160,
          2160,
          1286.8,
          1286.8,
          2393.5,
          2393.5,
          2393.5,
          2393.5,
          2393.5,
          8902.5,
          8902.5,
          8902.5,
          3592,
          3592,
          554.4,
          554.4,
          554.4,
          1754.5,
          1754.5,
          1754.5,
          1754.5,
          1692,
          1692,
          60,
          751,
          751,
          751,
          3090,
          3090,
          3090,
          3090,
          200,
          1887,
          1887,
          405.75,
          405.75,
          210,
          591.6,
          1309.5,
          1309.5,
          1564,
          1564,
          1564,
          1090.5,
          1090.5,
          525,
          342,
          342,
          900,
          45,
          1665,
          1665,
          3658.75,
          3658.75,
          3658.75,
          305,
          305,
          1727.5,
          1727.5,
          1727.5,
          1727.5,
          3740,
          3740,
          3740,
          45,
          858,
          858,
          858,
          1838,
          1838,
          1838,
          266,
          266,
          510,
          508,
          508,
          1445.5,
          1445.5,
          1445.5,
          4722.3,
          4722.3,
          4722.3,
          4722.3,
          4722.3,
          252.56,
          252.56,
          928.75,
          928.75,
          928.75,
          86.85,
          2384.8,
          2384.8,
          2384.8,
          360,
          1873.5,
          1873.5,
          1873.5,
          1873.5,
          510,
          510,
          5218,
          5218,
          5218,
          5218,
          300,
          300,
          244.3,
          586,
          586,
          586,
          1057,
          1057,
          1057,
          1374.6,
          1374.6,
          1374.6,
          1374.6,
          1374.6,
          1374.6,
          1374.6,
          1374.6,
          1374.6,
          1374.6,
          1374.6,
          1374.6,
          1374.6,
          1374.6,
          1374.6,
          1374.6,
          1374.6,
          1374.6,
          1374.6,
          1374.6,
          1374.6,
          1374.6,
          1374.6,
          1374.6,
          1374.6
         ],
         "x0": " ",
         "xaxis": "x",
         "y0": " ",
         "yaxis": "y"
        }
       ],
       "layout": {
        "boxmode": "group",
        "legend": {
         "tracegroupgap": 0
        },
        "margin": {
         "t": 60
        },
        "template": {
         "data": {
          "bar": [
           {
            "error_x": {
             "color": "#2a3f5f"
            },
            "error_y": {
             "color": "#2a3f5f"
            },
            "marker": {
             "line": {
              "color": "#E5ECF6",
              "width": 0.5
             },
             "pattern": {
              "fillmode": "overlay",
              "size": 10,
              "solidity": 0.2
             }
            },
            "type": "bar"
           }
          ],
          "barpolar": [
           {
            "marker": {
             "line": {
              "color": "#E5ECF6",
              "width": 0.5
             },
             "pattern": {
              "fillmode": "overlay",
              "size": 10,
              "solidity": 0.2
             }
            },
            "type": "barpolar"
           }
          ],
          "carpet": [
           {
            "aaxis": {
             "endlinecolor": "#2a3f5f",
             "gridcolor": "white",
             "linecolor": "white",
             "minorgridcolor": "white",
             "startlinecolor": "#2a3f5f"
            },
            "baxis": {
             "endlinecolor": "#2a3f5f",
             "gridcolor": "white",
             "linecolor": "white",
             "minorgridcolor": "white",
             "startlinecolor": "#2a3f5f"
            },
            "type": "carpet"
           }
          ],
          "choropleth": [
           {
            "colorbar": {
             "outlinewidth": 0,
             "ticks": ""
            },
            "type": "choropleth"
           }
          ],
          "contour": [
           {
            "colorbar": {
             "outlinewidth": 0,
             "ticks": ""
            },
            "colorscale": [
             [
              0,
              "#0d0887"
             ],
             [
              0.1111111111111111,
              "#46039f"
             ],
             [
              0.2222222222222222,
              "#7201a8"
             ],
             [
              0.3333333333333333,
              "#9c179e"
             ],
             [
              0.4444444444444444,
              "#bd3786"
             ],
             [
              0.5555555555555556,
              "#d8576b"
             ],
             [
              0.6666666666666666,
              "#ed7953"
             ],
             [
              0.7777777777777778,
              "#fb9f3a"
             ],
             [
              0.8888888888888888,
              "#fdca26"
             ],
             [
              1,
              "#f0f921"
             ]
            ],
            "type": "contour"
           }
          ],
          "contourcarpet": [
           {
            "colorbar": {
             "outlinewidth": 0,
             "ticks": ""
            },
            "type": "contourcarpet"
           }
          ],
          "heatmap": [
           {
            "colorbar": {
             "outlinewidth": 0,
             "ticks": ""
            },
            "colorscale": [
             [
              0,
              "#0d0887"
             ],
             [
              0.1111111111111111,
              "#46039f"
             ],
             [
              0.2222222222222222,
              "#7201a8"
             ],
             [
              0.3333333333333333,
              "#9c179e"
             ],
             [
              0.4444444444444444,
              "#bd3786"
             ],
             [
              0.5555555555555556,
              "#d8576b"
             ],
             [
              0.6666666666666666,
              "#ed7953"
             ],
             [
              0.7777777777777778,
              "#fb9f3a"
             ],
             [
              0.8888888888888888,
              "#fdca26"
             ],
             [
              1,
              "#f0f921"
             ]
            ],
            "type": "heatmap"
           }
          ],
          "heatmapgl": [
           {
            "colorbar": {
             "outlinewidth": 0,
             "ticks": ""
            },
            "colorscale": [
             [
              0,
              "#0d0887"
             ],
             [
              0.1111111111111111,
              "#46039f"
             ],
             [
              0.2222222222222222,
              "#7201a8"
             ],
             [
              0.3333333333333333,
              "#9c179e"
             ],
             [
              0.4444444444444444,
              "#bd3786"
             ],
             [
              0.5555555555555556,
              "#d8576b"
             ],
             [
              0.6666666666666666,
              "#ed7953"
             ],
             [
              0.7777777777777778,
              "#fb9f3a"
             ],
             [
              0.8888888888888888,
              "#fdca26"
             ],
             [
              1,
              "#f0f921"
             ]
            ],
            "type": "heatmapgl"
           }
          ],
          "histogram": [
           {
            "marker": {
             "pattern": {
              "fillmode": "overlay",
              "size": 10,
              "solidity": 0.2
             }
            },
            "type": "histogram"
           }
          ],
          "histogram2d": [
           {
            "colorbar": {
             "outlinewidth": 0,
             "ticks": ""
            },
            "colorscale": [
             [
              0,
              "#0d0887"
             ],
             [
              0.1111111111111111,
              "#46039f"
             ],
             [
              0.2222222222222222,
              "#7201a8"
             ],
             [
              0.3333333333333333,
              "#9c179e"
             ],
             [
              0.4444444444444444,
              "#bd3786"
             ],
             [
              0.5555555555555556,
              "#d8576b"
             ],
             [
              0.6666666666666666,
              "#ed7953"
             ],
             [
              0.7777777777777778,
              "#fb9f3a"
             ],
             [
              0.8888888888888888,
              "#fdca26"
             ],
             [
              1,
              "#f0f921"
             ]
            ],
            "type": "histogram2d"
           }
          ],
          "histogram2dcontour": [
           {
            "colorbar": {
             "outlinewidth": 0,
             "ticks": ""
            },
            "colorscale": [
             [
              0,
              "#0d0887"
             ],
             [
              0.1111111111111111,
              "#46039f"
             ],
             [
              0.2222222222222222,
              "#7201a8"
             ],
             [
              0.3333333333333333,
              "#9c179e"
             ],
             [
              0.4444444444444444,
              "#bd3786"
             ],
             [
              0.5555555555555556,
              "#d8576b"
             ],
             [
              0.6666666666666666,
              "#ed7953"
             ],
             [
              0.7777777777777778,
              "#fb9f3a"
             ],
             [
              0.8888888888888888,
              "#fdca26"
             ],
             [
              1,
              "#f0f921"
             ]
            ],
            "type": "histogram2dcontour"
           }
          ],
          "mesh3d": [
           {
            "colorbar": {
             "outlinewidth": 0,
             "ticks": ""
            },
            "type": "mesh3d"
           }
          ],
          "parcoords": [
           {
            "line": {
             "colorbar": {
              "outlinewidth": 0,
              "ticks": ""
             }
            },
            "type": "parcoords"
           }
          ],
          "pie": [
           {
            "automargin": true,
            "type": "pie"
           }
          ],
          "scatter": [
           {
            "fillpattern": {
             "fillmode": "overlay",
             "size": 10,
             "solidity": 0.2
            },
            "type": "scatter"
           }
          ],
          "scatter3d": [
           {
            "line": {
             "colorbar": {
              "outlinewidth": 0,
              "ticks": ""
             }
            },
            "marker": {
             "colorbar": {
              "outlinewidth": 0,
              "ticks": ""
             }
            },
            "type": "scatter3d"
           }
          ],
          "scattercarpet": [
           {
            "marker": {
             "colorbar": {
              "outlinewidth": 0,
              "ticks": ""
             }
            },
            "type": "scattercarpet"
           }
          ],
          "scattergeo": [
           {
            "marker": {
             "colorbar": {
              "outlinewidth": 0,
              "ticks": ""
             }
            },
            "type": "scattergeo"
           }
          ],
          "scattergl": [
           {
            "marker": {
             "colorbar": {
              "outlinewidth": 0,
              "ticks": ""
             }
            },
            "type": "scattergl"
           }
          ],
          "scattermapbox": [
           {
            "marker": {
             "colorbar": {
              "outlinewidth": 0,
              "ticks": ""
             }
            },
            "type": "scattermapbox"
           }
          ],
          "scatterpolar": [
           {
            "marker": {
             "colorbar": {
              "outlinewidth": 0,
              "ticks": ""
             }
            },
            "type": "scatterpolar"
           }
          ],
          "scatterpolargl": [
           {
            "marker": {
             "colorbar": {
              "outlinewidth": 0,
              "ticks": ""
             }
            },
            "type": "scatterpolargl"
           }
          ],
          "scatterternary": [
           {
            "marker": {
             "colorbar": {
              "outlinewidth": 0,
              "ticks": ""
             }
            },
            "type": "scatterternary"
           }
          ],
          "surface": [
           {
            "colorbar": {
             "outlinewidth": 0,
             "ticks": ""
            },
            "colorscale": [
             [
              0,
              "#0d0887"
             ],
             [
              0.1111111111111111,
              "#46039f"
             ],
             [
              0.2222222222222222,
              "#7201a8"
             ],
             [
              0.3333333333333333,
              "#9c179e"
             ],
             [
              0.4444444444444444,
              "#bd3786"
             ],
             [
              0.5555555555555556,
              "#d8576b"
             ],
             [
              0.6666666666666666,
              "#ed7953"
             ],
             [
              0.7777777777777778,
              "#fb9f3a"
             ],
             [
              0.8888888888888888,
              "#fdca26"
             ],
             [
              1,
              "#f0f921"
             ]
            ],
            "type": "surface"
           }
          ],
          "table": [
           {
            "cells": {
             "fill": {
              "color": "#EBF0F8"
             },
             "line": {
              "color": "white"
             }
            },
            "header": {
             "fill": {
              "color": "#C8D4E3"
             },
             "line": {
              "color": "white"
             }
            },
            "type": "table"
           }
          ]
         },
         "layout": {
          "annotationdefaults": {
           "arrowcolor": "#2a3f5f",
           "arrowhead": 0,
           "arrowwidth": 1
          },
          "autotypenumbers": "strict",
          "coloraxis": {
           "colorbar": {
            "outlinewidth": 0,
            "ticks": ""
           }
          },
          "colorscale": {
           "diverging": [
            [
             0,
             "#8e0152"
            ],
            [
             0.1,
             "#c51b7d"
            ],
            [
             0.2,
             "#de77ae"
            ],
            [
             0.3,
             "#f1b6da"
            ],
            [
             0.4,
             "#fde0ef"
            ],
            [
             0.5,
             "#f7f7f7"
            ],
            [
             0.6,
             "#e6f5d0"
            ],
            [
             0.7,
             "#b8e186"
            ],
            [
             0.8,
             "#7fbc41"
            ],
            [
             0.9,
             "#4d9221"
            ],
            [
             1,
             "#276419"
            ]
           ],
           "sequential": [
            [
             0,
             "#0d0887"
            ],
            [
             0.1111111111111111,
             "#46039f"
            ],
            [
             0.2222222222222222,
             "#7201a8"
            ],
            [
             0.3333333333333333,
             "#9c179e"
            ],
            [
             0.4444444444444444,
             "#bd3786"
            ],
            [
             0.5555555555555556,
             "#d8576b"
            ],
            [
             0.6666666666666666,
             "#ed7953"
            ],
            [
             0.7777777777777778,
             "#fb9f3a"
            ],
            [
             0.8888888888888888,
             "#fdca26"
            ],
            [
             1,
             "#f0f921"
            ]
           ],
           "sequentialminus": [
            [
             0,
             "#0d0887"
            ],
            [
             0.1111111111111111,
             "#46039f"
            ],
            [
             0.2222222222222222,
             "#7201a8"
            ],
            [
             0.3333333333333333,
             "#9c179e"
            ],
            [
             0.4444444444444444,
             "#bd3786"
            ],
            [
             0.5555555555555556,
             "#d8576b"
            ],
            [
             0.6666666666666666,
             "#ed7953"
            ],
            [
             0.7777777777777778,
             "#fb9f3a"
            ],
            [
             0.8888888888888888,
             "#fdca26"
            ],
            [
             1,
             "#f0f921"
            ]
           ]
          },
          "colorway": [
           "#636efa",
           "#EF553B",
           "#00cc96",
           "#ab63fa",
           "#FFA15A",
           "#19d3f3",
           "#FF6692",
           "#B6E880",
           "#FF97FF",
           "#FECB52"
          ],
          "font": {
           "color": "#2a3f5f"
          },
          "geo": {
           "bgcolor": "white",
           "lakecolor": "white",
           "landcolor": "#E5ECF6",
           "showlakes": true,
           "showland": true,
           "subunitcolor": "white"
          },
          "hoverlabel": {
           "align": "left"
          },
          "hovermode": "closest",
          "mapbox": {
           "style": "light"
          },
          "paper_bgcolor": "white",
          "plot_bgcolor": "#E5ECF6",
          "polar": {
           "angularaxis": {
            "gridcolor": "white",
            "linecolor": "white",
            "ticks": ""
           },
           "bgcolor": "#E5ECF6",
           "radialaxis": {
            "gridcolor": "white",
            "linecolor": "white",
            "ticks": ""
           }
          },
          "scene": {
           "xaxis": {
            "backgroundcolor": "#E5ECF6",
            "gridcolor": "white",
            "gridwidth": 2,
            "linecolor": "white",
            "showbackground": true,
            "ticks": "",
            "zerolinecolor": "white"
           },
           "yaxis": {
            "backgroundcolor": "#E5ECF6",
            "gridcolor": "white",
            "gridwidth": 2,
            "linecolor": "white",
            "showbackground": true,
            "ticks": "",
            "zerolinecolor": "white"
           },
           "zaxis": {
            "backgroundcolor": "#E5ECF6",
            "gridcolor": "white",
            "gridwidth": 2,
            "linecolor": "white",
            "showbackground": true,
            "ticks": "",
            "zerolinecolor": "white"
           }
          },
          "shapedefaults": {
           "line": {
            "color": "#2a3f5f"
           }
          },
          "ternary": {
           "aaxis": {
            "gridcolor": "white",
            "linecolor": "white",
            "ticks": ""
           },
           "baxis": {
            "gridcolor": "white",
            "linecolor": "white",
            "ticks": ""
           },
           "bgcolor": "#E5ECF6",
           "caxis": {
            "gridcolor": "white",
            "linecolor": "white",
            "ticks": ""
           }
          },
          "title": {
           "x": 0.05
          },
          "xaxis": {
           "automargin": true,
           "gridcolor": "white",
           "linecolor": "white",
           "ticks": "",
           "title": {
            "standoff": 15
           },
           "zerolinecolor": "white",
           "zerolinewidth": 2
          },
          "yaxis": {
           "automargin": true,
           "gridcolor": "white",
           "linecolor": "white",
           "ticks": "",
           "title": {
            "standoff": 15
           },
           "zerolinecolor": "white",
           "zerolinewidth": 2
          }
         }
        },
        "xaxis": {
         "anchor": "y",
         "domain": [
          0,
          1
         ],
         "title": {
          "text": "TotalAmount"
         }
        },
        "yaxis": {
         "anchor": "x",
         "domain": [
          0,
          1
         ]
        }
       }
      }
     },
     "metadata": {},
     "output_type": "display_data"
    }
   ],
   "source": [
    "px.box(data_frame=order,x='TotalAmount')"
   ]
  },
  {
   "cell_type": "markdown",
   "metadata": {},
   "source": [
    "categorical data"
   ]
  },
  {
   "cell_type": "code",
   "execution_count": 67,
   "metadata": {},
   "outputs": [
    {
     "data": {
      "application/vnd.plotly.v1+json": {
       "config": {
        "plotlyServerURL": "https://plot.ly"
       },
       "data": [
        {
         "alignmentgroup": "True",
         "hovertemplate": "variable=count<br>City=%{x}<br>value=%{y}<extra></extra>",
         "legendgroup": "count",
         "marker": {
          "color": "#636efa",
          "pattern": {
           "shape": ""
          }
         },
         "name": "count",
         "offsetgroup": "count",
         "orientation": "v",
         "showlegend": true,
         "textposition": "auto",
         "type": "bar",
         "x": [
          "London",
          "Boise",
          "Graz",
          "Cunewalde",
          "Sao Paulo",
          "Rio de Janeiro",
          "México D.F.",
          "Albuquerque",
          "Cork",
          "Lule?",
          "München",
          "San Crist?bal",
          "Br?cke",
          "Marseille",
          "Seattle",
          "Brandenburg",
          "Charleroi",
          "Frankfurt a.M.",
          "Oulu",
          "Tsawassen",
          "I. de Margarita",
          "Barquisimeto",
          "Buenos Aires",
          "Montréal",
          "Toulouse",
          "?rhus",
          "Genève",
          "Lisboa",
          "K?ln",
          "Strasbourg",
          "Stuttgart",
          "Sevilla",
          "Lyon",
          "Anchorage",
          "Salzburg",
          "Cowes",
          "Eugene",
          "Reggio Emilia",
          "Bern",
          "Portland",
          "Bergamo",
          "Lander",
          "Madrid",
          "Resende",
          "Campinas",
          "Helsinki",
          "Bruxelles",
          "Warszawa",
          "Stavern",
          "Lille",
          "Kobenhavn",
          "Nantes",
          "Münster",
          "Mannheim",
          "Berlin",
          "Versailles",
          "Leipzig",
          "Torino",
          "Aachen",
          "San Francisco",
          "Reims",
          "Elgin",
          "Kirkland",
          "Vancouver",
          "Barcelona",
          "Butte",
          "Paris",
          "Caracas",
          "Walla Walla"
         ],
         "xaxis": "x",
         "y": [
          112,
          112,
          102,
          84,
          82,
          82,
          72,
          71,
          55,
          52,
          48,
          45,
          45,
          44,
          40,
          39,
          39,
          39,
          37,
          35,
          35,
          34,
          34,
          32,
          31,
          31,
          30,
          30,
          29,
          26,
          26,
          26,
          25,
          24,
          23,
          23,
          22,
          22,
          22,
          21,
          21,
          20,
          20,
          19,
          19,
          17,
          17,
          16,
          16,
          16,
          15,
          15,
          14,
          14,
          12,
          11,
          11,
          10,
          10,
          10,
          10,
          9,
          9,
          8,
          8,
          8,
          6,
          4,
          2
         ],
         "yaxis": "y"
        }
       ],
       "layout": {
        "barmode": "relative",
        "legend": {
         "title": {
          "text": "variable"
         },
         "tracegroupgap": 0
        },
        "template": {
         "data": {
          "bar": [
           {
            "error_x": {
             "color": "#2a3f5f"
            },
            "error_y": {
             "color": "#2a3f5f"
            },
            "marker": {
             "line": {
              "color": "#E5ECF6",
              "width": 0.5
             },
             "pattern": {
              "fillmode": "overlay",
              "size": 10,
              "solidity": 0.2
             }
            },
            "type": "bar"
           }
          ],
          "barpolar": [
           {
            "marker": {
             "line": {
              "color": "#E5ECF6",
              "width": 0.5
             },
             "pattern": {
              "fillmode": "overlay",
              "size": 10,
              "solidity": 0.2
             }
            },
            "type": "barpolar"
           }
          ],
          "carpet": [
           {
            "aaxis": {
             "endlinecolor": "#2a3f5f",
             "gridcolor": "white",
             "linecolor": "white",
             "minorgridcolor": "white",
             "startlinecolor": "#2a3f5f"
            },
            "baxis": {
             "endlinecolor": "#2a3f5f",
             "gridcolor": "white",
             "linecolor": "white",
             "minorgridcolor": "white",
             "startlinecolor": "#2a3f5f"
            },
            "type": "carpet"
           }
          ],
          "choropleth": [
           {
            "colorbar": {
             "outlinewidth": 0,
             "ticks": ""
            },
            "type": "choropleth"
           }
          ],
          "contour": [
           {
            "colorbar": {
             "outlinewidth": 0,
             "ticks": ""
            },
            "colorscale": [
             [
              0,
              "#0d0887"
             ],
             [
              0.1111111111111111,
              "#46039f"
             ],
             [
              0.2222222222222222,
              "#7201a8"
             ],
             [
              0.3333333333333333,
              "#9c179e"
             ],
             [
              0.4444444444444444,
              "#bd3786"
             ],
             [
              0.5555555555555556,
              "#d8576b"
             ],
             [
              0.6666666666666666,
              "#ed7953"
             ],
             [
              0.7777777777777778,
              "#fb9f3a"
             ],
             [
              0.8888888888888888,
              "#fdca26"
             ],
             [
              1,
              "#f0f921"
             ]
            ],
            "type": "contour"
           }
          ],
          "contourcarpet": [
           {
            "colorbar": {
             "outlinewidth": 0,
             "ticks": ""
            },
            "type": "contourcarpet"
           }
          ],
          "heatmap": [
           {
            "colorbar": {
             "outlinewidth": 0,
             "ticks": ""
            },
            "colorscale": [
             [
              0,
              "#0d0887"
             ],
             [
              0.1111111111111111,
              "#46039f"
             ],
             [
              0.2222222222222222,
              "#7201a8"
             ],
             [
              0.3333333333333333,
              "#9c179e"
             ],
             [
              0.4444444444444444,
              "#bd3786"
             ],
             [
              0.5555555555555556,
              "#d8576b"
             ],
             [
              0.6666666666666666,
              "#ed7953"
             ],
             [
              0.7777777777777778,
              "#fb9f3a"
             ],
             [
              0.8888888888888888,
              "#fdca26"
             ],
             [
              1,
              "#f0f921"
             ]
            ],
            "type": "heatmap"
           }
          ],
          "heatmapgl": [
           {
            "colorbar": {
             "outlinewidth": 0,
             "ticks": ""
            },
            "colorscale": [
             [
              0,
              "#0d0887"
             ],
             [
              0.1111111111111111,
              "#46039f"
             ],
             [
              0.2222222222222222,
              "#7201a8"
             ],
             [
              0.3333333333333333,
              "#9c179e"
             ],
             [
              0.4444444444444444,
              "#bd3786"
             ],
             [
              0.5555555555555556,
              "#d8576b"
             ],
             [
              0.6666666666666666,
              "#ed7953"
             ],
             [
              0.7777777777777778,
              "#fb9f3a"
             ],
             [
              0.8888888888888888,
              "#fdca26"
             ],
             [
              1,
              "#f0f921"
             ]
            ],
            "type": "heatmapgl"
           }
          ],
          "histogram": [
           {
            "marker": {
             "pattern": {
              "fillmode": "overlay",
              "size": 10,
              "solidity": 0.2
             }
            },
            "type": "histogram"
           }
          ],
          "histogram2d": [
           {
            "colorbar": {
             "outlinewidth": 0,
             "ticks": ""
            },
            "colorscale": [
             [
              0,
              "#0d0887"
             ],
             [
              0.1111111111111111,
              "#46039f"
             ],
             [
              0.2222222222222222,
              "#7201a8"
             ],
             [
              0.3333333333333333,
              "#9c179e"
             ],
             [
              0.4444444444444444,
              "#bd3786"
             ],
             [
              0.5555555555555556,
              "#d8576b"
             ],
             [
              0.6666666666666666,
              "#ed7953"
             ],
             [
              0.7777777777777778,
              "#fb9f3a"
             ],
             [
              0.8888888888888888,
              "#fdca26"
             ],
             [
              1,
              "#f0f921"
             ]
            ],
            "type": "histogram2d"
           }
          ],
          "histogram2dcontour": [
           {
            "colorbar": {
             "outlinewidth": 0,
             "ticks": ""
            },
            "colorscale": [
             [
              0,
              "#0d0887"
             ],
             [
              0.1111111111111111,
              "#46039f"
             ],
             [
              0.2222222222222222,
              "#7201a8"
             ],
             [
              0.3333333333333333,
              "#9c179e"
             ],
             [
              0.4444444444444444,
              "#bd3786"
             ],
             [
              0.5555555555555556,
              "#d8576b"
             ],
             [
              0.6666666666666666,
              "#ed7953"
             ],
             [
              0.7777777777777778,
              "#fb9f3a"
             ],
             [
              0.8888888888888888,
              "#fdca26"
             ],
             [
              1,
              "#f0f921"
             ]
            ],
            "type": "histogram2dcontour"
           }
          ],
          "mesh3d": [
           {
            "colorbar": {
             "outlinewidth": 0,
             "ticks": ""
            },
            "type": "mesh3d"
           }
          ],
          "parcoords": [
           {
            "line": {
             "colorbar": {
              "outlinewidth": 0,
              "ticks": ""
             }
            },
            "type": "parcoords"
           }
          ],
          "pie": [
           {
            "automargin": true,
            "type": "pie"
           }
          ],
          "scatter": [
           {
            "fillpattern": {
             "fillmode": "overlay",
             "size": 10,
             "solidity": 0.2
            },
            "type": "scatter"
           }
          ],
          "scatter3d": [
           {
            "line": {
             "colorbar": {
              "outlinewidth": 0,
              "ticks": ""
             }
            },
            "marker": {
             "colorbar": {
              "outlinewidth": 0,
              "ticks": ""
             }
            },
            "type": "scatter3d"
           }
          ],
          "scattercarpet": [
           {
            "marker": {
             "colorbar": {
              "outlinewidth": 0,
              "ticks": ""
             }
            },
            "type": "scattercarpet"
           }
          ],
          "scattergeo": [
           {
            "marker": {
             "colorbar": {
              "outlinewidth": 0,
              "ticks": ""
             }
            },
            "type": "scattergeo"
           }
          ],
          "scattergl": [
           {
            "marker": {
             "colorbar": {
              "outlinewidth": 0,
              "ticks": ""
             }
            },
            "type": "scattergl"
           }
          ],
          "scattermapbox": [
           {
            "marker": {
             "colorbar": {
              "outlinewidth": 0,
              "ticks": ""
             }
            },
            "type": "scattermapbox"
           }
          ],
          "scatterpolar": [
           {
            "marker": {
             "colorbar": {
              "outlinewidth": 0,
              "ticks": ""
             }
            },
            "type": "scatterpolar"
           }
          ],
          "scatterpolargl": [
           {
            "marker": {
             "colorbar": {
              "outlinewidth": 0,
              "ticks": ""
             }
            },
            "type": "scatterpolargl"
           }
          ],
          "scatterternary": [
           {
            "marker": {
             "colorbar": {
              "outlinewidth": 0,
              "ticks": ""
             }
            },
            "type": "scatterternary"
           }
          ],
          "surface": [
           {
            "colorbar": {
             "outlinewidth": 0,
             "ticks": ""
            },
            "colorscale": [
             [
              0,
              "#0d0887"
             ],
             [
              0.1111111111111111,
              "#46039f"
             ],
             [
              0.2222222222222222,
              "#7201a8"
             ],
             [
              0.3333333333333333,
              "#9c179e"
             ],
             [
              0.4444444444444444,
              "#bd3786"
             ],
             [
              0.5555555555555556,
              "#d8576b"
             ],
             [
              0.6666666666666666,
              "#ed7953"
             ],
             [
              0.7777777777777778,
              "#fb9f3a"
             ],
             [
              0.8888888888888888,
              "#fdca26"
             ],
             [
              1,
              "#f0f921"
             ]
            ],
            "type": "surface"
           }
          ],
          "table": [
           {
            "cells": {
             "fill": {
              "color": "#EBF0F8"
             },
             "line": {
              "color": "white"
             }
            },
            "header": {
             "fill": {
              "color": "#C8D4E3"
             },
             "line": {
              "color": "white"
             }
            },
            "type": "table"
           }
          ]
         },
         "layout": {
          "annotationdefaults": {
           "arrowcolor": "#2a3f5f",
           "arrowhead": 0,
           "arrowwidth": 1
          },
          "autotypenumbers": "strict",
          "coloraxis": {
           "colorbar": {
            "outlinewidth": 0,
            "ticks": ""
           }
          },
          "colorscale": {
           "diverging": [
            [
             0,
             "#8e0152"
            ],
            [
             0.1,
             "#c51b7d"
            ],
            [
             0.2,
             "#de77ae"
            ],
            [
             0.3,
             "#f1b6da"
            ],
            [
             0.4,
             "#fde0ef"
            ],
            [
             0.5,
             "#f7f7f7"
            ],
            [
             0.6,
             "#e6f5d0"
            ],
            [
             0.7,
             "#b8e186"
            ],
            [
             0.8,
             "#7fbc41"
            ],
            [
             0.9,
             "#4d9221"
            ],
            [
             1,
             "#276419"
            ]
           ],
           "sequential": [
            [
             0,
             "#0d0887"
            ],
            [
             0.1111111111111111,
             "#46039f"
            ],
            [
             0.2222222222222222,
             "#7201a8"
            ],
            [
             0.3333333333333333,
             "#9c179e"
            ],
            [
             0.4444444444444444,
             "#bd3786"
            ],
            [
             0.5555555555555556,
             "#d8576b"
            ],
            [
             0.6666666666666666,
             "#ed7953"
            ],
            [
             0.7777777777777778,
             "#fb9f3a"
            ],
            [
             0.8888888888888888,
             "#fdca26"
            ],
            [
             1,
             "#f0f921"
            ]
           ],
           "sequentialminus": [
            [
             0,
             "#0d0887"
            ],
            [
             0.1111111111111111,
             "#46039f"
            ],
            [
             0.2222222222222222,
             "#7201a8"
            ],
            [
             0.3333333333333333,
             "#9c179e"
            ],
            [
             0.4444444444444444,
             "#bd3786"
            ],
            [
             0.5555555555555556,
             "#d8576b"
            ],
            [
             0.6666666666666666,
             "#ed7953"
            ],
            [
             0.7777777777777778,
             "#fb9f3a"
            ],
            [
             0.8888888888888888,
             "#fdca26"
            ],
            [
             1,
             "#f0f921"
            ]
           ]
          },
          "colorway": [
           "#636efa",
           "#EF553B",
           "#00cc96",
           "#ab63fa",
           "#FFA15A",
           "#19d3f3",
           "#FF6692",
           "#B6E880",
           "#FF97FF",
           "#FECB52"
          ],
          "font": {
           "color": "#2a3f5f"
          },
          "geo": {
           "bgcolor": "white",
           "lakecolor": "white",
           "landcolor": "#E5ECF6",
           "showlakes": true,
           "showland": true,
           "subunitcolor": "white"
          },
          "hoverlabel": {
           "align": "left"
          },
          "hovermode": "closest",
          "mapbox": {
           "style": "light"
          },
          "paper_bgcolor": "white",
          "plot_bgcolor": "#E5ECF6",
          "polar": {
           "angularaxis": {
            "gridcolor": "white",
            "linecolor": "white",
            "ticks": ""
           },
           "bgcolor": "#E5ECF6",
           "radialaxis": {
            "gridcolor": "white",
            "linecolor": "white",
            "ticks": ""
           }
          },
          "scene": {
           "xaxis": {
            "backgroundcolor": "#E5ECF6",
            "gridcolor": "white",
            "gridwidth": 2,
            "linecolor": "white",
            "showbackground": true,
            "ticks": "",
            "zerolinecolor": "white"
           },
           "yaxis": {
            "backgroundcolor": "#E5ECF6",
            "gridcolor": "white",
            "gridwidth": 2,
            "linecolor": "white",
            "showbackground": true,
            "ticks": "",
            "zerolinecolor": "white"
           },
           "zaxis": {
            "backgroundcolor": "#E5ECF6",
            "gridcolor": "white",
            "gridwidth": 2,
            "linecolor": "white",
            "showbackground": true,
            "ticks": "",
            "zerolinecolor": "white"
           }
          },
          "shapedefaults": {
           "line": {
            "color": "#2a3f5f"
           }
          },
          "ternary": {
           "aaxis": {
            "gridcolor": "white",
            "linecolor": "white",
            "ticks": ""
           },
           "baxis": {
            "gridcolor": "white",
            "linecolor": "white",
            "ticks": ""
           },
           "bgcolor": "#E5ECF6",
           "caxis": {
            "gridcolor": "white",
            "linecolor": "white",
            "ticks": ""
           }
          },
          "title": {
           "x": 0.05
          },
          "xaxis": {
           "automargin": true,
           "gridcolor": "white",
           "linecolor": "white",
           "ticks": "",
           "title": {
            "standoff": 15
           },
           "zerolinecolor": "white",
           "zerolinewidth": 2
          },
          "yaxis": {
           "automargin": true,
           "gridcolor": "white",
           "linecolor": "white",
           "ticks": "",
           "title": {
            "standoff": 15
           },
           "zerolinecolor": "white",
           "zerolinewidth": 2
          }
         }
        },
        "title": {
         "text": "Distribution of city"
        },
        "xaxis": {
         "anchor": "y",
         "domain": [
          0,
          1
         ],
         "title": {
          "text": "City"
         }
        },
        "yaxis": {
         "anchor": "x",
         "domain": [
          0,
          1
         ],
         "title": {
          "text": "value"
         }
        }
       }
      }
     },
     "metadata": {},
     "output_type": "display_data"
    }
   ],
   "source": [
    "px.bar(data_frame=order.City.value_counts(),title=('Distribution of city'))"
   ]
  },
  {
   "cell_type": "code",
   "execution_count": 68,
   "metadata": {},
   "outputs": [
    {
     "data": {
      "application/vnd.plotly.v1+json": {
       "config": {
        "plotlyServerURL": "https://plot.ly"
       },
       "data": [
        {
         "alignmentgroup": "True",
         "hovertemplate": "variable=count<br>Country=%{x}<br>value=%{y}<extra></extra>",
         "legendgroup": "count",
         "marker": {
          "color": "#636efa",
          "pattern": {
           "shape": ""
          }
         },
         "name": "count",
         "offsetgroup": "count",
         "orientation": "v",
         "showlegend": true,
         "textposition": "auto",
         "type": "bar",
         "x": [
          "USA",
          "Germany",
          "Brazil",
          "France",
          "UK",
          "Austria",
          "Venezuela",
          "Sweden",
          "Canada",
          "Mexico",
          "Belgium",
          "Ireland",
          "Finland",
          "Spain",
          "Italy",
          "Switzerland",
          "Denmark",
          "Argentina",
          "Portugal",
          "Poland",
          "Norway"
         ],
         "xaxis": "x",
         "y": [
          348,
          326,
          202,
          184,
          135,
          125,
          118,
          97,
          75,
          72,
          56,
          55,
          54,
          54,
          53,
          52,
          46,
          34,
          30,
          16,
          16
         ],
         "yaxis": "y"
        }
       ],
       "layout": {
        "barmode": "relative",
        "legend": {
         "title": {
          "text": "variable"
         },
         "tracegroupgap": 0
        },
        "template": {
         "data": {
          "bar": [
           {
            "error_x": {
             "color": "#2a3f5f"
            },
            "error_y": {
             "color": "#2a3f5f"
            },
            "marker": {
             "line": {
              "color": "#E5ECF6",
              "width": 0.5
             },
             "pattern": {
              "fillmode": "overlay",
              "size": 10,
              "solidity": 0.2
             }
            },
            "type": "bar"
           }
          ],
          "barpolar": [
           {
            "marker": {
             "line": {
              "color": "#E5ECF6",
              "width": 0.5
             },
             "pattern": {
              "fillmode": "overlay",
              "size": 10,
              "solidity": 0.2
             }
            },
            "type": "barpolar"
           }
          ],
          "carpet": [
           {
            "aaxis": {
             "endlinecolor": "#2a3f5f",
             "gridcolor": "white",
             "linecolor": "white",
             "minorgridcolor": "white",
             "startlinecolor": "#2a3f5f"
            },
            "baxis": {
             "endlinecolor": "#2a3f5f",
             "gridcolor": "white",
             "linecolor": "white",
             "minorgridcolor": "white",
             "startlinecolor": "#2a3f5f"
            },
            "type": "carpet"
           }
          ],
          "choropleth": [
           {
            "colorbar": {
             "outlinewidth": 0,
             "ticks": ""
            },
            "type": "choropleth"
           }
          ],
          "contour": [
           {
            "colorbar": {
             "outlinewidth": 0,
             "ticks": ""
            },
            "colorscale": [
             [
              0,
              "#0d0887"
             ],
             [
              0.1111111111111111,
              "#46039f"
             ],
             [
              0.2222222222222222,
              "#7201a8"
             ],
             [
              0.3333333333333333,
              "#9c179e"
             ],
             [
              0.4444444444444444,
              "#bd3786"
             ],
             [
              0.5555555555555556,
              "#d8576b"
             ],
             [
              0.6666666666666666,
              "#ed7953"
             ],
             [
              0.7777777777777778,
              "#fb9f3a"
             ],
             [
              0.8888888888888888,
              "#fdca26"
             ],
             [
              1,
              "#f0f921"
             ]
            ],
            "type": "contour"
           }
          ],
          "contourcarpet": [
           {
            "colorbar": {
             "outlinewidth": 0,
             "ticks": ""
            },
            "type": "contourcarpet"
           }
          ],
          "heatmap": [
           {
            "colorbar": {
             "outlinewidth": 0,
             "ticks": ""
            },
            "colorscale": [
             [
              0,
              "#0d0887"
             ],
             [
              0.1111111111111111,
              "#46039f"
             ],
             [
              0.2222222222222222,
              "#7201a8"
             ],
             [
              0.3333333333333333,
              "#9c179e"
             ],
             [
              0.4444444444444444,
              "#bd3786"
             ],
             [
              0.5555555555555556,
              "#d8576b"
             ],
             [
              0.6666666666666666,
              "#ed7953"
             ],
             [
              0.7777777777777778,
              "#fb9f3a"
             ],
             [
              0.8888888888888888,
              "#fdca26"
             ],
             [
              1,
              "#f0f921"
             ]
            ],
            "type": "heatmap"
           }
          ],
          "heatmapgl": [
           {
            "colorbar": {
             "outlinewidth": 0,
             "ticks": ""
            },
            "colorscale": [
             [
              0,
              "#0d0887"
             ],
             [
              0.1111111111111111,
              "#46039f"
             ],
             [
              0.2222222222222222,
              "#7201a8"
             ],
             [
              0.3333333333333333,
              "#9c179e"
             ],
             [
              0.4444444444444444,
              "#bd3786"
             ],
             [
              0.5555555555555556,
              "#d8576b"
             ],
             [
              0.6666666666666666,
              "#ed7953"
             ],
             [
              0.7777777777777778,
              "#fb9f3a"
             ],
             [
              0.8888888888888888,
              "#fdca26"
             ],
             [
              1,
              "#f0f921"
             ]
            ],
            "type": "heatmapgl"
           }
          ],
          "histogram": [
           {
            "marker": {
             "pattern": {
              "fillmode": "overlay",
              "size": 10,
              "solidity": 0.2
             }
            },
            "type": "histogram"
           }
          ],
          "histogram2d": [
           {
            "colorbar": {
             "outlinewidth": 0,
             "ticks": ""
            },
            "colorscale": [
             [
              0,
              "#0d0887"
             ],
             [
              0.1111111111111111,
              "#46039f"
             ],
             [
              0.2222222222222222,
              "#7201a8"
             ],
             [
              0.3333333333333333,
              "#9c179e"
             ],
             [
              0.4444444444444444,
              "#bd3786"
             ],
             [
              0.5555555555555556,
              "#d8576b"
             ],
             [
              0.6666666666666666,
              "#ed7953"
             ],
             [
              0.7777777777777778,
              "#fb9f3a"
             ],
             [
              0.8888888888888888,
              "#fdca26"
             ],
             [
              1,
              "#f0f921"
             ]
            ],
            "type": "histogram2d"
           }
          ],
          "histogram2dcontour": [
           {
            "colorbar": {
             "outlinewidth": 0,
             "ticks": ""
            },
            "colorscale": [
             [
              0,
              "#0d0887"
             ],
             [
              0.1111111111111111,
              "#46039f"
             ],
             [
              0.2222222222222222,
              "#7201a8"
             ],
             [
              0.3333333333333333,
              "#9c179e"
             ],
             [
              0.4444444444444444,
              "#bd3786"
             ],
             [
              0.5555555555555556,
              "#d8576b"
             ],
             [
              0.6666666666666666,
              "#ed7953"
             ],
             [
              0.7777777777777778,
              "#fb9f3a"
             ],
             [
              0.8888888888888888,
              "#fdca26"
             ],
             [
              1,
              "#f0f921"
             ]
            ],
            "type": "histogram2dcontour"
           }
          ],
          "mesh3d": [
           {
            "colorbar": {
             "outlinewidth": 0,
             "ticks": ""
            },
            "type": "mesh3d"
           }
          ],
          "parcoords": [
           {
            "line": {
             "colorbar": {
              "outlinewidth": 0,
              "ticks": ""
             }
            },
            "type": "parcoords"
           }
          ],
          "pie": [
           {
            "automargin": true,
            "type": "pie"
           }
          ],
          "scatter": [
           {
            "fillpattern": {
             "fillmode": "overlay",
             "size": 10,
             "solidity": 0.2
            },
            "type": "scatter"
           }
          ],
          "scatter3d": [
           {
            "line": {
             "colorbar": {
              "outlinewidth": 0,
              "ticks": ""
             }
            },
            "marker": {
             "colorbar": {
              "outlinewidth": 0,
              "ticks": ""
             }
            },
            "type": "scatter3d"
           }
          ],
          "scattercarpet": [
           {
            "marker": {
             "colorbar": {
              "outlinewidth": 0,
              "ticks": ""
             }
            },
            "type": "scattercarpet"
           }
          ],
          "scattergeo": [
           {
            "marker": {
             "colorbar": {
              "outlinewidth": 0,
              "ticks": ""
             }
            },
            "type": "scattergeo"
           }
          ],
          "scattergl": [
           {
            "marker": {
             "colorbar": {
              "outlinewidth": 0,
              "ticks": ""
             }
            },
            "type": "scattergl"
           }
          ],
          "scattermapbox": [
           {
            "marker": {
             "colorbar": {
              "outlinewidth": 0,
              "ticks": ""
             }
            },
            "type": "scattermapbox"
           }
          ],
          "scatterpolar": [
           {
            "marker": {
             "colorbar": {
              "outlinewidth": 0,
              "ticks": ""
             }
            },
            "type": "scatterpolar"
           }
          ],
          "scatterpolargl": [
           {
            "marker": {
             "colorbar": {
              "outlinewidth": 0,
              "ticks": ""
             }
            },
            "type": "scatterpolargl"
           }
          ],
          "scatterternary": [
           {
            "marker": {
             "colorbar": {
              "outlinewidth": 0,
              "ticks": ""
             }
            },
            "type": "scatterternary"
           }
          ],
          "surface": [
           {
            "colorbar": {
             "outlinewidth": 0,
             "ticks": ""
            },
            "colorscale": [
             [
              0,
              "#0d0887"
             ],
             [
              0.1111111111111111,
              "#46039f"
             ],
             [
              0.2222222222222222,
              "#7201a8"
             ],
             [
              0.3333333333333333,
              "#9c179e"
             ],
             [
              0.4444444444444444,
              "#bd3786"
             ],
             [
              0.5555555555555556,
              "#d8576b"
             ],
             [
              0.6666666666666666,
              "#ed7953"
             ],
             [
              0.7777777777777778,
              "#fb9f3a"
             ],
             [
              0.8888888888888888,
              "#fdca26"
             ],
             [
              1,
              "#f0f921"
             ]
            ],
            "type": "surface"
           }
          ],
          "table": [
           {
            "cells": {
             "fill": {
              "color": "#EBF0F8"
             },
             "line": {
              "color": "white"
             }
            },
            "header": {
             "fill": {
              "color": "#C8D4E3"
             },
             "line": {
              "color": "white"
             }
            },
            "type": "table"
           }
          ]
         },
         "layout": {
          "annotationdefaults": {
           "arrowcolor": "#2a3f5f",
           "arrowhead": 0,
           "arrowwidth": 1
          },
          "autotypenumbers": "strict",
          "coloraxis": {
           "colorbar": {
            "outlinewidth": 0,
            "ticks": ""
           }
          },
          "colorscale": {
           "diverging": [
            [
             0,
             "#8e0152"
            ],
            [
             0.1,
             "#c51b7d"
            ],
            [
             0.2,
             "#de77ae"
            ],
            [
             0.3,
             "#f1b6da"
            ],
            [
             0.4,
             "#fde0ef"
            ],
            [
             0.5,
             "#f7f7f7"
            ],
            [
             0.6,
             "#e6f5d0"
            ],
            [
             0.7,
             "#b8e186"
            ],
            [
             0.8,
             "#7fbc41"
            ],
            [
             0.9,
             "#4d9221"
            ],
            [
             1,
             "#276419"
            ]
           ],
           "sequential": [
            [
             0,
             "#0d0887"
            ],
            [
             0.1111111111111111,
             "#46039f"
            ],
            [
             0.2222222222222222,
             "#7201a8"
            ],
            [
             0.3333333333333333,
             "#9c179e"
            ],
            [
             0.4444444444444444,
             "#bd3786"
            ],
            [
             0.5555555555555556,
             "#d8576b"
            ],
            [
             0.6666666666666666,
             "#ed7953"
            ],
            [
             0.7777777777777778,
             "#fb9f3a"
            ],
            [
             0.8888888888888888,
             "#fdca26"
            ],
            [
             1,
             "#f0f921"
            ]
           ],
           "sequentialminus": [
            [
             0,
             "#0d0887"
            ],
            [
             0.1111111111111111,
             "#46039f"
            ],
            [
             0.2222222222222222,
             "#7201a8"
            ],
            [
             0.3333333333333333,
             "#9c179e"
            ],
            [
             0.4444444444444444,
             "#bd3786"
            ],
            [
             0.5555555555555556,
             "#d8576b"
            ],
            [
             0.6666666666666666,
             "#ed7953"
            ],
            [
             0.7777777777777778,
             "#fb9f3a"
            ],
            [
             0.8888888888888888,
             "#fdca26"
            ],
            [
             1,
             "#f0f921"
            ]
           ]
          },
          "colorway": [
           "#636efa",
           "#EF553B",
           "#00cc96",
           "#ab63fa",
           "#FFA15A",
           "#19d3f3",
           "#FF6692",
           "#B6E880",
           "#FF97FF",
           "#FECB52"
          ],
          "font": {
           "color": "#2a3f5f"
          },
          "geo": {
           "bgcolor": "white",
           "lakecolor": "white",
           "landcolor": "#E5ECF6",
           "showlakes": true,
           "showland": true,
           "subunitcolor": "white"
          },
          "hoverlabel": {
           "align": "left"
          },
          "hovermode": "closest",
          "mapbox": {
           "style": "light"
          },
          "paper_bgcolor": "white",
          "plot_bgcolor": "#E5ECF6",
          "polar": {
           "angularaxis": {
            "gridcolor": "white",
            "linecolor": "white",
            "ticks": ""
           },
           "bgcolor": "#E5ECF6",
           "radialaxis": {
            "gridcolor": "white",
            "linecolor": "white",
            "ticks": ""
           }
          },
          "scene": {
           "xaxis": {
            "backgroundcolor": "#E5ECF6",
            "gridcolor": "white",
            "gridwidth": 2,
            "linecolor": "white",
            "showbackground": true,
            "ticks": "",
            "zerolinecolor": "white"
           },
           "yaxis": {
            "backgroundcolor": "#E5ECF6",
            "gridcolor": "white",
            "gridwidth": 2,
            "linecolor": "white",
            "showbackground": true,
            "ticks": "",
            "zerolinecolor": "white"
           },
           "zaxis": {
            "backgroundcolor": "#E5ECF6",
            "gridcolor": "white",
            "gridwidth": 2,
            "linecolor": "white",
            "showbackground": true,
            "ticks": "",
            "zerolinecolor": "white"
           }
          },
          "shapedefaults": {
           "line": {
            "color": "#2a3f5f"
           }
          },
          "ternary": {
           "aaxis": {
            "gridcolor": "white",
            "linecolor": "white",
            "ticks": ""
           },
           "baxis": {
            "gridcolor": "white",
            "linecolor": "white",
            "ticks": ""
           },
           "bgcolor": "#E5ECF6",
           "caxis": {
            "gridcolor": "white",
            "linecolor": "white",
            "ticks": ""
           }
          },
          "title": {
           "x": 0.05
          },
          "xaxis": {
           "automargin": true,
           "gridcolor": "white",
           "linecolor": "white",
           "ticks": "",
           "title": {
            "standoff": 15
           },
           "zerolinecolor": "white",
           "zerolinewidth": 2
          },
          "yaxis": {
           "automargin": true,
           "gridcolor": "white",
           "linecolor": "white",
           "ticks": "",
           "title": {
            "standoff": 15
           },
           "zerolinecolor": "white",
           "zerolinewidth": 2
          }
         }
        },
        "title": {
         "text": "Distribution of country"
        },
        "xaxis": {
         "anchor": "y",
         "domain": [
          0,
          1
         ],
         "title": {
          "text": "Country"
         }
        },
        "yaxis": {
         "anchor": "x",
         "domain": [
          0,
          1
         ],
         "title": {
          "text": "value"
         }
        }
       }
      }
     },
     "metadata": {},
     "output_type": "display_data"
    }
   ],
   "source": [
    "px.bar(data_frame=order.Country.value_counts(),title=('Distribution of country'))"
   ]
  },
  {
   "cell_type": "markdown",
   "metadata": {},
   "source": [
    "Save to Excel sheet"
   ]
  },
  {
   "cell_type": "code",
   "execution_count": 69,
   "metadata": {},
   "outputs": [],
   "source": [
    "order.to_excel('order1.xlsx',sheet_name='new')"
   ]
  },
  {
   "cell_type": "code",
   "execution_count": 70,
   "metadata": {},
   "outputs": [
    {
     "data": {
      "application/vnd.plotly.v1+json": {
       "config": {
        "plotlyServerURL": "https://plot.ly"
       },
       "data": [
        {
         "domain": {
          "x": [
           0,
           1
          ],
          "y": [
           0,
           1
          ]
         },
         "hovertemplate": "Country=%{label}<extra></extra>",
         "labels": [
          "France",
          "France",
          "France",
          "Germany",
          "Germany",
          "Brazil",
          "Brazil",
          "Brazil",
          "France",
          "France",
          "France",
          "Belgium",
          "Belgium",
          "Belgium",
          "Brazil",
          "Brazil",
          "Brazil",
          "Switzerland",
          "Switzerland",
          "Switzerland",
          "Switzerland",
          "Switzerland",
          "Switzerland",
          "Switzerland",
          "Brazil",
          "Brazil",
          "Venezuela",
          "Venezuela",
          "Venezuela",
          "Austria",
          "Austria",
          "Austria",
          "Mexico",
          "Mexico",
          "Germany",
          "Germany",
          "Germany",
          "Germany",
          "Brazil",
          "Brazil",
          "USA",
          "USA",
          "USA",
          "Austria",
          "Austria",
          "Austria",
          "Austria",
          "Sweden",
          "Sweden",
          "France",
          "France",
          "Finland",
          "Germany",
          "Germany",
          "Germany",
          "Venezuela",
          "Venezuela",
          "USA",
          "USA",
          "Finland",
          "Finland",
          "USA",
          "USA",
          "USA",
          "USA",
          "Germany",
          "Germany",
          "Germany",
          "Germany",
          "Germany",
          "France",
          "France",
          "Italy",
          "Italy",
          "Mexico",
          "Mexico",
          "Germany",
          "Germany",
          "Sweden",
          "Sweden",
          "Sweden",
          "Sweden",
          "Germany",
          "Sweden",
          "Sweden",
          "Sweden",
          "Spain",
          "Spain",
          "Spain",
          "Spain",
          "Spain",
          "Venezuela",
          "Venezuela",
          "Venezuela",
          "Venezuela",
          "Germany",
          "Germany",
          "Germany",
          "Germany",
          "Germany",
          "Germany",
          "Germany",
          "Germany",
          "Germany",
          "Brazil",
          "Brazil",
          "Brazil",
          "Italy",
          "Italy",
          "UK",
          "UK",
          "Brazil",
          "Brazil",
          "Brazil",
          "Brazil",
          "Brazil",
          "Brazil",
          "Brazil",
          "Brazil",
          "Mexico",
          "Mexico",
          "Mexico",
          "Mexico",
          "USA",
          "USA",
          "USA",
          "USA",
          "USA",
          "France",
          "Venezuela",
          "Venezuela",
          "Venezuela",
          "France",
          "France",
          "Ireland",
          "Ireland",
          "Ireland",
          "Ireland",
          "Brazil",
          "Brazil",
          "Italy",
          "Italy",
          "Germany",
          "Germany",
          "Belgium",
          "Belgium",
          "Belgium",
          "Spain",
          "Spain",
          "Spain",
          "Mexico",
          "Mexico",
          "Mexico",
          "USA",
          "USA",
          "USA",
          "Spain",
          "Spain",
          "Spain",
          "USA",
          "USA",
          "Mexico",
          "Mexico",
          "Ireland",
          "Ireland",
          "Ireland",
          "Ireland",
          "Ireland",
          "USA",
          "USA",
          "France",
          "France",
          "Germany",
          "Germany",
          "Germany",
          "Germany",
          "Germany",
          "USA",
          "USA",
          "USA",
          "UK",
          "UK",
          "USA",
          "USA",
          "USA",
          "UK",
          "UK",
          "Mexico",
          "Mexico",
          "Mexico",
          "Finland",
          "UK",
          "Mexico",
          "Germany",
          "Germany",
          "Germany",
          "USA",
          "USA",
          "USA",
          "USA",
          "USA",
          "Germany",
          "Germany",
          "Germany",
          "Germany",
          "Germany",
          "Spain",
          "Spain",
          "Spain",
          "Sweden",
          "Sweden",
          "Sweden",
          "Sweden",
          "Portugal",
          "Portugal",
          "Portugal",
          "USA",
          "USA",
          "USA",
          "USA",
          "Venezuela",
          "Venezuela",
          "France",
          "Canada",
          "Canada",
          "Canada",
          "Finland",
          "Finland",
          "Finland",
          "France",
          "France",
          "Ireland",
          "Ireland",
          "Ireland",
          "Ireland",
          "Portugal",
          "Germany",
          "Germany",
          "Germany",
          "Germany",
          "Germany",
          "USA",
          "USA",
          "Canada",
          "Canada",
          "Canada",
          "France",
          "France",
          "France",
          "Denmark",
          "Denmark",
          "Germany",
          "Germany",
          "Germany",
          "Germany",
          "Germany",
          "Germany",
          "Germany",
          "USA",
          "USA",
          "Germany",
          "Germany",
          "Germany",
          "USA",
          "USA",
          "Brazil",
          "Brazil",
          "Brazil",
          "Brazil",
          "Germany",
          "Germany",
          "USA",
          "France",
          "France",
          "Austria",
          "Austria",
          "Austria",
          "Austria",
          "Portugal",
          "Portugal",
          "Austria",
          "Austria",
          "Mexico",
          "Mexico",
          "UK",
          "UK",
          "Germany",
          "Germany",
          "Germany",
          "Venezuela",
          "Venezuela",
          "Venezuela",
          "France",
          "France",
          "France",
          "UK",
          "UK",
          "UK",
          "France",
          "France",
          "France",
          "France",
          "France",
          "Germany",
          "Germany",
          "France",
          "France",
          "France",
          "Germany",
          "Germany",
          "Germany",
          "UK",
          "UK",
          "Mexico",
          "Spain",
          "Spain",
          "Denmark",
          "Denmark",
          "Denmark",
          "Denmark",
          "Austria",
          "Austria",
          "Austria",
          "Austria",
          "USA",
          "USA",
          "Switzerland",
          "Switzerland",
          "Switzerland",
          "France",
          "Brazil",
          "Brazil",
          "Brazil",
          "Brazil",
          "Ireland",
          "Ireland",
          "Poland",
          "Poland",
          "USA",
          "USA",
          "Canada",
          "UK",
          "UK",
          "Sweden",
          "Brazil",
          "Brazil",
          "Brazil",
          "Ireland",
          "Ireland",
          "Ireland",
          "Ireland",
          "Venezuela",
          "Austria",
          "Austria",
          "Austria",
          "Austria",
          "Austria",
          "UK",
          "UK",
          "UK",
          "Sweden",
          "Sweden",
          "USA",
          "USA",
          "USA",
          "Brazil",
          "Brazil",
          "Norway",
          "Norway",
          "Norway",
          "Norway",
          "UK",
          "UK",
          "UK",
          "Canada",
          "Canada",
          "Canada",
          "Canada",
          "Austria",
          "Austria",
          "Austria",
          "Austria",
          "Germany",
          "Austria",
          "USA",
          "USA",
          "USA",
          "USA",
          "USA",
          "USA",
          "USA",
          "Venezuela",
          "Venezuela",
          "Venezuela",
          "Germany",
          "Germany",
          "Germany",
          "Portugal",
          "Portugal",
          "USA",
          "USA",
          "Denmark",
          "Denmark",
          "Denmark",
          "Denmark",
          "UK",
          "UK",
          "UK",
          "USA",
          "USA",
          "USA",
          "USA",
          "Austria",
          "Austria",
          "Austria",
          "Austria",
          "Italy",
          "Italy",
          "Italy",
          "Venezuela",
          "Brazil",
          "Brazil",
          "Brazil",
          "Brazil",
          "Brazil",
          "Germany",
          "Germany",
          "Germany",
          "France",
          "France",
          "France",
          "Argentina",
          "Argentina",
          "Canada",
          "Canada",
          "Canada",
          "Canada",
          "Canada",
          "Finland",
          "France",
          "France",
          "France",
          "Brazil",
          "Brazil",
          "USA",
          "USA",
          "Finland",
          "Finland",
          "Finland",
          "Denmark",
          "Denmark",
          "Denmark",
          "Denmark",
          "Germany",
          "Germany",
          "Germany",
          "Germany",
          "Switzerland",
          "Switzerland",
          "Brazil",
          "Brazil",
          "Brazil",
          "Brazil",
          "Brazil",
          "Brazil",
          "Brazil",
          "Brazil",
          "Italy",
          "Brazil",
          "Brazil",
          "Canada",
          "Canada",
          "Canada",
          "France",
          "France",
          "Spain",
          "Spain",
          "Austria",
          "Italy",
          "Ireland",
          "Ireland",
          "Austria",
          "Austria",
          "Austria",
          "Austria",
          "Canada",
          "Canada",
          "Canada",
          "USA",
          "USA",
          "Portugal",
          "Sweden",
          "Sweden",
          "UK",
          "UK",
          "UK",
          "France",
          "France",
          "France",
          "France",
          "Finland",
          "Germany",
          "Germany",
          "Germany",
          "Canada",
          "Canada",
          "Canada",
          "Canada",
          "USA",
          "USA",
          "USA",
          "USA",
          "USA",
          "Austria",
          "Austria",
          "Austria",
          "Italy",
          "Italy",
          "Sweden",
          "Sweden",
          "Sweden",
          "Sweden",
          "Sweden",
          "Sweden",
          "Germany",
          "Germany",
          "Germany",
          "Germany",
          "Brazil",
          "Brazil",
          "Brazil",
          "Argentina",
          "Argentina",
          "France",
          "France",
          "France",
          "France",
          "France",
          "Germany",
          "Germany",
          "Germany",
          "Germany",
          "USA",
          "USA",
          "UK",
          "UK",
          "France",
          "France",
          "France",
          "Finland",
          "Finland",
          "Finland",
          "Finland",
          "Germany",
          "Germany",
          "Germany",
          "Belgium",
          "Belgium",
          "Belgium",
          "Belgium",
          "Belgium",
          "France",
          "France",
          "France",
          "Sweden",
          "Sweden",
          "Venezuela",
          "Venezuela",
          "Venezuela",
          "UK",
          "UK",
          "Belgium",
          "Belgium",
          "Portugal",
          "Portugal",
          "Portugal",
          "Portugal",
          "Denmark",
          "Denmark",
          "Denmark",
          "Denmark",
          "Denmark",
          "Brazil",
          "Brazil",
          "Italy",
          "Italy",
          "Germany",
          "Germany",
          "USA",
          "USA",
          "USA",
          "France",
          "France",
          "France",
          "UK",
          "UK",
          "UK",
          "UK",
          "UK",
          "UK",
          "Mexico",
          "Mexico",
          "Mexico",
          "Mexico",
          "Belgium",
          "Belgium",
          "Belgium",
          "Venezuela",
          "Venezuela",
          "Portugal",
          "Portugal",
          "Portugal",
          "France",
          "USA",
          "USA",
          "USA",
          "USA",
          "France",
          "France",
          "Brazil",
          "Brazil",
          "USA",
          "USA",
          "USA",
          "UK",
          "UK",
          "UK",
          "Venezuela",
          "Venezuela",
          "Venezuela",
          "Venezuela",
          "Venezuela",
          "Venezuela",
          "Venezuela",
          "Brazil",
          "Brazil",
          "Brazil",
          "Germany",
          "Germany",
          "Austria",
          "Austria",
          "Venezuela",
          "Venezuela",
          "Venezuela",
          "Portugal",
          "Portugal",
          "Canada",
          "Canada",
          "France",
          "France",
          "France",
          "Brazil",
          "Canada",
          "Canada",
          "Canada",
          "Brazil",
          "Germany",
          "Germany",
          "Germany",
          "Venezuela",
          "Venezuela",
          "Venezuela",
          "Venezuela",
          "Venezuela",
          "France",
          "France",
          "Germany",
          "Mexico",
          "Mexico",
          "Mexico",
          "Ireland",
          "Ireland",
          "USA",
          "USA",
          "USA",
          "USA",
          "Canada",
          "Germany",
          "Germany",
          "Mexico",
          "Mexico",
          "Germany",
          "Germany",
          "Germany",
          "USA",
          "USA",
          "France",
          "France",
          "France",
          "Brazil",
          "Brazil",
          "Brazil",
          "Brazil",
          "Germany",
          "Germany",
          "Germany",
          "Austria",
          "Austria",
          "Austria",
          "Austria",
          "Austria",
          "Germany",
          "Germany",
          "Germany",
          "Germany",
          "Germany",
          "Ireland",
          "Ireland",
          "Ireland",
          "UK",
          "UK",
          "UK",
          "Mexico",
          "Mexico",
          "Mexico",
          "Switzerland",
          "Switzerland",
          "Switzerland",
          "Norway",
          "Norway",
          "Argentina",
          "Argentina",
          "Argentina",
          "Germany",
          "Germany",
          "Germany",
          "Germany",
          "UK",
          "UK",
          "UK",
          "UK",
          "Sweden",
          "Sweden",
          "Sweden",
          "Sweden",
          "France",
          "France",
          "Finland",
          "Finland",
          "Finland",
          "Germany",
          "Germany",
          "USA",
          "USA",
          "USA",
          "Belgium",
          "Belgium",
          "Belgium",
          "Austria",
          "Austria",
          "Austria",
          "Austria",
          "Argentina",
          "UK",
          "UK",
          "Sweden",
          "Sweden",
          "Sweden",
          "Germany",
          "Germany",
          "Germany",
          "Mexico",
          "Mexico",
          "Mexico",
          "Mexico",
          "Germany",
          "Germany",
          "Germany",
          "Germany",
          "Switzerland",
          "Switzerland",
          "Switzerland",
          "Switzerland",
          "Switzerland",
          "UK",
          "UK",
          "UK",
          "UK",
          "UK",
          "UK",
          "Germany",
          "Germany",
          "Germany",
          "Germany",
          "Brazil",
          "Brazil",
          "Brazil",
          "Brazil",
          "Germany",
          "Germany",
          "Venezuela",
          "Venezuela",
          "USA",
          "USA",
          "USA",
          "France",
          "France",
          "France",
          "UK",
          "UK",
          "Germany",
          "Germany",
          "Germany",
          "Germany",
          "Germany",
          "Spain",
          "Spain",
          "Spain",
          "Spain",
          "Portugal",
          "Portugal",
          "Portugal",
          "Venezuela",
          "Venezuela",
          "Finland",
          "Finland",
          "Finland",
          "Finland",
          "Finland",
          "Germany",
          "Germany",
          "Germany",
          "Germany",
          "USA",
          "USA",
          "USA",
          "USA",
          "USA",
          "Denmark",
          "Germany",
          "Germany",
          "UK",
          "UK",
          "UK",
          "UK",
          "UK",
          "France",
          "France",
          "Germany",
          "Germany",
          "Sweden",
          "Sweden",
          "Italy",
          "Italy",
          "Brazil",
          "Brazil",
          "USA",
          "USA",
          "USA",
          "Canada",
          "Canada",
          "France",
          "France",
          "France",
          "Ireland",
          "Ireland",
          "Ireland",
          "Spain",
          "USA",
          "USA",
          "Canada",
          "Canada",
          "Austria",
          "Austria",
          "Sweden",
          "Sweden",
          "Sweden",
          "Sweden",
          "Mexico",
          "Mexico",
          "Mexico",
          "USA",
          "USA",
          "USA",
          "USA",
          "Germany",
          "Germany",
          "Germany",
          "Germany",
          "Mexico",
          "Mexico",
          "Mexico",
          "USA",
          "USA",
          "USA",
          "UK",
          "UK",
          "USA",
          "USA",
          "Germany",
          "Germany",
          "Germany",
          "Brazil",
          "Germany",
          "Germany",
          "Finland",
          "Finland",
          "Finland",
          "France",
          "Brazil",
          "Italy",
          "Brazil",
          "Brazil",
          "Brazil",
          "Germany",
          "Germany",
          "USA",
          "Canada",
          "Canada",
          "Denmark",
          "Denmark",
          "Denmark",
          "Germany",
          "Germany",
          "Germany",
          "Germany",
          "Germany",
          "USA",
          "USA",
          "Austria",
          "Austria",
          "Austria",
          "USA",
          "USA",
          "USA",
          "Austria",
          "Austria",
          "Austria",
          "USA",
          "USA",
          "UK",
          "USA",
          "USA",
          "Venezuela",
          "Venezuela",
          "Denmark",
          "USA",
          "USA",
          "Portugal",
          "Portugal",
          "Canada",
          "Canada",
          "Canada",
          "Canada",
          "Brazil",
          "Brazil",
          "Brazil",
          "USA",
          "USA",
          "USA",
          "USA",
          "USA",
          "Germany",
          "France",
          "France",
          "France",
          "France",
          "Poland",
          "Poland",
          "Poland",
          "USA",
          "USA",
          "USA",
          "USA",
          "USA",
          "Venezuela",
          "Venezuela",
          "Germany",
          "Germany",
          "Germany",
          "Finland",
          "USA",
          "USA",
          "USA",
          "USA",
          "USA",
          "Canada",
          "Canada",
          "Canada",
          "Canada",
          "Canada",
          "Canada",
          "Canada",
          "UK",
          "UK",
          "UK",
          "UK",
          "Brazil",
          "Brazil",
          "Germany",
          "Germany",
          "Germany",
          "Germany",
          "Germany",
          "USA",
          "USA",
          "USA",
          "Mexico",
          "Mexico",
          "Mexico",
          "Sweden",
          "Sweden",
          "Sweden",
          "USA",
          "USA",
          "France",
          "Spain",
          "Spain",
          "Germany",
          "Germany",
          "France",
          "Germany",
          "Germany",
          "Austria",
          "Austria",
          "Austria",
          "Austria",
          "France",
          "France",
          "France",
          "France",
          "Italy",
          "Italy",
          "Italy",
          "Finland",
          "Finland",
          "Brazil",
          "Brazil",
          "Brazil",
          "Venezuela",
          "Venezuela",
          "Venezuela",
          "Norway",
          "Germany",
          "Germany",
          "Venezuela",
          "Venezuela",
          "Denmark",
          "Denmark",
          "Germany",
          "Germany",
          "Germany",
          "Brazil",
          "Brazil",
          "Brazil",
          "Brazil",
          "Brazil",
          "Ireland",
          "Ireland",
          "Ireland",
          "Ireland",
          "Brazil",
          "Brazil",
          "Brazil",
          "Brazil",
          "Belgium",
          "Belgium",
          "Brazil",
          "Brazil",
          "Brazil",
          "Germany",
          "Germany",
          "Brazil",
          "Brazil",
          "Germany",
          "Germany",
          "Sweden",
          "Sweden",
          "Sweden",
          "Italy",
          "USA",
          "USA",
          "USA",
          "USA",
          "USA",
          "USA",
          "USA",
          "USA",
          "USA",
          "Germany",
          "Germany",
          "Germany",
          "Germany",
          "Brazil",
          "Brazil",
          "Brazil",
          "USA",
          "Ireland",
          "Ireland",
          "USA",
          "France",
          "France",
          "France",
          "Portugal",
          "Portugal",
          "Portugal",
          "USA",
          "USA",
          "USA",
          "Switzerland",
          "Switzerland",
          "Austria",
          "Austria",
          "Germany",
          "Germany",
          "Germany",
          "Denmark",
          "Germany",
          "Germany",
          "Germany",
          "Germany",
          "Germany",
          "France",
          "France",
          "France",
          "Sweden",
          "Sweden",
          "Finland",
          "Finland",
          "Finland",
          "UK",
          "Germany",
          "Germany",
          "Germany",
          "Mexico",
          "Mexico",
          "Mexico",
          "Mexico",
          "Mexico",
          "USA",
          "USA",
          "USA",
          "USA",
          "France",
          "USA",
          "USA",
          "USA",
          "USA",
          "USA",
          "USA",
          "Mexico",
          "Mexico",
          "Mexico",
          "France",
          "Germany",
          "Germany",
          "Germany",
          "Brazil",
          "Brazil",
          "Brazil",
          "Austria",
          "Austria",
          "Ireland",
          "Ireland",
          "Ireland",
          "Denmark",
          "Denmark",
          "Denmark",
          "Sweden",
          "Brazil",
          "Brazil",
          "Germany",
          "Germany",
          "Germany",
          "Germany",
          "Germany",
          "Germany",
          "USA",
          "USA",
          "USA",
          "USA",
          "Germany",
          "Germany",
          "Germany",
          "Finland",
          "Finland",
          "Finland",
          "USA",
          "USA",
          "Venezuela",
          "Venezuela",
          "Venezuela",
          "Venezuela",
          "Austria",
          "Austria",
          "Austria",
          "Austria",
          "Austria",
          "Germany",
          "USA",
          "USA",
          "USA",
          "USA",
          "Ireland",
          "Ireland",
          "Ireland",
          "Germany",
          "Germany",
          "Sweden",
          "Sweden",
          "Sweden",
          "Brazil",
          "Brazil",
          "Brazil",
          "Venezuela",
          "Venezuela",
          "USA",
          "USA",
          "USA",
          "UK",
          "UK",
          "UK",
          "USA",
          "USA",
          "Brazil",
          "Brazil",
          "Brazil",
          "Italy",
          "Italy",
          "USA",
          "USA",
          "USA",
          "Ireland",
          "Ireland",
          "USA",
          "USA",
          "USA",
          "USA",
          "USA",
          "USA",
          "USA",
          "USA",
          "USA",
          "France",
          "France",
          "Argentina",
          "Argentina",
          "Argentina",
          "Germany",
          "Germany",
          "Germany",
          "Germany",
          "Germany",
          "Germany",
          "Germany",
          "USA",
          "USA",
          "USA",
          "Brazil",
          "Brazil",
          "Germany",
          "USA",
          "USA",
          "USA",
          "USA",
          "USA",
          "Canada",
          "Canada",
          "Brazil",
          "Brazil",
          "Brazil",
          "UK",
          "UK",
          "Italy",
          "Italy",
          "Italy",
          "Brazil",
          "Brazil",
          "Brazil",
          "Brazil",
          "Venezuela",
          "Venezuela",
          "Venezuela",
          "France",
          "France",
          "France",
          "Switzerland",
          "Switzerland",
          "France",
          "Sweden",
          "Sweden",
          "Sweden",
          "Brazil",
          "Brazil",
          "Brazil",
          "USA",
          "USA",
          "Ireland",
          "Ireland",
          "France",
          "France",
          "France",
          "France",
          "France",
          "USA",
          "USA",
          "USA",
          "USA",
          "UK",
          "Canada",
          "Canada",
          "Canada",
          "UK",
          "Denmark",
          "Germany",
          "Germany",
          "Germany",
          "Germany",
          "Switzerland",
          "Switzerland",
          "Switzerland",
          "Switzerland",
          "Austria",
          "Austria",
          "Austria",
          "Austria",
          "USA",
          "USA",
          "USA",
          "UK",
          "UK",
          "UK",
          "Finland",
          "Finland",
          "Finland",
          "Switzerland",
          "Switzerland",
          "Switzerland",
          "Switzerland",
          "UK",
          "UK",
          "Italy",
          "Italy",
          "Italy",
          "France",
          "France",
          "France",
          "France",
          "USA",
          "USA",
          "USA",
          "USA",
          "USA",
          "USA",
          "USA",
          "USA",
          "Switzerland",
          "Switzerland",
          "Switzerland",
          "Mexico",
          "Belgium",
          "Belgium",
          "Belgium",
          "USA",
          "USA",
          "Sweden",
          "Sweden",
          "Sweden",
          "Sweden",
          "France",
          "France",
          "France",
          "Austria",
          "Austria",
          "Germany",
          "Germany",
          "Germany",
          "Germany",
          "Belgium",
          "UK",
          "UK",
          "UK",
          "UK",
          "Denmark",
          "Denmark",
          "Denmark",
          "Denmark",
          "Brazil",
          "Austria",
          "Germany",
          "Germany",
          "Austria",
          "Austria",
          "Austria",
          "Sweden",
          "Sweden",
          "USA",
          "USA",
          "Austria",
          "Austria",
          "Austria",
          "Austria",
          "Brazil",
          "Sweden",
          "Germany",
          "Germany",
          "Venezuela",
          "Venezuela",
          "Finland",
          "Finland",
          "Finland",
          "Argentina",
          "Brazil",
          "Brazil",
          "Italy",
          "Italy",
          "Italy",
          "Venezuela",
          "Venezuela",
          "Brazil",
          "Brazil",
          "Brazil",
          "France",
          "France",
          "Germany",
          "Germany",
          "France",
          "France",
          "France",
          "France",
          "Brazil",
          "Brazil",
          "Germany",
          "Germany",
          "Poland",
          "Poland",
          "Poland",
          "UK",
          "UK",
          "Brazil",
          "Brazil",
          "Austria",
          "Austria",
          "Venezuela",
          "Venezuela",
          "Venezuela",
          "Venezuela",
          "Germany",
          "UK",
          "UK",
          "Germany",
          "Germany",
          "Germany",
          "UK",
          "UK",
          "UK",
          "Spain",
          "Spain",
          "Denmark",
          "Denmark",
          "Denmark",
          "Denmark",
          "Brazil",
          "Brazil",
          "Brazil",
          "UK",
          "UK",
          "UK",
          "USA",
          "USA",
          "France",
          "France",
          "France",
          "Italy",
          "USA",
          "USA",
          "Brazil",
          "Canada",
          "Canada",
          "Canada",
          "Venezuela",
          "Venezuela",
          "Venezuela",
          "Italy",
          "Italy",
          "Italy",
          "Brazil",
          "Brazil",
          "France",
          "France",
          "France",
          "France",
          "USA",
          "USA",
          "USA",
          "Germany",
          "Germany",
          "Germany",
          "Germany",
          "Italy",
          "Italy",
          "Argentina",
          "Argentina",
          "USA",
          "USA",
          "USA",
          "USA",
          "USA",
          "Venezuela",
          "Venezuela",
          "Venezuela",
          "Venezuela",
          "Sweden",
          "Sweden",
          "Germany",
          "Germany",
          "France",
          "France",
          "France",
          "France",
          "Argentina",
          "Argentina",
          "UK",
          "UK",
          "UK",
          "UK",
          "Brazil",
          "Brazil",
          "Brazil",
          "Brazil",
          "Norway",
          "Norway",
          "Norway",
          "Norway",
          "France",
          "France",
          "France",
          "France",
          "Germany",
          "Germany",
          "Germany",
          "Brazil",
          "Brazil",
          "Germany",
          "Germany",
          "Austria",
          "Austria",
          "Austria",
          "Austria",
          "Austria",
          "Sweden",
          "Sweden",
          "Sweden",
          "Sweden",
          "Venezuela",
          "Venezuela",
          "Venezuela",
          "Brazil",
          "Brazil",
          "Venezuela",
          "Venezuela",
          "Belgium",
          "Belgium",
          "Belgium",
          "Belgium",
          "Mexico",
          "Mexico",
          "Mexico",
          "Mexico",
          "France",
          "Austria",
          "Germany",
          "Germany",
          "Germany",
          "Germany",
          "Germany",
          "Belgium",
          "Belgium",
          "Belgium",
          "USA",
          "USA",
          "USA",
          "USA",
          "USA",
          "USA",
          "UK",
          "UK",
          "Germany",
          "Germany",
          "France",
          "France",
          "France",
          "Brazil",
          "Brazil",
          "Brazil",
          "Brazil",
          "USA",
          "USA",
          "USA",
          "Germany",
          "Austria",
          "Austria",
          "USA",
          "USA",
          "USA",
          "USA",
          "Mexico",
          "Mexico",
          "Sweden",
          "Sweden",
          "Sweden",
          "France",
          "France",
          "France",
          "Germany",
          "Germany",
          "Germany",
          "France",
          "France",
          "USA",
          "USA",
          "USA",
          "USA",
          "USA",
          "Germany",
          "Germany",
          "Venezuela",
          "Venezuela",
          "UK",
          "UK",
          "Sweden",
          "Sweden",
          "Sweden",
          "USA",
          "Brazil",
          "Brazil",
          "Brazil",
          "UK",
          "UK",
          "UK",
          "UK",
          "Poland",
          "Poland",
          "France",
          "France",
          "France",
          "Spain",
          "Spain",
          "Spain",
          "Spain",
          "Finland",
          "Finland",
          "Spain",
          "Sweden",
          "Sweden",
          "Sweden",
          "France",
          "France",
          "Brazil",
          "Brazil",
          "Germany",
          "Finland",
          "Finland",
          "Finland",
          "Sweden",
          "Sweden",
          "Sweden",
          "Argentina",
          "USA",
          "USA",
          "USA",
          "USA",
          "USA",
          "USA",
          "USA",
          "Belgium",
          "Belgium",
          "Belgium",
          "Belgium",
          "Brazil",
          "Brazil",
          "Brazil",
          "Spain",
          "Spain",
          "Spain",
          "USA",
          "USA",
          "France",
          "France",
          "France",
          "Germany",
          "Belgium",
          "Germany",
          "Germany",
          "Germany",
          "Germany",
          "Germany",
          "USA",
          "USA",
          "USA",
          "Austria",
          "Austria",
          "Austria",
          "Austria",
          "Belgium",
          "Belgium",
          "Ireland",
          "Ireland",
          "Argentina",
          "Venezuela",
          "Brazil",
          "Venezuela",
          "Venezuela",
          "Sweden",
          "Sweden",
          "Brazil",
          "Brazil",
          "Brazil",
          "USA",
          "USA",
          "Brazil",
          "Poland",
          "France",
          "Italy",
          "Italy",
          "Norway",
          "Norway",
          "Norway",
          "Finland",
          "Finland",
          "Finland",
          "Spain",
          "Spain",
          "Spain",
          "Ireland",
          "Ireland",
          "Brazil",
          "Brazil",
          "Brazil",
          "Brazil",
          "Mexico",
          "Mexico",
          "Mexico",
          "Argentina",
          "Argentina",
          "Argentina",
          "Spain",
          "Spain",
          "Canada",
          "Canada",
          "Venezuela",
          "Venezuela",
          "Venezuela",
          "UK",
          "Denmark",
          "Denmark",
          "Brazil",
          "Brazil",
          "France",
          "France",
          "France",
          "Sweden",
          "Sweden",
          "Sweden",
          "Brazil",
          "Brazil",
          "Mexico",
          "Mexico",
          "Mexico",
          "Mexico",
          "France",
          "France",
          "France",
          "Spain",
          "Spain",
          "Germany",
          "Germany",
          "Germany",
          "Belgium",
          "Belgium",
          "Belgium",
          "Belgium",
          "Switzerland",
          "Switzerland",
          "France",
          "France",
          "France",
          "France",
          "UK",
          "UK",
          "Germany",
          "Brazil",
          "Brazil",
          "Brazil",
          "USA",
          "Argentina",
          "Argentina",
          "Germany",
          "Germany",
          "Germany",
          "Germany",
          "Italy",
          "Italy",
          "France",
          "France",
          "USA",
          "USA",
          "USA",
          "USA",
          "Italy",
          "UK",
          "UK",
          "UK",
          "Canada",
          "Canada",
          "Canada",
          "Germany",
          "Germany",
          "Denmark",
          "Denmark",
          "Denmark",
          "UK",
          "Spain",
          "Spain",
          "Spain",
          "Canada",
          "Canada",
          "Canada",
          "Canada",
          "Italy",
          "Switzerland",
          "Switzerland",
          "Switzerland",
          "Germany",
          "Germany",
          "UK",
          "UK",
          "Venezuela",
          "Venezuela",
          "Venezuela",
          "Venezuela",
          "Sweden",
          "Germany",
          "Germany",
          "Germany",
          "Venezuela",
          "Venezuela",
          "Venezuela",
          "Argentina",
          "Argentina",
          "Argentina",
          "Brazil",
          "Venezuela",
          "Venezuela",
          "Brazil",
          "Brazil",
          "Germany",
          "Germany",
          "Germany",
          "Germany",
          "Germany",
          "Portugal",
          "France",
          "France",
          "France",
          "USA",
          "Switzerland",
          "Switzerland",
          "Switzerland",
          "Germany",
          "Germany",
          "Austria",
          "Austria",
          "Austria",
          "Brazil",
          "Spain",
          "France",
          "France",
          "France",
          "France",
          "France",
          "France",
          "USA",
          "Canada",
          "Canada",
          "Venezuela",
          "Sweden",
          "Sweden",
          "Sweden",
          "Sweden",
          "Belgium",
          "Belgium",
          "Belgium",
          "Belgium",
          "Austria",
          "Austria",
          "Austria",
          "Austria",
          "Austria",
          "Austria",
          "Sweden",
          "Canada",
          "Canada",
          "USA",
          "USA",
          "USA",
          "USA",
          "USA",
          "Ireland",
          "Ireland",
          "Ireland",
          "Argentina",
          "Argentina",
          "Argentina",
          "Argentina",
          "UK",
          "UK",
          "UK",
          "USA",
          "USA",
          "Brazil",
          "Brazil",
          "Brazil",
          "Austria",
          "Austria",
          "Austria",
          "Austria",
          "Germany",
          "Germany",
          "Germany",
          "USA",
          "Sweden",
          "Sweden",
          "Denmark",
          "Mexico",
          "Mexico",
          "Germany",
          "Venezuela",
          "Venezuela",
          "Venezuela",
          "Poland",
          "Poland",
          "Poland",
          "Poland",
          "Germany",
          "Germany",
          "Germany",
          "USA",
          "USA",
          "USA",
          "Sweden",
          "Sweden",
          "Sweden",
          "Sweden",
          "USA",
          "USA",
          "USA",
          "USA",
          "USA",
          "USA",
          "USA",
          "Belgium",
          "Belgium",
          "Finland",
          "Finland",
          "USA",
          "USA",
          "Portugal",
          "Portugal",
          "Portugal",
          "Austria",
          "Austria",
          "Austria",
          "Spain",
          "Spain",
          "Spain",
          "Italy",
          "Italy",
          "Germany",
          "Germany",
          "Germany",
          "Germany",
          "Germany",
          "Spain",
          "Spain",
          "Spain",
          "Spain",
          "Venezuela",
          "Norway",
          "Norway",
          "UK",
          "UK",
          "Austria",
          "Austria",
          "Austria",
          "USA",
          "USA",
          "USA",
          "Argentina",
          "Argentina",
          "Germany",
          "Germany",
          "Germany",
          "Germany",
          "Germany",
          "Germany",
          "Brazil",
          "Brazil",
          "UK",
          "UK",
          "UK",
          "UK",
          "UK",
          "UK",
          "Finland",
          "Finland",
          "Italy",
          "Italy",
          "Canada",
          "Canada",
          "Germany",
          "Germany",
          "Switzerland",
          "Switzerland",
          "USA",
          "USA",
          "USA",
          "USA",
          "USA",
          "USA",
          "USA",
          "USA",
          "Switzerland",
          "Switzerland",
          "USA",
          "USA",
          "USA",
          "Belgium",
          "Belgium",
          "Belgium",
          "Belgium",
          "Germany",
          "Germany",
          "Spain",
          "Belgium",
          "Belgium",
          "Belgium",
          "Venezuela",
          "Venezuela",
          "Venezuela",
          "Venezuela",
          "USA",
          "Switzerland",
          "Switzerland",
          "Brazil",
          "Brazil",
          "France",
          "Poland",
          "Canada",
          "Canada",
          "Germany",
          "Germany",
          "Germany",
          "UK",
          "UK",
          "Canada",
          "Brazil",
          "Brazil",
          "Sweden",
          "France",
          "Brazil",
          "Brazil",
          "Austria",
          "Austria",
          "Austria",
          "Argentina",
          "Argentina",
          "Venezuela",
          "Venezuela",
          "Venezuela",
          "Venezuela",
          "UK",
          "UK",
          "UK",
          "UK",
          "Germany",
          "Germany",
          "Germany",
          "Brazil",
          "Brazil",
          "Brazil",
          "Italy",
          "Italy",
          "USA",
          "Italy",
          "Italy",
          "Ireland",
          "Ireland",
          "Ireland",
          "USA",
          "USA",
          "USA",
          "USA",
          "USA",
          "Venezuela",
          "Venezuela",
          "USA",
          "USA",
          "USA",
          "Germany",
          "Brazil",
          "Brazil",
          "Brazil",
          "Mexico",
          "Germany",
          "Germany",
          "Germany",
          "Germany",
          "Venezuela",
          "Venezuela",
          "Austria",
          "Austria",
          "Austria",
          "Austria",
          "Mexico",
          "Mexico",
          "Denmark",
          "Switzerland",
          "Switzerland",
          "Switzerland",
          "France",
          "France",
          "France",
          "USA",
          "USA",
          "USA",
          "USA",
          "USA",
          "USA",
          "USA",
          "USA",
          "USA",
          "USA",
          "USA",
          "USA",
          "USA",
          "USA",
          "USA",
          "USA",
          "USA",
          "USA",
          "USA",
          "USA",
          "USA",
          "USA",
          "USA",
          "USA",
          "USA"
         ],
         "legendgroup": "",
         "name": "",
         "showlegend": true,
         "type": "pie"
        }
       ],
       "layout": {
        "legend": {
         "tracegroupgap": 0
        },
        "template": {
         "data": {
          "bar": [
           {
            "error_x": {
             "color": "#2a3f5f"
            },
            "error_y": {
             "color": "#2a3f5f"
            },
            "marker": {
             "line": {
              "color": "#E5ECF6",
              "width": 0.5
             },
             "pattern": {
              "fillmode": "overlay",
              "size": 10,
              "solidity": 0.2
             }
            },
            "type": "bar"
           }
          ],
          "barpolar": [
           {
            "marker": {
             "line": {
              "color": "#E5ECF6",
              "width": 0.5
             },
             "pattern": {
              "fillmode": "overlay",
              "size": 10,
              "solidity": 0.2
             }
            },
            "type": "barpolar"
           }
          ],
          "carpet": [
           {
            "aaxis": {
             "endlinecolor": "#2a3f5f",
             "gridcolor": "white",
             "linecolor": "white",
             "minorgridcolor": "white",
             "startlinecolor": "#2a3f5f"
            },
            "baxis": {
             "endlinecolor": "#2a3f5f",
             "gridcolor": "white",
             "linecolor": "white",
             "minorgridcolor": "white",
             "startlinecolor": "#2a3f5f"
            },
            "type": "carpet"
           }
          ],
          "choropleth": [
           {
            "colorbar": {
             "outlinewidth": 0,
             "ticks": ""
            },
            "type": "choropleth"
           }
          ],
          "contour": [
           {
            "colorbar": {
             "outlinewidth": 0,
             "ticks": ""
            },
            "colorscale": [
             [
              0,
              "#0d0887"
             ],
             [
              0.1111111111111111,
              "#46039f"
             ],
             [
              0.2222222222222222,
              "#7201a8"
             ],
             [
              0.3333333333333333,
              "#9c179e"
             ],
             [
              0.4444444444444444,
              "#bd3786"
             ],
             [
              0.5555555555555556,
              "#d8576b"
             ],
             [
              0.6666666666666666,
              "#ed7953"
             ],
             [
              0.7777777777777778,
              "#fb9f3a"
             ],
             [
              0.8888888888888888,
              "#fdca26"
             ],
             [
              1,
              "#f0f921"
             ]
            ],
            "type": "contour"
           }
          ],
          "contourcarpet": [
           {
            "colorbar": {
             "outlinewidth": 0,
             "ticks": ""
            },
            "type": "contourcarpet"
           }
          ],
          "heatmap": [
           {
            "colorbar": {
             "outlinewidth": 0,
             "ticks": ""
            },
            "colorscale": [
             [
              0,
              "#0d0887"
             ],
             [
              0.1111111111111111,
              "#46039f"
             ],
             [
              0.2222222222222222,
              "#7201a8"
             ],
             [
              0.3333333333333333,
              "#9c179e"
             ],
             [
              0.4444444444444444,
              "#bd3786"
             ],
             [
              0.5555555555555556,
              "#d8576b"
             ],
             [
              0.6666666666666666,
              "#ed7953"
             ],
             [
              0.7777777777777778,
              "#fb9f3a"
             ],
             [
              0.8888888888888888,
              "#fdca26"
             ],
             [
              1,
              "#f0f921"
             ]
            ],
            "type": "heatmap"
           }
          ],
          "heatmapgl": [
           {
            "colorbar": {
             "outlinewidth": 0,
             "ticks": ""
            },
            "colorscale": [
             [
              0,
              "#0d0887"
             ],
             [
              0.1111111111111111,
              "#46039f"
             ],
             [
              0.2222222222222222,
              "#7201a8"
             ],
             [
              0.3333333333333333,
              "#9c179e"
             ],
             [
              0.4444444444444444,
              "#bd3786"
             ],
             [
              0.5555555555555556,
              "#d8576b"
             ],
             [
              0.6666666666666666,
              "#ed7953"
             ],
             [
              0.7777777777777778,
              "#fb9f3a"
             ],
             [
              0.8888888888888888,
              "#fdca26"
             ],
             [
              1,
              "#f0f921"
             ]
            ],
            "type": "heatmapgl"
           }
          ],
          "histogram": [
           {
            "marker": {
             "pattern": {
              "fillmode": "overlay",
              "size": 10,
              "solidity": 0.2
             }
            },
            "type": "histogram"
           }
          ],
          "histogram2d": [
           {
            "colorbar": {
             "outlinewidth": 0,
             "ticks": ""
            },
            "colorscale": [
             [
              0,
              "#0d0887"
             ],
             [
              0.1111111111111111,
              "#46039f"
             ],
             [
              0.2222222222222222,
              "#7201a8"
             ],
             [
              0.3333333333333333,
              "#9c179e"
             ],
             [
              0.4444444444444444,
              "#bd3786"
             ],
             [
              0.5555555555555556,
              "#d8576b"
             ],
             [
              0.6666666666666666,
              "#ed7953"
             ],
             [
              0.7777777777777778,
              "#fb9f3a"
             ],
             [
              0.8888888888888888,
              "#fdca26"
             ],
             [
              1,
              "#f0f921"
             ]
            ],
            "type": "histogram2d"
           }
          ],
          "histogram2dcontour": [
           {
            "colorbar": {
             "outlinewidth": 0,
             "ticks": ""
            },
            "colorscale": [
             [
              0,
              "#0d0887"
             ],
             [
              0.1111111111111111,
              "#46039f"
             ],
             [
              0.2222222222222222,
              "#7201a8"
             ],
             [
              0.3333333333333333,
              "#9c179e"
             ],
             [
              0.4444444444444444,
              "#bd3786"
             ],
             [
              0.5555555555555556,
              "#d8576b"
             ],
             [
              0.6666666666666666,
              "#ed7953"
             ],
             [
              0.7777777777777778,
              "#fb9f3a"
             ],
             [
              0.8888888888888888,
              "#fdca26"
             ],
             [
              1,
              "#f0f921"
             ]
            ],
            "type": "histogram2dcontour"
           }
          ],
          "mesh3d": [
           {
            "colorbar": {
             "outlinewidth": 0,
             "ticks": ""
            },
            "type": "mesh3d"
           }
          ],
          "parcoords": [
           {
            "line": {
             "colorbar": {
              "outlinewidth": 0,
              "ticks": ""
             }
            },
            "type": "parcoords"
           }
          ],
          "pie": [
           {
            "automargin": true,
            "type": "pie"
           }
          ],
          "scatter": [
           {
            "fillpattern": {
             "fillmode": "overlay",
             "size": 10,
             "solidity": 0.2
            },
            "type": "scatter"
           }
          ],
          "scatter3d": [
           {
            "line": {
             "colorbar": {
              "outlinewidth": 0,
              "ticks": ""
             }
            },
            "marker": {
             "colorbar": {
              "outlinewidth": 0,
              "ticks": ""
             }
            },
            "type": "scatter3d"
           }
          ],
          "scattercarpet": [
           {
            "marker": {
             "colorbar": {
              "outlinewidth": 0,
              "ticks": ""
             }
            },
            "type": "scattercarpet"
           }
          ],
          "scattergeo": [
           {
            "marker": {
             "colorbar": {
              "outlinewidth": 0,
              "ticks": ""
             }
            },
            "type": "scattergeo"
           }
          ],
          "scattergl": [
           {
            "marker": {
             "colorbar": {
              "outlinewidth": 0,
              "ticks": ""
             }
            },
            "type": "scattergl"
           }
          ],
          "scattermapbox": [
           {
            "marker": {
             "colorbar": {
              "outlinewidth": 0,
              "ticks": ""
             }
            },
            "type": "scattermapbox"
           }
          ],
          "scatterpolar": [
           {
            "marker": {
             "colorbar": {
              "outlinewidth": 0,
              "ticks": ""
             }
            },
            "type": "scatterpolar"
           }
          ],
          "scatterpolargl": [
           {
            "marker": {
             "colorbar": {
              "outlinewidth": 0,
              "ticks": ""
             }
            },
            "type": "scatterpolargl"
           }
          ],
          "scatterternary": [
           {
            "marker": {
             "colorbar": {
              "outlinewidth": 0,
              "ticks": ""
             }
            },
            "type": "scatterternary"
           }
          ],
          "surface": [
           {
            "colorbar": {
             "outlinewidth": 0,
             "ticks": ""
            },
            "colorscale": [
             [
              0,
              "#0d0887"
             ],
             [
              0.1111111111111111,
              "#46039f"
             ],
             [
              0.2222222222222222,
              "#7201a8"
             ],
             [
              0.3333333333333333,
              "#9c179e"
             ],
             [
              0.4444444444444444,
              "#bd3786"
             ],
             [
              0.5555555555555556,
              "#d8576b"
             ],
             [
              0.6666666666666666,
              "#ed7953"
             ],
             [
              0.7777777777777778,
              "#fb9f3a"
             ],
             [
              0.8888888888888888,
              "#fdca26"
             ],
             [
              1,
              "#f0f921"
             ]
            ],
            "type": "surface"
           }
          ],
          "table": [
           {
            "cells": {
             "fill": {
              "color": "#EBF0F8"
             },
             "line": {
              "color": "white"
             }
            },
            "header": {
             "fill": {
              "color": "#C8D4E3"
             },
             "line": {
              "color": "white"
             }
            },
            "type": "table"
           }
          ]
         },
         "layout": {
          "annotationdefaults": {
           "arrowcolor": "#2a3f5f",
           "arrowhead": 0,
           "arrowwidth": 1
          },
          "autotypenumbers": "strict",
          "coloraxis": {
           "colorbar": {
            "outlinewidth": 0,
            "ticks": ""
           }
          },
          "colorscale": {
           "diverging": [
            [
             0,
             "#8e0152"
            ],
            [
             0.1,
             "#c51b7d"
            ],
            [
             0.2,
             "#de77ae"
            ],
            [
             0.3,
             "#f1b6da"
            ],
            [
             0.4,
             "#fde0ef"
            ],
            [
             0.5,
             "#f7f7f7"
            ],
            [
             0.6,
             "#e6f5d0"
            ],
            [
             0.7,
             "#b8e186"
            ],
            [
             0.8,
             "#7fbc41"
            ],
            [
             0.9,
             "#4d9221"
            ],
            [
             1,
             "#276419"
            ]
           ],
           "sequential": [
            [
             0,
             "#0d0887"
            ],
            [
             0.1111111111111111,
             "#46039f"
            ],
            [
             0.2222222222222222,
             "#7201a8"
            ],
            [
             0.3333333333333333,
             "#9c179e"
            ],
            [
             0.4444444444444444,
             "#bd3786"
            ],
            [
             0.5555555555555556,
             "#d8576b"
            ],
            [
             0.6666666666666666,
             "#ed7953"
            ],
            [
             0.7777777777777778,
             "#fb9f3a"
            ],
            [
             0.8888888888888888,
             "#fdca26"
            ],
            [
             1,
             "#f0f921"
            ]
           ],
           "sequentialminus": [
            [
             0,
             "#0d0887"
            ],
            [
             0.1111111111111111,
             "#46039f"
            ],
            [
             0.2222222222222222,
             "#7201a8"
            ],
            [
             0.3333333333333333,
             "#9c179e"
            ],
            [
             0.4444444444444444,
             "#bd3786"
            ],
            [
             0.5555555555555556,
             "#d8576b"
            ],
            [
             0.6666666666666666,
             "#ed7953"
            ],
            [
             0.7777777777777778,
             "#fb9f3a"
            ],
            [
             0.8888888888888888,
             "#fdca26"
            ],
            [
             1,
             "#f0f921"
            ]
           ]
          },
          "colorway": [
           "#636efa",
           "#EF553B",
           "#00cc96",
           "#ab63fa",
           "#FFA15A",
           "#19d3f3",
           "#FF6692",
           "#B6E880",
           "#FF97FF",
           "#FECB52"
          ],
          "font": {
           "color": "#2a3f5f"
          },
          "geo": {
           "bgcolor": "white",
           "lakecolor": "white",
           "landcolor": "#E5ECF6",
           "showlakes": true,
           "showland": true,
           "subunitcolor": "white"
          },
          "hoverlabel": {
           "align": "left"
          },
          "hovermode": "closest",
          "mapbox": {
           "style": "light"
          },
          "paper_bgcolor": "white",
          "plot_bgcolor": "#E5ECF6",
          "polar": {
           "angularaxis": {
            "gridcolor": "white",
            "linecolor": "white",
            "ticks": ""
           },
           "bgcolor": "#E5ECF6",
           "radialaxis": {
            "gridcolor": "white",
            "linecolor": "white",
            "ticks": ""
           }
          },
          "scene": {
           "xaxis": {
            "backgroundcolor": "#E5ECF6",
            "gridcolor": "white",
            "gridwidth": 2,
            "linecolor": "white",
            "showbackground": true,
            "ticks": "",
            "zerolinecolor": "white"
           },
           "yaxis": {
            "backgroundcolor": "#E5ECF6",
            "gridcolor": "white",
            "gridwidth": 2,
            "linecolor": "white",
            "showbackground": true,
            "ticks": "",
            "zerolinecolor": "white"
           },
           "zaxis": {
            "backgroundcolor": "#E5ECF6",
            "gridcolor": "white",
            "gridwidth": 2,
            "linecolor": "white",
            "showbackground": true,
            "ticks": "",
            "zerolinecolor": "white"
           }
          },
          "shapedefaults": {
           "line": {
            "color": "#2a3f5f"
           }
          },
          "ternary": {
           "aaxis": {
            "gridcolor": "white",
            "linecolor": "white",
            "ticks": ""
           },
           "baxis": {
            "gridcolor": "white",
            "linecolor": "white",
            "ticks": ""
           },
           "bgcolor": "#E5ECF6",
           "caxis": {
            "gridcolor": "white",
            "linecolor": "white",
            "ticks": ""
           }
          },
          "title": {
           "x": 0.05
          },
          "xaxis": {
           "automargin": true,
           "gridcolor": "white",
           "linecolor": "white",
           "ticks": "",
           "title": {
            "standoff": 15
           },
           "zerolinecolor": "white",
           "zerolinewidth": 2
          },
          "yaxis": {
           "automargin": true,
           "gridcolor": "white",
           "linecolor": "white",
           "ticks": "",
           "title": {
            "standoff": 15
           },
           "zerolinecolor": "white",
           "zerolinewidth": 2
          }
         }
        },
        "title": {
         "text": "Relative Frequency of Countries sales"
        }
       }
      }
     },
     "metadata": {},
     "output_type": "display_data"
    }
   ],
   "source": [
    "px.pie(data_frame=order,names='Country',title='Relative Frequency of Countries sales')"
   ]
  },
  {
   "cell_type": "markdown",
   "metadata": {},
   "source": [
    "Through the first analysis, we find that the city of London has a large share of the purchase of our products, with 112 invoices, and Germany and the United States purchase our products more than the other countries, with 348 invoices, compared to 16% of our total sales."
   ]
  },
  {
   "cell_type": "markdown",
   "metadata": {},
   "source": [
    "Bivariate Analysis\n",
    "\n",
    "     Country vs TotalAount\n",
    "                   \n",
    "        City vs TotalAount"
   ]
  },
  {
   "cell_type": "code",
   "execution_count": 71,
   "metadata": {},
   "outputs": [
    {
     "data": {
      "text/html": [
       "<div>\n",
       "<style scoped>\n",
       "    .dataframe tbody tr th:only-of-type {\n",
       "        vertical-align: middle;\n",
       "    }\n",
       "\n",
       "    .dataframe tbody tr th {\n",
       "        vertical-align: top;\n",
       "    }\n",
       "\n",
       "    .dataframe thead th {\n",
       "        text-align: right;\n",
       "    }\n",
       "</style>\n",
       "<table border=\"1\" class=\"dataframe\">\n",
       "  <thead>\n",
       "    <tr style=\"text-align: right;\">\n",
       "      <th></th>\n",
       "      <th>Country</th>\n",
       "      <th>TotalAmount</th>\n",
       "    </tr>\n",
       "  </thead>\n",
       "  <tbody>\n",
       "    <tr>\n",
       "      <th>19</th>\n",
       "      <td>USA</td>\n",
       "      <td>860856.27</td>\n",
       "    </tr>\n",
       "    <tr>\n",
       "      <th>8</th>\n",
       "      <td>Germany</td>\n",
       "      <td>776131.96</td>\n",
       "    </tr>\n",
       "    <tr>\n",
       "      <th>1</th>\n",
       "      <td>Austria</td>\n",
       "      <td>492686.70</td>\n",
       "    </tr>\n",
       "    <tr>\n",
       "      <th>3</th>\n",
       "      <td>Brazil</td>\n",
       "      <td>294433.59</td>\n",
       "    </tr>\n",
       "    <tr>\n",
       "      <th>7</th>\n",
       "      <td>France</td>\n",
       "      <td>261737.31</td>\n",
       "    </tr>\n",
       "    <tr>\n",
       "      <th>20</th>\n",
       "      <td>Venezuela</td>\n",
       "      <td>179496.89</td>\n",
       "    </tr>\n",
       "    <tr>\n",
       "      <th>16</th>\n",
       "      <td>Sweden</td>\n",
       "      <td>174999.55</td>\n",
       "    </tr>\n",
       "    <tr>\n",
       "      <th>18</th>\n",
       "      <td>UK</td>\n",
       "      <td>171228.89</td>\n",
       "    </tr>\n",
       "    <tr>\n",
       "      <th>4</th>\n",
       "      <td>Canada</td>\n",
       "      <td>161234.00</td>\n",
       "    </tr>\n",
       "    <tr>\n",
       "      <th>9</th>\n",
       "      <td>Ireland</td>\n",
       "      <td>156949.88</td>\n",
       "    </tr>\n",
       "    <tr>\n",
       "      <th>5</th>\n",
       "      <td>Denmark</td>\n",
       "      <td>118828.50</td>\n",
       "    </tr>\n",
       "    <tr>\n",
       "      <th>2</th>\n",
       "      <td>Belgium</td>\n",
       "      <td>117037.96</td>\n",
       "    </tr>\n",
       "    <tr>\n",
       "      <th>17</th>\n",
       "      <td>Switzerland</td>\n",
       "      <td>92442.02</td>\n",
       "    </tr>\n",
       "    <tr>\n",
       "      <th>11</th>\n",
       "      <td>Mexico</td>\n",
       "      <td>70401.10</td>\n",
       "    </tr>\n",
       "    <tr>\n",
       "      <th>6</th>\n",
       "      <td>Finland</td>\n",
       "      <td>58352.05</td>\n",
       "    </tr>\n",
       "    <tr>\n",
       "      <th>15</th>\n",
       "      <td>Spain</td>\n",
       "      <td>51273.63</td>\n",
       "    </tr>\n",
       "    <tr>\n",
       "      <th>10</th>\n",
       "      <td>Italy</td>\n",
       "      <td>40471.15</td>\n",
       "    </tr>\n",
       "    <tr>\n",
       "      <th>14</th>\n",
       "      <td>Portugal</td>\n",
       "      <td>35222.95</td>\n",
       "    </tr>\n",
       "    <tr>\n",
       "      <th>0</th>\n",
       "      <td>Argentina</td>\n",
       "      <td>22774.90</td>\n",
       "    </tr>\n",
       "    <tr>\n",
       "      <th>12</th>\n",
       "      <td>Norway</td>\n",
       "      <td>19125.90</td>\n",
       "    </tr>\n",
       "    <tr>\n",
       "      <th>13</th>\n",
       "      <td>Poland</td>\n",
       "      <td>8624.65</td>\n",
       "    </tr>\n",
       "  </tbody>\n",
       "</table>\n",
       "</div>"
      ],
      "text/plain": [
       "        Country  TotalAmount\n",
       "19          USA    860856.27\n",
       "8       Germany    776131.96\n",
       "1       Austria    492686.70\n",
       "3        Brazil    294433.59\n",
       "7        France    261737.31\n",
       "20    Venezuela    179496.89\n",
       "16       Sweden    174999.55\n",
       "18           UK    171228.89\n",
       "4        Canada    161234.00\n",
       "9       Ireland    156949.88\n",
       "5       Denmark    118828.50\n",
       "2       Belgium    117037.96\n",
       "17  Switzerland     92442.02\n",
       "11       Mexico     70401.10\n",
       "6       Finland     58352.05\n",
       "15        Spain     51273.63\n",
       "10        Italy     40471.15\n",
       "14     Portugal     35222.95\n",
       "0     Argentina     22774.90\n",
       "12       Norway     19125.90\n",
       "13       Poland      8624.65"
      ]
     },
     "execution_count": 71,
     "metadata": {},
     "output_type": "execute_result"
    }
   ],
   "source": [
    "order.groupby('Country',as_index=False)['TotalAmount'].sum().sort_values('TotalAmount',ascending=False)"
   ]
  },
  {
   "cell_type": "code",
   "execution_count": 72,
   "metadata": {},
   "outputs": [],
   "source": [
    "prop=order.groupby('Country',as_index=False)['TotalAmount'].sum().sort_values('TotalAmount',ascending=False)\n",
    "prop=prop.sort_values('TotalAmount',ascending=False)\n",
    "\n",
    "prop['proportion']=(prop.TotalAmount/order.TotalAmount.sum())*100\n",
    "prop=prop.sort_values('proportion',ascending=False)\n",
    "    "
   ]
  },
  {
   "cell_type": "code",
   "execution_count": 73,
   "metadata": {},
   "outputs": [
    {
     "data": {
      "application/vnd.plotly.v1+json": {
       "config": {
        "plotlyServerURL": "https://plot.ly"
       },
       "data": [
        {
         "alignmentgroup": "True",
         "hovertemplate": "Country=%{x}<br>TotalAmount=%{y}<extra></extra>",
         "legendgroup": "",
         "marker": {
          "color": "#636efa",
          "pattern": {
           "shape": ""
          }
         },
         "name": "",
         "offsetgroup": "",
         "orientation": "v",
         "showlegend": false,
         "textposition": "auto",
         "type": "bar",
         "x": [
          "USA",
          "Germany",
          "Austria",
          "Brazil",
          "France",
          "Venezuela",
          "Sweden",
          "UK",
          "Canada",
          "Ireland",
          "Denmark",
          "Belgium",
          "Switzerland",
          "Mexico",
          "Finland",
          "Spain",
          "Italy",
          "Portugal",
          "Argentina",
          "Norway",
          "Poland"
         ],
         "xaxis": "x",
         "y": [
          860856.27,
          776131.96,
          492686.7,
          294433.59,
          261737.31,
          179496.88999999998,
          174999.55,
          171228.89,
          161234,
          156949.88,
          118828.5,
          117037.96,
          92442.02,
          70401.1,
          58352.05,
          51273.630000000005,
          40471.15,
          35222.95,
          22774.9,
          19125.9,
          8624.65
         ],
         "yaxis": "y"
        }
       ],
       "layout": {
        "barmode": "relative",
        "legend": {
         "tracegroupgap": 0
        },
        "margin": {
         "t": 60
        },
        "template": {
         "data": {
          "bar": [
           {
            "error_x": {
             "color": "#2a3f5f"
            },
            "error_y": {
             "color": "#2a3f5f"
            },
            "marker": {
             "line": {
              "color": "#E5ECF6",
              "width": 0.5
             },
             "pattern": {
              "fillmode": "overlay",
              "size": 10,
              "solidity": 0.2
             }
            },
            "type": "bar"
           }
          ],
          "barpolar": [
           {
            "marker": {
             "line": {
              "color": "#E5ECF6",
              "width": 0.5
             },
             "pattern": {
              "fillmode": "overlay",
              "size": 10,
              "solidity": 0.2
             }
            },
            "type": "barpolar"
           }
          ],
          "carpet": [
           {
            "aaxis": {
             "endlinecolor": "#2a3f5f",
             "gridcolor": "white",
             "linecolor": "white",
             "minorgridcolor": "white",
             "startlinecolor": "#2a3f5f"
            },
            "baxis": {
             "endlinecolor": "#2a3f5f",
             "gridcolor": "white",
             "linecolor": "white",
             "minorgridcolor": "white",
             "startlinecolor": "#2a3f5f"
            },
            "type": "carpet"
           }
          ],
          "choropleth": [
           {
            "colorbar": {
             "outlinewidth": 0,
             "ticks": ""
            },
            "type": "choropleth"
           }
          ],
          "contour": [
           {
            "colorbar": {
             "outlinewidth": 0,
             "ticks": ""
            },
            "colorscale": [
             [
              0,
              "#0d0887"
             ],
             [
              0.1111111111111111,
              "#46039f"
             ],
             [
              0.2222222222222222,
              "#7201a8"
             ],
             [
              0.3333333333333333,
              "#9c179e"
             ],
             [
              0.4444444444444444,
              "#bd3786"
             ],
             [
              0.5555555555555556,
              "#d8576b"
             ],
             [
              0.6666666666666666,
              "#ed7953"
             ],
             [
              0.7777777777777778,
              "#fb9f3a"
             ],
             [
              0.8888888888888888,
              "#fdca26"
             ],
             [
              1,
              "#f0f921"
             ]
            ],
            "type": "contour"
           }
          ],
          "contourcarpet": [
           {
            "colorbar": {
             "outlinewidth": 0,
             "ticks": ""
            },
            "type": "contourcarpet"
           }
          ],
          "heatmap": [
           {
            "colorbar": {
             "outlinewidth": 0,
             "ticks": ""
            },
            "colorscale": [
             [
              0,
              "#0d0887"
             ],
             [
              0.1111111111111111,
              "#46039f"
             ],
             [
              0.2222222222222222,
              "#7201a8"
             ],
             [
              0.3333333333333333,
              "#9c179e"
             ],
             [
              0.4444444444444444,
              "#bd3786"
             ],
             [
              0.5555555555555556,
              "#d8576b"
             ],
             [
              0.6666666666666666,
              "#ed7953"
             ],
             [
              0.7777777777777778,
              "#fb9f3a"
             ],
             [
              0.8888888888888888,
              "#fdca26"
             ],
             [
              1,
              "#f0f921"
             ]
            ],
            "type": "heatmap"
           }
          ],
          "heatmapgl": [
           {
            "colorbar": {
             "outlinewidth": 0,
             "ticks": ""
            },
            "colorscale": [
             [
              0,
              "#0d0887"
             ],
             [
              0.1111111111111111,
              "#46039f"
             ],
             [
              0.2222222222222222,
              "#7201a8"
             ],
             [
              0.3333333333333333,
              "#9c179e"
             ],
             [
              0.4444444444444444,
              "#bd3786"
             ],
             [
              0.5555555555555556,
              "#d8576b"
             ],
             [
              0.6666666666666666,
              "#ed7953"
             ],
             [
              0.7777777777777778,
              "#fb9f3a"
             ],
             [
              0.8888888888888888,
              "#fdca26"
             ],
             [
              1,
              "#f0f921"
             ]
            ],
            "type": "heatmapgl"
           }
          ],
          "histogram": [
           {
            "marker": {
             "pattern": {
              "fillmode": "overlay",
              "size": 10,
              "solidity": 0.2
             }
            },
            "type": "histogram"
           }
          ],
          "histogram2d": [
           {
            "colorbar": {
             "outlinewidth": 0,
             "ticks": ""
            },
            "colorscale": [
             [
              0,
              "#0d0887"
             ],
             [
              0.1111111111111111,
              "#46039f"
             ],
             [
              0.2222222222222222,
              "#7201a8"
             ],
             [
              0.3333333333333333,
              "#9c179e"
             ],
             [
              0.4444444444444444,
              "#bd3786"
             ],
             [
              0.5555555555555556,
              "#d8576b"
             ],
             [
              0.6666666666666666,
              "#ed7953"
             ],
             [
              0.7777777777777778,
              "#fb9f3a"
             ],
             [
              0.8888888888888888,
              "#fdca26"
             ],
             [
              1,
              "#f0f921"
             ]
            ],
            "type": "histogram2d"
           }
          ],
          "histogram2dcontour": [
           {
            "colorbar": {
             "outlinewidth": 0,
             "ticks": ""
            },
            "colorscale": [
             [
              0,
              "#0d0887"
             ],
             [
              0.1111111111111111,
              "#46039f"
             ],
             [
              0.2222222222222222,
              "#7201a8"
             ],
             [
              0.3333333333333333,
              "#9c179e"
             ],
             [
              0.4444444444444444,
              "#bd3786"
             ],
             [
              0.5555555555555556,
              "#d8576b"
             ],
             [
              0.6666666666666666,
              "#ed7953"
             ],
             [
              0.7777777777777778,
              "#fb9f3a"
             ],
             [
              0.8888888888888888,
              "#fdca26"
             ],
             [
              1,
              "#f0f921"
             ]
            ],
            "type": "histogram2dcontour"
           }
          ],
          "mesh3d": [
           {
            "colorbar": {
             "outlinewidth": 0,
             "ticks": ""
            },
            "type": "mesh3d"
           }
          ],
          "parcoords": [
           {
            "line": {
             "colorbar": {
              "outlinewidth": 0,
              "ticks": ""
             }
            },
            "type": "parcoords"
           }
          ],
          "pie": [
           {
            "automargin": true,
            "type": "pie"
           }
          ],
          "scatter": [
           {
            "fillpattern": {
             "fillmode": "overlay",
             "size": 10,
             "solidity": 0.2
            },
            "type": "scatter"
           }
          ],
          "scatter3d": [
           {
            "line": {
             "colorbar": {
              "outlinewidth": 0,
              "ticks": ""
             }
            },
            "marker": {
             "colorbar": {
              "outlinewidth": 0,
              "ticks": ""
             }
            },
            "type": "scatter3d"
           }
          ],
          "scattercarpet": [
           {
            "marker": {
             "colorbar": {
              "outlinewidth": 0,
              "ticks": ""
             }
            },
            "type": "scattercarpet"
           }
          ],
          "scattergeo": [
           {
            "marker": {
             "colorbar": {
              "outlinewidth": 0,
              "ticks": ""
             }
            },
            "type": "scattergeo"
           }
          ],
          "scattergl": [
           {
            "marker": {
             "colorbar": {
              "outlinewidth": 0,
              "ticks": ""
             }
            },
            "type": "scattergl"
           }
          ],
          "scattermapbox": [
           {
            "marker": {
             "colorbar": {
              "outlinewidth": 0,
              "ticks": ""
             }
            },
            "type": "scattermapbox"
           }
          ],
          "scatterpolar": [
           {
            "marker": {
             "colorbar": {
              "outlinewidth": 0,
              "ticks": ""
             }
            },
            "type": "scatterpolar"
           }
          ],
          "scatterpolargl": [
           {
            "marker": {
             "colorbar": {
              "outlinewidth": 0,
              "ticks": ""
             }
            },
            "type": "scatterpolargl"
           }
          ],
          "scatterternary": [
           {
            "marker": {
             "colorbar": {
              "outlinewidth": 0,
              "ticks": ""
             }
            },
            "type": "scatterternary"
           }
          ],
          "surface": [
           {
            "colorbar": {
             "outlinewidth": 0,
             "ticks": ""
            },
            "colorscale": [
             [
              0,
              "#0d0887"
             ],
             [
              0.1111111111111111,
              "#46039f"
             ],
             [
              0.2222222222222222,
              "#7201a8"
             ],
             [
              0.3333333333333333,
              "#9c179e"
             ],
             [
              0.4444444444444444,
              "#bd3786"
             ],
             [
              0.5555555555555556,
              "#d8576b"
             ],
             [
              0.6666666666666666,
              "#ed7953"
             ],
             [
              0.7777777777777778,
              "#fb9f3a"
             ],
             [
              0.8888888888888888,
              "#fdca26"
             ],
             [
              1,
              "#f0f921"
             ]
            ],
            "type": "surface"
           }
          ],
          "table": [
           {
            "cells": {
             "fill": {
              "color": "#EBF0F8"
             },
             "line": {
              "color": "white"
             }
            },
            "header": {
             "fill": {
              "color": "#C8D4E3"
             },
             "line": {
              "color": "white"
             }
            },
            "type": "table"
           }
          ]
         },
         "layout": {
          "annotationdefaults": {
           "arrowcolor": "#2a3f5f",
           "arrowhead": 0,
           "arrowwidth": 1
          },
          "autotypenumbers": "strict",
          "coloraxis": {
           "colorbar": {
            "outlinewidth": 0,
            "ticks": ""
           }
          },
          "colorscale": {
           "diverging": [
            [
             0,
             "#8e0152"
            ],
            [
             0.1,
             "#c51b7d"
            ],
            [
             0.2,
             "#de77ae"
            ],
            [
             0.3,
             "#f1b6da"
            ],
            [
             0.4,
             "#fde0ef"
            ],
            [
             0.5,
             "#f7f7f7"
            ],
            [
             0.6,
             "#e6f5d0"
            ],
            [
             0.7,
             "#b8e186"
            ],
            [
             0.8,
             "#7fbc41"
            ],
            [
             0.9,
             "#4d9221"
            ],
            [
             1,
             "#276419"
            ]
           ],
           "sequential": [
            [
             0,
             "#0d0887"
            ],
            [
             0.1111111111111111,
             "#46039f"
            ],
            [
             0.2222222222222222,
             "#7201a8"
            ],
            [
             0.3333333333333333,
             "#9c179e"
            ],
            [
             0.4444444444444444,
             "#bd3786"
            ],
            [
             0.5555555555555556,
             "#d8576b"
            ],
            [
             0.6666666666666666,
             "#ed7953"
            ],
            [
             0.7777777777777778,
             "#fb9f3a"
            ],
            [
             0.8888888888888888,
             "#fdca26"
            ],
            [
             1,
             "#f0f921"
            ]
           ],
           "sequentialminus": [
            [
             0,
             "#0d0887"
            ],
            [
             0.1111111111111111,
             "#46039f"
            ],
            [
             0.2222222222222222,
             "#7201a8"
            ],
            [
             0.3333333333333333,
             "#9c179e"
            ],
            [
             0.4444444444444444,
             "#bd3786"
            ],
            [
             0.5555555555555556,
             "#d8576b"
            ],
            [
             0.6666666666666666,
             "#ed7953"
            ],
            [
             0.7777777777777778,
             "#fb9f3a"
            ],
            [
             0.8888888888888888,
             "#fdca26"
            ],
            [
             1,
             "#f0f921"
            ]
           ]
          },
          "colorway": [
           "#636efa",
           "#EF553B",
           "#00cc96",
           "#ab63fa",
           "#FFA15A",
           "#19d3f3",
           "#FF6692",
           "#B6E880",
           "#FF97FF",
           "#FECB52"
          ],
          "font": {
           "color": "#2a3f5f"
          },
          "geo": {
           "bgcolor": "white",
           "lakecolor": "white",
           "landcolor": "#E5ECF6",
           "showlakes": true,
           "showland": true,
           "subunitcolor": "white"
          },
          "hoverlabel": {
           "align": "left"
          },
          "hovermode": "closest",
          "mapbox": {
           "style": "light"
          },
          "paper_bgcolor": "white",
          "plot_bgcolor": "#E5ECF6",
          "polar": {
           "angularaxis": {
            "gridcolor": "white",
            "linecolor": "white",
            "ticks": ""
           },
           "bgcolor": "#E5ECF6",
           "radialaxis": {
            "gridcolor": "white",
            "linecolor": "white",
            "ticks": ""
           }
          },
          "scene": {
           "xaxis": {
            "backgroundcolor": "#E5ECF6",
            "gridcolor": "white",
            "gridwidth": 2,
            "linecolor": "white",
            "showbackground": true,
            "ticks": "",
            "zerolinecolor": "white"
           },
           "yaxis": {
            "backgroundcolor": "#E5ECF6",
            "gridcolor": "white",
            "gridwidth": 2,
            "linecolor": "white",
            "showbackground": true,
            "ticks": "",
            "zerolinecolor": "white"
           },
           "zaxis": {
            "backgroundcolor": "#E5ECF6",
            "gridcolor": "white",
            "gridwidth": 2,
            "linecolor": "white",
            "showbackground": true,
            "ticks": "",
            "zerolinecolor": "white"
           }
          },
          "shapedefaults": {
           "line": {
            "color": "#2a3f5f"
           }
          },
          "ternary": {
           "aaxis": {
            "gridcolor": "white",
            "linecolor": "white",
            "ticks": ""
           },
           "baxis": {
            "gridcolor": "white",
            "linecolor": "white",
            "ticks": ""
           },
           "bgcolor": "#E5ECF6",
           "caxis": {
            "gridcolor": "white",
            "linecolor": "white",
            "ticks": ""
           }
          },
          "title": {
           "x": 0.05
          },
          "xaxis": {
           "automargin": true,
           "gridcolor": "white",
           "linecolor": "white",
           "ticks": "",
           "title": {
            "standoff": 15
           },
           "zerolinecolor": "white",
           "zerolinewidth": 2
          },
          "yaxis": {
           "automargin": true,
           "gridcolor": "white",
           "linecolor": "white",
           "ticks": "",
           "title": {
            "standoff": 15
           },
           "zerolinecolor": "white",
           "zerolinewidth": 2
          }
         }
        },
        "xaxis": {
         "anchor": "y",
         "domain": [
          0,
          1
         ],
         "title": {
          "text": "Country"
         }
        },
        "yaxis": {
         "anchor": "x",
         "domain": [
          0,
          1
         ],
         "title": {
          "text": "TotalAmount"
         }
        }
       }
      }
     },
     "metadata": {},
     "output_type": "display_data"
    }
   ],
   "source": [
    "px.bar(data_frame=prop,x='Country',y='TotalAmount')"
   ]
  },
  {
   "cell_type": "code",
   "execution_count": 74,
   "metadata": {},
   "outputs": [
    {
     "data": {
      "application/vnd.plotly.v1+json": {
       "config": {
        "plotlyServerURL": "https://plot.ly"
       },
       "data": [
        {
         "domain": {
          "x": [
           0,
           1
          ],
          "y": [
           0,
           1
          ]
         },
         "hovertemplate": "Country=%{label}<br>TotalAmount=%{value}<extra></extra>",
         "labels": [
          "USA",
          "Germany",
          "Austria",
          "Brazil",
          "France",
          "Venezuela",
          "Sweden",
          "UK",
          "Canada",
          "Ireland",
          "Denmark",
          "Belgium",
          "Switzerland",
          "Mexico",
          "Finland",
          "Spain",
          "Italy",
          "Portugal",
          "Argentina",
          "Norway",
          "Poland"
         ],
         "legendgroup": "",
         "name": "",
         "showlegend": true,
         "type": "pie",
         "values": [
          860856.27,
          776131.96,
          492686.7,
          294433.59,
          261737.31,
          179496.88999999998,
          174999.55,
          171228.89,
          161234,
          156949.88,
          118828.5,
          117037.96,
          92442.02,
          70401.1,
          58352.05,
          51273.630000000005,
          40471.15,
          35222.95,
          22774.9,
          19125.9,
          8624.65
         ]
        }
       ],
       "layout": {
        "legend": {
         "tracegroupgap": 0
        },
        "margin": {
         "t": 60
        },
        "template": {
         "data": {
          "bar": [
           {
            "error_x": {
             "color": "#2a3f5f"
            },
            "error_y": {
             "color": "#2a3f5f"
            },
            "marker": {
             "line": {
              "color": "#E5ECF6",
              "width": 0.5
             },
             "pattern": {
              "fillmode": "overlay",
              "size": 10,
              "solidity": 0.2
             }
            },
            "type": "bar"
           }
          ],
          "barpolar": [
           {
            "marker": {
             "line": {
              "color": "#E5ECF6",
              "width": 0.5
             },
             "pattern": {
              "fillmode": "overlay",
              "size": 10,
              "solidity": 0.2
             }
            },
            "type": "barpolar"
           }
          ],
          "carpet": [
           {
            "aaxis": {
             "endlinecolor": "#2a3f5f",
             "gridcolor": "white",
             "linecolor": "white",
             "minorgridcolor": "white",
             "startlinecolor": "#2a3f5f"
            },
            "baxis": {
             "endlinecolor": "#2a3f5f",
             "gridcolor": "white",
             "linecolor": "white",
             "minorgridcolor": "white",
             "startlinecolor": "#2a3f5f"
            },
            "type": "carpet"
           }
          ],
          "choropleth": [
           {
            "colorbar": {
             "outlinewidth": 0,
             "ticks": ""
            },
            "type": "choropleth"
           }
          ],
          "contour": [
           {
            "colorbar": {
             "outlinewidth": 0,
             "ticks": ""
            },
            "colorscale": [
             [
              0,
              "#0d0887"
             ],
             [
              0.1111111111111111,
              "#46039f"
             ],
             [
              0.2222222222222222,
              "#7201a8"
             ],
             [
              0.3333333333333333,
              "#9c179e"
             ],
             [
              0.4444444444444444,
              "#bd3786"
             ],
             [
              0.5555555555555556,
              "#d8576b"
             ],
             [
              0.6666666666666666,
              "#ed7953"
             ],
             [
              0.7777777777777778,
              "#fb9f3a"
             ],
             [
              0.8888888888888888,
              "#fdca26"
             ],
             [
              1,
              "#f0f921"
             ]
            ],
            "type": "contour"
           }
          ],
          "contourcarpet": [
           {
            "colorbar": {
             "outlinewidth": 0,
             "ticks": ""
            },
            "type": "contourcarpet"
           }
          ],
          "heatmap": [
           {
            "colorbar": {
             "outlinewidth": 0,
             "ticks": ""
            },
            "colorscale": [
             [
              0,
              "#0d0887"
             ],
             [
              0.1111111111111111,
              "#46039f"
             ],
             [
              0.2222222222222222,
              "#7201a8"
             ],
             [
              0.3333333333333333,
              "#9c179e"
             ],
             [
              0.4444444444444444,
              "#bd3786"
             ],
             [
              0.5555555555555556,
              "#d8576b"
             ],
             [
              0.6666666666666666,
              "#ed7953"
             ],
             [
              0.7777777777777778,
              "#fb9f3a"
             ],
             [
              0.8888888888888888,
              "#fdca26"
             ],
             [
              1,
              "#f0f921"
             ]
            ],
            "type": "heatmap"
           }
          ],
          "heatmapgl": [
           {
            "colorbar": {
             "outlinewidth": 0,
             "ticks": ""
            },
            "colorscale": [
             [
              0,
              "#0d0887"
             ],
             [
              0.1111111111111111,
              "#46039f"
             ],
             [
              0.2222222222222222,
              "#7201a8"
             ],
             [
              0.3333333333333333,
              "#9c179e"
             ],
             [
              0.4444444444444444,
              "#bd3786"
             ],
             [
              0.5555555555555556,
              "#d8576b"
             ],
             [
              0.6666666666666666,
              "#ed7953"
             ],
             [
              0.7777777777777778,
              "#fb9f3a"
             ],
             [
              0.8888888888888888,
              "#fdca26"
             ],
             [
              1,
              "#f0f921"
             ]
            ],
            "type": "heatmapgl"
           }
          ],
          "histogram": [
           {
            "marker": {
             "pattern": {
              "fillmode": "overlay",
              "size": 10,
              "solidity": 0.2
             }
            },
            "type": "histogram"
           }
          ],
          "histogram2d": [
           {
            "colorbar": {
             "outlinewidth": 0,
             "ticks": ""
            },
            "colorscale": [
             [
              0,
              "#0d0887"
             ],
             [
              0.1111111111111111,
              "#46039f"
             ],
             [
              0.2222222222222222,
              "#7201a8"
             ],
             [
              0.3333333333333333,
              "#9c179e"
             ],
             [
              0.4444444444444444,
              "#bd3786"
             ],
             [
              0.5555555555555556,
              "#d8576b"
             ],
             [
              0.6666666666666666,
              "#ed7953"
             ],
             [
              0.7777777777777778,
              "#fb9f3a"
             ],
             [
              0.8888888888888888,
              "#fdca26"
             ],
             [
              1,
              "#f0f921"
             ]
            ],
            "type": "histogram2d"
           }
          ],
          "histogram2dcontour": [
           {
            "colorbar": {
             "outlinewidth": 0,
             "ticks": ""
            },
            "colorscale": [
             [
              0,
              "#0d0887"
             ],
             [
              0.1111111111111111,
              "#46039f"
             ],
             [
              0.2222222222222222,
              "#7201a8"
             ],
             [
              0.3333333333333333,
              "#9c179e"
             ],
             [
              0.4444444444444444,
              "#bd3786"
             ],
             [
              0.5555555555555556,
              "#d8576b"
             ],
             [
              0.6666666666666666,
              "#ed7953"
             ],
             [
              0.7777777777777778,
              "#fb9f3a"
             ],
             [
              0.8888888888888888,
              "#fdca26"
             ],
             [
              1,
              "#f0f921"
             ]
            ],
            "type": "histogram2dcontour"
           }
          ],
          "mesh3d": [
           {
            "colorbar": {
             "outlinewidth": 0,
             "ticks": ""
            },
            "type": "mesh3d"
           }
          ],
          "parcoords": [
           {
            "line": {
             "colorbar": {
              "outlinewidth": 0,
              "ticks": ""
             }
            },
            "type": "parcoords"
           }
          ],
          "pie": [
           {
            "automargin": true,
            "type": "pie"
           }
          ],
          "scatter": [
           {
            "fillpattern": {
             "fillmode": "overlay",
             "size": 10,
             "solidity": 0.2
            },
            "type": "scatter"
           }
          ],
          "scatter3d": [
           {
            "line": {
             "colorbar": {
              "outlinewidth": 0,
              "ticks": ""
             }
            },
            "marker": {
             "colorbar": {
              "outlinewidth": 0,
              "ticks": ""
             }
            },
            "type": "scatter3d"
           }
          ],
          "scattercarpet": [
           {
            "marker": {
             "colorbar": {
              "outlinewidth": 0,
              "ticks": ""
             }
            },
            "type": "scattercarpet"
           }
          ],
          "scattergeo": [
           {
            "marker": {
             "colorbar": {
              "outlinewidth": 0,
              "ticks": ""
             }
            },
            "type": "scattergeo"
           }
          ],
          "scattergl": [
           {
            "marker": {
             "colorbar": {
              "outlinewidth": 0,
              "ticks": ""
             }
            },
            "type": "scattergl"
           }
          ],
          "scattermapbox": [
           {
            "marker": {
             "colorbar": {
              "outlinewidth": 0,
              "ticks": ""
             }
            },
            "type": "scattermapbox"
           }
          ],
          "scatterpolar": [
           {
            "marker": {
             "colorbar": {
              "outlinewidth": 0,
              "ticks": ""
             }
            },
            "type": "scatterpolar"
           }
          ],
          "scatterpolargl": [
           {
            "marker": {
             "colorbar": {
              "outlinewidth": 0,
              "ticks": ""
             }
            },
            "type": "scatterpolargl"
           }
          ],
          "scatterternary": [
           {
            "marker": {
             "colorbar": {
              "outlinewidth": 0,
              "ticks": ""
             }
            },
            "type": "scatterternary"
           }
          ],
          "surface": [
           {
            "colorbar": {
             "outlinewidth": 0,
             "ticks": ""
            },
            "colorscale": [
             [
              0,
              "#0d0887"
             ],
             [
              0.1111111111111111,
              "#46039f"
             ],
             [
              0.2222222222222222,
              "#7201a8"
             ],
             [
              0.3333333333333333,
              "#9c179e"
             ],
             [
              0.4444444444444444,
              "#bd3786"
             ],
             [
              0.5555555555555556,
              "#d8576b"
             ],
             [
              0.6666666666666666,
              "#ed7953"
             ],
             [
              0.7777777777777778,
              "#fb9f3a"
             ],
             [
              0.8888888888888888,
              "#fdca26"
             ],
             [
              1,
              "#f0f921"
             ]
            ],
            "type": "surface"
           }
          ],
          "table": [
           {
            "cells": {
             "fill": {
              "color": "#EBF0F8"
             },
             "line": {
              "color": "white"
             }
            },
            "header": {
             "fill": {
              "color": "#C8D4E3"
             },
             "line": {
              "color": "white"
             }
            },
            "type": "table"
           }
          ]
         },
         "layout": {
          "annotationdefaults": {
           "arrowcolor": "#2a3f5f",
           "arrowhead": 0,
           "arrowwidth": 1
          },
          "autotypenumbers": "strict",
          "coloraxis": {
           "colorbar": {
            "outlinewidth": 0,
            "ticks": ""
           }
          },
          "colorscale": {
           "diverging": [
            [
             0,
             "#8e0152"
            ],
            [
             0.1,
             "#c51b7d"
            ],
            [
             0.2,
             "#de77ae"
            ],
            [
             0.3,
             "#f1b6da"
            ],
            [
             0.4,
             "#fde0ef"
            ],
            [
             0.5,
             "#f7f7f7"
            ],
            [
             0.6,
             "#e6f5d0"
            ],
            [
             0.7,
             "#b8e186"
            ],
            [
             0.8,
             "#7fbc41"
            ],
            [
             0.9,
             "#4d9221"
            ],
            [
             1,
             "#276419"
            ]
           ],
           "sequential": [
            [
             0,
             "#0d0887"
            ],
            [
             0.1111111111111111,
             "#46039f"
            ],
            [
             0.2222222222222222,
             "#7201a8"
            ],
            [
             0.3333333333333333,
             "#9c179e"
            ],
            [
             0.4444444444444444,
             "#bd3786"
            ],
            [
             0.5555555555555556,
             "#d8576b"
            ],
            [
             0.6666666666666666,
             "#ed7953"
            ],
            [
             0.7777777777777778,
             "#fb9f3a"
            ],
            [
             0.8888888888888888,
             "#fdca26"
            ],
            [
             1,
             "#f0f921"
            ]
           ],
           "sequentialminus": [
            [
             0,
             "#0d0887"
            ],
            [
             0.1111111111111111,
             "#46039f"
            ],
            [
             0.2222222222222222,
             "#7201a8"
            ],
            [
             0.3333333333333333,
             "#9c179e"
            ],
            [
             0.4444444444444444,
             "#bd3786"
            ],
            [
             0.5555555555555556,
             "#d8576b"
            ],
            [
             0.6666666666666666,
             "#ed7953"
            ],
            [
             0.7777777777777778,
             "#fb9f3a"
            ],
            [
             0.8888888888888888,
             "#fdca26"
            ],
            [
             1,
             "#f0f921"
            ]
           ]
          },
          "colorway": [
           "#636efa",
           "#EF553B",
           "#00cc96",
           "#ab63fa",
           "#FFA15A",
           "#19d3f3",
           "#FF6692",
           "#B6E880",
           "#FF97FF",
           "#FECB52"
          ],
          "font": {
           "color": "#2a3f5f"
          },
          "geo": {
           "bgcolor": "white",
           "lakecolor": "white",
           "landcolor": "#E5ECF6",
           "showlakes": true,
           "showland": true,
           "subunitcolor": "white"
          },
          "hoverlabel": {
           "align": "left"
          },
          "hovermode": "closest",
          "mapbox": {
           "style": "light"
          },
          "paper_bgcolor": "white",
          "plot_bgcolor": "#E5ECF6",
          "polar": {
           "angularaxis": {
            "gridcolor": "white",
            "linecolor": "white",
            "ticks": ""
           },
           "bgcolor": "#E5ECF6",
           "radialaxis": {
            "gridcolor": "white",
            "linecolor": "white",
            "ticks": ""
           }
          },
          "scene": {
           "xaxis": {
            "backgroundcolor": "#E5ECF6",
            "gridcolor": "white",
            "gridwidth": 2,
            "linecolor": "white",
            "showbackground": true,
            "ticks": "",
            "zerolinecolor": "white"
           },
           "yaxis": {
            "backgroundcolor": "#E5ECF6",
            "gridcolor": "white",
            "gridwidth": 2,
            "linecolor": "white",
            "showbackground": true,
            "ticks": "",
            "zerolinecolor": "white"
           },
           "zaxis": {
            "backgroundcolor": "#E5ECF6",
            "gridcolor": "white",
            "gridwidth": 2,
            "linecolor": "white",
            "showbackground": true,
            "ticks": "",
            "zerolinecolor": "white"
           }
          },
          "shapedefaults": {
           "line": {
            "color": "#2a3f5f"
           }
          },
          "ternary": {
           "aaxis": {
            "gridcolor": "white",
            "linecolor": "white",
            "ticks": ""
           },
           "baxis": {
            "gridcolor": "white",
            "linecolor": "white",
            "ticks": ""
           },
           "bgcolor": "#E5ECF6",
           "caxis": {
            "gridcolor": "white",
            "linecolor": "white",
            "ticks": ""
           }
          },
          "title": {
           "x": 0.05
          },
          "xaxis": {
           "automargin": true,
           "gridcolor": "white",
           "linecolor": "white",
           "ticks": "",
           "title": {
            "standoff": 15
           },
           "zerolinecolor": "white",
           "zerolinewidth": 2
          },
          "yaxis": {
           "automargin": true,
           "gridcolor": "white",
           "linecolor": "white",
           "ticks": "",
           "title": {
            "standoff": 15
           },
           "zerolinecolor": "white",
           "zerolinewidth": 2
          }
         }
        }
       }
      }
     },
     "metadata": {},
     "output_type": "display_data"
    }
   ],
   "source": [
    "px.pie(data_frame=prop,names='Country',values='TotalAmount')"
   ]
  },
  {
   "cell_type": "markdown",
   "metadata": {},
   "source": [
    "OrderDate vs TotalAmount"
   ]
  },
  {
   "cell_type": "code",
   "execution_count": 75,
   "metadata": {},
   "outputs": [],
   "source": [
    "datet=order[['OrderDate','TotalAmount']]\n",
    "datet=datet.set_index('OrderDate')"
   ]
  },
  {
   "cell_type": "code",
   "execution_count": 76,
   "metadata": {},
   "outputs": [
    {
     "data": {
      "application/vnd.plotly.v1+json": {
       "config": {
        "plotlyServerURL": "https://plot.ly"
       },
       "data": [
        {
         "hovertemplate": "variable=TotalAmount<br>OrderDate=%{x}<br>value=%{y}<extra></extra>",
         "legendgroup": "TotalAmount",
         "line": {
          "color": "#636efa",
          "dash": "solid"
         },
         "marker": {
          "symbol": "circle"
         },
         "mode": "lines",
         "name": "TotalAmount",
         "showlegend": true,
         "type": "scattergl",
         "x": [
          "2012-07-04T00:00:00",
          "2012-07-04T00:00:00",
          "2012-07-04T00:00:00",
          "2012-07-05T00:00:00",
          "2012-07-05T00:00:00",
          "2012-07-08T00:00:00",
          "2012-07-08T00:00:00",
          "2012-07-08T00:00:00",
          "2012-07-08T00:00:00",
          "2012-07-08T00:00:00",
          "2012-07-08T00:00:00",
          "2012-07-09T00:00:00",
          "2012-07-09T00:00:00",
          "2012-07-09T00:00:00",
          "2012-07-10T00:00:00",
          "2012-07-10T00:00:00",
          "2012-07-10T00:00:00",
          "2012-07-11T00:00:00",
          "2012-07-11T00:00:00",
          "2012-07-11T00:00:00",
          "2012-07-12T00:00:00",
          "2012-07-12T00:00:00",
          "2012-07-12T00:00:00",
          "2012-07-12T00:00:00",
          "2012-07-15T00:00:00",
          "2012-07-15T00:00:00",
          "2012-07-16T00:00:00",
          "2012-07-16T00:00:00",
          "2012-07-16T00:00:00",
          "2012-07-17T00:00:00",
          "2012-07-17T00:00:00",
          "2012-07-17T00:00:00",
          "2012-07-18T00:00:00",
          "2012-07-18T00:00:00",
          "2012-07-19T00:00:00",
          "2012-07-19T00:00:00",
          "2012-07-19T00:00:00",
          "2012-07-19T00:00:00",
          "2012-07-19T00:00:00",
          "2012-07-19T00:00:00",
          "2012-07-22T00:00:00",
          "2012-07-22T00:00:00",
          "2012-07-22T00:00:00",
          "2012-07-23T00:00:00",
          "2012-07-23T00:00:00",
          "2012-07-23T00:00:00",
          "2012-07-23T00:00:00",
          "2012-07-24T00:00:00",
          "2012-07-24T00:00:00",
          "2012-07-25T00:00:00",
          "2012-07-25T00:00:00",
          "2012-07-26T00:00:00",
          "2012-07-29T00:00:00",
          "2012-07-29T00:00:00",
          "2012-07-29T00:00:00",
          "2012-07-30T00:00:00",
          "2012-07-30T00:00:00",
          "2012-07-31T00:00:00",
          "2012-07-31T00:00:00",
          "2012-08-01T00:00:00",
          "2012-08-01T00:00:00",
          "2012-08-01T00:00:00",
          "2012-08-02T00:00:00",
          "2012-08-02T00:00:00",
          "2012-08-02T00:00:00",
          "2012-08-05T00:00:00",
          "2012-08-05T00:00:00",
          "2012-08-05T00:00:00",
          "2012-08-05T00:00:00",
          "2012-08-05T00:00:00",
          "2012-08-06T00:00:00",
          "2012-08-06T00:00:00",
          "2012-08-07T00:00:00",
          "2012-08-07T00:00:00",
          "2012-08-08T00:00:00",
          "2012-08-08T00:00:00",
          "2012-08-09T00:00:00",
          "2012-08-09T00:00:00",
          "2012-08-12T00:00:00",
          "2012-08-12T00:00:00",
          "2012-08-12T00:00:00",
          "2012-08-12T00:00:00",
          "2012-08-13T00:00:00",
          "2012-08-14T00:00:00",
          "2012-08-14T00:00:00",
          "2012-08-14T00:00:00",
          "2012-08-14T00:00:00",
          "2012-08-14T00:00:00",
          "2012-08-14T00:00:00",
          "2012-08-15T00:00:00",
          "2012-08-15T00:00:00",
          "2012-08-16T00:00:00",
          "2012-08-16T00:00:00",
          "2012-08-16T00:00:00",
          "2012-08-16T00:00:00",
          "2012-08-19T00:00:00",
          "2012-08-19T00:00:00",
          "2012-08-19T00:00:00",
          "2012-08-19T00:00:00",
          "2012-08-20T00:00:00",
          "2012-08-20T00:00:00",
          "2012-08-20T00:00:00",
          "2012-08-21T00:00:00",
          "2012-08-21T00:00:00",
          "2012-08-22T00:00:00",
          "2012-08-22T00:00:00",
          "2012-08-22T00:00:00",
          "2012-08-23T00:00:00",
          "2012-08-23T00:00:00",
          "2012-08-26T00:00:00",
          "2012-08-26T00:00:00",
          "2012-08-27T00:00:00",
          "2012-08-27T00:00:00",
          "2012-08-27T00:00:00",
          "2012-08-27T00:00:00",
          "2012-08-27T00:00:00",
          "2012-08-27T00:00:00",
          "2012-08-27T00:00:00",
          "2012-08-28T00:00:00",
          "2012-08-29T00:00:00",
          "2012-08-29T00:00:00",
          "2012-08-29T00:00:00",
          "2012-08-29T00:00:00",
          "2012-08-30T00:00:00",
          "2012-08-30T00:00:00",
          "2012-08-30T00:00:00",
          "2012-08-30T00:00:00",
          "2012-08-30T00:00:00",
          "2012-09-02T00:00:00",
          "2012-09-03T00:00:00",
          "2012-09-03T00:00:00",
          "2012-09-03T00:00:00",
          "2012-09-04T00:00:00",
          "2012-09-04T00:00:00",
          "2012-09-05T00:00:00",
          "2012-09-05T00:00:00",
          "2012-09-05T00:00:00",
          "2012-09-05T00:00:00",
          "2012-09-06T00:00:00",
          "2012-09-06T00:00:00",
          "2012-09-09T00:00:00",
          "2012-09-09T00:00:00",
          "2012-09-09T00:00:00",
          "2012-09-09T00:00:00",
          "2012-09-10T00:00:00",
          "2012-09-10T00:00:00",
          "2012-09-10T00:00:00",
          "2012-09-11T00:00:00",
          "2012-09-11T00:00:00",
          "2012-09-11T00:00:00",
          "2012-09-12T00:00:00",
          "2012-09-12T00:00:00",
          "2012-09-12T00:00:00",
          "2012-09-13T00:00:00",
          "2012-09-13T00:00:00",
          "2012-09-13T00:00:00",
          "2012-09-16T00:00:00",
          "2012-09-16T00:00:00",
          "2012-09-16T00:00:00",
          "2012-09-17T00:00:00",
          "2012-09-17T00:00:00",
          "2012-09-18T00:00:00",
          "2012-09-18T00:00:00",
          "2012-09-19T00:00:00",
          "2012-09-19T00:00:00",
          "2012-09-19T00:00:00",
          "2012-09-19T00:00:00",
          "2012-09-19T00:00:00",
          "2012-09-20T00:00:00",
          "2012-09-20T00:00:00",
          "2012-09-20T00:00:00",
          "2012-09-20T00:00:00",
          "2012-09-23T00:00:00",
          "2012-09-23T00:00:00",
          "2012-09-23T00:00:00",
          "2012-09-23T00:00:00",
          "2012-09-24T00:00:00",
          "2012-09-25T00:00:00",
          "2012-09-25T00:00:00",
          "2012-09-25T00:00:00",
          "2012-09-26T00:00:00",
          "2012-09-26T00:00:00",
          "2012-09-27T00:00:00",
          "2012-09-27T00:00:00",
          "2012-09-30T00:00:00",
          "2012-10-01T00:00:00",
          "2012-10-01T00:00:00",
          "2012-10-02T00:00:00",
          "2012-10-02T00:00:00",
          "2012-10-02T00:00:00",
          "2012-10-03T00:00:00",
          "2012-10-03T00:00:00",
          "2012-10-04T00:00:00",
          "2012-10-07T00:00:00",
          "2012-10-07T00:00:00",
          "2012-10-07T00:00:00",
          "2012-10-08T00:00:00",
          "2012-10-08T00:00:00",
          "2012-10-08T00:00:00",
          "2012-10-08T00:00:00",
          "2012-10-08T00:00:00",
          "2012-10-09T00:00:00",
          "2012-10-09T00:00:00",
          "2012-10-09T00:00:00",
          "2012-10-09T00:00:00",
          "2012-10-09T00:00:00",
          "2012-10-10T00:00:00",
          "2012-10-10T00:00:00",
          "2012-10-10T00:00:00",
          "2012-10-11T00:00:00",
          "2012-10-11T00:00:00",
          "2012-10-11T00:00:00",
          "2012-10-11T00:00:00",
          "2012-10-14T00:00:00",
          "2012-10-14T00:00:00",
          "2012-10-14T00:00:00",
          "2012-10-15T00:00:00",
          "2012-10-15T00:00:00",
          "2012-10-15T00:00:00",
          "2012-10-15T00:00:00",
          "2012-10-16T00:00:00",
          "2012-10-16T00:00:00",
          "2012-10-16T00:00:00",
          "2012-10-17T00:00:00",
          "2012-10-17T00:00:00",
          "2012-10-17T00:00:00",
          "2012-10-18T00:00:00",
          "2012-10-18T00:00:00",
          "2012-10-18T00:00:00",
          "2012-10-21T00:00:00",
          "2012-10-21T00:00:00",
          "2012-10-22T00:00:00",
          "2012-10-22T00:00:00",
          "2012-10-22T00:00:00",
          "2012-10-22T00:00:00",
          "2012-10-23T00:00:00",
          "2012-10-24T00:00:00",
          "2012-10-24T00:00:00",
          "2012-10-24T00:00:00",
          "2012-10-24T00:00:00",
          "2012-10-24T00:00:00",
          "2012-10-25T00:00:00",
          "2012-10-25T00:00:00",
          "2012-10-28T00:00:00",
          "2012-10-28T00:00:00",
          "2012-10-28T00:00:00",
          "2012-10-29T00:00:00",
          "2012-10-29T00:00:00",
          "2012-10-29T00:00:00",
          "2012-10-29T00:00:00",
          "2012-10-29T00:00:00",
          "2012-10-30T00:00:00",
          "2012-10-30T00:00:00",
          "2012-10-30T00:00:00",
          "2012-10-30T00:00:00",
          "2012-10-31T00:00:00",
          "2012-10-31T00:00:00",
          "2012-10-31T00:00:00",
          "2012-11-01T00:00:00",
          "2012-11-01T00:00:00",
          "2012-11-04T00:00:00",
          "2012-11-04T00:00:00",
          "2012-11-04T00:00:00",
          "2012-11-05T00:00:00",
          "2012-11-05T00:00:00",
          "2012-11-06T00:00:00",
          "2012-11-06T00:00:00",
          "2012-11-06T00:00:00",
          "2012-11-06T00:00:00",
          "2012-11-07T00:00:00",
          "2012-11-07T00:00:00",
          "2012-11-08T00:00:00",
          "2012-11-11T00:00:00",
          "2012-11-11T00:00:00",
          "2012-11-11T00:00:00",
          "2012-11-11T00:00:00",
          "2012-11-11T00:00:00",
          "2012-11-11T00:00:00",
          "2012-11-12T00:00:00",
          "2012-11-12T00:00:00",
          "2012-11-13T00:00:00",
          "2012-11-13T00:00:00",
          "2012-11-14T00:00:00",
          "2012-11-14T00:00:00",
          "2012-11-15T00:00:00",
          "2012-11-15T00:00:00",
          "2012-11-18T00:00:00",
          "2012-11-18T00:00:00",
          "2012-11-18T00:00:00",
          "2012-11-19T00:00:00",
          "2012-11-19T00:00:00",
          "2012-11-19T00:00:00",
          "2012-11-20T00:00:00",
          "2012-11-20T00:00:00",
          "2012-11-20T00:00:00",
          "2012-11-21T00:00:00",
          "2012-11-21T00:00:00",
          "2012-11-21T00:00:00",
          "2012-11-22T00:00:00",
          "2012-11-22T00:00:00",
          "2012-11-22T00:00:00",
          "2012-11-22T00:00:00",
          "2012-11-22T00:00:00",
          "2012-11-22T00:00:00",
          "2012-11-22T00:00:00",
          "2012-11-25T00:00:00",
          "2012-11-25T00:00:00",
          "2012-11-25T00:00:00",
          "2012-11-26T00:00:00",
          "2012-11-26T00:00:00",
          "2012-11-26T00:00:00",
          "2012-11-26T00:00:00",
          "2012-11-26T00:00:00",
          "2012-11-27T00:00:00",
          "2012-11-28T00:00:00",
          "2012-11-28T00:00:00",
          "2012-11-28T00:00:00",
          "2012-11-28T00:00:00",
          "2012-11-28T00:00:00",
          "2012-11-28T00:00:00",
          "2012-11-29T00:00:00",
          "2012-11-29T00:00:00",
          "2012-11-29T00:00:00",
          "2012-11-29T00:00:00",
          "2012-12-02T00:00:00",
          "2012-12-02T00:00:00",
          "2012-12-03T00:00:00",
          "2012-12-03T00:00:00",
          "2012-12-03T00:00:00",
          "2012-12-03T00:00:00",
          "2012-12-04T00:00:00",
          "2012-12-04T00:00:00",
          "2012-12-04T00:00:00",
          "2012-12-04T00:00:00",
          "2012-12-05T00:00:00",
          "2012-12-05T00:00:00",
          "2012-12-05T00:00:00",
          "2012-12-05T00:00:00",
          "2012-12-06T00:00:00",
          "2012-12-06T00:00:00",
          "2012-12-09T00:00:00",
          "2012-12-09T00:00:00",
          "2012-12-09T00:00:00",
          "2012-12-10T00:00:00",
          "2012-12-11T00:00:00",
          "2012-12-11T00:00:00",
          "2012-12-11T00:00:00",
          "2012-12-12T00:00:00",
          "2012-12-12T00:00:00",
          "2012-12-12T00:00:00",
          "2012-12-12T00:00:00",
          "2012-12-12T00:00:00",
          "2012-12-13T00:00:00",
          "2012-12-13T00:00:00",
          "2012-12-13T00:00:00",
          "2012-12-13T00:00:00",
          "2012-12-13T00:00:00",
          "2012-12-16T00:00:00",
          "2012-12-16T00:00:00",
          "2012-12-16T00:00:00",
          "2012-12-16T00:00:00",
          "2012-12-16T00:00:00",
          "2012-12-17T00:00:00",
          "2012-12-17T00:00:00",
          "2012-12-17T00:00:00",
          "2012-12-18T00:00:00",
          "2012-12-18T00:00:00",
          "2012-12-18T00:00:00",
          "2012-12-18T00:00:00",
          "2012-12-18T00:00:00",
          "2012-12-18T00:00:00",
          "2012-12-19T00:00:00",
          "2012-12-19T00:00:00",
          "2012-12-19T00:00:00",
          "2012-12-20T00:00:00",
          "2012-12-20T00:00:00",
          "2012-12-20T00:00:00",
          "2012-12-20T00:00:00",
          "2012-12-23T00:00:00",
          "2012-12-23T00:00:00",
          "2012-12-23T00:00:00",
          "2012-12-23T00:00:00",
          "2012-12-23T00:00:00",
          "2012-12-24T00:00:00",
          "2012-12-25T00:00:00",
          "2012-12-25T00:00:00",
          "2012-12-25T00:00:00",
          "2012-12-25T00:00:00",
          "2012-12-25T00:00:00",
          "2012-12-25T00:00:00",
          "2012-12-25T00:00:00",
          "2012-12-26T00:00:00",
          "2012-12-26T00:00:00",
          "2012-12-26T00:00:00",
          "2012-12-27T00:00:00",
          "2012-12-27T00:00:00",
          "2012-12-27T00:00:00",
          "2012-12-27T00:00:00",
          "2012-12-27T00:00:00",
          "2012-12-30T00:00:00",
          "2012-12-30T00:00:00",
          "2012-12-31T00:00:00",
          "2012-12-31T00:00:00",
          "2012-12-31T00:00:00",
          "2012-12-31T00:00:00",
          "2013-01-01T00:00:00",
          "2013-01-01T00:00:00",
          "2013-01-01T00:00:00",
          "2013-01-01T00:00:00",
          "2013-01-01T00:00:00",
          "2013-01-01T00:00:00",
          "2013-01-01T00:00:00",
          "2013-01-02T00:00:00",
          "2013-01-02T00:00:00",
          "2013-01-03T00:00:00",
          "2013-01-03T00:00:00",
          "2013-01-03T00:00:00",
          "2013-01-03T00:00:00",
          "2013-01-03T00:00:00",
          "2013-01-06T00:00:00",
          "2013-01-07T00:00:00",
          "2013-01-07T00:00:00",
          "2013-01-07T00:00:00",
          "2013-01-07T00:00:00",
          "2013-01-07T00:00:00",
          "2013-01-07T00:00:00",
          "2013-01-07T00:00:00",
          "2013-01-07T00:00:00",
          "2013-01-08T00:00:00",
          "2013-01-08T00:00:00",
          "2013-01-08T00:00:00",
          "2013-01-09T00:00:00",
          "2013-01-09T00:00:00",
          "2013-01-10T00:00:00",
          "2013-01-10T00:00:00",
          "2013-01-10T00:00:00",
          "2013-01-10T00:00:00",
          "2013-01-10T00:00:00",
          "2013-01-13T00:00:00",
          "2013-01-14T00:00:00",
          "2013-01-14T00:00:00",
          "2013-01-14T00:00:00",
          "2013-01-14T00:00:00",
          "2013-01-14T00:00:00",
          "2013-01-15T00:00:00",
          "2013-01-15T00:00:00",
          "2013-01-16T00:00:00",
          "2013-01-16T00:00:00",
          "2013-01-16T00:00:00",
          "2013-01-16T00:00:00",
          "2013-01-16T00:00:00",
          "2013-01-16T00:00:00",
          "2013-01-16T00:00:00",
          "2013-01-17T00:00:00",
          "2013-01-17T00:00:00",
          "2013-01-17T00:00:00",
          "2013-01-17T00:00:00",
          "2013-01-20T00:00:00",
          "2013-01-20T00:00:00",
          "2013-01-21T00:00:00",
          "2013-01-21T00:00:00",
          "2013-01-21T00:00:00",
          "2013-01-21T00:00:00",
          "2013-01-21T00:00:00",
          "2013-01-21T00:00:00",
          "2013-01-21T00:00:00",
          "2013-01-21T00:00:00",
          "2013-01-22T00:00:00",
          "2013-01-23T00:00:00",
          "2013-01-23T00:00:00",
          "2013-01-23T00:00:00",
          "2013-01-23T00:00:00",
          "2013-01-23T00:00:00",
          "2013-01-24T00:00:00",
          "2013-01-24T00:00:00",
          "2013-01-27T00:00:00",
          "2013-01-27T00:00:00",
          "2013-01-27T00:00:00",
          "2013-01-28T00:00:00",
          "2013-01-29T00:00:00",
          "2013-01-29T00:00:00",
          "2013-01-30T00:00:00",
          "2013-01-30T00:00:00",
          "2013-01-30T00:00:00",
          "2013-01-30T00:00:00",
          "2013-01-30T00:00:00",
          "2013-01-30T00:00:00",
          "2013-01-30T00:00:00",
          "2013-01-31T00:00:00",
          "2013-01-31T00:00:00",
          "2013-02-03T00:00:00",
          "2013-02-03T00:00:00",
          "2013-02-03T00:00:00",
          "2013-02-04T00:00:00",
          "2013-02-04T00:00:00",
          "2013-02-04T00:00:00",
          "2013-02-05T00:00:00",
          "2013-02-05T00:00:00",
          "2013-02-05T00:00:00",
          "2013-02-05T00:00:00",
          "2013-02-05T00:00:00",
          "2013-02-06T00:00:00",
          "2013-02-06T00:00:00",
          "2013-02-06T00:00:00",
          "2013-02-07T00:00:00",
          "2013-02-07T00:00:00",
          "2013-02-07T00:00:00",
          "2013-02-07T00:00:00",
          "2013-02-10T00:00:00",
          "2013-02-10T00:00:00",
          "2013-02-10T00:00:00",
          "2013-02-10T00:00:00",
          "2013-02-10T00:00:00",
          "2013-02-11T00:00:00",
          "2013-02-11T00:00:00",
          "2013-02-11T00:00:00",
          "2013-02-12T00:00:00",
          "2013-02-12T00:00:00",
          "2013-02-12T00:00:00",
          "2013-02-12T00:00:00",
          "2013-02-12T00:00:00",
          "2013-02-12T00:00:00",
          "2013-02-13T00:00:00",
          "2013-02-13T00:00:00",
          "2013-02-14T00:00:00",
          "2013-02-14T00:00:00",
          "2013-02-14T00:00:00",
          "2013-02-14T00:00:00",
          "2013-02-14T00:00:00",
          "2013-02-14T00:00:00",
          "2013-02-14T00:00:00",
          "2013-02-17T00:00:00",
          "2013-02-17T00:00:00",
          "2013-02-18T00:00:00",
          "2013-02-18T00:00:00",
          "2013-02-18T00:00:00",
          "2013-02-19T00:00:00",
          "2013-02-19T00:00:00",
          "2013-02-19T00:00:00",
          "2013-02-19T00:00:00",
          "2013-02-19T00:00:00",
          "2013-02-19T00:00:00",
          "2013-02-20T00:00:00",
          "2013-02-20T00:00:00",
          "2013-02-21T00:00:00",
          "2013-02-21T00:00:00",
          "2013-02-21T00:00:00",
          "2013-02-21T00:00:00",
          "2013-02-21T00:00:00",
          "2013-02-24T00:00:00",
          "2013-02-24T00:00:00",
          "2013-02-24T00:00:00",
          "2013-02-24T00:00:00",
          "2013-02-25T00:00:00",
          "2013-02-25T00:00:00",
          "2013-02-25T00:00:00",
          "2013-02-26T00:00:00",
          "2013-02-26T00:00:00",
          "2013-02-26T00:00:00",
          "2013-02-26T00:00:00",
          "2013-02-26T00:00:00",
          "2013-02-27T00:00:00",
          "2013-02-27T00:00:00",
          "2013-02-27T00:00:00",
          "2013-02-28T00:00:00",
          "2013-02-28T00:00:00",
          "2013-02-28T00:00:00",
          "2013-02-28T00:00:00",
          "2013-02-28T00:00:00",
          "2013-03-03T00:00:00",
          "2013-03-03T00:00:00",
          "2013-03-04T00:00:00",
          "2013-03-04T00:00:00",
          "2013-03-04T00:00:00",
          "2013-03-04T00:00:00",
          "2013-03-04T00:00:00",
          "2013-03-04T00:00:00",
          "2013-03-05T00:00:00",
          "2013-03-05T00:00:00",
          "2013-03-05T00:00:00",
          "2013-03-05T00:00:00",
          "2013-03-05T00:00:00",
          "2013-03-06T00:00:00",
          "2013-03-06T00:00:00",
          "2013-03-06T00:00:00",
          "2013-03-06T00:00:00",
          "2013-03-07T00:00:00",
          "2013-03-07T00:00:00",
          "2013-03-10T00:00:00",
          "2013-03-10T00:00:00",
          "2013-03-10T00:00:00",
          "2013-03-11T00:00:00",
          "2013-03-11T00:00:00",
          "2013-03-11T00:00:00",
          "2013-03-11T00:00:00",
          "2013-03-11T00:00:00",
          "2013-03-12T00:00:00",
          "2013-03-12T00:00:00",
          "2013-03-13T00:00:00",
          "2013-03-13T00:00:00",
          "2013-03-13T00:00:00",
          "2013-03-13T00:00:00",
          "2013-03-13T00:00:00",
          "2013-03-13T00:00:00",
          "2013-03-14T00:00:00",
          "2013-03-14T00:00:00",
          "2013-03-14T00:00:00",
          "2013-03-17T00:00:00",
          "2013-03-17T00:00:00",
          "2013-03-17T00:00:00",
          "2013-03-17T00:00:00",
          "2013-03-17T00:00:00",
          "2013-03-18T00:00:00",
          "2013-03-19T00:00:00",
          "2013-03-19T00:00:00",
          "2013-03-19T00:00:00",
          "2013-03-19T00:00:00",
          "2013-03-20T00:00:00",
          "2013-03-20T00:00:00",
          "2013-03-20T00:00:00",
          "2013-03-20T00:00:00",
          "2013-03-21T00:00:00",
          "2013-03-24T00:00:00",
          "2013-03-24T00:00:00",
          "2013-03-24T00:00:00",
          "2013-03-24T00:00:00",
          "2013-03-24T00:00:00",
          "2013-03-25T00:00:00",
          "2013-03-25T00:00:00",
          "2013-03-25T00:00:00",
          "2013-03-25T00:00:00",
          "2013-03-26T00:00:00",
          "2013-03-26T00:00:00",
          "2013-03-26T00:00:00",
          "2013-03-26T00:00:00",
          "2013-03-26T00:00:00",
          "2013-03-26T00:00:00",
          "2013-03-27T00:00:00",
          "2013-03-27T00:00:00",
          "2013-03-28T00:00:00",
          "2013-03-28T00:00:00",
          "2013-03-31T00:00:00",
          "2013-03-31T00:00:00",
          "2013-03-31T00:00:00",
          "2013-03-31T00:00:00",
          "2013-03-31T00:00:00",
          "2013-04-01T00:00:00",
          "2013-04-01T00:00:00",
          "2013-04-02T00:00:00",
          "2013-04-02T00:00:00",
          "2013-04-02T00:00:00",
          "2013-04-02T00:00:00",
          "2013-04-03T00:00:00",
          "2013-04-03T00:00:00",
          "2013-04-03T00:00:00",
          "2013-04-04T00:00:00",
          "2013-04-04T00:00:00",
          "2013-04-04T00:00:00",
          "2013-04-04T00:00:00",
          "2013-04-07T00:00:00",
          "2013-04-07T00:00:00",
          "2013-04-07T00:00:00",
          "2013-04-08T00:00:00",
          "2013-04-08T00:00:00",
          "2013-04-09T00:00:00",
          "2013-04-09T00:00:00",
          "2013-04-09T00:00:00",
          "2013-04-10T00:00:00",
          "2013-04-10T00:00:00",
          "2013-04-10T00:00:00",
          "2013-04-11T00:00:00",
          "2013-04-11T00:00:00",
          "2013-04-11T00:00:00",
          "2013-04-11T00:00:00",
          "2013-04-11T00:00:00",
          "2013-04-11T00:00:00",
          "2013-04-14T00:00:00",
          "2013-04-15T00:00:00",
          "2013-04-15T00:00:00",
          "2013-04-15T00:00:00",
          "2013-04-15T00:00:00",
          "2013-04-16T00:00:00",
          "2013-04-16T00:00:00",
          "2013-04-17T00:00:00",
          "2013-04-18T00:00:00",
          "2013-04-18T00:00:00",
          "2013-04-18T00:00:00",
          "2013-04-18T00:00:00",
          "2013-04-18T00:00:00",
          "2013-04-21T00:00:00",
          "2013-04-21T00:00:00",
          "2013-04-21T00:00:00",
          "2013-04-21T00:00:00",
          "2013-04-22T00:00:00",
          "2013-04-22T00:00:00",
          "2013-04-22T00:00:00",
          "2013-04-22T00:00:00",
          "2013-04-22T00:00:00",
          "2013-04-22T00:00:00",
          "2013-04-22T00:00:00",
          "2013-04-22T00:00:00",
          "2013-04-23T00:00:00",
          "2013-04-23T00:00:00",
          "2013-04-23T00:00:00",
          "2013-04-23T00:00:00",
          "2013-04-23T00:00:00",
          "2013-04-24T00:00:00",
          "2013-04-24T00:00:00",
          "2013-04-24T00:00:00",
          "2013-04-24T00:00:00",
          "2013-04-24T00:00:00",
          "2013-04-24T00:00:00",
          "2013-04-25T00:00:00",
          "2013-04-25T00:00:00",
          "2013-04-25T00:00:00",
          "2013-04-28T00:00:00",
          "2013-04-28T00:00:00",
          "2013-04-28T00:00:00",
          "2013-04-29T00:00:00",
          "2013-04-29T00:00:00",
          "2013-04-29T00:00:00",
          "2013-04-29T00:00:00",
          "2013-04-29T00:00:00",
          "2013-04-30T00:00:00",
          "2013-04-30T00:00:00",
          "2013-04-30T00:00:00",
          "2013-04-30T00:00:00",
          "2013-05-01T00:00:00",
          "2013-05-01T00:00:00",
          "2013-05-01T00:00:00",
          "2013-05-01T00:00:00",
          "2013-05-01T00:00:00",
          "2013-05-01T00:00:00",
          "2013-05-01T00:00:00",
          "2013-05-01T00:00:00",
          "2013-05-02T00:00:00",
          "2013-05-02T00:00:00",
          "2013-05-05T00:00:00",
          "2013-05-05T00:00:00",
          "2013-05-05T00:00:00",
          "2013-05-05T00:00:00",
          "2013-05-05T00:00:00",
          "2013-05-06T00:00:00",
          "2013-05-06T00:00:00",
          "2013-05-06T00:00:00",
          "2013-05-07T00:00:00",
          "2013-05-07T00:00:00",
          "2013-05-07T00:00:00",
          "2013-05-08T00:00:00",
          "2013-05-08T00:00:00",
          "2013-05-08T00:00:00",
          "2013-05-08T00:00:00",
          "2013-05-08T00:00:00",
          "2013-05-09T00:00:00",
          "2013-05-09T00:00:00",
          "2013-05-12T00:00:00",
          "2013-05-12T00:00:00",
          "2013-05-12T00:00:00",
          "2013-05-12T00:00:00",
          "2013-05-12T00:00:00",
          "2013-05-12T00:00:00",
          "2013-05-13T00:00:00",
          "2013-05-13T00:00:00",
          "2013-05-13T00:00:00",
          "2013-05-13T00:00:00",
          "2013-05-14T00:00:00",
          "2013-05-14T00:00:00",
          "2013-05-14T00:00:00",
          "2013-05-14T00:00:00",
          "2013-05-14T00:00:00",
          "2013-05-14T00:00:00",
          "2013-05-14T00:00:00",
          "2013-05-14T00:00:00",
          "2013-05-14T00:00:00",
          "2013-05-15T00:00:00",
          "2013-05-15T00:00:00",
          "2013-05-16T00:00:00",
          "2013-05-16T00:00:00",
          "2013-05-16T00:00:00",
          "2013-05-16T00:00:00",
          "2013-05-19T00:00:00",
          "2013-05-19T00:00:00",
          "2013-05-19T00:00:00",
          "2013-05-19T00:00:00",
          "2013-05-19T00:00:00",
          "2013-05-19T00:00:00",
          "2013-05-19T00:00:00",
          "2013-05-19T00:00:00",
          "2013-05-20T00:00:00",
          "2013-05-20T00:00:00",
          "2013-05-21T00:00:00",
          "2013-05-21T00:00:00",
          "2013-05-21T00:00:00",
          "2013-05-21T00:00:00",
          "2013-05-22T00:00:00",
          "2013-05-23T00:00:00",
          "2013-05-23T00:00:00",
          "2013-05-23T00:00:00",
          "2013-05-23T00:00:00",
          "2013-05-23T00:00:00",
          "2013-05-26T00:00:00",
          "2013-05-26T00:00:00",
          "2013-05-27T00:00:00",
          "2013-05-27T00:00:00",
          "2013-05-27T00:00:00",
          "2013-05-28T00:00:00",
          "2013-05-28T00:00:00",
          "2013-05-28T00:00:00",
          "2013-05-28T00:00:00",
          "2013-05-28T00:00:00",
          "2013-05-28T00:00:00",
          "2013-05-28T00:00:00",
          "2013-05-29T00:00:00",
          "2013-05-29T00:00:00",
          "2013-05-30T00:00:00",
          "2013-05-30T00:00:00",
          "2013-05-30T00:00:00",
          "2013-05-30T00:00:00",
          "2013-05-30T00:00:00",
          "2013-05-30T00:00:00",
          "2013-05-30T00:00:00",
          "2013-05-30T00:00:00",
          "2013-05-30T00:00:00",
          "2013-06-02T00:00:00",
          "2013-06-02T00:00:00",
          "2013-06-02T00:00:00",
          "2013-06-02T00:00:00",
          "2013-06-02T00:00:00",
          "2013-06-03T00:00:00",
          "2013-06-03T00:00:00",
          "2013-06-03T00:00:00",
          "2013-06-04T00:00:00",
          "2013-06-04T00:00:00",
          "2013-06-04T00:00:00",
          "2013-06-04T00:00:00",
          "2013-06-04T00:00:00",
          "2013-06-05T00:00:00",
          "2013-06-05T00:00:00",
          "2013-06-06T00:00:00",
          "2013-06-06T00:00:00",
          "2013-06-06T00:00:00",
          "2013-06-06T00:00:00",
          "2013-06-09T00:00:00",
          "2013-06-09T00:00:00",
          "2013-06-10T00:00:00",
          "2013-06-10T00:00:00",
          "2013-06-10T00:00:00",
          "2013-06-10T00:00:00",
          "2013-06-10T00:00:00",
          "2013-06-11T00:00:00",
          "2013-06-11T00:00:00",
          "2013-06-12T00:00:00",
          "2013-06-12T00:00:00",
          "2013-06-12T00:00:00",
          "2013-06-12T00:00:00",
          "2013-06-12T00:00:00",
          "2013-06-12T00:00:00",
          "2013-06-13T00:00:00",
          "2013-06-16T00:00:00",
          "2013-06-16T00:00:00",
          "2013-06-17T00:00:00",
          "2013-06-17T00:00:00",
          "2013-06-17T00:00:00",
          "2013-06-17T00:00:00",
          "2013-06-18T00:00:00",
          "2013-06-18T00:00:00",
          "2013-06-18T00:00:00",
          "2013-06-18T00:00:00",
          "2013-06-19T00:00:00",
          "2013-06-19T00:00:00",
          "2013-06-19T00:00:00",
          "2013-06-19T00:00:00",
          "2013-06-19T00:00:00",
          "2013-06-19T00:00:00",
          "2013-06-19T00:00:00",
          "2013-06-20T00:00:00",
          "2013-06-20T00:00:00",
          "2013-06-20T00:00:00",
          "2013-06-20T00:00:00",
          "2013-06-23T00:00:00",
          "2013-06-23T00:00:00",
          "2013-06-23T00:00:00",
          "2013-06-23T00:00:00",
          "2013-06-23T00:00:00",
          "2013-06-23T00:00:00",
          "2013-06-24T00:00:00",
          "2013-06-24T00:00:00",
          "2013-06-25T00:00:00",
          "2013-06-25T00:00:00",
          "2013-06-26T00:00:00",
          "2013-06-26T00:00:00",
          "2013-06-26T00:00:00",
          "2013-06-26T00:00:00",
          "2013-06-27T00:00:00",
          "2013-06-27T00:00:00",
          "2013-06-30T00:00:00",
          "2013-06-30T00:00:00",
          "2013-06-30T00:00:00",
          "2013-06-30T00:00:00",
          "2013-07-01T00:00:00",
          "2013-07-02T00:00:00",
          "2013-07-02T00:00:00",
          "2013-07-02T00:00:00",
          "2013-07-02T00:00:00",
          "2013-07-03T00:00:00",
          "2013-07-03T00:00:00",
          "2013-07-04T00:00:00",
          "2013-07-07T00:00:00",
          "2013-07-07T00:00:00",
          "2013-07-07T00:00:00",
          "2013-07-07T00:00:00",
          "2013-07-07T00:00:00",
          "2013-07-08T00:00:00",
          "2013-07-08T00:00:00",
          "2013-07-09T00:00:00",
          "2013-07-09T00:00:00",
          "2013-07-09T00:00:00",
          "2013-07-09T00:00:00",
          "2013-07-09T00:00:00",
          "2013-07-10T00:00:00",
          "2013-07-10T00:00:00",
          "2013-07-10T00:00:00",
          "2013-07-11T00:00:00",
          "2013-07-11T00:00:00",
          "2013-07-11T00:00:00",
          "2013-07-11T00:00:00",
          "2013-07-11T00:00:00",
          "2013-07-11T00:00:00",
          "2013-07-14T00:00:00",
          "2013-07-14T00:00:00",
          "2013-07-15T00:00:00",
          "2013-07-16T00:00:00",
          "2013-07-16T00:00:00",
          "2013-07-16T00:00:00",
          "2013-07-16T00:00:00",
          "2013-07-17T00:00:00",
          "2013-07-18T00:00:00",
          "2013-07-18T00:00:00",
          "2013-07-18T00:00:00",
          "2013-07-18T00:00:00",
          "2013-07-21T00:00:00",
          "2013-07-21T00:00:00",
          "2013-07-21T00:00:00",
          "2013-07-21T00:00:00",
          "2013-07-22T00:00:00",
          "2013-07-22T00:00:00",
          "2013-07-22T00:00:00",
          "2013-07-22T00:00:00",
          "2013-07-22T00:00:00",
          "2013-07-22T00:00:00",
          "2013-07-22T00:00:00",
          "2013-07-22T00:00:00",
          "2013-07-23T00:00:00",
          "2013-07-24T00:00:00",
          "2013-07-24T00:00:00",
          "2013-07-24T00:00:00",
          "2013-07-25T00:00:00",
          "2013-07-25T00:00:00",
          "2013-07-25T00:00:00",
          "2013-07-25T00:00:00",
          "2013-07-28T00:00:00",
          "2013-07-28T00:00:00",
          "2013-07-28T00:00:00",
          "2013-07-28T00:00:00",
          "2013-07-28T00:00:00",
          "2013-07-29T00:00:00",
          "2013-07-29T00:00:00",
          "2013-07-29T00:00:00",
          "2013-07-29T00:00:00",
          "2013-07-29T00:00:00",
          "2013-07-30T00:00:00",
          "2013-07-31T00:00:00",
          "2013-07-31T00:00:00",
          "2013-07-31T00:00:00",
          "2013-07-31T00:00:00",
          "2013-07-31T00:00:00",
          "2013-08-01T00:00:00",
          "2013-08-01T00:00:00",
          "2013-08-01T00:00:00",
          "2013-08-04T00:00:00",
          "2013-08-04T00:00:00",
          "2013-08-05T00:00:00",
          "2013-08-05T00:00:00",
          "2013-08-05T00:00:00",
          "2013-08-05T00:00:00",
          "2013-08-05T00:00:00",
          "2013-08-05T00:00:00",
          "2013-08-06T00:00:00",
          "2013-08-06T00:00:00",
          "2013-08-07T00:00:00",
          "2013-08-07T00:00:00",
          "2013-08-07T00:00:00",
          "2013-08-07T00:00:00",
          "2013-08-07T00:00:00",
          "2013-08-07T00:00:00",
          "2013-08-07T00:00:00",
          "2013-08-07T00:00:00",
          "2013-08-08T00:00:00",
          "2013-08-08T00:00:00",
          "2013-08-08T00:00:00",
          "2013-08-11T00:00:00",
          "2013-08-11T00:00:00",
          "2013-08-11T00:00:00",
          "2013-08-11T00:00:00",
          "2013-08-11T00:00:00",
          "2013-08-12T00:00:00",
          "2013-08-12T00:00:00",
          "2013-08-12T00:00:00",
          "2013-08-13T00:00:00",
          "2013-08-13T00:00:00",
          "2013-08-14T00:00:00",
          "2013-08-14T00:00:00",
          "2013-08-14T00:00:00",
          "2013-08-15T00:00:00",
          "2013-08-15T00:00:00",
          "2013-08-15T00:00:00",
          "2013-08-15T00:00:00",
          "2013-08-15T00:00:00",
          "2013-08-15T00:00:00",
          "2013-08-15T00:00:00",
          "2013-08-15T00:00:00",
          "2013-08-18T00:00:00",
          "2013-08-18T00:00:00",
          "2013-08-18T00:00:00",
          "2013-08-19T00:00:00",
          "2013-08-19T00:00:00",
          "2013-08-19T00:00:00",
          "2013-08-19T00:00:00",
          "2013-08-19T00:00:00",
          "2013-08-20T00:00:00",
          "2013-08-20T00:00:00",
          "2013-08-20T00:00:00",
          "2013-08-20T00:00:00",
          "2013-08-21T00:00:00",
          "2013-08-21T00:00:00",
          "2013-08-22T00:00:00",
          "2013-08-22T00:00:00",
          "2013-08-22T00:00:00",
          "2013-08-22T00:00:00",
          "2013-08-25T00:00:00",
          "2013-08-25T00:00:00",
          "2013-08-25T00:00:00",
          "2013-08-25T00:00:00",
          "2013-08-25T00:00:00",
          "2013-08-25T00:00:00",
          "2013-08-26T00:00:00",
          "2013-08-26T00:00:00",
          "2013-08-27T00:00:00",
          "2013-08-27T00:00:00",
          "2013-08-27T00:00:00",
          "2013-08-27T00:00:00",
          "2013-08-27T00:00:00",
          "2013-08-27T00:00:00",
          "2013-08-28T00:00:00",
          "2013-08-28T00:00:00",
          "2013-08-28T00:00:00",
          "2013-08-28T00:00:00",
          "2013-08-29T00:00:00",
          "2013-08-29T00:00:00",
          "2013-08-29T00:00:00",
          "2013-09-01T00:00:00",
          "2013-09-01T00:00:00",
          "2013-09-01T00:00:00",
          "2013-09-01T00:00:00",
          "2013-09-02T00:00:00",
          "2013-09-02T00:00:00",
          "2013-09-02T00:00:00",
          "2013-09-02T00:00:00",
          "2013-09-02T00:00:00",
          "2013-09-03T00:00:00",
          "2013-09-04T00:00:00",
          "2013-09-04T00:00:00",
          "2013-09-04T00:00:00",
          "2013-09-04T00:00:00",
          "2013-09-04T00:00:00",
          "2013-09-04T00:00:00",
          "2013-09-04T00:00:00",
          "2013-09-04T00:00:00",
          "2013-09-04T00:00:00",
          "2013-09-05T00:00:00",
          "2013-09-05T00:00:00",
          "2013-09-05T00:00:00",
          "2013-09-05T00:00:00",
          "2013-09-05T00:00:00",
          "2013-09-05T00:00:00",
          "2013-09-05T00:00:00",
          "2013-09-08T00:00:00",
          "2013-09-09T00:00:00",
          "2013-09-09T00:00:00",
          "2013-09-09T00:00:00",
          "2013-09-10T00:00:00",
          "2013-09-10T00:00:00",
          "2013-09-10T00:00:00",
          "2013-09-10T00:00:00",
          "2013-09-10T00:00:00",
          "2013-09-10T00:00:00",
          "2013-09-11T00:00:00",
          "2013-09-11T00:00:00",
          "2013-09-11T00:00:00",
          "2013-09-12T00:00:00",
          "2013-09-12T00:00:00",
          "2013-09-12T00:00:00",
          "2013-09-12T00:00:00",
          "2013-09-15T00:00:00",
          "2013-09-15T00:00:00",
          "2013-09-15T00:00:00",
          "2013-09-15T00:00:00",
          "2013-09-16T00:00:00",
          "2013-09-16T00:00:00",
          "2013-09-16T00:00:00",
          "2013-09-16T00:00:00",
          "2013-09-16T00:00:00",
          "2013-09-17T00:00:00",
          "2013-09-17T00:00:00",
          "2013-09-17T00:00:00",
          "2013-09-17T00:00:00",
          "2013-09-17T00:00:00",
          "2013-09-18T00:00:00",
          "2013-09-18T00:00:00",
          "2013-09-18T00:00:00",
          "2013-09-18T00:00:00",
          "2013-09-19T00:00:00",
          "2013-09-19T00:00:00",
          "2013-09-19T00:00:00",
          "2013-09-22T00:00:00",
          "2013-09-22T00:00:00",
          "2013-09-22T00:00:00",
          "2013-09-22T00:00:00",
          "2013-09-22T00:00:00",
          "2013-09-23T00:00:00",
          "2013-09-23T00:00:00",
          "2013-09-23T00:00:00",
          "2013-09-23T00:00:00",
          "2013-09-23T00:00:00",
          "2013-09-24T00:00:00",
          "2013-09-24T00:00:00",
          "2013-09-24T00:00:00",
          "2013-09-25T00:00:00",
          "2013-09-25T00:00:00",
          "2013-09-25T00:00:00",
          "2013-09-25T00:00:00",
          "2013-09-25T00:00:00",
          "2013-09-25T00:00:00",
          "2013-09-26T00:00:00",
          "2013-09-26T00:00:00",
          "2013-09-26T00:00:00",
          "2013-09-26T00:00:00",
          "2013-09-29T00:00:00",
          "2013-09-29T00:00:00",
          "2013-09-29T00:00:00",
          "2013-09-30T00:00:00",
          "2013-09-30T00:00:00",
          "2013-09-30T00:00:00",
          "2013-09-30T00:00:00",
          "2013-09-30T00:00:00",
          "2013-10-01T00:00:00",
          "2013-10-01T00:00:00",
          "2013-10-01T00:00:00",
          "2013-10-01T00:00:00",
          "2013-10-02T00:00:00",
          "2013-10-02T00:00:00",
          "2013-10-03T00:00:00",
          "2013-10-03T00:00:00",
          "2013-10-03T00:00:00",
          "2013-10-03T00:00:00",
          "2013-10-03T00:00:00",
          "2013-10-03T00:00:00",
          "2013-10-06T00:00:00",
          "2013-10-06T00:00:00",
          "2013-10-06T00:00:00",
          "2013-10-06T00:00:00",
          "2013-10-06T00:00:00",
          "2013-10-06T00:00:00",
          "2013-10-06T00:00:00",
          "2013-10-07T00:00:00",
          "2013-10-07T00:00:00",
          "2013-10-07T00:00:00",
          "2013-10-08T00:00:00",
          "2013-10-08T00:00:00",
          "2013-10-08T00:00:00",
          "2013-10-08T00:00:00",
          "2013-10-08T00:00:00",
          "2013-10-08T00:00:00",
          "2013-10-09T00:00:00",
          "2013-10-09T00:00:00",
          "2013-10-09T00:00:00",
          "2013-10-09T00:00:00",
          "2013-10-09T00:00:00",
          "2013-10-09T00:00:00",
          "2013-10-10T00:00:00",
          "2013-10-10T00:00:00",
          "2013-10-10T00:00:00",
          "2013-10-10T00:00:00",
          "2013-10-13T00:00:00",
          "2013-10-13T00:00:00",
          "2013-10-13T00:00:00",
          "2013-10-13T00:00:00",
          "2013-10-13T00:00:00",
          "2013-10-14T00:00:00",
          "2013-10-14T00:00:00",
          "2013-10-14T00:00:00",
          "2013-10-14T00:00:00",
          "2013-10-14T00:00:00",
          "2013-10-14T00:00:00",
          "2013-10-15T00:00:00",
          "2013-10-15T00:00:00",
          "2013-10-16T00:00:00",
          "2013-10-16T00:00:00",
          "2013-10-16T00:00:00",
          "2013-10-16T00:00:00",
          "2013-10-16T00:00:00",
          "2013-10-16T00:00:00",
          "2013-10-17T00:00:00",
          "2013-10-17T00:00:00",
          "2013-10-17T00:00:00",
          "2013-10-17T00:00:00",
          "2013-10-17T00:00:00",
          "2013-10-20T00:00:00",
          "2013-10-20T00:00:00",
          "2013-10-21T00:00:00",
          "2013-10-21T00:00:00",
          "2013-10-21T00:00:00",
          "2013-10-21T00:00:00",
          "2013-10-21T00:00:00",
          "2013-10-22T00:00:00",
          "2013-10-22T00:00:00",
          "2013-10-22T00:00:00",
          "2013-10-22T00:00:00",
          "2013-10-22T00:00:00",
          "2013-10-22T00:00:00",
          "2013-10-22T00:00:00",
          "2013-10-22T00:00:00",
          "2013-10-22T00:00:00",
          "2013-10-23T00:00:00",
          "2013-10-23T00:00:00",
          "2013-10-24T00:00:00",
          "2013-10-24T00:00:00",
          "2013-10-24T00:00:00",
          "2013-10-24T00:00:00",
          "2013-10-24T00:00:00",
          "2013-10-24T00:00:00",
          "2013-10-27T00:00:00",
          "2013-10-27T00:00:00",
          "2013-10-27T00:00:00",
          "2013-10-27T00:00:00",
          "2013-10-27T00:00:00",
          "2013-10-27T00:00:00",
          "2013-10-27T00:00:00",
          "2013-10-28T00:00:00",
          "2013-10-28T00:00:00",
          "2013-10-29T00:00:00",
          "2013-10-29T00:00:00",
          "2013-10-29T00:00:00",
          "2013-10-29T00:00:00",
          "2013-10-29T00:00:00",
          "2013-10-30T00:00:00",
          "2013-10-30T00:00:00",
          "2013-10-30T00:00:00",
          "2013-10-31T00:00:00",
          "2013-10-31T00:00:00",
          "2013-10-31T00:00:00",
          "2013-11-03T00:00:00",
          "2013-11-03T00:00:00",
          "2013-11-03T00:00:00",
          "2013-11-03T00:00:00",
          "2013-11-03T00:00:00",
          "2013-11-04T00:00:00",
          "2013-11-04T00:00:00",
          "2013-11-04T00:00:00",
          "2013-11-04T00:00:00",
          "2013-11-04T00:00:00",
          "2013-11-04T00:00:00",
          "2013-11-04T00:00:00",
          "2013-11-05T00:00:00",
          "2013-11-05T00:00:00",
          "2013-11-05T00:00:00",
          "2013-11-06T00:00:00",
          "2013-11-06T00:00:00",
          "2013-11-06T00:00:00",
          "2013-11-07T00:00:00",
          "2013-11-07T00:00:00",
          "2013-11-07T00:00:00",
          "2013-11-07T00:00:00",
          "2013-11-07T00:00:00",
          "2013-11-07T00:00:00",
          "2013-11-10T00:00:00",
          "2013-11-10T00:00:00",
          "2013-11-11T00:00:00",
          "2013-11-11T00:00:00",
          "2013-11-11T00:00:00",
          "2013-11-11T00:00:00",
          "2013-11-12T00:00:00",
          "2013-11-12T00:00:00",
          "2013-11-12T00:00:00",
          "2013-11-13T00:00:00",
          "2013-11-13T00:00:00",
          "2013-11-13T00:00:00",
          "2013-11-13T00:00:00",
          "2013-11-14T00:00:00",
          "2013-11-14T00:00:00",
          "2013-11-14T00:00:00",
          "2013-11-14T00:00:00",
          "2013-11-17T00:00:00",
          "2013-11-17T00:00:00",
          "2013-11-18T00:00:00",
          "2013-11-18T00:00:00",
          "2013-11-18T00:00:00",
          "2013-11-18T00:00:00",
          "2013-11-19T00:00:00",
          "2013-11-19T00:00:00",
          "2013-11-19T00:00:00",
          "2013-11-19T00:00:00",
          "2013-11-19T00:00:00",
          "2013-11-19T00:00:00",
          "2013-11-19T00:00:00",
          "2013-11-19T00:00:00",
          "2013-11-20T00:00:00",
          "2013-11-20T00:00:00",
          "2013-11-20T00:00:00",
          "2013-11-20T00:00:00",
          "2013-11-20T00:00:00",
          "2013-11-20T00:00:00",
          "2013-11-21T00:00:00",
          "2013-11-21T00:00:00",
          "2013-11-21T00:00:00",
          "2013-11-24T00:00:00",
          "2013-11-24T00:00:00",
          "2013-11-24T00:00:00",
          "2013-11-24T00:00:00",
          "2013-11-24T00:00:00",
          "2013-11-24T00:00:00",
          "2013-11-25T00:00:00",
          "2013-11-25T00:00:00",
          "2013-11-25T00:00:00",
          "2013-11-26T00:00:00",
          "2013-11-26T00:00:00",
          "2013-11-26T00:00:00",
          "2013-11-26T00:00:00",
          "2013-11-27T00:00:00",
          "2013-11-27T00:00:00",
          "2013-11-27T00:00:00",
          "2013-11-27T00:00:00",
          "2013-11-27T00:00:00",
          "2013-11-27T00:00:00",
          "2013-11-27T00:00:00",
          "2013-11-27T00:00:00",
          "2013-11-28T00:00:00",
          "2013-11-28T00:00:00",
          "2013-11-28T00:00:00",
          "2013-11-28T00:00:00",
          "2013-12-01T00:00:00",
          "2013-12-01T00:00:00",
          "2013-12-01T00:00:00",
          "2013-12-02T00:00:00",
          "2013-12-02T00:00:00",
          "2013-12-02T00:00:00",
          "2013-12-02T00:00:00",
          "2013-12-02T00:00:00",
          "2013-12-02T00:00:00",
          "2013-12-03T00:00:00",
          "2013-12-03T00:00:00",
          "2013-12-03T00:00:00",
          "2013-12-03T00:00:00",
          "2013-12-03T00:00:00",
          "2013-12-04T00:00:00",
          "2013-12-05T00:00:00",
          "2013-12-05T00:00:00",
          "2013-12-05T00:00:00",
          "2013-12-05T00:00:00",
          "2013-12-08T00:00:00",
          "2013-12-08T00:00:00",
          "2013-12-08T00:00:00",
          "2013-12-08T00:00:00",
          "2013-12-08T00:00:00",
          "2013-12-08T00:00:00",
          "2013-12-08T00:00:00",
          "2013-12-08T00:00:00",
          "2013-12-09T00:00:00",
          "2013-12-10T00:00:00",
          "2013-12-10T00:00:00",
          "2013-12-10T00:00:00",
          "2013-12-11T00:00:00",
          "2013-12-11T00:00:00",
          "2013-12-11T00:00:00",
          "2013-12-11T00:00:00",
          "2013-12-11T00:00:00",
          "2013-12-12T00:00:00",
          "2013-12-12T00:00:00",
          "2013-12-15T00:00:00",
          "2013-12-15T00:00:00",
          "2013-12-15T00:00:00",
          "2013-12-15T00:00:00",
          "2013-12-15T00:00:00",
          "2013-12-16T00:00:00",
          "2013-12-16T00:00:00",
          "2013-12-16T00:00:00",
          "2013-12-16T00:00:00",
          "2013-12-16T00:00:00",
          "2013-12-17T00:00:00",
          "2013-12-17T00:00:00",
          "2013-12-17T00:00:00",
          "2013-12-17T00:00:00",
          "2013-12-18T00:00:00",
          "2013-12-18T00:00:00",
          "2013-12-18T00:00:00",
          "2013-12-18T00:00:00",
          "2013-12-18T00:00:00",
          "2013-12-18T00:00:00",
          "2013-12-18T00:00:00",
          "2013-12-19T00:00:00",
          "2013-12-19T00:00:00",
          "2013-12-19T00:00:00",
          "2013-12-19T00:00:00",
          "2013-12-19T00:00:00",
          "2013-12-22T00:00:00",
          "2013-12-22T00:00:00",
          "2013-12-22T00:00:00",
          "2013-12-22T00:00:00",
          "2013-12-22T00:00:00",
          "2013-12-22T00:00:00",
          "2013-12-22T00:00:00",
          "2013-12-22T00:00:00",
          "2013-12-23T00:00:00",
          "2013-12-23T00:00:00",
          "2013-12-23T00:00:00",
          "2013-12-23T00:00:00",
          "2013-12-23T00:00:00",
          "2013-12-24T00:00:00",
          "2013-12-24T00:00:00",
          "2013-12-24T00:00:00",
          "2013-12-24T00:00:00",
          "2013-12-24T00:00:00",
          "2013-12-24T00:00:00",
          "2013-12-25T00:00:00",
          "2013-12-25T00:00:00",
          "2013-12-25T00:00:00",
          "2013-12-25T00:00:00",
          "2013-12-25T00:00:00",
          "2013-12-26T00:00:00",
          "2013-12-26T00:00:00",
          "2013-12-26T00:00:00",
          "2013-12-26T00:00:00",
          "2013-12-26T00:00:00",
          "2013-12-26T00:00:00",
          "2013-12-26T00:00:00",
          "2013-12-26T00:00:00",
          "2013-12-29T00:00:00",
          "2013-12-29T00:00:00",
          "2013-12-29T00:00:00",
          "2013-12-29T00:00:00",
          "2013-12-29T00:00:00",
          "2013-12-29T00:00:00",
          "2013-12-30T00:00:00",
          "2013-12-30T00:00:00",
          "2013-12-30T00:00:00",
          "2013-12-30T00:00:00",
          "2013-12-30T00:00:00",
          "2013-12-30T00:00:00",
          "2013-12-30T00:00:00",
          "2013-12-30T00:00:00",
          "2013-12-31T00:00:00",
          "2013-12-31T00:00:00",
          "2013-12-31T00:00:00",
          "2013-12-31T00:00:00",
          "2014-01-01T00:00:00",
          "2014-01-01T00:00:00",
          "2014-01-01T00:00:00",
          "2014-01-01T00:00:00",
          "2014-01-01T00:00:00",
          "2014-01-01T00:00:00",
          "2014-01-02T00:00:00",
          "2014-01-02T00:00:00",
          "2014-01-02T00:00:00",
          "2014-01-02T00:00:00",
          "2014-01-02T00:00:00",
          "2014-01-02T00:00:00",
          "2014-01-05T00:00:00",
          "2014-01-05T00:00:00",
          "2014-01-05T00:00:00",
          "2014-01-05T00:00:00",
          "2014-01-05T00:00:00",
          "2014-01-05T00:00:00",
          "2014-01-05T00:00:00",
          "2014-01-06T00:00:00",
          "2014-01-06T00:00:00",
          "2014-01-06T00:00:00",
          "2014-01-06T00:00:00",
          "2014-01-06T00:00:00",
          "2014-01-06T00:00:00",
          "2014-01-07T00:00:00",
          "2014-01-07T00:00:00",
          "2014-01-07T00:00:00",
          "2014-01-07T00:00:00",
          "2014-01-07T00:00:00",
          "2014-01-08T00:00:00",
          "2014-01-08T00:00:00",
          "2014-01-08T00:00:00",
          "2014-01-08T00:00:00",
          "2014-01-09T00:00:00",
          "2014-01-09T00:00:00",
          "2014-01-09T00:00:00",
          "2014-01-09T00:00:00",
          "2014-01-09T00:00:00",
          "2014-01-09T00:00:00",
          "2014-01-09T00:00:00",
          "2014-01-09T00:00:00",
          "2014-01-12T00:00:00",
          "2014-01-12T00:00:00",
          "2014-01-12T00:00:00",
          "2014-01-12T00:00:00",
          "2014-01-13T00:00:00",
          "2014-01-13T00:00:00",
          "2014-01-13T00:00:00",
          "2014-01-13T00:00:00",
          "2014-01-13T00:00:00",
          "2014-01-13T00:00:00",
          "2014-01-13T00:00:00",
          "2014-01-13T00:00:00",
          "2014-01-13T00:00:00",
          "2014-01-13T00:00:00",
          "2014-01-14T00:00:00",
          "2014-01-14T00:00:00",
          "2014-01-14T00:00:00",
          "2014-01-14T00:00:00",
          "2014-01-14T00:00:00",
          "2014-01-14T00:00:00",
          "2014-01-14T00:00:00",
          "2014-01-14T00:00:00",
          "2014-01-15T00:00:00",
          "2014-01-15T00:00:00",
          "2014-01-15T00:00:00",
          "2014-01-15T00:00:00",
          "2014-01-15T00:00:00",
          "2014-01-15T00:00:00",
          "2014-01-15T00:00:00",
          "2014-01-16T00:00:00",
          "2014-01-16T00:00:00",
          "2014-01-16T00:00:00",
          "2014-01-16T00:00:00",
          "2014-01-16T00:00:00",
          "2014-01-16T00:00:00",
          "2014-01-16T00:00:00",
          "2014-01-16T00:00:00",
          "2014-01-16T00:00:00",
          "2014-01-19T00:00:00",
          "2014-01-19T00:00:00",
          "2014-01-19T00:00:00",
          "2014-01-19T00:00:00",
          "2014-01-19T00:00:00",
          "2014-01-19T00:00:00",
          "2014-01-19T00:00:00",
          "2014-01-20T00:00:00",
          "2014-01-20T00:00:00",
          "2014-01-20T00:00:00",
          "2014-01-20T00:00:00",
          "2014-01-20T00:00:00",
          "2014-01-20T00:00:00",
          "2014-01-20T00:00:00",
          "2014-01-20T00:00:00",
          "2014-01-21T00:00:00",
          "2014-01-21T00:00:00",
          "2014-01-21T00:00:00",
          "2014-01-21T00:00:00",
          "2014-01-21T00:00:00",
          "2014-01-21T00:00:00",
          "2014-01-21T00:00:00",
          "2014-01-22T00:00:00",
          "2014-01-22T00:00:00",
          "2014-01-22T00:00:00",
          "2014-01-22T00:00:00",
          "2014-01-22T00:00:00",
          "2014-01-22T00:00:00",
          "2014-01-22T00:00:00",
          "2014-01-22T00:00:00",
          "2014-01-22T00:00:00",
          "2014-01-23T00:00:00",
          "2014-01-23T00:00:00",
          "2014-01-23T00:00:00",
          "2014-01-23T00:00:00",
          "2014-01-23T00:00:00",
          "2014-01-23T00:00:00",
          "2014-01-23T00:00:00",
          "2014-01-26T00:00:00",
          "2014-01-26T00:00:00",
          "2014-01-26T00:00:00",
          "2014-01-26T00:00:00",
          "2014-01-26T00:00:00",
          "2014-01-26T00:00:00",
          "2014-01-26T00:00:00",
          "2014-01-27T00:00:00",
          "2014-01-27T00:00:00",
          "2014-01-27T00:00:00",
          "2014-01-27T00:00:00",
          "2014-01-27T00:00:00",
          "2014-01-27T00:00:00",
          "2014-01-27T00:00:00",
          "2014-01-28T00:00:00",
          "2014-01-28T00:00:00",
          "2014-01-28T00:00:00",
          "2014-01-28T00:00:00",
          "2014-01-28T00:00:00",
          "2014-01-29T00:00:00",
          "2014-01-29T00:00:00",
          "2014-01-29T00:00:00",
          "2014-01-29T00:00:00",
          "2014-01-29T00:00:00",
          "2014-01-29T00:00:00",
          "2014-01-29T00:00:00",
          "2014-01-29T00:00:00",
          "2014-01-30T00:00:00",
          "2014-01-30T00:00:00",
          "2014-01-30T00:00:00",
          "2014-01-30T00:00:00",
          "2014-01-30T00:00:00",
          "2014-01-30T00:00:00",
          "2014-01-30T00:00:00",
          "2014-02-02T00:00:00",
          "2014-02-02T00:00:00",
          "2014-02-02T00:00:00",
          "2014-02-02T00:00:00",
          "2014-02-03T00:00:00",
          "2014-02-03T00:00:00",
          "2014-02-03T00:00:00",
          "2014-02-03T00:00:00",
          "2014-02-04T00:00:00",
          "2014-02-04T00:00:00",
          "2014-02-04T00:00:00",
          "2014-02-04T00:00:00",
          "2014-02-04T00:00:00",
          "2014-02-04T00:00:00",
          "2014-02-04T00:00:00",
          "2014-02-04T00:00:00",
          "2014-02-04T00:00:00",
          "2014-02-05T00:00:00",
          "2014-02-05T00:00:00",
          "2014-02-05T00:00:00",
          "2014-02-05T00:00:00",
          "2014-02-05T00:00:00",
          "2014-02-05T00:00:00",
          "2014-02-05T00:00:00",
          "2014-02-06T00:00:00",
          "2014-02-06T00:00:00",
          "2014-02-06T00:00:00",
          "2014-02-06T00:00:00",
          "2014-02-06T00:00:00",
          "2014-02-06T00:00:00",
          "2014-02-09T00:00:00",
          "2014-02-09T00:00:00",
          "2014-02-09T00:00:00",
          "2014-02-09T00:00:00",
          "2014-02-10T00:00:00",
          "2014-02-10T00:00:00",
          "2014-02-10T00:00:00",
          "2014-02-10T00:00:00",
          "2014-02-10T00:00:00",
          "2014-02-10T00:00:00",
          "2014-02-10T00:00:00",
          "2014-02-11T00:00:00",
          "2014-02-11T00:00:00",
          "2014-02-11T00:00:00",
          "2014-02-11T00:00:00",
          "2014-02-12T00:00:00",
          "2014-02-12T00:00:00",
          "2014-02-12T00:00:00",
          "2014-02-12T00:00:00",
          "2014-02-12T00:00:00",
          "2014-02-12T00:00:00",
          "2014-02-12T00:00:00",
          "2014-02-12T00:00:00",
          "2014-02-13T00:00:00",
          "2014-02-13T00:00:00",
          "2014-02-13T00:00:00",
          "2014-02-13T00:00:00",
          "2014-02-16T00:00:00",
          "2014-02-16T00:00:00",
          "2014-02-16T00:00:00",
          "2014-02-16T00:00:00",
          "2014-02-16T00:00:00",
          "2014-02-16T00:00:00",
          "2014-02-16T00:00:00",
          "2014-02-17T00:00:00",
          "2014-02-17T00:00:00",
          "2014-02-18T00:00:00",
          "2014-02-18T00:00:00",
          "2014-02-18T00:00:00",
          "2014-02-18T00:00:00",
          "2014-02-18T00:00:00",
          "2014-02-18T00:00:00",
          "2014-02-18T00:00:00",
          "2014-02-18T00:00:00",
          "2014-02-18T00:00:00",
          "2014-02-18T00:00:00",
          "2014-02-18T00:00:00",
          "2014-02-18T00:00:00",
          "2014-02-19T00:00:00",
          "2014-02-19T00:00:00",
          "2014-02-19T00:00:00",
          "2014-02-19T00:00:00",
          "2014-02-20T00:00:00",
          "2014-02-20T00:00:00",
          "2014-02-20T00:00:00",
          "2014-02-23T00:00:00",
          "2014-02-23T00:00:00",
          "2014-02-23T00:00:00",
          "2014-02-23T00:00:00",
          "2014-02-24T00:00:00",
          "2014-02-24T00:00:00",
          "2014-02-24T00:00:00",
          "2014-02-24T00:00:00",
          "2014-02-24T00:00:00",
          "2014-02-24T00:00:00",
          "2014-02-25T00:00:00",
          "2014-02-25T00:00:00",
          "2014-02-26T00:00:00",
          "2014-02-26T00:00:00",
          "2014-02-26T00:00:00",
          "2014-02-26T00:00:00",
          "2014-02-26T00:00:00",
          "2014-02-26T00:00:00",
          "2014-02-26T00:00:00",
          "2014-02-26T00:00:00",
          "2014-02-26T00:00:00",
          "2014-02-26T00:00:00",
          "2014-02-26T00:00:00",
          "2014-02-26T00:00:00",
          "2014-02-26T00:00:00",
          "2014-02-26T00:00:00",
          "2014-02-26T00:00:00",
          "2014-02-26T00:00:00",
          "2014-02-27T00:00:00",
          "2014-02-27T00:00:00",
          "2014-02-27T00:00:00",
          "2014-02-27T00:00:00",
          "2014-02-27T00:00:00",
          "2014-02-27T00:00:00",
          "2014-02-27T00:00:00",
          "2014-03-02T00:00:00",
          "2014-03-02T00:00:00",
          "2014-03-02T00:00:00",
          "2014-03-02T00:00:00",
          "2014-03-02T00:00:00",
          "2014-03-02T00:00:00",
          "2014-03-02T00:00:00",
          "2014-03-03T00:00:00",
          "2014-03-03T00:00:00",
          "2014-03-03T00:00:00",
          "2014-03-03T00:00:00",
          "2014-03-03T00:00:00",
          "2014-03-03T00:00:00",
          "2014-03-03T00:00:00",
          "2014-03-03T00:00:00",
          "2014-03-04T00:00:00",
          "2014-03-04T00:00:00",
          "2014-03-04T00:00:00",
          "2014-03-04T00:00:00",
          "2014-03-04T00:00:00",
          "2014-03-04T00:00:00",
          "2014-03-04T00:00:00",
          "2014-03-04T00:00:00",
          "2014-03-04T00:00:00",
          "2014-03-05T00:00:00",
          "2014-03-05T00:00:00",
          "2014-03-05T00:00:00",
          "2014-03-05T00:00:00",
          "2014-03-05T00:00:00",
          "2014-03-05T00:00:00",
          "2014-03-05T00:00:00",
          "2014-03-05T00:00:00",
          "2014-03-06T00:00:00",
          "2014-03-06T00:00:00",
          "2014-03-06T00:00:00",
          "2014-03-06T00:00:00",
          "2014-03-06T00:00:00",
          "2014-03-06T00:00:00",
          "2014-03-06T00:00:00",
          "2014-03-06T00:00:00",
          "2014-03-06T00:00:00",
          "2014-03-06T00:00:00",
          "2014-03-06T00:00:00",
          "2014-03-06T00:00:00",
          "2014-03-09T00:00:00",
          "2014-03-09T00:00:00",
          "2014-03-09T00:00:00",
          "2014-03-09T00:00:00",
          "2014-03-09T00:00:00",
          "2014-03-10T00:00:00",
          "2014-03-10T00:00:00",
          "2014-03-10T00:00:00",
          "2014-03-10T00:00:00",
          "2014-03-10T00:00:00",
          "2014-03-10T00:00:00",
          "2014-03-10T00:00:00",
          "2014-03-10T00:00:00",
          "2014-03-11T00:00:00",
          "2014-03-11T00:00:00",
          "2014-03-11T00:00:00",
          "2014-03-11T00:00:00",
          "2014-03-11T00:00:00",
          "2014-03-11T00:00:00",
          "2014-03-11T00:00:00",
          "2014-03-11T00:00:00",
          "2014-03-11T00:00:00",
          "2014-03-11T00:00:00",
          "2014-03-12T00:00:00",
          "2014-03-12T00:00:00",
          "2014-03-12T00:00:00",
          "2014-03-12T00:00:00",
          "2014-03-12T00:00:00",
          "2014-03-12T00:00:00",
          "2014-03-12T00:00:00",
          "2014-03-12T00:00:00",
          "2014-03-13T00:00:00",
          "2014-03-13T00:00:00",
          "2014-03-13T00:00:00",
          "2014-03-13T00:00:00",
          "2014-03-13T00:00:00",
          "2014-03-13T00:00:00",
          "2014-03-13T00:00:00",
          "2014-03-13T00:00:00",
          "2014-03-16T00:00:00",
          "2014-03-16T00:00:00",
          "2014-03-16T00:00:00",
          "2014-03-16T00:00:00",
          "2014-03-16T00:00:00",
          "2014-03-16T00:00:00",
          "2014-03-16T00:00:00",
          "2014-03-16T00:00:00",
          "2014-03-17T00:00:00",
          "2014-03-17T00:00:00",
          "2014-03-17T00:00:00",
          "2014-03-17T00:00:00",
          "2014-03-17T00:00:00",
          "2014-03-17T00:00:00",
          "2014-03-17T00:00:00",
          "2014-03-17T00:00:00",
          "2014-03-18T00:00:00",
          "2014-03-18T00:00:00",
          "2014-03-18T00:00:00",
          "2014-03-18T00:00:00",
          "2014-03-18T00:00:00",
          "2014-03-18T00:00:00",
          "2014-03-18T00:00:00",
          "2014-03-19T00:00:00",
          "2014-03-19T00:00:00",
          "2014-03-19T00:00:00",
          "2014-03-19T00:00:00",
          "2014-03-19T00:00:00",
          "2014-03-19T00:00:00",
          "2014-03-19T00:00:00",
          "2014-03-19T00:00:00",
          "2014-03-19T00:00:00",
          "2014-03-19T00:00:00",
          "2014-03-20T00:00:00",
          "2014-03-20T00:00:00",
          "2014-03-20T00:00:00",
          "2014-03-20T00:00:00",
          "2014-03-20T00:00:00",
          "2014-03-20T00:00:00",
          "2014-03-20T00:00:00",
          "2014-03-23T00:00:00",
          "2014-03-23T00:00:00",
          "2014-03-23T00:00:00",
          "2014-03-23T00:00:00",
          "2014-03-23T00:00:00",
          "2014-03-23T00:00:00",
          "2014-03-24T00:00:00",
          "2014-03-24T00:00:00",
          "2014-03-24T00:00:00",
          "2014-03-24T00:00:00",
          "2014-03-24T00:00:00",
          "2014-03-24T00:00:00",
          "2014-03-24T00:00:00",
          "2014-03-25T00:00:00",
          "2014-03-25T00:00:00",
          "2014-03-25T00:00:00",
          "2014-03-25T00:00:00",
          "2014-03-26T00:00:00",
          "2014-03-26T00:00:00",
          "2014-03-26T00:00:00",
          "2014-03-26T00:00:00",
          "2014-03-26T00:00:00",
          "2014-03-26T00:00:00",
          "2014-03-26T00:00:00",
          "2014-03-26T00:00:00",
          "2014-03-26T00:00:00",
          "2014-03-26T00:00:00",
          "2014-03-26T00:00:00",
          "2014-03-26T00:00:00",
          "2014-03-26T00:00:00",
          "2014-03-26T00:00:00",
          "2014-03-27T00:00:00",
          "2014-03-27T00:00:00",
          "2014-03-27T00:00:00",
          "2014-03-27T00:00:00",
          "2014-03-27T00:00:00",
          "2014-03-30T00:00:00",
          "2014-03-30T00:00:00",
          "2014-03-30T00:00:00",
          "2014-03-30T00:00:00",
          "2014-03-30T00:00:00",
          "2014-03-30T00:00:00",
          "2014-03-30T00:00:00",
          "2014-03-30T00:00:00",
          "2014-03-30T00:00:00",
          "2014-03-30T00:00:00",
          "2014-03-31T00:00:00",
          "2014-03-31T00:00:00",
          "2014-03-31T00:00:00",
          "2014-03-31T00:00:00",
          "2014-03-31T00:00:00",
          "2014-03-31T00:00:00",
          "2014-03-31T00:00:00",
          "2014-03-31T00:00:00",
          "2014-04-01T00:00:00",
          "2014-04-01T00:00:00",
          "2014-04-01T00:00:00",
          "2014-04-01T00:00:00",
          "2014-04-01T00:00:00",
          "2014-04-01T00:00:00",
          "2014-04-01T00:00:00",
          "2014-04-01T00:00:00",
          "2014-04-01T00:00:00",
          "2014-04-01T00:00:00",
          "2014-04-02T00:00:00",
          "2014-04-02T00:00:00",
          "2014-04-02T00:00:00",
          "2014-04-02T00:00:00",
          "2014-04-03T00:00:00",
          "2014-04-03T00:00:00",
          "2014-04-03T00:00:00",
          "2014-04-03T00:00:00",
          "2014-04-03T00:00:00",
          "2014-04-03T00:00:00",
          "2014-04-03T00:00:00",
          "2014-04-03T00:00:00",
          "2014-04-03T00:00:00",
          "2014-04-03T00:00:00",
          "2014-04-06T00:00:00",
          "2014-04-06T00:00:00",
          "2014-04-06T00:00:00",
          "2014-04-06T00:00:00",
          "2014-04-06T00:00:00",
          "2014-04-06T00:00:00",
          "2014-04-06T00:00:00",
          "2014-04-06T00:00:00",
          "2014-04-06T00:00:00",
          "2014-04-06T00:00:00",
          "2014-04-06T00:00:00",
          "2014-04-06T00:00:00",
          "2014-04-06T00:00:00",
          "2014-04-06T00:00:00",
          "2014-04-07T00:00:00",
          "2014-04-07T00:00:00",
          "2014-04-07T00:00:00",
          "2014-04-07T00:00:00",
          "2014-04-07T00:00:00",
          "2014-04-07T00:00:00",
          "2014-04-08T00:00:00",
          "2014-04-08T00:00:00",
          "2014-04-08T00:00:00",
          "2014-04-08T00:00:00",
          "2014-04-08T00:00:00",
          "2014-04-08T00:00:00",
          "2014-04-08T00:00:00",
          "2014-04-08T00:00:00",
          "2014-04-08T00:00:00",
          "2014-04-09T00:00:00",
          "2014-04-09T00:00:00",
          "2014-04-09T00:00:00",
          "2014-04-09T00:00:00",
          "2014-04-09T00:00:00",
          "2014-04-09T00:00:00",
          "2014-04-09T00:00:00",
          "2014-04-09T00:00:00",
          "2014-04-09T00:00:00",
          "2014-04-09T00:00:00",
          "2014-04-09T00:00:00",
          "2014-04-10T00:00:00",
          "2014-04-10T00:00:00",
          "2014-04-10T00:00:00",
          "2014-04-10T00:00:00",
          "2014-04-10T00:00:00",
          "2014-04-13T00:00:00",
          "2014-04-13T00:00:00",
          "2014-04-13T00:00:00",
          "2014-04-13T00:00:00",
          "2014-04-13T00:00:00",
          "2014-04-13T00:00:00",
          "2014-04-13T00:00:00",
          "2014-04-13T00:00:00",
          "2014-04-14T00:00:00",
          "2014-04-14T00:00:00",
          "2014-04-14T00:00:00",
          "2014-04-14T00:00:00",
          "2014-04-14T00:00:00",
          "2014-04-14T00:00:00",
          "2014-04-14T00:00:00",
          "2014-04-14T00:00:00",
          "2014-04-14T00:00:00",
          "2014-04-14T00:00:00",
          "2014-04-15T00:00:00",
          "2014-04-15T00:00:00",
          "2014-04-15T00:00:00",
          "2014-04-15T00:00:00",
          "2014-04-15T00:00:00",
          "2014-04-15T00:00:00",
          "2014-04-15T00:00:00",
          "2014-04-15T00:00:00",
          "2014-04-16T00:00:00",
          "2014-04-16T00:00:00",
          "2014-04-16T00:00:00",
          "2014-04-16T00:00:00",
          "2014-04-16T00:00:00",
          "2014-04-16T00:00:00",
          "2014-04-17T00:00:00",
          "2014-04-17T00:00:00",
          "2014-04-17T00:00:00",
          "2014-04-17T00:00:00",
          "2014-04-17T00:00:00",
          "2014-04-17T00:00:00",
          "2014-04-17T00:00:00",
          "2014-04-17T00:00:00",
          "2014-04-17T00:00:00",
          "2014-04-17T00:00:00",
          "2014-04-20T00:00:00",
          "2014-04-20T00:00:00",
          "2014-04-20T00:00:00",
          "2014-04-20T00:00:00",
          "2014-04-20T00:00:00",
          "2014-04-20T00:00:00",
          "2014-04-20T00:00:00",
          "2014-04-20T00:00:00",
          "2014-04-20T00:00:00",
          "2014-04-21T00:00:00",
          "2014-04-21T00:00:00",
          "2014-04-21T00:00:00",
          "2014-04-21T00:00:00",
          "2014-04-21T00:00:00",
          "2014-04-21T00:00:00",
          "2014-04-21T00:00:00",
          "2014-04-21T00:00:00",
          "2014-04-22T00:00:00",
          "2014-04-22T00:00:00",
          "2014-04-22T00:00:00",
          "2014-04-22T00:00:00",
          "2014-04-22T00:00:00",
          "2014-04-22T00:00:00",
          "2014-04-23T00:00:00",
          "2014-04-23T00:00:00",
          "2014-04-23T00:00:00",
          "2014-04-23T00:00:00",
          "2014-04-23T00:00:00",
          "2014-04-23T00:00:00",
          "2014-04-24T00:00:00",
          "2014-04-24T00:00:00",
          "2014-04-24T00:00:00",
          "2014-04-24T00:00:00",
          "2014-04-24T00:00:00",
          "2014-04-27T00:00:00",
          "2014-04-27T00:00:00",
          "2014-04-27T00:00:00",
          "2014-04-27T00:00:00",
          "2014-04-27T00:00:00",
          "2014-04-27T00:00:00",
          "2014-04-27T00:00:00",
          "2014-04-28T00:00:00",
          "2014-04-28T00:00:00",
          "2014-04-28T00:00:00",
          "2014-04-28T00:00:00",
          "2014-04-28T00:00:00",
          "2014-04-28T00:00:00",
          "2014-04-28T00:00:00",
          "2014-04-28T00:00:00",
          "2014-04-28T00:00:00",
          "2014-04-29T00:00:00",
          "2014-04-29T00:00:00",
          "2014-04-29T00:00:00",
          "2014-04-29T00:00:00",
          "2014-04-29T00:00:00",
          "2014-04-29T00:00:00",
          "2014-04-29T00:00:00",
          "2014-04-30T00:00:00",
          "2014-04-30T00:00:00",
          "2014-04-30T00:00:00",
          "2014-04-30T00:00:00",
          "2014-04-30T00:00:00",
          "2014-04-30T00:00:00",
          "2014-04-30T00:00:00",
          "2014-04-30T00:00:00",
          "2014-05-01T00:00:00",
          "2014-05-01T00:00:00",
          "2014-05-01T00:00:00",
          "2014-05-01T00:00:00",
          "2014-05-01T00:00:00",
          "2014-05-01T00:00:00",
          "2014-05-01T00:00:00",
          "2014-05-01T00:00:00",
          "2014-05-01T00:00:00",
          "2014-05-01T00:00:00",
          "2014-05-04T00:00:00",
          "2014-05-04T00:00:00",
          "2014-05-04T00:00:00",
          "2014-05-04T00:00:00",
          "2014-05-04T00:00:00",
          "2014-05-05T00:00:00",
          "2014-05-05T00:00:00",
          "2014-05-05T00:00:00",
          "2014-05-05T00:00:00",
          "2014-05-05T00:00:00",
          "2014-05-05T00:00:00",
          "2014-05-05T00:00:00",
          "2014-05-05T00:00:00",
          "2014-05-05T00:00:00",
          "2014-05-05T00:00:00",
          "2014-05-05T00:00:00",
          "2014-05-05T00:00:00",
          "2014-05-06T00:00:00",
          "2014-05-06T00:00:00",
          "2014-05-06T00:00:00",
          "2014-05-06T00:00:00",
          "2014-05-06T00:00:00",
          "2014-05-06T00:00:00",
          "2014-05-06T00:00:00",
          "2014-05-06T00:00:00",
          "2014-05-06T00:00:00",
          "2014-05-06T00:00:00",
          "2014-05-06T00:00:00",
          "2014-05-06T00:00:00",
          "2014-05-06T00:00:00",
          "2014-05-06T00:00:00",
          "2014-05-06T00:00:00",
          "2014-05-06T00:00:00",
          "2014-05-06T00:00:00",
          "2014-05-06T00:00:00",
          "2014-05-06T00:00:00",
          "2014-05-06T00:00:00",
          "2014-05-06T00:00:00",
          "2014-05-06T00:00:00",
          "2014-05-06T00:00:00",
          "2014-05-06T00:00:00",
          "2014-05-06T00:00:00",
          "2014-05-06T00:00:00",
          "2014-05-06T00:00:00",
          "2014-05-06T00:00:00",
          "2014-05-06T00:00:00",
          "2014-05-06T00:00:00",
          "2014-05-06T00:00:00",
          "2014-05-06T00:00:00"
         ],
         "xaxis": "x",
         "y": [
          440,
          440,
          440,
          1863.4,
          1863.4,
          1813,
          1813,
          1813,
          670.8,
          670.8,
          670.8,
          3730,
          3730,
          3730,
          1444.8,
          1444.8,
          1444.8,
          625.2,
          625.2,
          625.2,
          2490.5,
          2490.5,
          2490.5,
          2490.5,
          517.8,
          517.8,
          1119.9,
          1119.9,
          1119.9,
          2018.6,
          2018.6,
          2018.6,
          100.8,
          100.8,
          1746.2,
          1746.2,
          1746.2,
          1746.2,
          448,
          448,
          624.8,
          624.8,
          624.8,
          2464.8,
          2464.8,
          2464.8,
          2464.8,
          724.5,
          724.5,
          1176,
          1176,
          364.8,
          4031,
          4031,
          4031,
          1101.2,
          1101.2,
          676,
          676,
          1376,
          1376,
          48,
          1456,
          1456,
          1456,
          2142.4,
          2142.4,
          2142.4,
          2142.4,
          2142.4,
          538.6,
          538.6,
          307.2,
          307.2,
          420,
          420,
          1200.8,
          1200.8,
          1488.8,
          1488.8,
          1488.8,
          1488.8,
          468,
          613.2,
          613.2,
          613.2,
          86.5,
          86.5,
          86.5,
          155.4,
          155.4,
          1414.8,
          1414.8,
          1414.8,
          1414.8,
          1452,
          1452,
          1452,
          1452,
          2179.2,
          2179.2,
          2179.2,
          3016,
          3016,
          924,
          924,
          924,
          89,
          89,
          479.4,
          479.4,
          2169,
          2169,
          2169,
          2169,
          552.8,
          552.8,
          552.8,
          1296,
          848.7,
          848.7,
          848.7,
          848.7,
          1887.6,
          1887.6,
          1887.6,
          1887.6,
          1887.6,
          121.6,
          1050.6,
          1050.6,
          1050.6,
          1420,
          1420,
          3127,
          3127,
          3127,
          3127,
          349.5,
          349.5,
          608,
          608,
          755,
          755,
          2708.8,
          2708.8,
          2708.8,
          1242,
          1242,
          1242,
          954.4,
          954.4,
          954.4,
          4157,
          4157,
          4157,
          498.5,
          498.5,
          498.5,
          424,
          424,
          88.8,
          88.8,
          1762,
          1762,
          1762,
          1762,
          1762,
          336,
          336,
          268.8,
          268.8,
          1614.8,
          1614.8,
          1614.8,
          1614.8,
          182.4,
          2327,
          2327,
          2327,
          516.8,
          516.8,
          2835,
          2835,
          288,
          240.4,
          240.4,
          1191.2,
          1191.2,
          1191.2,
          516,
          144,
          112,
          164.4,
          164.4,
          164.4,
          6155.9,
          6155.9,
          6155.9,
          6155.9,
          6155.9,
          1497,
          1497,
          1497,
          1497,
          1497,
          982,
          982,
          982,
          2262.5,
          2262.5,
          2262.5,
          2262.5,
          1168,
          1168,
          1168,
          4819.4,
          4819.4,
          4819.4,
          4819.4,
          1940,
          1940,
          88.5,
          2233.6,
          2233.6,
          2233.6,
          954,
          954,
          954,
          144.8,
          144.8,
          2545.2,
          2545.2,
          2545.2,
          2545.2,
          316.8,
          2467,
          2467,
          2467,
          2467,
          2467,
          934.5,
          934.5,
          3463.2,
          3463.2,
          3463.2,
          2564.4,
          2564.4,
          2564.4,
          412,
          412,
          2300.8,
          2300.8,
          2300.8,
          2300.8,
          1586,
          1586,
          1586,
          2856,
          2856,
          2924.8,
          2924.8,
          2924.8,
          1731.2,
          1731.2,
          928,
          928,
          928,
          928,
          396,
          396,
          141.6,
          713.4,
          713.4,
          5677.6,
          5677.6,
          5677.6,
          5677.6,
          154,
          154,
          10741.6,
          10741.6,
          568.8,
          568.8,
          480,
          480,
          1106.4,
          1106.4,
          1106.4,
          1360,
          1360,
          1360,
          452,
          452,
          452,
          3654.4,
          3654.4,
          3654.4,
          7390.2,
          7390.2,
          7390.2,
          7390.2,
          7390.2,
          2273.6,
          2273.6,
          1549.6,
          1549.6,
          1549.6,
          447.2,
          447.2,
          447.2,
          950,
          950,
          403.2,
          136,
          136,
          834.2,
          834.2,
          834.2,
          834.2,
          1834.2,
          1834.2,
          1834.2,
          1834.2,
          2527.2,
          2527.2,
          1174,
          1174,
          1174,
          91.2,
          12281.2,
          12281.2,
          12281.2,
          12281.2,
          1708,
          1708,
          459,
          459,
          338,
          338,
          420,
          1016,
          1016,
          103.2,
          959.2,
          959.2,
          959.2,
          1419.8,
          1419.8,
          1419.8,
          1419.8,
          112,
          2900,
          2900,
          2900,
          2900,
          2900,
          899,
          899,
          899,
          2222.4,
          2222.4,
          864,
          864,
          864,
          166,
          166,
          1058.4,
          1058.4,
          1058.4,
          1058.4,
          1274,
          1274,
          1274,
          1832.8,
          1832.8,
          1832.8,
          1832.8,
          2275.2,
          2275.2,
          2275.2,
          2275.2,
          86.4,
          1440,
          3302.6,
          3302.6,
          3302.6,
          3302.6,
          3302.6,
          442,
          442,
          2333.2,
          2333.2,
          2333.2,
          1903.8,
          1903.8,
          1903.8,
          843.2,
          843.2,
          2736,
          2736,
          1765.6,
          1765.6,
          1765.6,
          1765.6,
          3063,
          3063,
          3063,
          3868.6,
          3868.6,
          3868.6,
          3868.6,
          2713.5,
          2713.5,
          1005.9,
          1005.9,
          1675,
          1675,
          1675,
          400,
          2018.2,
          2018.2,
          2018.2,
          2018.2,
          2018.2,
          1194,
          1194,
          1194,
          1622.4,
          1622.4,
          1622.4,
          319.2,
          319.2,
          802,
          802,
          1208.5,
          1208.5,
          1208.5,
          372,
          2123.2,
          2123.2,
          2123.2,
          231.4,
          231.4,
          102.4,
          102.4,
          720,
          720,
          720,
          11283.2,
          11283.2,
          11283.2,
          11283.2,
          1814.8,
          1814.8,
          1814.8,
          1814.8,
          2208,
          2208,
          1897.6,
          1897.6,
          1897.6,
          1897.6,
          1273.2,
          1273.2,
          1273.2,
          1273.2,
          49.8,
          1020,
          1020,
          11493.2,
          11493.2,
          11493.2,
          480,
          480,
          338.2,
          338.2,
          651,
          192,
          1748.5,
          1748.5,
          5796,
          5796,
          5796,
          5796,
          2523,
          2523,
          2523,
          485,
          485,
          851.2,
          360,
          360,
          631.6,
          631.6,
          631.6,
          2210.8,
          2210.8,
          2210.8,
          2210.8,
          393,
          567.5,
          567.5,
          567.5,
          1078,
          1078,
          1078,
          1078,
          5793.1,
          5793.1,
          5793.1,
          5793.1,
          1755,
          1792,
          1792,
          1792,
          537.6,
          537.6,
          1031.7,
          1031.7,
          1031.7,
          1031.7,
          174.9,
          174.9,
          273.6,
          273.6,
          273.6,
          273.6,
          914.4,
          914.4,
          914.4,
          443.4,
          443.4,
          1838.2,
          1838.2,
          1838.2,
          531.4,
          531.4,
          4277.4,
          4277.4,
          4277.4,
          4277.4,
          2096,
          2096,
          453,
          453,
          414,
          414,
          414,
          2684,
          2684,
          2684,
          2684,
          656,
          656,
          1584,
          3891,
          3891,
          3891,
          3891,
          3891,
          1688,
          1688,
          1688,
          234.8,
          234.8,
          2051.6,
          2051.6,
          2051.6,
          156,
          156,
          713.3,
          713.3,
          1848,
          1848,
          1848,
          1848,
          2719,
          2719,
          2719,
          2719,
          2719,
          216,
          216,
          235.2,
          235.2,
          717.6,
          717.6,
          1125.5,
          1125.5,
          1125.5,
          1820.8,
          1820.8,
          1820.8,
          1328,
          1328,
          1051.2,
          1051.2,
          230.4,
          230.4,
          1249.1,
          1249.1,
          1249.1,
          1249.1,
          1770.8,
          1770.8,
          1770.8,
          182.4,
          182.4,
          672,
          672,
          672,
          496,
          10495.6,
          10495.6,
          10495.6,
          10495.6,
          756,
          756,
          1472,
          1472,
          147,
          704,
          704,
          386.2,
          386.2,
          386.2,
          1760,
          1760,
          1760,
          1760,
          1272,
          1272,
          1272,
          925.1,
          925.1,
          925.1,
          1560,
          1560,
          502.2,
          502.2,
          3163.2,
          3163.2,
          3163.2,
          305.3,
          305.3,
          896,
          896,
          676,
          676,
          676,
          912,
          278,
          278,
          278,
          200,
          1380.6,
          1380.6,
          1380.6,
          575,
          575,
          575,
          1412,
          1412,
          550.8,
          550.8,
          149,
          816.3,
          816.3,
          816.3,
          2048.5,
          2048.5,
          1388.5,
          1388.5,
          1388.5,
          1388.5,
          147.9,
          462,
          462,
          881.25,
          881.25,
          240,
          240,
          136.8,
          4735.44,
          4735.44,
          3000,
          3000,
          3000,
          618,
          618,
          618,
          618,
          2427.5,
          2427.5,
          2427.5,
          8623.45,
          8623.45,
          8623.45,
          8623.45,
          8623.45,
          10588.5,
          10588.5,
          10588.5,
          10588.5,
          10588.5,
          2614.5,
          2614.5,
          2614.5,
          352,
          352,
          352,
          4150.05,
          4150.05,
          4150.05,
          2356,
          2356,
          2356,
          200,
          200,
          225.5,
          225.5,
          225.5,
          2657.8,
          2657.8,
          2657.8,
          2657.8,
          2715.9,
          2715.9,
          2715.9,
          2715.9,
          3192.65,
          3192.65,
          3192.65,
          3192.65,
          846,
          846,
          1344,
          1344,
          1344,
          1670,
          1670,
          396.2,
          396.2,
          396.2,
          946,
          946,
          946,
          4180,
          4180,
          4180,
          4180,
          110,
          796.35,
          796.35,
          2295.2,
          2295.2,
          2295.2,
          517.4,
          517.4,
          517.4,
          2156.5,
          2156.5,
          2156.5,
          2156.5,
          2085,
          2085,
          2085,
          2085,
          1823.8,
          1823.8,
          1823.8,
          1823.8,
          1823.8,
          139.8,
          139.8,
          355.5,
          355.5,
          355.5,
          355.5,
          10191.7,
          10191.7,
          10191.7,
          10191.7,
          2162.8,
          2162.8,
          2162.8,
          2162.8,
          493.8,
          493.8,
          1770,
          1770,
          417.2,
          417.2,
          210,
          2812,
          2812,
          2812,
          1908,
          1908,
          275.1,
          275.1,
          4181.5,
          4181.5,
          4181.5,
          749,
          749,
          749,
          749,
          1836,
          1836,
          1836,
          880.5,
          880.5,
          1546.3,
          1546.3,
          1546.3,
          1546.3,
          1546.3,
          1819.5,
          1819.5,
          1819.5,
          1819.5,
          3680.5,
          3680.5,
          3680.5,
          3680.5,
          3680.5,
          835.2,
          1152.5,
          1152.5,
          2142.9,
          2142.9,
          2142.9,
          2142.9,
          2142.9,
          547.8,
          547.8,
          1257.3,
          1257.3,
          2844.5,
          2844.5,
          543,
          543,
          965,
          965,
          1299,
          1299,
          1299,
          711,
          711,
          2040,
          2040,
          2040,
          3109,
          3109,
          3109,
          155,
          977.5,
          977.5,
          2595,
          2595,
          647.75,
          647.75,
          1565.65,
          1565.65,
          1565.65,
          1565.65,
          2082,
          2082,
          2082,
          764.3,
          764.3,
          764.3,
          764.3,
          2147.4,
          2147.4,
          2147.4,
          2147.4,
          838.45,
          838.45,
          838.45,
          569,
          569,
          569,
          477,
          477,
          317.75,
          317.75,
          1067.1,
          1067.1,
          1067.1,
          387.5,
          330,
          330,
          2413.9,
          2413.9,
          2413.9,
          625,
          142.5,
          28,
          807.38,
          807.38,
          807.38,
          3900,
          3900,
          72,
          1140,
          1140,
          812.5,
          812.5,
          812.5,
          543.65,
          543.65,
          2493,
          2493,
          2493,
          565.5,
          565.5,
          6300,
          6300,
          6300,
          1476.1,
          1476.1,
          1476.1,
          800.1,
          800.1,
          800.1,
          2388.5,
          2388.5,
          493,
          479.8,
          479.8,
          2285,
          2285,
          65,
          1508,
          1508,
          256.5,
          256.5,
          4326,
          4326,
          4326,
          4326,
          1413,
          1413,
          1413,
          6475.4,
          6475.4,
          6475.4,
          6475.4,
          6475.4,
          1064,
          424,
          424,
          424,
          399,
          808,
          808,
          808,
          6375,
          6375,
          6375,
          6375,
          6375,
          358,
          358,
          464,
          464,
          464,
          120,
          5032,
          5032,
          5032,
          5032,
          1650,
          2697.5,
          2697.5,
          2697.5,
          1260,
          1260,
          57.5,
          57.5,
          758.5,
          758.5,
          758.5,
          758.5,
          605,
          605,
          1429.75,
          1429.75,
          1429.75,
          1429.75,
          1429.75,
          1393.24,
          1393.24,
          1393.24,
          479.75,
          479.75,
          479.75,
          1503.6,
          1503.6,
          1503.6,
          1264.5,
          1264.5,
          450,
          2775.05,
          2775.05,
          918,
          918,
          62,
          620,
          620,
          6483.05,
          6483.05,
          6483.05,
          6483.05,
          4985.5,
          4985.5,
          4985.5,
          4985.5,
          1380.25,
          1380.25,
          1380.25,
          629.5,
          629.5,
          2896.25,
          2896.25,
          2896.25,
          2720.05,
          2720.05,
          2720.05,
          500,
          945,
          945,
          2054,
          2054,
          870,
          870,
          1086,
          1086,
          1086,
          1422,
          1422,
          1422,
          1535,
          1535,
          1928,
          1928,
          1928,
          1928,
          636,
          636,
          382.5,
          382.5,
          1434,
          1434,
          1820.2,
          1820.2,
          1820.2,
          530.4,
          530.4,
          331.78,
          331.78,
          1203.5,
          1203.5,
          668.7,
          668.7,
          668.7,
          193,
          671.35,
          671.35,
          671.35,
          4371.6,
          4371.6,
          4371.6,
          4371.6,
          4371.6,
          4371.6,
          4668,
          4668,
          4668,
          4668,
          1291.6,
          1291.6,
          1291.6,
          1701,
          703.25,
          703.25,
          125,
          2032,
          2032,
          2032,
          1515.75,
          1515.75,
          1515.75,
          1295,
          1295,
          1295,
          4666.94,
          4666.94,
          1921,
          1921,
          694.75,
          694.75,
          694.75,
          570,
          2301.75,
          2301.75,
          2301.75,
          2301.75,
          2301.75,
          920.1,
          920.1,
          920.1,
          4210.5,
          4210.5,
          412.35,
          412.35,
          412.35,
          45,
          1423,
          1423,
          1423,
          534.85,
          534.85,
          534.85,
          956.9,
          956.9,
          5256.5,
          5256.5,
          5256.5,
          5256.5,
          660,
          1682.5,
          1682.5,
          1682.5,
          1327,
          1327,
          1327,
          375.5,
          375.5,
          375.5,
          63,
          1768,
          1768,
          1768,
          801.1,
          801.1,
          801.1,
          1638.45,
          1638.45,
          6201.9,
          6201.9,
          6201.9,
          3490,
          3490,
          3490,
          630,
          1150,
          1150,
          10164.8,
          10164.8,
          10164.8,
          10164.8,
          10164.8,
          878,
          2334,
          2334,
          2334,
          2334,
          4825,
          4825,
          4825,
          642,
          642,
          642,
          996,
          996,
          1073.9,
          1073.9,
          1073.9,
          1073.9,
          3600.73,
          3600.73,
          3600.73,
          3600.73,
          3600.73,
          114,
          2048,
          2048,
          2048,
          2048,
          3370,
          3370,
          3370,
          330,
          330,
          2545,
          2545,
          2545,
          595.5,
          595.5,
          595.5,
          378,
          378,
          1893,
          1893,
          1893,
          1704,
          1704,
          1704,
          180.4,
          180.4,
          3424,
          3424,
          3424,
          93.5,
          93.5,
          4451.7,
          4451.7,
          4451.7,
          1238.4,
          1238.4,
          2827.9,
          2827.9,
          2827.9,
          2827.9,
          2941,
          2941,
          2941,
          2941,
          2941,
          1296,
          1296,
          706,
          706,
          706,
          1331.75,
          1331.75,
          1331.75,
          3463,
          3463,
          3463,
          3463,
          1125.67,
          1125.67,
          1125.67,
          550,
          550,
          972.5,
          1570,
          1570,
          1570,
          1570,
          468.45,
          638.5,
          638.5,
          287.8,
          287.8,
          287.8,
          655,
          655,
          1710,
          1710,
          1710,
          1296.75,
          1296.75,
          1296.75,
          1296.75,
          1850,
          1850,
          1850,
          509.75,
          509.75,
          509.75,
          1990,
          1990,
          360,
          1459,
          1459,
          1459,
          1498.35,
          1498.35,
          1498.35,
          596,
          596,
          997,
          997,
          139.8,
          139.8,
          52.35,
          240,
          240,
          1770,
          1770,
          1770,
          1770,
          285,
          3118,
          3118,
          3118,
          336,
          920,
          4529.8,
          4529.8,
          4529.8,
          4529.8,
          2311.7,
          2311.7,
          2311.7,
          2311.7,
          1912.85,
          1912.85,
          1912.85,
          1912.85,
          2196,
          2196,
          2196,
          1080,
          1080,
          1080,
          1871.25,
          1871.25,
          1871.25,
          1701.46,
          1701.46,
          1701.46,
          1701.46,
          252,
          252,
          88,
          88,
          55.2,
          2598,
          2598,
          2598,
          2598,
          2487.5,
          2487.5,
          2487.5,
          2487.5,
          3082,
          3082,
          3082,
          3082,
          1644.6,
          1644.6,
          1644.6,
          320,
          3304,
          3304,
          3304,
          629.5,
          629.5,
          4337,
          4337,
          4337,
          4337,
          616,
          616,
          616,
          2540,
          2540,
          1684,
          2310,
          2310,
          2310,
          28,
          1477,
          1477,
          1477,
          1477,
          1704,
          1704,
          1704,
          1704,
          315,
          344,
          3603.22,
          3603.22,
          2216.25,
          2216.25,
          2216.25,
          875,
          875,
          228,
          228,
          6984.5,
          6984.5,
          6984.5,
          6984.5,
          280,
          96.5,
          1335,
          1335,
          720,
          720,
          1132.35,
          1132.35,
          1132.35,
          12.5,
          1442.5,
          1442.5,
          1650,
          1650,
          1650,
          387.5,
          387.5,
          1913.85,
          1913.85,
          1913.85,
          2760.8,
          2760.8,
          770,
          770,
          3687,
          3687,
          3687,
          3687,
          850,
          850,
          1926.06,
          1926.06,
          399.85,
          399.85,
          399.85,
          191.1,
          191.1,
          393.45,
          393.45,
          2499.25,
          2499.25,
          2878.08,
          2878.08,
          2878.08,
          2878.08,
          420,
          446.6,
          446.6,
          1585,
          1585,
          1585,
          1632.15,
          1632.15,
          1632.15,
          4035.8,
          4035.8,
          3923.75,
          3923.75,
          3923.75,
          3923.75,
          1255.8,
          1255.8,
          1255.8,
          2290.4,
          2290.4,
          2290.4,
          2775,
          2775,
          572.1,
          572.1,
          572.1,
          18.4,
          1660,
          1660,
          140,
          187,
          187,
          187,
          852,
          852,
          852,
          1852,
          1852,
          1852,
          648,
          648,
          2070,
          2070,
          2070,
          2070,
          40,
          8891,
          8891,
          11490.7,
          11490.7,
          11490.7,
          11490.7,
          833,
          833,
          477,
          477,
          1140,
          678,
          678,
          237.9,
          237.9,
          3107.5,
          3107.5,
          3107.5,
          3107.5,
          250.8,
          250.8,
          1030.76,
          1030.76,
          730,
          730,
          843,
          843,
          932,
          932,
          1764,
          1764,
          1764,
          1764,
          1974,
          1974,
          1974,
          1974,
          2684.4,
          2684.4,
          2684.4,
          2684.4,
          568.95,
          568.95,
          568.95,
          568.95,
          1007.7,
          1007.7,
          1007.7,
          1508.12,
          1508.12,
          851,
          851,
          4705.5,
          4705.5,
          4705.5,
          4705.5,
          4705.5,
          1254,
          1254,
          1254,
          1254,
          2584.5,
          2584.5,
          2584.5,
          919.5,
          919.5,
          264,
          264,
          4581,
          4581,
          4581,
          4581,
          975,
          975,
          975,
          975,
          212,
          735,
          4059,
          4059,
          4059,
          4059,
          4059,
          1112,
          1112,
          1112,
          6164.9,
          6164.9,
          6164.9,
          6164.9,
          6164.9,
          6164.9,
          931.5,
          931.5,
          1052.14,
          1052.14,
          740,
          740,
          740,
          2740,
          2740,
          2740,
          2740,
          2984,
          2984,
          2984,
          625,
          3490,
          3490,
          2275.25,
          2275.25,
          2275.25,
          2275.25,
          660,
          660,
          2630.95,
          2630.95,
          2630.95,
          649,
          649,
          649,
          1438.25,
          1438.25,
          1438.25,
          519,
          519,
          3523.4,
          3523.4,
          3523.4,
          3523.4,
          3523.4,
          581,
          581,
          519,
          519,
          282,
          282,
          1461.6,
          1461.6,
          1461.6,
          98.4,
          2004.6,
          2004.6,
          2004.6,
          1630,
          1630,
          1630,
          1630,
          160,
          160,
          2083.4,
          2083.4,
          2083.4,
          2166.8,
          2166.8,
          2166.8,
          2166.8,
          336.8,
          336.8,
          310,
          729.5,
          729.5,
          729.5,
          917,
          917,
          2086,
          2086,
          1620,
          611.3,
          611.3,
          611.3,
          1875,
          1875,
          1875,
          150,
          988.4,
          988.4,
          988.4,
          36,
          1450.6,
          1450.6,
          1450.6,
          1209,
          1209,
          1209,
          1209,
          3127.5,
          3127.5,
          3127.5,
          70,
          605,
          605,
          11380,
          11380,
          860.1,
          860.1,
          860.1,
          388.35,
          2200,
          5502.11,
          5502.11,
          5502.11,
          5502.11,
          5502.11,
          2898,
          2898,
          2898,
          6379.4,
          6379.4,
          6379.4,
          6379.4,
          750.5,
          750.5,
          10835.24,
          10835.24,
          30,
          144,
          45,
          934.5,
          934.5,
          1015.8,
          1015.8,
          932.05,
          932.05,
          932.05,
          1924.25,
          1924.25,
          360,
          427.5,
          108.5,
          698,
          698,
          670,
          670,
          670,
          452.9,
          452.9,
          452.9,
          858,
          858,
          858,
          8267.4,
          8267.4,
          958.75,
          958.75,
          958.75,
          537.5,
          539.5,
          539.5,
          539.5,
          686.7,
          686.7,
          686.7,
          365.89,
          365.89,
          1930,
          1930,
          1122.8,
          1122.8,
          1122.8,
          390,
          1936,
          1936,
          742.5,
          742.5,
          936,
          936,
          936,
          2034.5,
          2034.5,
          2034.5,
          559,
          559,
          514.4,
          514.4,
          514.4,
          514.4,
          800,
          800,
          800,
          137.5,
          137.5,
          1174.75,
          1174.75,
          1174.75,
          2455,
          2455,
          2455,
          2455,
          837,
          837,
          1925.5,
          1925.5,
          1925.5,
          1925.5,
          920.6,
          920.6,
          500,
          700,
          700,
          700,
          570,
          644.8,
          644.8,
          3642.5,
          3642.5,
          3642.5,
          3642.5,
          750,
          750,
          360,
          360,
          4769,
          4769,
          4769,
          4769,
          560,
          711,
          711,
          711,
          1139.1,
          1139.1,
          1139.1,
          245,
          245,
          1407.5,
          1407.5,
          1407.5,
          220,
          2362.25,
          2362.25,
          2362.25,
          4422,
          4422,
          4422,
          4422,
          110,
          482.9,
          482.9,
          482.9,
          491.2,
          491.2,
          4675,
          4675,
          1902.1,
          1902.1,
          1902.1,
          1902.1,
          93,
          677,
          677,
          677,
          1762.7,
          1762.7,
          1762.7,
          781,
          781,
          781,
          155,
          276.6,
          276.6,
          1122,
          1122,
          3584,
          3584,
          3584,
          3584,
          3584,
          68,
          2052.5,
          2052.5,
          2052.5,
          848,
          1255.6,
          1255.6,
          1255.6,
          910.4,
          910.4,
          1408,
          1408,
          1408,
          108,
          280,
          1733.06,
          251.5,
          251.5,
          291.55,
          291.55,
          291.55,
          439,
          717.5,
          717.5,
          912,
          2233,
          2233,
          2233,
          2233,
          1500.7,
          1500.7,
          1500.7,
          1500.7,
          4813.5,
          4813.5,
          4813.5,
          4813.5,
          4813.5,
          4813.5,
          310,
          1014,
          1014,
          796.5,
          796.5,
          1809.75,
          1809.75,
          1809.75,
          2248.2,
          2248.2,
          2248.2,
          2220,
          2220,
          2220,
          2220,
          2772,
          2772,
          2772,
          3772,
          3772,
          1353.6,
          1353.6,
          1353.6,
          4931,
          4931,
          4931,
          4931,
          2870,
          2870,
          2870,
          69.6,
          6527.25,
          6527.25,
          990,
          1196,
          1196,
          560,
          1980,
          1980,
          1980,
          686,
          686,
          686,
          686,
          1261,
          1261,
          1261,
          1075,
          1075,
          1075,
          2769,
          2769,
          2769,
          2769,
          1902,
          1902,
          1902,
          1902,
          326,
          326,
          326,
          295.38,
          295.38,
          586,
          586,
          391.58,
          391.58,
          2633.9,
          2633.9,
          2633.9,
          4903.5,
          4903.5,
          4903.5,
          702,
          702,
          702,
          645,
          645,
          960,
          960,
          2974,
          2974,
          2974,
          361,
          361,
          361,
          361,
          270.2,
          622.35,
          622.35,
          491.5,
          491.5,
          6750,
          6750,
          6750,
          1575,
          1575,
          1575,
          76,
          76,
          744,
          6941.49,
          6941.49,
          6941.49,
          6941.49,
          6941.49,
          1402,
          1402,
          1500,
          1500,
          1966.81,
          1966.81,
          1966.81,
          1966.81,
          300,
          300,
          1030,
          1030,
          1170.3,
          1170.3,
          2160,
          2160,
          1286.8,
          1286.8,
          2393.5,
          2393.5,
          2393.5,
          2393.5,
          2393.5,
          8902.5,
          8902.5,
          8902.5,
          3592,
          3592,
          554.4,
          554.4,
          554.4,
          1754.5,
          1754.5,
          1754.5,
          1754.5,
          1692,
          1692,
          60,
          751,
          751,
          751,
          3090,
          3090,
          3090,
          3090,
          200,
          1887,
          1887,
          405.75,
          405.75,
          210,
          591.6,
          1309.5,
          1309.5,
          1564,
          1564,
          1564,
          1090.5,
          1090.5,
          525,
          342,
          342,
          900,
          45,
          1665,
          1665,
          3658.75,
          3658.75,
          3658.75,
          305,
          305,
          1727.5,
          1727.5,
          1727.5,
          1727.5,
          3740,
          3740,
          3740,
          45,
          858,
          858,
          858,
          1838,
          1838,
          1838,
          266,
          266,
          510,
          508,
          508,
          1445.5,
          1445.5,
          1445.5,
          4722.3,
          4722.3,
          4722.3,
          4722.3,
          4722.3,
          252.56,
          252.56,
          928.75,
          928.75,
          928.75,
          86.85,
          2384.8,
          2384.8,
          2384.8,
          360,
          1873.5,
          1873.5,
          1873.5,
          1873.5,
          510,
          510,
          5218,
          5218,
          5218,
          5218,
          300,
          300,
          244.3,
          586,
          586,
          586,
          1057,
          1057,
          1057,
          1374.6,
          1374.6,
          1374.6,
          1374.6,
          1374.6,
          1374.6,
          1374.6,
          1374.6,
          1374.6,
          1374.6,
          1374.6,
          1374.6,
          1374.6,
          1374.6,
          1374.6,
          1374.6,
          1374.6,
          1374.6,
          1374.6,
          1374.6,
          1374.6,
          1374.6,
          1374.6,
          1374.6,
          1374.6
         ],
         "yaxis": "y"
        }
       ],
       "layout": {
        "legend": {
         "title": {
          "text": "variable"
         },
         "tracegroupgap": 0
        },
        "margin": {
         "t": 60
        },
        "template": {
         "data": {
          "bar": [
           {
            "error_x": {
             "color": "#2a3f5f"
            },
            "error_y": {
             "color": "#2a3f5f"
            },
            "marker": {
             "line": {
              "color": "#E5ECF6",
              "width": 0.5
             },
             "pattern": {
              "fillmode": "overlay",
              "size": 10,
              "solidity": 0.2
             }
            },
            "type": "bar"
           }
          ],
          "barpolar": [
           {
            "marker": {
             "line": {
              "color": "#E5ECF6",
              "width": 0.5
             },
             "pattern": {
              "fillmode": "overlay",
              "size": 10,
              "solidity": 0.2
             }
            },
            "type": "barpolar"
           }
          ],
          "carpet": [
           {
            "aaxis": {
             "endlinecolor": "#2a3f5f",
             "gridcolor": "white",
             "linecolor": "white",
             "minorgridcolor": "white",
             "startlinecolor": "#2a3f5f"
            },
            "baxis": {
             "endlinecolor": "#2a3f5f",
             "gridcolor": "white",
             "linecolor": "white",
             "minorgridcolor": "white",
             "startlinecolor": "#2a3f5f"
            },
            "type": "carpet"
           }
          ],
          "choropleth": [
           {
            "colorbar": {
             "outlinewidth": 0,
             "ticks": ""
            },
            "type": "choropleth"
           }
          ],
          "contour": [
           {
            "colorbar": {
             "outlinewidth": 0,
             "ticks": ""
            },
            "colorscale": [
             [
              0,
              "#0d0887"
             ],
             [
              0.1111111111111111,
              "#46039f"
             ],
             [
              0.2222222222222222,
              "#7201a8"
             ],
             [
              0.3333333333333333,
              "#9c179e"
             ],
             [
              0.4444444444444444,
              "#bd3786"
             ],
             [
              0.5555555555555556,
              "#d8576b"
             ],
             [
              0.6666666666666666,
              "#ed7953"
             ],
             [
              0.7777777777777778,
              "#fb9f3a"
             ],
             [
              0.8888888888888888,
              "#fdca26"
             ],
             [
              1,
              "#f0f921"
             ]
            ],
            "type": "contour"
           }
          ],
          "contourcarpet": [
           {
            "colorbar": {
             "outlinewidth": 0,
             "ticks": ""
            },
            "type": "contourcarpet"
           }
          ],
          "heatmap": [
           {
            "colorbar": {
             "outlinewidth": 0,
             "ticks": ""
            },
            "colorscale": [
             [
              0,
              "#0d0887"
             ],
             [
              0.1111111111111111,
              "#46039f"
             ],
             [
              0.2222222222222222,
              "#7201a8"
             ],
             [
              0.3333333333333333,
              "#9c179e"
             ],
             [
              0.4444444444444444,
              "#bd3786"
             ],
             [
              0.5555555555555556,
              "#d8576b"
             ],
             [
              0.6666666666666666,
              "#ed7953"
             ],
             [
              0.7777777777777778,
              "#fb9f3a"
             ],
             [
              0.8888888888888888,
              "#fdca26"
             ],
             [
              1,
              "#f0f921"
             ]
            ],
            "type": "heatmap"
           }
          ],
          "heatmapgl": [
           {
            "colorbar": {
             "outlinewidth": 0,
             "ticks": ""
            },
            "colorscale": [
             [
              0,
              "#0d0887"
             ],
             [
              0.1111111111111111,
              "#46039f"
             ],
             [
              0.2222222222222222,
              "#7201a8"
             ],
             [
              0.3333333333333333,
              "#9c179e"
             ],
             [
              0.4444444444444444,
              "#bd3786"
             ],
             [
              0.5555555555555556,
              "#d8576b"
             ],
             [
              0.6666666666666666,
              "#ed7953"
             ],
             [
              0.7777777777777778,
              "#fb9f3a"
             ],
             [
              0.8888888888888888,
              "#fdca26"
             ],
             [
              1,
              "#f0f921"
             ]
            ],
            "type": "heatmapgl"
           }
          ],
          "histogram": [
           {
            "marker": {
             "pattern": {
              "fillmode": "overlay",
              "size": 10,
              "solidity": 0.2
             }
            },
            "type": "histogram"
           }
          ],
          "histogram2d": [
           {
            "colorbar": {
             "outlinewidth": 0,
             "ticks": ""
            },
            "colorscale": [
             [
              0,
              "#0d0887"
             ],
             [
              0.1111111111111111,
              "#46039f"
             ],
             [
              0.2222222222222222,
              "#7201a8"
             ],
             [
              0.3333333333333333,
              "#9c179e"
             ],
             [
              0.4444444444444444,
              "#bd3786"
             ],
             [
              0.5555555555555556,
              "#d8576b"
             ],
             [
              0.6666666666666666,
              "#ed7953"
             ],
             [
              0.7777777777777778,
              "#fb9f3a"
             ],
             [
              0.8888888888888888,
              "#fdca26"
             ],
             [
              1,
              "#f0f921"
             ]
            ],
            "type": "histogram2d"
           }
          ],
          "histogram2dcontour": [
           {
            "colorbar": {
             "outlinewidth": 0,
             "ticks": ""
            },
            "colorscale": [
             [
              0,
              "#0d0887"
             ],
             [
              0.1111111111111111,
              "#46039f"
             ],
             [
              0.2222222222222222,
              "#7201a8"
             ],
             [
              0.3333333333333333,
              "#9c179e"
             ],
             [
              0.4444444444444444,
              "#bd3786"
             ],
             [
              0.5555555555555556,
              "#d8576b"
             ],
             [
              0.6666666666666666,
              "#ed7953"
             ],
             [
              0.7777777777777778,
              "#fb9f3a"
             ],
             [
              0.8888888888888888,
              "#fdca26"
             ],
             [
              1,
              "#f0f921"
             ]
            ],
            "type": "histogram2dcontour"
           }
          ],
          "mesh3d": [
           {
            "colorbar": {
             "outlinewidth": 0,
             "ticks": ""
            },
            "type": "mesh3d"
           }
          ],
          "parcoords": [
           {
            "line": {
             "colorbar": {
              "outlinewidth": 0,
              "ticks": ""
             }
            },
            "type": "parcoords"
           }
          ],
          "pie": [
           {
            "automargin": true,
            "type": "pie"
           }
          ],
          "scatter": [
           {
            "fillpattern": {
             "fillmode": "overlay",
             "size": 10,
             "solidity": 0.2
            },
            "type": "scatter"
           }
          ],
          "scatter3d": [
           {
            "line": {
             "colorbar": {
              "outlinewidth": 0,
              "ticks": ""
             }
            },
            "marker": {
             "colorbar": {
              "outlinewidth": 0,
              "ticks": ""
             }
            },
            "type": "scatter3d"
           }
          ],
          "scattercarpet": [
           {
            "marker": {
             "colorbar": {
              "outlinewidth": 0,
              "ticks": ""
             }
            },
            "type": "scattercarpet"
           }
          ],
          "scattergeo": [
           {
            "marker": {
             "colorbar": {
              "outlinewidth": 0,
              "ticks": ""
             }
            },
            "type": "scattergeo"
           }
          ],
          "scattergl": [
           {
            "marker": {
             "colorbar": {
              "outlinewidth": 0,
              "ticks": ""
             }
            },
            "type": "scattergl"
           }
          ],
          "scattermapbox": [
           {
            "marker": {
             "colorbar": {
              "outlinewidth": 0,
              "ticks": ""
             }
            },
            "type": "scattermapbox"
           }
          ],
          "scatterpolar": [
           {
            "marker": {
             "colorbar": {
              "outlinewidth": 0,
              "ticks": ""
             }
            },
            "type": "scatterpolar"
           }
          ],
          "scatterpolargl": [
           {
            "marker": {
             "colorbar": {
              "outlinewidth": 0,
              "ticks": ""
             }
            },
            "type": "scatterpolargl"
           }
          ],
          "scatterternary": [
           {
            "marker": {
             "colorbar": {
              "outlinewidth": 0,
              "ticks": ""
             }
            },
            "type": "scatterternary"
           }
          ],
          "surface": [
           {
            "colorbar": {
             "outlinewidth": 0,
             "ticks": ""
            },
            "colorscale": [
             [
              0,
              "#0d0887"
             ],
             [
              0.1111111111111111,
              "#46039f"
             ],
             [
              0.2222222222222222,
              "#7201a8"
             ],
             [
              0.3333333333333333,
              "#9c179e"
             ],
             [
              0.4444444444444444,
              "#bd3786"
             ],
             [
              0.5555555555555556,
              "#d8576b"
             ],
             [
              0.6666666666666666,
              "#ed7953"
             ],
             [
              0.7777777777777778,
              "#fb9f3a"
             ],
             [
              0.8888888888888888,
              "#fdca26"
             ],
             [
              1,
              "#f0f921"
             ]
            ],
            "type": "surface"
           }
          ],
          "table": [
           {
            "cells": {
             "fill": {
              "color": "#EBF0F8"
             },
             "line": {
              "color": "white"
             }
            },
            "header": {
             "fill": {
              "color": "#C8D4E3"
             },
             "line": {
              "color": "white"
             }
            },
            "type": "table"
           }
          ]
         },
         "layout": {
          "annotationdefaults": {
           "arrowcolor": "#2a3f5f",
           "arrowhead": 0,
           "arrowwidth": 1
          },
          "autotypenumbers": "strict",
          "coloraxis": {
           "colorbar": {
            "outlinewidth": 0,
            "ticks": ""
           }
          },
          "colorscale": {
           "diverging": [
            [
             0,
             "#8e0152"
            ],
            [
             0.1,
             "#c51b7d"
            ],
            [
             0.2,
             "#de77ae"
            ],
            [
             0.3,
             "#f1b6da"
            ],
            [
             0.4,
             "#fde0ef"
            ],
            [
             0.5,
             "#f7f7f7"
            ],
            [
             0.6,
             "#e6f5d0"
            ],
            [
             0.7,
             "#b8e186"
            ],
            [
             0.8,
             "#7fbc41"
            ],
            [
             0.9,
             "#4d9221"
            ],
            [
             1,
             "#276419"
            ]
           ],
           "sequential": [
            [
             0,
             "#0d0887"
            ],
            [
             0.1111111111111111,
             "#46039f"
            ],
            [
             0.2222222222222222,
             "#7201a8"
            ],
            [
             0.3333333333333333,
             "#9c179e"
            ],
            [
             0.4444444444444444,
             "#bd3786"
            ],
            [
             0.5555555555555556,
             "#d8576b"
            ],
            [
             0.6666666666666666,
             "#ed7953"
            ],
            [
             0.7777777777777778,
             "#fb9f3a"
            ],
            [
             0.8888888888888888,
             "#fdca26"
            ],
            [
             1,
             "#f0f921"
            ]
           ],
           "sequentialminus": [
            [
             0,
             "#0d0887"
            ],
            [
             0.1111111111111111,
             "#46039f"
            ],
            [
             0.2222222222222222,
             "#7201a8"
            ],
            [
             0.3333333333333333,
             "#9c179e"
            ],
            [
             0.4444444444444444,
             "#bd3786"
            ],
            [
             0.5555555555555556,
             "#d8576b"
            ],
            [
             0.6666666666666666,
             "#ed7953"
            ],
            [
             0.7777777777777778,
             "#fb9f3a"
            ],
            [
             0.8888888888888888,
             "#fdca26"
            ],
            [
             1,
             "#f0f921"
            ]
           ]
          },
          "colorway": [
           "#636efa",
           "#EF553B",
           "#00cc96",
           "#ab63fa",
           "#FFA15A",
           "#19d3f3",
           "#FF6692",
           "#B6E880",
           "#FF97FF",
           "#FECB52"
          ],
          "font": {
           "color": "#2a3f5f"
          },
          "geo": {
           "bgcolor": "white",
           "lakecolor": "white",
           "landcolor": "#E5ECF6",
           "showlakes": true,
           "showland": true,
           "subunitcolor": "white"
          },
          "hoverlabel": {
           "align": "left"
          },
          "hovermode": "closest",
          "mapbox": {
           "style": "light"
          },
          "paper_bgcolor": "white",
          "plot_bgcolor": "#E5ECF6",
          "polar": {
           "angularaxis": {
            "gridcolor": "white",
            "linecolor": "white",
            "ticks": ""
           },
           "bgcolor": "#E5ECF6",
           "radialaxis": {
            "gridcolor": "white",
            "linecolor": "white",
            "ticks": ""
           }
          },
          "scene": {
           "xaxis": {
            "backgroundcolor": "#E5ECF6",
            "gridcolor": "white",
            "gridwidth": 2,
            "linecolor": "white",
            "showbackground": true,
            "ticks": "",
            "zerolinecolor": "white"
           },
           "yaxis": {
            "backgroundcolor": "#E5ECF6",
            "gridcolor": "white",
            "gridwidth": 2,
            "linecolor": "white",
            "showbackground": true,
            "ticks": "",
            "zerolinecolor": "white"
           },
           "zaxis": {
            "backgroundcolor": "#E5ECF6",
            "gridcolor": "white",
            "gridwidth": 2,
            "linecolor": "white",
            "showbackground": true,
            "ticks": "",
            "zerolinecolor": "white"
           }
          },
          "shapedefaults": {
           "line": {
            "color": "#2a3f5f"
           }
          },
          "ternary": {
           "aaxis": {
            "gridcolor": "white",
            "linecolor": "white",
            "ticks": ""
           },
           "baxis": {
            "gridcolor": "white",
            "linecolor": "white",
            "ticks": ""
           },
           "bgcolor": "#E5ECF6",
           "caxis": {
            "gridcolor": "white",
            "linecolor": "white",
            "ticks": ""
           }
          },
          "title": {
           "x": 0.05
          },
          "xaxis": {
           "automargin": true,
           "gridcolor": "white",
           "linecolor": "white",
           "ticks": "",
           "title": {
            "standoff": 15
           },
           "zerolinecolor": "white",
           "zerolinewidth": 2
          },
          "yaxis": {
           "automargin": true,
           "gridcolor": "white",
           "linecolor": "white",
           "ticks": "",
           "title": {
            "standoff": 15
           },
           "zerolinecolor": "white",
           "zerolinewidth": 2
          }
         }
        },
        "xaxis": {
         "anchor": "y",
         "domain": [
          0,
          1
         ],
         "title": {
          "text": "OrderDate"
         }
        },
        "yaxis": {
         "anchor": "x",
         "domain": [
          0,
          1
         ],
         "title": {
          "text": "value"
         }
        }
       }
      }
     },
     "metadata": {},
     "output_type": "display_data"
    }
   ],
   "source": [
    "px.line(data_frame=datet)"
   ]
  },
  {
   "cell_type": "markdown",
   "metadata": {},
   "source": [
    "OrderDate vs Country"
   ]
  },
  {
   "cell_type": "code",
   "execution_count": 77,
   "metadata": {},
   "outputs": [
    {
     "name": "stderr",
     "output_type": "stream",
     "text": [
      "C:\\Users\\Abanop\\AppData\\Local\\Temp\\ipykernel_18332\\1095531085.py:3: FutureWarning:\n",
      "\n",
      "'M' is deprecated and will be removed in a future version, please use 'ME' instead.\n",
      "\n"
     ]
    },
    {
     "data": {
      "text/plain": [
       "OrderDate\n",
       "2012-07-31    11\n",
       "2012-08-31    11\n",
       "2012-09-30    11\n",
       "2012-10-31    13\n",
       "2012-11-30    11\n",
       "Freq: ME, Name: Country, dtype: int64"
      ]
     },
     "execution_count": 77,
     "metadata": {},
     "output_type": "execute_result"
    }
   ],
   "source": [
    "DC=order[['OrderDate','Country']]\n",
    "DC=DC.set_index('OrderDate')\n",
    "DC=DC.Country.resample(rule='1M').nunique()\n",
    "DC.head()"
   ]
  },
  {
   "cell_type": "code",
   "execution_count": 78,
   "metadata": {},
   "outputs": [
    {
     "data": {
      "application/vnd.plotly.v1+json": {
       "config": {
        "plotlyServerURL": "https://plot.ly"
       },
       "data": [
        {
         "hovertemplate": "OrderDate=%{x}<br>Country=%{y}<extra></extra>",
         "legendgroup": "",
         "line": {
          "color": "#636efa",
          "dash": "solid"
         },
         "marker": {
          "symbol": "circle"
         },
         "mode": "lines",
         "name": "",
         "orientation": "v",
         "showlegend": false,
         "type": "scatter",
         "x": [
          "2012-07-31T00:00:00",
          "2012-08-31T00:00:00",
          "2012-09-30T00:00:00",
          "2012-10-31T00:00:00",
          "2012-11-30T00:00:00",
          "2012-12-31T00:00:00",
          "2013-01-31T00:00:00",
          "2013-02-28T00:00:00",
          "2013-03-31T00:00:00",
          "2013-04-30T00:00:00",
          "2013-05-31T00:00:00",
          "2013-06-30T00:00:00",
          "2013-07-31T00:00:00",
          "2013-08-31T00:00:00",
          "2013-09-30T00:00:00",
          "2013-10-31T00:00:00",
          "2013-11-30T00:00:00",
          "2013-12-31T00:00:00",
          "2014-01-31T00:00:00",
          "2014-02-28T00:00:00",
          "2014-03-31T00:00:00",
          "2014-04-30T00:00:00",
          "2014-05-31T00:00:00"
         ],
         "xaxis": "x",
         "y": [
          11,
          11,
          11,
          13,
          11,
          15,
          15,
          14,
          12,
          13,
          15,
          14,
          13,
          17,
          14,
          14,
          15,
          15,
          14,
          17,
          18,
          21,
          9
         ],
         "yaxis": "y"
        }
       ],
       "layout": {
        "legend": {
         "tracegroupgap": 0
        },
        "margin": {
         "t": 60
        },
        "template": {
         "data": {
          "bar": [
           {
            "error_x": {
             "color": "#2a3f5f"
            },
            "error_y": {
             "color": "#2a3f5f"
            },
            "marker": {
             "line": {
              "color": "#E5ECF6",
              "width": 0.5
             },
             "pattern": {
              "fillmode": "overlay",
              "size": 10,
              "solidity": 0.2
             }
            },
            "type": "bar"
           }
          ],
          "barpolar": [
           {
            "marker": {
             "line": {
              "color": "#E5ECF6",
              "width": 0.5
             },
             "pattern": {
              "fillmode": "overlay",
              "size": 10,
              "solidity": 0.2
             }
            },
            "type": "barpolar"
           }
          ],
          "carpet": [
           {
            "aaxis": {
             "endlinecolor": "#2a3f5f",
             "gridcolor": "white",
             "linecolor": "white",
             "minorgridcolor": "white",
             "startlinecolor": "#2a3f5f"
            },
            "baxis": {
             "endlinecolor": "#2a3f5f",
             "gridcolor": "white",
             "linecolor": "white",
             "minorgridcolor": "white",
             "startlinecolor": "#2a3f5f"
            },
            "type": "carpet"
           }
          ],
          "choropleth": [
           {
            "colorbar": {
             "outlinewidth": 0,
             "ticks": ""
            },
            "type": "choropleth"
           }
          ],
          "contour": [
           {
            "colorbar": {
             "outlinewidth": 0,
             "ticks": ""
            },
            "colorscale": [
             [
              0,
              "#0d0887"
             ],
             [
              0.1111111111111111,
              "#46039f"
             ],
             [
              0.2222222222222222,
              "#7201a8"
             ],
             [
              0.3333333333333333,
              "#9c179e"
             ],
             [
              0.4444444444444444,
              "#bd3786"
             ],
             [
              0.5555555555555556,
              "#d8576b"
             ],
             [
              0.6666666666666666,
              "#ed7953"
             ],
             [
              0.7777777777777778,
              "#fb9f3a"
             ],
             [
              0.8888888888888888,
              "#fdca26"
             ],
             [
              1,
              "#f0f921"
             ]
            ],
            "type": "contour"
           }
          ],
          "contourcarpet": [
           {
            "colorbar": {
             "outlinewidth": 0,
             "ticks": ""
            },
            "type": "contourcarpet"
           }
          ],
          "heatmap": [
           {
            "colorbar": {
             "outlinewidth": 0,
             "ticks": ""
            },
            "colorscale": [
             [
              0,
              "#0d0887"
             ],
             [
              0.1111111111111111,
              "#46039f"
             ],
             [
              0.2222222222222222,
              "#7201a8"
             ],
             [
              0.3333333333333333,
              "#9c179e"
             ],
             [
              0.4444444444444444,
              "#bd3786"
             ],
             [
              0.5555555555555556,
              "#d8576b"
             ],
             [
              0.6666666666666666,
              "#ed7953"
             ],
             [
              0.7777777777777778,
              "#fb9f3a"
             ],
             [
              0.8888888888888888,
              "#fdca26"
             ],
             [
              1,
              "#f0f921"
             ]
            ],
            "type": "heatmap"
           }
          ],
          "heatmapgl": [
           {
            "colorbar": {
             "outlinewidth": 0,
             "ticks": ""
            },
            "colorscale": [
             [
              0,
              "#0d0887"
             ],
             [
              0.1111111111111111,
              "#46039f"
             ],
             [
              0.2222222222222222,
              "#7201a8"
             ],
             [
              0.3333333333333333,
              "#9c179e"
             ],
             [
              0.4444444444444444,
              "#bd3786"
             ],
             [
              0.5555555555555556,
              "#d8576b"
             ],
             [
              0.6666666666666666,
              "#ed7953"
             ],
             [
              0.7777777777777778,
              "#fb9f3a"
             ],
             [
              0.8888888888888888,
              "#fdca26"
             ],
             [
              1,
              "#f0f921"
             ]
            ],
            "type": "heatmapgl"
           }
          ],
          "histogram": [
           {
            "marker": {
             "pattern": {
              "fillmode": "overlay",
              "size": 10,
              "solidity": 0.2
             }
            },
            "type": "histogram"
           }
          ],
          "histogram2d": [
           {
            "colorbar": {
             "outlinewidth": 0,
             "ticks": ""
            },
            "colorscale": [
             [
              0,
              "#0d0887"
             ],
             [
              0.1111111111111111,
              "#46039f"
             ],
             [
              0.2222222222222222,
              "#7201a8"
             ],
             [
              0.3333333333333333,
              "#9c179e"
             ],
             [
              0.4444444444444444,
              "#bd3786"
             ],
             [
              0.5555555555555556,
              "#d8576b"
             ],
             [
              0.6666666666666666,
              "#ed7953"
             ],
             [
              0.7777777777777778,
              "#fb9f3a"
             ],
             [
              0.8888888888888888,
              "#fdca26"
             ],
             [
              1,
              "#f0f921"
             ]
            ],
            "type": "histogram2d"
           }
          ],
          "histogram2dcontour": [
           {
            "colorbar": {
             "outlinewidth": 0,
             "ticks": ""
            },
            "colorscale": [
             [
              0,
              "#0d0887"
             ],
             [
              0.1111111111111111,
              "#46039f"
             ],
             [
              0.2222222222222222,
              "#7201a8"
             ],
             [
              0.3333333333333333,
              "#9c179e"
             ],
             [
              0.4444444444444444,
              "#bd3786"
             ],
             [
              0.5555555555555556,
              "#d8576b"
             ],
             [
              0.6666666666666666,
              "#ed7953"
             ],
             [
              0.7777777777777778,
              "#fb9f3a"
             ],
             [
              0.8888888888888888,
              "#fdca26"
             ],
             [
              1,
              "#f0f921"
             ]
            ],
            "type": "histogram2dcontour"
           }
          ],
          "mesh3d": [
           {
            "colorbar": {
             "outlinewidth": 0,
             "ticks": ""
            },
            "type": "mesh3d"
           }
          ],
          "parcoords": [
           {
            "line": {
             "colorbar": {
              "outlinewidth": 0,
              "ticks": ""
             }
            },
            "type": "parcoords"
           }
          ],
          "pie": [
           {
            "automargin": true,
            "type": "pie"
           }
          ],
          "scatter": [
           {
            "fillpattern": {
             "fillmode": "overlay",
             "size": 10,
             "solidity": 0.2
            },
            "type": "scatter"
           }
          ],
          "scatter3d": [
           {
            "line": {
             "colorbar": {
              "outlinewidth": 0,
              "ticks": ""
             }
            },
            "marker": {
             "colorbar": {
              "outlinewidth": 0,
              "ticks": ""
             }
            },
            "type": "scatter3d"
           }
          ],
          "scattercarpet": [
           {
            "marker": {
             "colorbar": {
              "outlinewidth": 0,
              "ticks": ""
             }
            },
            "type": "scattercarpet"
           }
          ],
          "scattergeo": [
           {
            "marker": {
             "colorbar": {
              "outlinewidth": 0,
              "ticks": ""
             }
            },
            "type": "scattergeo"
           }
          ],
          "scattergl": [
           {
            "marker": {
             "colorbar": {
              "outlinewidth": 0,
              "ticks": ""
             }
            },
            "type": "scattergl"
           }
          ],
          "scattermapbox": [
           {
            "marker": {
             "colorbar": {
              "outlinewidth": 0,
              "ticks": ""
             }
            },
            "type": "scattermapbox"
           }
          ],
          "scatterpolar": [
           {
            "marker": {
             "colorbar": {
              "outlinewidth": 0,
              "ticks": ""
             }
            },
            "type": "scatterpolar"
           }
          ],
          "scatterpolargl": [
           {
            "marker": {
             "colorbar": {
              "outlinewidth": 0,
              "ticks": ""
             }
            },
            "type": "scatterpolargl"
           }
          ],
          "scatterternary": [
           {
            "marker": {
             "colorbar": {
              "outlinewidth": 0,
              "ticks": ""
             }
            },
            "type": "scatterternary"
           }
          ],
          "surface": [
           {
            "colorbar": {
             "outlinewidth": 0,
             "ticks": ""
            },
            "colorscale": [
             [
              0,
              "#0d0887"
             ],
             [
              0.1111111111111111,
              "#46039f"
             ],
             [
              0.2222222222222222,
              "#7201a8"
             ],
             [
              0.3333333333333333,
              "#9c179e"
             ],
             [
              0.4444444444444444,
              "#bd3786"
             ],
             [
              0.5555555555555556,
              "#d8576b"
             ],
             [
              0.6666666666666666,
              "#ed7953"
             ],
             [
              0.7777777777777778,
              "#fb9f3a"
             ],
             [
              0.8888888888888888,
              "#fdca26"
             ],
             [
              1,
              "#f0f921"
             ]
            ],
            "type": "surface"
           }
          ],
          "table": [
           {
            "cells": {
             "fill": {
              "color": "#EBF0F8"
             },
             "line": {
              "color": "white"
             }
            },
            "header": {
             "fill": {
              "color": "#C8D4E3"
             },
             "line": {
              "color": "white"
             }
            },
            "type": "table"
           }
          ]
         },
         "layout": {
          "annotationdefaults": {
           "arrowcolor": "#2a3f5f",
           "arrowhead": 0,
           "arrowwidth": 1
          },
          "autotypenumbers": "strict",
          "coloraxis": {
           "colorbar": {
            "outlinewidth": 0,
            "ticks": ""
           }
          },
          "colorscale": {
           "diverging": [
            [
             0,
             "#8e0152"
            ],
            [
             0.1,
             "#c51b7d"
            ],
            [
             0.2,
             "#de77ae"
            ],
            [
             0.3,
             "#f1b6da"
            ],
            [
             0.4,
             "#fde0ef"
            ],
            [
             0.5,
             "#f7f7f7"
            ],
            [
             0.6,
             "#e6f5d0"
            ],
            [
             0.7,
             "#b8e186"
            ],
            [
             0.8,
             "#7fbc41"
            ],
            [
             0.9,
             "#4d9221"
            ],
            [
             1,
             "#276419"
            ]
           ],
           "sequential": [
            [
             0,
             "#0d0887"
            ],
            [
             0.1111111111111111,
             "#46039f"
            ],
            [
             0.2222222222222222,
             "#7201a8"
            ],
            [
             0.3333333333333333,
             "#9c179e"
            ],
            [
             0.4444444444444444,
             "#bd3786"
            ],
            [
             0.5555555555555556,
             "#d8576b"
            ],
            [
             0.6666666666666666,
             "#ed7953"
            ],
            [
             0.7777777777777778,
             "#fb9f3a"
            ],
            [
             0.8888888888888888,
             "#fdca26"
            ],
            [
             1,
             "#f0f921"
            ]
           ],
           "sequentialminus": [
            [
             0,
             "#0d0887"
            ],
            [
             0.1111111111111111,
             "#46039f"
            ],
            [
             0.2222222222222222,
             "#7201a8"
            ],
            [
             0.3333333333333333,
             "#9c179e"
            ],
            [
             0.4444444444444444,
             "#bd3786"
            ],
            [
             0.5555555555555556,
             "#d8576b"
            ],
            [
             0.6666666666666666,
             "#ed7953"
            ],
            [
             0.7777777777777778,
             "#fb9f3a"
            ],
            [
             0.8888888888888888,
             "#fdca26"
            ],
            [
             1,
             "#f0f921"
            ]
           ]
          },
          "colorway": [
           "#636efa",
           "#EF553B",
           "#00cc96",
           "#ab63fa",
           "#FFA15A",
           "#19d3f3",
           "#FF6692",
           "#B6E880",
           "#FF97FF",
           "#FECB52"
          ],
          "font": {
           "color": "#2a3f5f"
          },
          "geo": {
           "bgcolor": "white",
           "lakecolor": "white",
           "landcolor": "#E5ECF6",
           "showlakes": true,
           "showland": true,
           "subunitcolor": "white"
          },
          "hoverlabel": {
           "align": "left"
          },
          "hovermode": "closest",
          "mapbox": {
           "style": "light"
          },
          "paper_bgcolor": "white",
          "plot_bgcolor": "#E5ECF6",
          "polar": {
           "angularaxis": {
            "gridcolor": "white",
            "linecolor": "white",
            "ticks": ""
           },
           "bgcolor": "#E5ECF6",
           "radialaxis": {
            "gridcolor": "white",
            "linecolor": "white",
            "ticks": ""
           }
          },
          "scene": {
           "xaxis": {
            "backgroundcolor": "#E5ECF6",
            "gridcolor": "white",
            "gridwidth": 2,
            "linecolor": "white",
            "showbackground": true,
            "ticks": "",
            "zerolinecolor": "white"
           },
           "yaxis": {
            "backgroundcolor": "#E5ECF6",
            "gridcolor": "white",
            "gridwidth": 2,
            "linecolor": "white",
            "showbackground": true,
            "ticks": "",
            "zerolinecolor": "white"
           },
           "zaxis": {
            "backgroundcolor": "#E5ECF6",
            "gridcolor": "white",
            "gridwidth": 2,
            "linecolor": "white",
            "showbackground": true,
            "ticks": "",
            "zerolinecolor": "white"
           }
          },
          "shapedefaults": {
           "line": {
            "color": "#2a3f5f"
           }
          },
          "ternary": {
           "aaxis": {
            "gridcolor": "white",
            "linecolor": "white",
            "ticks": ""
           },
           "baxis": {
            "gridcolor": "white",
            "linecolor": "white",
            "ticks": ""
           },
           "bgcolor": "#E5ECF6",
           "caxis": {
            "gridcolor": "white",
            "linecolor": "white",
            "ticks": ""
           }
          },
          "title": {
           "x": 0.05
          },
          "xaxis": {
           "automargin": true,
           "gridcolor": "white",
           "linecolor": "white",
           "ticks": "",
           "title": {
            "standoff": 15
           },
           "zerolinecolor": "white",
           "zerolinewidth": 2
          },
          "yaxis": {
           "automargin": true,
           "gridcolor": "white",
           "linecolor": "white",
           "ticks": "",
           "title": {
            "standoff": 15
           },
           "zerolinecolor": "white",
           "zerolinewidth": 2
          }
         }
        },
        "xaxis": {
         "anchor": "y",
         "domain": [
          0,
          1
         ],
         "title": {
          "text": "OrderDate"
         }
        },
        "yaxis": {
         "anchor": "x",
         "domain": [
          0,
          1
         ],
         "title": {
          "text": "Country"
         }
        }
       }
      }
     },
     "metadata": {},
     "output_type": "display_data"
    }
   ],
   "source": [
    "px.line(data_frame=DC,y='Country')"
   ]
  },
  {
   "cell_type": "markdown",
   "metadata": {},
   "source": [
    "Customer vs TotalAmount"
   ]
  },
  {
   "cell_type": "code",
   "execution_count": 79,
   "metadata": {},
   "outputs": [
    {
     "data": {
      "text/html": [
       "<div>\n",
       "<style scoped>\n",
       "    .dataframe tbody tr th:only-of-type {\n",
       "        vertical-align: middle;\n",
       "    }\n",
       "\n",
       "    .dataframe tbody tr th {\n",
       "        vertical-align: top;\n",
       "    }\n",
       "\n",
       "    .dataframe thead th {\n",
       "        text-align: right;\n",
       "    }\n",
       "</style>\n",
       "<table border=\"1\" class=\"dataframe\">\n",
       "  <thead>\n",
       "    <tr style=\"text-align: right;\">\n",
       "      <th></th>\n",
       "      <th>fullname</th>\n",
       "      <th>TotalAmount</th>\n",
       "    </tr>\n",
       "  </thead>\n",
       "  <tbody>\n",
       "    <tr>\n",
       "      <th>0</th>\n",
       "      <td>Paul Henriot</td>\n",
       "      <td>440.0</td>\n",
       "    </tr>\n",
       "    <tr>\n",
       "      <th>1</th>\n",
       "      <td>Paul Henriot</td>\n",
       "      <td>440.0</td>\n",
       "    </tr>\n",
       "    <tr>\n",
       "      <th>2</th>\n",
       "      <td>Paul Henriot</td>\n",
       "      <td>440.0</td>\n",
       "    </tr>\n",
       "    <tr>\n",
       "      <th>3</th>\n",
       "      <td>Karin Josephs</td>\n",
       "      <td>1863.4</td>\n",
       "    </tr>\n",
       "    <tr>\n",
       "      <th>4</th>\n",
       "      <td>Karin Josephs</td>\n",
       "      <td>1863.4</td>\n",
       "    </tr>\n",
       "  </tbody>\n",
       "</table>\n",
       "</div>"
      ],
      "text/plain": [
       "        fullname  TotalAmount\n",
       "0   Paul Henriot        440.0\n",
       "1   Paul Henriot        440.0\n",
       "2   Paul Henriot        440.0\n",
       "3  Karin Josephs       1863.4\n",
       "4  Karin Josephs       1863.4"
      ]
     },
     "execution_count": 79,
     "metadata": {},
     "output_type": "execute_result"
    }
   ],
   "source": [
    "cus={\n",
    "    'fullname':order.fullname,\n",
    "    'TotalAmount':order.TotalAmount\n",
    "}\n",
    "cus=pd.DataFrame(cus)\n",
    "cus.head()"
   ]
  },
  {
   "cell_type": "code",
   "execution_count": 80,
   "metadata": {},
   "outputs": [
    {
     "data": {
      "application/vnd.plotly.v1+json": {
       "config": {
        "plotlyServerURL": "https://plot.ly"
       },
       "data": [
        {
         "alignmentgroup": "True",
         "hovertemplate": "variable=TotalAmount<br>fullname=%{x}<br>frequency=%{y}<extra></extra>",
         "legendgroup": "TotalAmount",
         "marker": {
          "color": "#636efa",
          "pattern": {
           "shape": ""
          }
         },
         "name": "TotalAmount",
         "offsetgroup": "TotalAmount",
         "orientation": "v",
         "showlegend": true,
         "textposition": "outside",
         "texttemplate": "%{y}",
         "type": "bar",
         "x": [
          "Roland Mendel",
          "Jose Pavarotti",
          "Horst Kloss",
          "Paula Wilson",
          "Patricia McKenna",
          "Philip Cramer",
          "L?cia Carvalho",
          "Peter Franken",
          "Jean Fresnière",
          "Maria Larsson"
         ],
         "xaxis": "x",
         "y": [
          426348.25,
          415788.43,
          383117.35,
          179124.6,
          156949.88,
          114561.63,
          106095.65000000001,
          94919.07,
          94535.4,
          93623.1
         ],
         "yaxis": "y"
        }
       ],
       "layout": {
        "barmode": "relative",
        "legend": {
         "title": {
          "text": "variable"
         },
         "tracegroupgap": 0
        },
        "template": {
         "data": {
          "bar": [
           {
            "error_x": {
             "color": "#2a3f5f"
            },
            "error_y": {
             "color": "#2a3f5f"
            },
            "marker": {
             "line": {
              "color": "#E5ECF6",
              "width": 0.5
             },
             "pattern": {
              "fillmode": "overlay",
              "size": 10,
              "solidity": 0.2
             }
            },
            "type": "bar"
           }
          ],
          "barpolar": [
           {
            "marker": {
             "line": {
              "color": "#E5ECF6",
              "width": 0.5
             },
             "pattern": {
              "fillmode": "overlay",
              "size": 10,
              "solidity": 0.2
             }
            },
            "type": "barpolar"
           }
          ],
          "carpet": [
           {
            "aaxis": {
             "endlinecolor": "#2a3f5f",
             "gridcolor": "white",
             "linecolor": "white",
             "minorgridcolor": "white",
             "startlinecolor": "#2a3f5f"
            },
            "baxis": {
             "endlinecolor": "#2a3f5f",
             "gridcolor": "white",
             "linecolor": "white",
             "minorgridcolor": "white",
             "startlinecolor": "#2a3f5f"
            },
            "type": "carpet"
           }
          ],
          "choropleth": [
           {
            "colorbar": {
             "outlinewidth": 0,
             "ticks": ""
            },
            "type": "choropleth"
           }
          ],
          "contour": [
           {
            "colorbar": {
             "outlinewidth": 0,
             "ticks": ""
            },
            "colorscale": [
             [
              0,
              "#0d0887"
             ],
             [
              0.1111111111111111,
              "#46039f"
             ],
             [
              0.2222222222222222,
              "#7201a8"
             ],
             [
              0.3333333333333333,
              "#9c179e"
             ],
             [
              0.4444444444444444,
              "#bd3786"
             ],
             [
              0.5555555555555556,
              "#d8576b"
             ],
             [
              0.6666666666666666,
              "#ed7953"
             ],
             [
              0.7777777777777778,
              "#fb9f3a"
             ],
             [
              0.8888888888888888,
              "#fdca26"
             ],
             [
              1,
              "#f0f921"
             ]
            ],
            "type": "contour"
           }
          ],
          "contourcarpet": [
           {
            "colorbar": {
             "outlinewidth": 0,
             "ticks": ""
            },
            "type": "contourcarpet"
           }
          ],
          "heatmap": [
           {
            "colorbar": {
             "outlinewidth": 0,
             "ticks": ""
            },
            "colorscale": [
             [
              0,
              "#0d0887"
             ],
             [
              0.1111111111111111,
              "#46039f"
             ],
             [
              0.2222222222222222,
              "#7201a8"
             ],
             [
              0.3333333333333333,
              "#9c179e"
             ],
             [
              0.4444444444444444,
              "#bd3786"
             ],
             [
              0.5555555555555556,
              "#d8576b"
             ],
             [
              0.6666666666666666,
              "#ed7953"
             ],
             [
              0.7777777777777778,
              "#fb9f3a"
             ],
             [
              0.8888888888888888,
              "#fdca26"
             ],
             [
              1,
              "#f0f921"
             ]
            ],
            "type": "heatmap"
           }
          ],
          "heatmapgl": [
           {
            "colorbar": {
             "outlinewidth": 0,
             "ticks": ""
            },
            "colorscale": [
             [
              0,
              "#0d0887"
             ],
             [
              0.1111111111111111,
              "#46039f"
             ],
             [
              0.2222222222222222,
              "#7201a8"
             ],
             [
              0.3333333333333333,
              "#9c179e"
             ],
             [
              0.4444444444444444,
              "#bd3786"
             ],
             [
              0.5555555555555556,
              "#d8576b"
             ],
             [
              0.6666666666666666,
              "#ed7953"
             ],
             [
              0.7777777777777778,
              "#fb9f3a"
             ],
             [
              0.8888888888888888,
              "#fdca26"
             ],
             [
              1,
              "#f0f921"
             ]
            ],
            "type": "heatmapgl"
           }
          ],
          "histogram": [
           {
            "marker": {
             "pattern": {
              "fillmode": "overlay",
              "size": 10,
              "solidity": 0.2
             }
            },
            "type": "histogram"
           }
          ],
          "histogram2d": [
           {
            "colorbar": {
             "outlinewidth": 0,
             "ticks": ""
            },
            "colorscale": [
             [
              0,
              "#0d0887"
             ],
             [
              0.1111111111111111,
              "#46039f"
             ],
             [
              0.2222222222222222,
              "#7201a8"
             ],
             [
              0.3333333333333333,
              "#9c179e"
             ],
             [
              0.4444444444444444,
              "#bd3786"
             ],
             [
              0.5555555555555556,
              "#d8576b"
             ],
             [
              0.6666666666666666,
              "#ed7953"
             ],
             [
              0.7777777777777778,
              "#fb9f3a"
             ],
             [
              0.8888888888888888,
              "#fdca26"
             ],
             [
              1,
              "#f0f921"
             ]
            ],
            "type": "histogram2d"
           }
          ],
          "histogram2dcontour": [
           {
            "colorbar": {
             "outlinewidth": 0,
             "ticks": ""
            },
            "colorscale": [
             [
              0,
              "#0d0887"
             ],
             [
              0.1111111111111111,
              "#46039f"
             ],
             [
              0.2222222222222222,
              "#7201a8"
             ],
             [
              0.3333333333333333,
              "#9c179e"
             ],
             [
              0.4444444444444444,
              "#bd3786"
             ],
             [
              0.5555555555555556,
              "#d8576b"
             ],
             [
              0.6666666666666666,
              "#ed7953"
             ],
             [
              0.7777777777777778,
              "#fb9f3a"
             ],
             [
              0.8888888888888888,
              "#fdca26"
             ],
             [
              1,
              "#f0f921"
             ]
            ],
            "type": "histogram2dcontour"
           }
          ],
          "mesh3d": [
           {
            "colorbar": {
             "outlinewidth": 0,
             "ticks": ""
            },
            "type": "mesh3d"
           }
          ],
          "parcoords": [
           {
            "line": {
             "colorbar": {
              "outlinewidth": 0,
              "ticks": ""
             }
            },
            "type": "parcoords"
           }
          ],
          "pie": [
           {
            "automargin": true,
            "type": "pie"
           }
          ],
          "scatter": [
           {
            "fillpattern": {
             "fillmode": "overlay",
             "size": 10,
             "solidity": 0.2
            },
            "type": "scatter"
           }
          ],
          "scatter3d": [
           {
            "line": {
             "colorbar": {
              "outlinewidth": 0,
              "ticks": ""
             }
            },
            "marker": {
             "colorbar": {
              "outlinewidth": 0,
              "ticks": ""
             }
            },
            "type": "scatter3d"
           }
          ],
          "scattercarpet": [
           {
            "marker": {
             "colorbar": {
              "outlinewidth": 0,
              "ticks": ""
             }
            },
            "type": "scattercarpet"
           }
          ],
          "scattergeo": [
           {
            "marker": {
             "colorbar": {
              "outlinewidth": 0,
              "ticks": ""
             }
            },
            "type": "scattergeo"
           }
          ],
          "scattergl": [
           {
            "marker": {
             "colorbar": {
              "outlinewidth": 0,
              "ticks": ""
             }
            },
            "type": "scattergl"
           }
          ],
          "scattermapbox": [
           {
            "marker": {
             "colorbar": {
              "outlinewidth": 0,
              "ticks": ""
             }
            },
            "type": "scattermapbox"
           }
          ],
          "scatterpolar": [
           {
            "marker": {
             "colorbar": {
              "outlinewidth": 0,
              "ticks": ""
             }
            },
            "type": "scatterpolar"
           }
          ],
          "scatterpolargl": [
           {
            "marker": {
             "colorbar": {
              "outlinewidth": 0,
              "ticks": ""
             }
            },
            "type": "scatterpolargl"
           }
          ],
          "scatterternary": [
           {
            "marker": {
             "colorbar": {
              "outlinewidth": 0,
              "ticks": ""
             }
            },
            "type": "scatterternary"
           }
          ],
          "surface": [
           {
            "colorbar": {
             "outlinewidth": 0,
             "ticks": ""
            },
            "colorscale": [
             [
              0,
              "#0d0887"
             ],
             [
              0.1111111111111111,
              "#46039f"
             ],
             [
              0.2222222222222222,
              "#7201a8"
             ],
             [
              0.3333333333333333,
              "#9c179e"
             ],
             [
              0.4444444444444444,
              "#bd3786"
             ],
             [
              0.5555555555555556,
              "#d8576b"
             ],
             [
              0.6666666666666666,
              "#ed7953"
             ],
             [
              0.7777777777777778,
              "#fb9f3a"
             ],
             [
              0.8888888888888888,
              "#fdca26"
             ],
             [
              1,
              "#f0f921"
             ]
            ],
            "type": "surface"
           }
          ],
          "table": [
           {
            "cells": {
             "fill": {
              "color": "#EBF0F8"
             },
             "line": {
              "color": "white"
             }
            },
            "header": {
             "fill": {
              "color": "#C8D4E3"
             },
             "line": {
              "color": "white"
             }
            },
            "type": "table"
           }
          ]
         },
         "layout": {
          "annotationdefaults": {
           "arrowcolor": "#2a3f5f",
           "arrowhead": 0,
           "arrowwidth": 1
          },
          "autotypenumbers": "strict",
          "coloraxis": {
           "colorbar": {
            "outlinewidth": 0,
            "ticks": ""
           }
          },
          "colorscale": {
           "diverging": [
            [
             0,
             "#8e0152"
            ],
            [
             0.1,
             "#c51b7d"
            ],
            [
             0.2,
             "#de77ae"
            ],
            [
             0.3,
             "#f1b6da"
            ],
            [
             0.4,
             "#fde0ef"
            ],
            [
             0.5,
             "#f7f7f7"
            ],
            [
             0.6,
             "#e6f5d0"
            ],
            [
             0.7,
             "#b8e186"
            ],
            [
             0.8,
             "#7fbc41"
            ],
            [
             0.9,
             "#4d9221"
            ],
            [
             1,
             "#276419"
            ]
           ],
           "sequential": [
            [
             0,
             "#0d0887"
            ],
            [
             0.1111111111111111,
             "#46039f"
            ],
            [
             0.2222222222222222,
             "#7201a8"
            ],
            [
             0.3333333333333333,
             "#9c179e"
            ],
            [
             0.4444444444444444,
             "#bd3786"
            ],
            [
             0.5555555555555556,
             "#d8576b"
            ],
            [
             0.6666666666666666,
             "#ed7953"
            ],
            [
             0.7777777777777778,
             "#fb9f3a"
            ],
            [
             0.8888888888888888,
             "#fdca26"
            ],
            [
             1,
             "#f0f921"
            ]
           ],
           "sequentialminus": [
            [
             0,
             "#0d0887"
            ],
            [
             0.1111111111111111,
             "#46039f"
            ],
            [
             0.2222222222222222,
             "#7201a8"
            ],
            [
             0.3333333333333333,
             "#9c179e"
            ],
            [
             0.4444444444444444,
             "#bd3786"
            ],
            [
             0.5555555555555556,
             "#d8576b"
            ],
            [
             0.6666666666666666,
             "#ed7953"
            ],
            [
             0.7777777777777778,
             "#fb9f3a"
            ],
            [
             0.8888888888888888,
             "#fdca26"
            ],
            [
             1,
             "#f0f921"
            ]
           ]
          },
          "colorway": [
           "#636efa",
           "#EF553B",
           "#00cc96",
           "#ab63fa",
           "#FFA15A",
           "#19d3f3",
           "#FF6692",
           "#B6E880",
           "#FF97FF",
           "#FECB52"
          ],
          "font": {
           "color": "#2a3f5f"
          },
          "geo": {
           "bgcolor": "white",
           "lakecolor": "white",
           "landcolor": "#E5ECF6",
           "showlakes": true,
           "showland": true,
           "subunitcolor": "white"
          },
          "hoverlabel": {
           "align": "left"
          },
          "hovermode": "closest",
          "mapbox": {
           "style": "light"
          },
          "paper_bgcolor": "white",
          "plot_bgcolor": "#E5ECF6",
          "polar": {
           "angularaxis": {
            "gridcolor": "white",
            "linecolor": "white",
            "ticks": ""
           },
           "bgcolor": "#E5ECF6",
           "radialaxis": {
            "gridcolor": "white",
            "linecolor": "white",
            "ticks": ""
           }
          },
          "scene": {
           "xaxis": {
            "backgroundcolor": "#E5ECF6",
            "gridcolor": "white",
            "gridwidth": 2,
            "linecolor": "white",
            "showbackground": true,
            "ticks": "",
            "zerolinecolor": "white"
           },
           "yaxis": {
            "backgroundcolor": "#E5ECF6",
            "gridcolor": "white",
            "gridwidth": 2,
            "linecolor": "white",
            "showbackground": true,
            "ticks": "",
            "zerolinecolor": "white"
           },
           "zaxis": {
            "backgroundcolor": "#E5ECF6",
            "gridcolor": "white",
            "gridwidth": 2,
            "linecolor": "white",
            "showbackground": true,
            "ticks": "",
            "zerolinecolor": "white"
           }
          },
          "shapedefaults": {
           "line": {
            "color": "#2a3f5f"
           }
          },
          "ternary": {
           "aaxis": {
            "gridcolor": "white",
            "linecolor": "white",
            "ticks": ""
           },
           "baxis": {
            "gridcolor": "white",
            "linecolor": "white",
            "ticks": ""
           },
           "bgcolor": "#E5ECF6",
           "caxis": {
            "gridcolor": "white",
            "linecolor": "white",
            "ticks": ""
           }
          },
          "title": {
           "x": 0.05
          },
          "xaxis": {
           "automargin": true,
           "gridcolor": "white",
           "linecolor": "white",
           "ticks": "",
           "title": {
            "standoff": 15
           },
           "zerolinecolor": "white",
           "zerolinewidth": 2
          },
          "yaxis": {
           "automargin": true,
           "gridcolor": "white",
           "linecolor": "white",
           "ticks": "",
           "title": {
            "standoff": 15
           },
           "zerolinecolor": "white",
           "zerolinewidth": 2
          }
         }
        },
        "title": {
         "text": "orders per customer"
        },
        "xaxis": {
         "anchor": "y",
         "domain": [
          0,
          1
         ],
         "title": {
          "text": "fullname"
         }
        },
        "yaxis": {
         "anchor": "x",
         "domain": [
          0,
          1
         ],
         "title": {
          "text": "frequency"
         }
        }
       }
      }
     },
     "metadata": {},
     "output_type": "display_data"
    }
   ],
   "source": [
    "fig=px.bar(cus.groupby('fullname')['TotalAmount'].sum().sort_values(ascending=False).head(10),text_auto=True,title='orders per customer',labels={'fullname':'fullname','value':'frequency'})\n",
    "fig.update_traces (textposition='outside')"
   ]
  },
  {
   "cell_type": "markdown",
   "metadata": {},
   "source": [
    "Multivariate Analysis"
   ]
  },
  {
   "cell_type": "markdown",
   "metadata": {},
   "source": [
    "* Country with OrderDate and TotalAmount"
   ]
  },
  {
   "cell_type": "code",
   "execution_count": 81,
   "metadata": {},
   "outputs": [
    {
     "data": {
      "text/html": [
       "<div>\n",
       "<style scoped>\n",
       "    .dataframe tbody tr th:only-of-type {\n",
       "        vertical-align: middle;\n",
       "    }\n",
       "\n",
       "    .dataframe tbody tr th {\n",
       "        vertical-align: top;\n",
       "    }\n",
       "\n",
       "    .dataframe thead th {\n",
       "        text-align: right;\n",
       "    }\n",
       "</style>\n",
       "<table border=\"1\" class=\"dataframe\">\n",
       "  <thead>\n",
       "    <tr style=\"text-align: right;\">\n",
       "      <th></th>\n",
       "      <th>Country</th>\n",
       "      <th>TotalAmount</th>\n",
       "    </tr>\n",
       "    <tr>\n",
       "      <th>OrderDate</th>\n",
       "      <th></th>\n",
       "      <th></th>\n",
       "    </tr>\n",
       "  </thead>\n",
       "  <tbody>\n",
       "    <tr>\n",
       "      <th>2012-07-04</th>\n",
       "      <td>France</td>\n",
       "      <td>440.0</td>\n",
       "    </tr>\n",
       "    <tr>\n",
       "      <th>2012-07-04</th>\n",
       "      <td>France</td>\n",
       "      <td>440.0</td>\n",
       "    </tr>\n",
       "    <tr>\n",
       "      <th>2012-07-04</th>\n",
       "      <td>France</td>\n",
       "      <td>440.0</td>\n",
       "    </tr>\n",
       "    <tr>\n",
       "      <th>2012-07-05</th>\n",
       "      <td>Germany</td>\n",
       "      <td>1863.4</td>\n",
       "    </tr>\n",
       "    <tr>\n",
       "      <th>2012-07-05</th>\n",
       "      <td>Germany</td>\n",
       "      <td>1863.4</td>\n",
       "    </tr>\n",
       "  </tbody>\n",
       "</table>\n",
       "</div>"
      ],
      "text/plain": [
       "            Country  TotalAmount\n",
       "OrderDate                       \n",
       "2012-07-04   France        440.0\n",
       "2012-07-04   France        440.0\n",
       "2012-07-04   France        440.0\n",
       "2012-07-05  Germany       1863.4\n",
       "2012-07-05  Germany       1863.4"
      ]
     },
     "execution_count": 81,
     "metadata": {},
     "output_type": "execute_result"
    }
   ],
   "source": [
    "multi=order[['OrderDate','Country','TotalAmount']]\n",
    "multi=multi.set_index('OrderDate')\n",
    "multi.head()"
   ]
  },
  {
   "cell_type": "code",
   "execution_count": 82,
   "metadata": {},
   "outputs": [
    {
     "name": "stderr",
     "output_type": "stream",
     "text": [
      "C:\\Users\\Abanop\\AppData\\Local\\Temp\\ipykernel_18332\\2569790738.py:1: FutureWarning:\n",
      "\n",
      "'M' is deprecated and will be removed in a future version, please use 'ME' instead.\n",
      "\n"
     ]
    },
    {
     "data": {
      "text/html": [
       "<div>\n",
       "<style scoped>\n",
       "    .dataframe tbody tr th:only-of-type {\n",
       "        vertical-align: middle;\n",
       "    }\n",
       "\n",
       "    .dataframe tbody tr th {\n",
       "        vertical-align: top;\n",
       "    }\n",
       "\n",
       "    .dataframe thead th {\n",
       "        text-align: right;\n",
       "    }\n",
       "</style>\n",
       "<table border=\"1\" class=\"dataframe\">\n",
       "  <thead>\n",
       "    <tr style=\"text-align: right;\">\n",
       "      <th></th>\n",
       "      <th>Country</th>\n",
       "      <th>TotalAmount</th>\n",
       "    </tr>\n",
       "    <tr>\n",
       "      <th>OrderDate</th>\n",
       "      <th></th>\n",
       "      <th></th>\n",
       "    </tr>\n",
       "  </thead>\n",
       "  <tbody>\n",
       "    <tr>\n",
       "      <th>2012-07-31</th>\n",
       "      <td>11</td>\n",
       "      <td>89940.5</td>\n",
       "    </tr>\n",
       "    <tr>\n",
       "      <th>2012-08-31</th>\n",
       "      <td>11</td>\n",
       "      <td>84055.1</td>\n",
       "    </tr>\n",
       "    <tr>\n",
       "      <th>2012-09-30</th>\n",
       "      <td>11</td>\n",
       "      <td>82387.9</td>\n",
       "    </tr>\n",
       "    <tr>\n",
       "      <th>2012-10-31</th>\n",
       "      <td>13</td>\n",
       "      <td>149752.2</td>\n",
       "    </tr>\n",
       "    <tr>\n",
       "      <th>2012-11-30</th>\n",
       "      <td>11</td>\n",
       "      <td>151076.2</td>\n",
       "    </tr>\n",
       "  </tbody>\n",
       "</table>\n",
       "</div>"
      ],
      "text/plain": [
       "            Country  TotalAmount\n",
       "OrderDate                       \n",
       "2012-07-31       11      89940.5\n",
       "2012-08-31       11      84055.1\n",
       "2012-09-30       11      82387.9\n",
       "2012-10-31       13     149752.2\n",
       "2012-11-30       11     151076.2"
      ]
     },
     "execution_count": 82,
     "metadata": {},
     "output_type": "execute_result"
    }
   ],
   "source": [
    "multi=multi.resample('1M').agg({'Country':'nunique','TotalAmount':'sum'})\n",
    "multi.head()"
   ]
  },
  {
   "cell_type": "code",
   "execution_count": 83,
   "metadata": {},
   "outputs": [
    {
     "data": {
      "application/vnd.plotly.v1+json": {
       "config": {
        "plotlyServerURL": "https://plot.ly"
       },
       "data": [
        {
         "alignmentgroup": "True",
         "hovertemplate": "orderDate=%{x}<br>TotalAmount=%{y}<br>Country=%{marker.color}<extra></extra>",
         "legendgroup": "",
         "marker": {
          "color": [
           11,
           11,
           11,
           13,
           11,
           15,
           15,
           14,
           12,
           13,
           15,
           14,
           13,
           17,
           14,
           14,
           15,
           15,
           14,
           17,
           18,
           21,
           9
          ],
          "coloraxis": "coloraxis",
          "pattern": {
           "shape": ""
          }
         },
         "name": "",
         "offsetgroup": "",
         "orientation": "v",
         "showlegend": false,
         "textposition": "auto",
         "texttemplate": "%{y}",
         "type": "bar",
         "x": [
          "2012-07-31T00:00:00",
          "2012-08-31T00:00:00",
          "2012-09-30T00:00:00",
          "2012-10-31T00:00:00",
          "2012-11-30T00:00:00",
          "2012-12-31T00:00:00",
          "2013-01-31T00:00:00",
          "2013-02-28T00:00:00",
          "2013-03-31T00:00:00",
          "2013-04-30T00:00:00",
          "2013-05-31T00:00:00",
          "2013-06-30T00:00:00",
          "2013-07-31T00:00:00",
          "2013-08-31T00:00:00",
          "2013-09-30T00:00:00",
          "2013-10-31T00:00:00",
          "2013-11-30T00:00:00",
          "2013-12-31T00:00:00",
          "2014-01-31T00:00:00",
          "2014-02-28T00:00:00",
          "2014-03-31T00:00:00",
          "2014-04-30T00:00:00",
          "2014-05-31T00:00:00"
         ],
         "xaxis": "x",
         "y": [
          89940,
          84055,
          82388,
          149752,
          151076,
          168935,
          215264,
          134099,
          129315,
          195669,
          196983,
          116017,
          179962,
          148950,
          183965,
          244739,
          149815,
          222615,
          347348,
          230563,
          291192,
          347640,
          104028
         ],
         "yaxis": "y"
        }
       ],
       "layout": {
        "barmode": "relative",
        "coloraxis": {
         "colorbar": {
          "title": {
           "text": "Country"
          }
         },
         "colorscale": [
          [
           0,
           "#0d0887"
          ],
          [
           0.1111111111111111,
           "#46039f"
          ],
          [
           0.2222222222222222,
           "#7201a8"
          ],
          [
           0.3333333333333333,
           "#9c179e"
          ],
          [
           0.4444444444444444,
           "#bd3786"
          ],
          [
           0.5555555555555556,
           "#d8576b"
          ],
          [
           0.6666666666666666,
           "#ed7953"
          ],
          [
           0.7777777777777778,
           "#fb9f3a"
          ],
          [
           0.8888888888888888,
           "#fdca26"
          ],
          [
           1,
           "#f0f921"
          ]
         ]
        },
        "legend": {
         "tracegroupgap": 0
        },
        "template": {
         "data": {
          "bar": [
           {
            "error_x": {
             "color": "#2a3f5f"
            },
            "error_y": {
             "color": "#2a3f5f"
            },
            "marker": {
             "line": {
              "color": "#E5ECF6",
              "width": 0.5
             },
             "pattern": {
              "fillmode": "overlay",
              "size": 10,
              "solidity": 0.2
             }
            },
            "type": "bar"
           }
          ],
          "barpolar": [
           {
            "marker": {
             "line": {
              "color": "#E5ECF6",
              "width": 0.5
             },
             "pattern": {
              "fillmode": "overlay",
              "size": 10,
              "solidity": 0.2
             }
            },
            "type": "barpolar"
           }
          ],
          "carpet": [
           {
            "aaxis": {
             "endlinecolor": "#2a3f5f",
             "gridcolor": "white",
             "linecolor": "white",
             "minorgridcolor": "white",
             "startlinecolor": "#2a3f5f"
            },
            "baxis": {
             "endlinecolor": "#2a3f5f",
             "gridcolor": "white",
             "linecolor": "white",
             "minorgridcolor": "white",
             "startlinecolor": "#2a3f5f"
            },
            "type": "carpet"
           }
          ],
          "choropleth": [
           {
            "colorbar": {
             "outlinewidth": 0,
             "ticks": ""
            },
            "type": "choropleth"
           }
          ],
          "contour": [
           {
            "colorbar": {
             "outlinewidth": 0,
             "ticks": ""
            },
            "colorscale": [
             [
              0,
              "#0d0887"
             ],
             [
              0.1111111111111111,
              "#46039f"
             ],
             [
              0.2222222222222222,
              "#7201a8"
             ],
             [
              0.3333333333333333,
              "#9c179e"
             ],
             [
              0.4444444444444444,
              "#bd3786"
             ],
             [
              0.5555555555555556,
              "#d8576b"
             ],
             [
              0.6666666666666666,
              "#ed7953"
             ],
             [
              0.7777777777777778,
              "#fb9f3a"
             ],
             [
              0.8888888888888888,
              "#fdca26"
             ],
             [
              1,
              "#f0f921"
             ]
            ],
            "type": "contour"
           }
          ],
          "contourcarpet": [
           {
            "colorbar": {
             "outlinewidth": 0,
             "ticks": ""
            },
            "type": "contourcarpet"
           }
          ],
          "heatmap": [
           {
            "colorbar": {
             "outlinewidth": 0,
             "ticks": ""
            },
            "colorscale": [
             [
              0,
              "#0d0887"
             ],
             [
              0.1111111111111111,
              "#46039f"
             ],
             [
              0.2222222222222222,
              "#7201a8"
             ],
             [
              0.3333333333333333,
              "#9c179e"
             ],
             [
              0.4444444444444444,
              "#bd3786"
             ],
             [
              0.5555555555555556,
              "#d8576b"
             ],
             [
              0.6666666666666666,
              "#ed7953"
             ],
             [
              0.7777777777777778,
              "#fb9f3a"
             ],
             [
              0.8888888888888888,
              "#fdca26"
             ],
             [
              1,
              "#f0f921"
             ]
            ],
            "type": "heatmap"
           }
          ],
          "heatmapgl": [
           {
            "colorbar": {
             "outlinewidth": 0,
             "ticks": ""
            },
            "colorscale": [
             [
              0,
              "#0d0887"
             ],
             [
              0.1111111111111111,
              "#46039f"
             ],
             [
              0.2222222222222222,
              "#7201a8"
             ],
             [
              0.3333333333333333,
              "#9c179e"
             ],
             [
              0.4444444444444444,
              "#bd3786"
             ],
             [
              0.5555555555555556,
              "#d8576b"
             ],
             [
              0.6666666666666666,
              "#ed7953"
             ],
             [
              0.7777777777777778,
              "#fb9f3a"
             ],
             [
              0.8888888888888888,
              "#fdca26"
             ],
             [
              1,
              "#f0f921"
             ]
            ],
            "type": "heatmapgl"
           }
          ],
          "histogram": [
           {
            "marker": {
             "pattern": {
              "fillmode": "overlay",
              "size": 10,
              "solidity": 0.2
             }
            },
            "type": "histogram"
           }
          ],
          "histogram2d": [
           {
            "colorbar": {
             "outlinewidth": 0,
             "ticks": ""
            },
            "colorscale": [
             [
              0,
              "#0d0887"
             ],
             [
              0.1111111111111111,
              "#46039f"
             ],
             [
              0.2222222222222222,
              "#7201a8"
             ],
             [
              0.3333333333333333,
              "#9c179e"
             ],
             [
              0.4444444444444444,
              "#bd3786"
             ],
             [
              0.5555555555555556,
              "#d8576b"
             ],
             [
              0.6666666666666666,
              "#ed7953"
             ],
             [
              0.7777777777777778,
              "#fb9f3a"
             ],
             [
              0.8888888888888888,
              "#fdca26"
             ],
             [
              1,
              "#f0f921"
             ]
            ],
            "type": "histogram2d"
           }
          ],
          "histogram2dcontour": [
           {
            "colorbar": {
             "outlinewidth": 0,
             "ticks": ""
            },
            "colorscale": [
             [
              0,
              "#0d0887"
             ],
             [
              0.1111111111111111,
              "#46039f"
             ],
             [
              0.2222222222222222,
              "#7201a8"
             ],
             [
              0.3333333333333333,
              "#9c179e"
             ],
             [
              0.4444444444444444,
              "#bd3786"
             ],
             [
              0.5555555555555556,
              "#d8576b"
             ],
             [
              0.6666666666666666,
              "#ed7953"
             ],
             [
              0.7777777777777778,
              "#fb9f3a"
             ],
             [
              0.8888888888888888,
              "#fdca26"
             ],
             [
              1,
              "#f0f921"
             ]
            ],
            "type": "histogram2dcontour"
           }
          ],
          "mesh3d": [
           {
            "colorbar": {
             "outlinewidth": 0,
             "ticks": ""
            },
            "type": "mesh3d"
           }
          ],
          "parcoords": [
           {
            "line": {
             "colorbar": {
              "outlinewidth": 0,
              "ticks": ""
             }
            },
            "type": "parcoords"
           }
          ],
          "pie": [
           {
            "automargin": true,
            "type": "pie"
           }
          ],
          "scatter": [
           {
            "fillpattern": {
             "fillmode": "overlay",
             "size": 10,
             "solidity": 0.2
            },
            "type": "scatter"
           }
          ],
          "scatter3d": [
           {
            "line": {
             "colorbar": {
              "outlinewidth": 0,
              "ticks": ""
             }
            },
            "marker": {
             "colorbar": {
              "outlinewidth": 0,
              "ticks": ""
             }
            },
            "type": "scatter3d"
           }
          ],
          "scattercarpet": [
           {
            "marker": {
             "colorbar": {
              "outlinewidth": 0,
              "ticks": ""
             }
            },
            "type": "scattercarpet"
           }
          ],
          "scattergeo": [
           {
            "marker": {
             "colorbar": {
              "outlinewidth": 0,
              "ticks": ""
             }
            },
            "type": "scattergeo"
           }
          ],
          "scattergl": [
           {
            "marker": {
             "colorbar": {
              "outlinewidth": 0,
              "ticks": ""
             }
            },
            "type": "scattergl"
           }
          ],
          "scattermapbox": [
           {
            "marker": {
             "colorbar": {
              "outlinewidth": 0,
              "ticks": ""
             }
            },
            "type": "scattermapbox"
           }
          ],
          "scatterpolar": [
           {
            "marker": {
             "colorbar": {
              "outlinewidth": 0,
              "ticks": ""
             }
            },
            "type": "scatterpolar"
           }
          ],
          "scatterpolargl": [
           {
            "marker": {
             "colorbar": {
              "outlinewidth": 0,
              "ticks": ""
             }
            },
            "type": "scatterpolargl"
           }
          ],
          "scatterternary": [
           {
            "marker": {
             "colorbar": {
              "outlinewidth": 0,
              "ticks": ""
             }
            },
            "type": "scatterternary"
           }
          ],
          "surface": [
           {
            "colorbar": {
             "outlinewidth": 0,
             "ticks": ""
            },
            "colorscale": [
             [
              0,
              "#0d0887"
             ],
             [
              0.1111111111111111,
              "#46039f"
             ],
             [
              0.2222222222222222,
              "#7201a8"
             ],
             [
              0.3333333333333333,
              "#9c179e"
             ],
             [
              0.4444444444444444,
              "#bd3786"
             ],
             [
              0.5555555555555556,
              "#d8576b"
             ],
             [
              0.6666666666666666,
              "#ed7953"
             ],
             [
              0.7777777777777778,
              "#fb9f3a"
             ],
             [
              0.8888888888888888,
              "#fdca26"
             ],
             [
              1,
              "#f0f921"
             ]
            ],
            "type": "surface"
           }
          ],
          "table": [
           {
            "cells": {
             "fill": {
              "color": "#EBF0F8"
             },
             "line": {
              "color": "white"
             }
            },
            "header": {
             "fill": {
              "color": "#C8D4E3"
             },
             "line": {
              "color": "white"
             }
            },
            "type": "table"
           }
          ]
         },
         "layout": {
          "annotationdefaults": {
           "arrowcolor": "#2a3f5f",
           "arrowhead": 0,
           "arrowwidth": 1
          },
          "autotypenumbers": "strict",
          "coloraxis": {
           "colorbar": {
            "outlinewidth": 0,
            "ticks": ""
           }
          },
          "colorscale": {
           "diverging": [
            [
             0,
             "#8e0152"
            ],
            [
             0.1,
             "#c51b7d"
            ],
            [
             0.2,
             "#de77ae"
            ],
            [
             0.3,
             "#f1b6da"
            ],
            [
             0.4,
             "#fde0ef"
            ],
            [
             0.5,
             "#f7f7f7"
            ],
            [
             0.6,
             "#e6f5d0"
            ],
            [
             0.7,
             "#b8e186"
            ],
            [
             0.8,
             "#7fbc41"
            ],
            [
             0.9,
             "#4d9221"
            ],
            [
             1,
             "#276419"
            ]
           ],
           "sequential": [
            [
             0,
             "#0d0887"
            ],
            [
             0.1111111111111111,
             "#46039f"
            ],
            [
             0.2222222222222222,
             "#7201a8"
            ],
            [
             0.3333333333333333,
             "#9c179e"
            ],
            [
             0.4444444444444444,
             "#bd3786"
            ],
            [
             0.5555555555555556,
             "#d8576b"
            ],
            [
             0.6666666666666666,
             "#ed7953"
            ],
            [
             0.7777777777777778,
             "#fb9f3a"
            ],
            [
             0.8888888888888888,
             "#fdca26"
            ],
            [
             1,
             "#f0f921"
            ]
           ],
           "sequentialminus": [
            [
             0,
             "#0d0887"
            ],
            [
             0.1111111111111111,
             "#46039f"
            ],
            [
             0.2222222222222222,
             "#7201a8"
            ],
            [
             0.3333333333333333,
             "#9c179e"
            ],
            [
             0.4444444444444444,
             "#bd3786"
            ],
            [
             0.5555555555555556,
             "#d8576b"
            ],
            [
             0.6666666666666666,
             "#ed7953"
            ],
            [
             0.7777777777777778,
             "#fb9f3a"
            ],
            [
             0.8888888888888888,
             "#fdca26"
            ],
            [
             1,
             "#f0f921"
            ]
           ]
          },
          "colorway": [
           "#636efa",
           "#EF553B",
           "#00cc96",
           "#ab63fa",
           "#FFA15A",
           "#19d3f3",
           "#FF6692",
           "#B6E880",
           "#FF97FF",
           "#FECB52"
          ],
          "font": {
           "color": "#2a3f5f"
          },
          "geo": {
           "bgcolor": "white",
           "lakecolor": "white",
           "landcolor": "#E5ECF6",
           "showlakes": true,
           "showland": true,
           "subunitcolor": "white"
          },
          "hoverlabel": {
           "align": "left"
          },
          "hovermode": "closest",
          "mapbox": {
           "style": "light"
          },
          "paper_bgcolor": "white",
          "plot_bgcolor": "#E5ECF6",
          "polar": {
           "angularaxis": {
            "gridcolor": "white",
            "linecolor": "white",
            "ticks": ""
           },
           "bgcolor": "#E5ECF6",
           "radialaxis": {
            "gridcolor": "white",
            "linecolor": "white",
            "ticks": ""
           }
          },
          "scene": {
           "xaxis": {
            "backgroundcolor": "#E5ECF6",
            "gridcolor": "white",
            "gridwidth": 2,
            "linecolor": "white",
            "showbackground": true,
            "ticks": "",
            "zerolinecolor": "white"
           },
           "yaxis": {
            "backgroundcolor": "#E5ECF6",
            "gridcolor": "white",
            "gridwidth": 2,
            "linecolor": "white",
            "showbackground": true,
            "ticks": "",
            "zerolinecolor": "white"
           },
           "zaxis": {
            "backgroundcolor": "#E5ECF6",
            "gridcolor": "white",
            "gridwidth": 2,
            "linecolor": "white",
            "showbackground": true,
            "ticks": "",
            "zerolinecolor": "white"
           }
          },
          "shapedefaults": {
           "line": {
            "color": "#2a3f5f"
           }
          },
          "ternary": {
           "aaxis": {
            "gridcolor": "white",
            "linecolor": "white",
            "ticks": ""
           },
           "baxis": {
            "gridcolor": "white",
            "linecolor": "white",
            "ticks": ""
           },
           "bgcolor": "#E5ECF6",
           "caxis": {
            "gridcolor": "white",
            "linecolor": "white",
            "ticks": ""
           }
          },
          "title": {
           "x": 0.05
          },
          "xaxis": {
           "automargin": true,
           "gridcolor": "white",
           "linecolor": "white",
           "ticks": "",
           "title": {
            "standoff": 15
           },
           "zerolinecolor": "white",
           "zerolinewidth": 2
          },
          "yaxis": {
           "automargin": true,
           "gridcolor": "white",
           "linecolor": "white",
           "ticks": "",
           "title": {
            "standoff": 15
           },
           "zerolinecolor": "white",
           "zerolinewidth": 2
          }
         }
        },
        "title": {
         "text": "Grand Total Amount of All Countries Per Month"
        },
        "xaxis": {
         "anchor": "y",
         "domain": [
          0,
          1
         ],
         "title": {
          "text": "orderDate"
         }
        },
        "yaxis": {
         "anchor": "x",
         "domain": [
          0,
          1
         ],
         "title": {
          "text": "TotalAmount"
         }
        }
       }
      }
     },
     "metadata": {},
     "output_type": "display_data"
    }
   ],
   "source": [
    "fig=px.bar(data_frame=multi,x=multi.index,y=round(multi.TotalAmount,0),color=multi.Country,text_auto=True,title='Grand Total Amount of All Countries Per Month',labels={'OrderDate':'orderDate','y':'TotalAmount'})\n",
    "\n",
    "fig.show()\n"
   ]
  },
  {
   "cell_type": "markdown",
   "metadata": {},
   "source": [
    "(( Grand TotalAmount of each Country per Month ))"
   ]
  },
  {
   "cell_type": "code",
   "execution_count": 86,
   "metadata": {},
   "outputs": [
    {
     "data": {
      "text/html": [
       "<div>\n",
       "<style scoped>\n",
       "    .dataframe tbody tr th:only-of-type {\n",
       "        vertical-align: middle;\n",
       "    }\n",
       "\n",
       "    .dataframe tbody tr th {\n",
       "        vertical-align: top;\n",
       "    }\n",
       "\n",
       "    .dataframe thead th {\n",
       "        text-align: right;\n",
       "    }\n",
       "</style>\n",
       "<table border=\"1\" class=\"dataframe\">\n",
       "  <thead>\n",
       "    <tr style=\"text-align: right;\">\n",
       "      <th></th>\n",
       "      <th>OrderDate</th>\n",
       "      <th>Country</th>\n",
       "      <th>TotalAmount</th>\n",
       "    </tr>\n",
       "  </thead>\n",
       "  <tbody>\n",
       "    <tr>\n",
       "      <th>0</th>\n",
       "      <td>2012-07-04</td>\n",
       "      <td>France</td>\n",
       "      <td>440.0</td>\n",
       "    </tr>\n",
       "    <tr>\n",
       "      <th>1</th>\n",
       "      <td>2012-07-04</td>\n",
       "      <td>France</td>\n",
       "      <td>440.0</td>\n",
       "    </tr>\n",
       "    <tr>\n",
       "      <th>2</th>\n",
       "      <td>2012-07-04</td>\n",
       "      <td>France</td>\n",
       "      <td>440.0</td>\n",
       "    </tr>\n",
       "    <tr>\n",
       "      <th>3</th>\n",
       "      <td>2012-07-05</td>\n",
       "      <td>Germany</td>\n",
       "      <td>1863.4</td>\n",
       "    </tr>\n",
       "    <tr>\n",
       "      <th>4</th>\n",
       "      <td>2012-07-05</td>\n",
       "      <td>Germany</td>\n",
       "      <td>1863.4</td>\n",
       "    </tr>\n",
       "  </tbody>\n",
       "</table>\n",
       "</div>"
      ],
      "text/plain": [
       "   OrderDate  Country  TotalAmount\n",
       "0 2012-07-04   France        440.0\n",
       "1 2012-07-04   France        440.0\n",
       "2 2012-07-04   France        440.0\n",
       "3 2012-07-05  Germany       1863.4\n",
       "4 2012-07-05  Germany       1863.4"
      ]
     },
     "execution_count": 86,
     "metadata": {},
     "output_type": "execute_result"
    }
   ],
   "source": [
    "multi1=order[['OrderDate','Country','TotalAmount']]\n",
    "\n",
    "multi1.head()"
   ]
  },
  {
   "cell_type": "code",
   "execution_count": 87,
   "metadata": {},
   "outputs": [
    {
     "name": "stdout",
     "output_type": "stream",
     "text": [
      "<class 'pandas.core.frame.DataFrame'>\n",
      "Index: 2148 entries, 0 to 2154\n",
      "Data columns (total 3 columns):\n",
      " #   Column       Non-Null Count  Dtype         \n",
      "---  ------       --------------  -----         \n",
      " 0   OrderDate    2148 non-null   datetime64[ns]\n",
      " 1   Country      2148 non-null   object        \n",
      " 2   TotalAmount  2148 non-null   float64       \n",
      "dtypes: datetime64[ns](1), float64(1), object(1)\n",
      "memory usage: 67.1+ KB\n"
     ]
    }
   ],
   "source": [
    "multi1.info()"
   ]
  },
  {
   "cell_type": "code",
   "execution_count": 88,
   "metadata": {},
   "outputs": [
    {
     "name": "stderr",
     "output_type": "stream",
     "text": [
      "C:\\Users\\Abanop\\AppData\\Local\\Temp\\ipykernel_18332\\1977030530.py:1: SettingWithCopyWarning:\n",
      "\n",
      "\n",
      "A value is trying to be set on a copy of a slice from a DataFrame.\n",
      "Try using .loc[row_indexer,col_indexer] = value instead\n",
      "\n",
      "See the caveats in the documentation: https://pandas.pydata.org/pandas-docs/stable/user_guide/indexing.html#returning-a-view-versus-a-copy\n",
      "\n"
     ]
    }
   ],
   "source": [
    "multi1.OrderDate=multi1.OrderDate.dt.to_period('M')"
   ]
  },
  {
   "cell_type": "code",
   "execution_count": 89,
   "metadata": {},
   "outputs": [
    {
     "data": {
      "text/html": [
       "<div>\n",
       "<style scoped>\n",
       "    .dataframe tbody tr th:only-of-type {\n",
       "        vertical-align: middle;\n",
       "    }\n",
       "\n",
       "    .dataframe tbody tr th {\n",
       "        vertical-align: top;\n",
       "    }\n",
       "\n",
       "    .dataframe thead th {\n",
       "        text-align: right;\n",
       "    }\n",
       "</style>\n",
       "<table border=\"1\" class=\"dataframe\">\n",
       "  <thead>\n",
       "    <tr style=\"text-align: right;\">\n",
       "      <th></th>\n",
       "      <th>OrderDate</th>\n",
       "      <th>Country</th>\n",
       "      <th>TotalAmount</th>\n",
       "    </tr>\n",
       "  </thead>\n",
       "  <tbody>\n",
       "    <tr>\n",
       "      <th>0</th>\n",
       "      <td>2012-07</td>\n",
       "      <td>France</td>\n",
       "      <td>440.0</td>\n",
       "    </tr>\n",
       "    <tr>\n",
       "      <th>1</th>\n",
       "      <td>2012-07</td>\n",
       "      <td>France</td>\n",
       "      <td>440.0</td>\n",
       "    </tr>\n",
       "    <tr>\n",
       "      <th>2</th>\n",
       "      <td>2012-07</td>\n",
       "      <td>France</td>\n",
       "      <td>440.0</td>\n",
       "    </tr>\n",
       "    <tr>\n",
       "      <th>3</th>\n",
       "      <td>2012-07</td>\n",
       "      <td>Germany</td>\n",
       "      <td>1863.4</td>\n",
       "    </tr>\n",
       "    <tr>\n",
       "      <th>4</th>\n",
       "      <td>2012-07</td>\n",
       "      <td>Germany</td>\n",
       "      <td>1863.4</td>\n",
       "    </tr>\n",
       "  </tbody>\n",
       "</table>\n",
       "</div>"
      ],
      "text/plain": [
       "  OrderDate  Country  TotalAmount\n",
       "0   2012-07   France        440.0\n",
       "1   2012-07   France        440.0\n",
       "2   2012-07   France        440.0\n",
       "3   2012-07  Germany       1863.4\n",
       "4   2012-07  Germany       1863.4"
      ]
     },
     "execution_count": 89,
     "metadata": {},
     "output_type": "execute_result"
    }
   ],
   "source": [
    "multi1.head()"
   ]
  },
  {
   "cell_type": "code",
   "execution_count": 90,
   "metadata": {},
   "outputs": [
    {
     "data": {
      "text/html": [
       "<div>\n",
       "<style scoped>\n",
       "    .dataframe tbody tr th:only-of-type {\n",
       "        vertical-align: middle;\n",
       "    }\n",
       "\n",
       "    .dataframe tbody tr th {\n",
       "        vertical-align: top;\n",
       "    }\n",
       "\n",
       "    .dataframe thead th {\n",
       "        text-align: right;\n",
       "    }\n",
       "</style>\n",
       "<table border=\"1\" class=\"dataframe\">\n",
       "  <thead>\n",
       "    <tr style=\"text-align: right;\">\n",
       "      <th></th>\n",
       "      <th>OrderDate</th>\n",
       "      <th>Country</th>\n",
       "      <th>TotalAmount</th>\n",
       "    </tr>\n",
       "  </thead>\n",
       "  <tbody>\n",
       "    <tr>\n",
       "      <th>166</th>\n",
       "      <td>2013-07</td>\n",
       "      <td>USA</td>\n",
       "      <td>100413.90</td>\n",
       "    </tr>\n",
       "    <tr>\n",
       "      <th>255</th>\n",
       "      <td>2014-01</td>\n",
       "      <td>USA</td>\n",
       "      <td>96773.20</td>\n",
       "    </tr>\n",
       "    <tr>\n",
       "      <th>206</th>\n",
       "      <td>2013-10</td>\n",
       "      <td>Germany</td>\n",
       "      <td>85770.75</td>\n",
       "    </tr>\n",
       "    <tr>\n",
       "      <th>249</th>\n",
       "      <td>2014-01</td>\n",
       "      <td>Germany</td>\n",
       "      <td>81250.45</td>\n",
       "    </tr>\n",
       "    <tr>\n",
       "      <th>118</th>\n",
       "      <td>2013-04</td>\n",
       "      <td>Germany</td>\n",
       "      <td>76687.80</td>\n",
       "    </tr>\n",
       "  </tbody>\n",
       "</table>\n",
       "</div>"
      ],
      "text/plain": [
       "    OrderDate  Country  TotalAmount\n",
       "166   2013-07      USA    100413.90\n",
       "255   2014-01      USA     96773.20\n",
       "206   2013-10  Germany     85770.75\n",
       "249   2014-01  Germany     81250.45\n",
       "118   2013-04  Germany     76687.80"
      ]
     },
     "execution_count": 90,
     "metadata": {},
     "output_type": "execute_result"
    }
   ],
   "source": [
    "multi1=multi1.groupby(['OrderDate','Country'],as_index=False)['TotalAmount'].sum().sort_values(by='TotalAmount',ascending=False)\n",
    "multi1.head()"
   ]
  },
  {
   "cell_type": "code",
   "execution_count": 91,
   "metadata": {},
   "outputs": [
    {
     "name": "stdout",
     "output_type": "stream",
     "text": [
      "<class 'pandas.core.frame.DataFrame'>\n",
      "Index: 322 entries, 166 to 228\n",
      "Data columns (total 3 columns):\n",
      " #   Column       Non-Null Count  Dtype    \n",
      "---  ------       --------------  -----    \n",
      " 0   OrderDate    322 non-null    period[M]\n",
      " 1   Country      322 non-null    object   \n",
      " 2   TotalAmount  322 non-null    float64  \n",
      "dtypes: float64(1), object(1), period[M](1)\n",
      "memory usage: 10.1+ KB\n"
     ]
    }
   ],
   "source": [
    "multi1.info()"
   ]
  },
  {
   "cell_type": "code",
   "execution_count": 92,
   "metadata": {},
   "outputs": [],
   "source": [
    "multi1.OrderDate=multi1.OrderDate.astype('datetime64[ns]')"
   ]
  },
  {
   "cell_type": "code",
   "execution_count": 93,
   "metadata": {},
   "outputs": [
    {
     "name": "stdout",
     "output_type": "stream",
     "text": [
      "<class 'pandas.core.frame.DataFrame'>\n",
      "Index: 322 entries, 166 to 228\n",
      "Data columns (total 3 columns):\n",
      " #   Column       Non-Null Count  Dtype         \n",
      "---  ------       --------------  -----         \n",
      " 0   OrderDate    322 non-null    datetime64[ns]\n",
      " 1   Country      322 non-null    object        \n",
      " 2   TotalAmount  322 non-null    float64       \n",
      "dtypes: datetime64[ns](1), float64(1), object(1)\n",
      "memory usage: 10.1+ KB\n"
     ]
    }
   ],
   "source": [
    "multi1.info()"
   ]
  },
  {
   "cell_type": "code",
   "execution_count": 94,
   "metadata": {},
   "outputs": [
    {
     "data": {
      "application/vnd.plotly.v1+json": {
       "config": {
        "plotlyServerURL": "https://plot.ly"
       },
       "data": [
        {
         "hovertemplate": "Country=USA<br>OrderDate=%{x}<br>TotalAmount=%{marker.size}<extra></extra>",
         "legendgroup": "USA",
         "marker": {
          "color": "#636efa",
          "size": [
           100413.9,
           96773.2,
           75056.96,
           64009.15,
           60762.75,
           58436.96,
           51926.1,
           46913.9,
           42753.9,
           37138,
           35499.25,
           31191.399999999998,
           29654.2,
           29119.4,
           26930,
           16649.2,
           15024.88,
           13854,
           9316,
           7265,
           6708.72,
           3226.3999999999996,
           2233
          ],
          "sizemode": "area",
          "sizeref": 251.03474999999997,
          "symbol": "circle"
         },
         "mode": "markers",
         "name": "USA",
         "orientation": "v",
         "showlegend": true,
         "type": "scatter",
         "x": [
          "2013-07-01T00:00:00",
          "2014-01-01T00:00:00",
          "2013-10-01T00:00:00",
          "2013-09-01T00:00:00",
          "2014-05-01T00:00:00",
          "2014-04-01T00:00:00",
          "2012-10-01T00:00:00",
          "2013-03-01T00:00:00",
          "2014-02-01T00:00:00",
          "2013-11-01T00:00:00",
          "2014-03-01T00:00:00",
          "2012-12-01T00:00:00",
          "2013-06-01T00:00:00",
          "2013-02-01T00:00:00",
          "2012-09-01T00:00:00",
          "2013-01-01T00:00:00",
          "2013-04-01T00:00:00",
          "2012-08-01T00:00:00",
          "2012-11-01T00:00:00",
          "2013-12-01T00:00:00",
          "2013-08-01T00:00:00",
          "2012-07-01T00:00:00",
          "2013-05-01T00:00:00"
         ],
         "xaxis": "x",
         "y": [
          100413.9,
          96773.2,
          75056.96,
          64009.15,
          60762.75,
          58436.96,
          51926.1,
          46913.9,
          42753.9,
          37138,
          35499.25,
          31191.399999999998,
          29654.2,
          29119.4,
          26930,
          16649.2,
          15024.88,
          13854,
          9316,
          7265,
          6708.72,
          3226.3999999999996,
          2233
         ],
         "yaxis": "y"
        },
        {
         "hovertemplate": "Country=Germany<br>OrderDate=%{x}<br>TotalAmount=%{marker.size}<extra></extra>",
         "legendgroup": "Germany",
         "marker": {
          "color": "#EF553B",
          "size": [
           85770.75,
           81250.45,
           76687.8,
           75359.3,
           74216.45,
           45305.8,
           41838.45,
           34274.4,
           31959.2,
           29518.899999999998,
           29057.559999999998,
           22804.6,
           22802.5,
           18822.3,
           18774.4,
           18119.2,
           17270.5,
           15372.75,
           10841.2,
           8151.599999999999,
           7580.85,
           5797.8,
           4555.2
          ],
          "sizemode": "area",
          "sizeref": 251.03474999999997,
          "symbol": "circle"
         },
         "mode": "markers",
         "name": "Germany",
         "orientation": "v",
         "showlegend": true,
         "type": "scatter",
         "x": [
          "2013-10-01T00:00:00",
          "2014-01-01T00:00:00",
          "2013-04-01T00:00:00",
          "2013-05-01T00:00:00",
          "2014-04-01T00:00:00",
          "2013-09-01T00:00:00",
          "2014-03-01T00:00:00",
          "2012-10-01T00:00:00",
          "2012-08-01T00:00:00",
          "2014-02-01T00:00:00",
          "2013-12-01T00:00:00",
          "2012-07-01T00:00:00",
          "2013-02-01T00:00:00",
          "2013-07-01T00:00:00",
          "2012-11-01T00:00:00",
          "2013-11-01T00:00:00",
          "2013-06-01T00:00:00",
          "2013-08-01T00:00:00",
          "2013-01-01T00:00:00",
          "2012-09-01T00:00:00",
          "2014-05-01T00:00:00",
          "2012-12-01T00:00:00",
          "2013-03-01T00:00:00"
         ],
         "xaxis": "x",
         "y": [
          85770.75,
          81250.45,
          76687.8,
          75359.3,
          74216.45,
          45305.8,
          41838.45,
          34274.4,
          31959.2,
          29518.899999999998,
          29057.559999999998,
          22804.6,
          22802.5,
          18822.3,
          18774.4,
          18119.2,
          17270.5,
          15372.75,
          10841.2,
          8151.599999999999,
          7580.85,
          5797.8,
          4555.2
         ],
         "yaxis": "y"
        },
        {
         "hovertemplate": "Country=Austria<br>OrderDate=%{x}<br>TotalAmount=%{marker.size}<extra></extra>",
         "legendgroup": "Austria",
         "marker": {
          "color": "#00cc96",
          "size": [
           65660.75,
           51530.4,
           45009.25,
           43117.25,
           33105,
           31273.8,
           31242.5,
           25932.2,
           25517.6,
           25040.8,
           21300.3,
           20872,
           18003.65,
           16720,
           15915,
           7651.4,
           7118.9,
           5376,
           1295.5,
           1004.4
          ],
          "sizemode": "area",
          "sizeref": 251.03474999999997,
          "symbol": "circle"
         },
         "mode": "markers",
         "name": "Austria",
         "orientation": "v",
         "showlegend": true,
         "type": "scatter",
         "x": [
          "2014-04-01T00:00:00",
          "2012-11-01T00:00:00",
          "2013-12-01T00:00:00",
          "2013-04-01T00:00:00",
          "2014-03-01T00:00:00",
          "2013-01-01T00:00:00",
          "2014-01-01T00:00:00",
          "2013-08-01T00:00:00",
          "2014-02-01T00:00:00",
          "2012-12-01T00:00:00",
          "2013-07-01T00:00:00",
          "2014-05-01T00:00:00",
          "2013-10-01T00:00:00",
          "2013-05-01T00:00:00",
          "2012-07-01T00:00:00",
          "2013-11-01T00:00:00",
          "2013-09-01T00:00:00",
          "2013-02-01T00:00:00",
          "2013-06-01T00:00:00",
          "2013-03-01T00:00:00"
         ],
         "xaxis": "x",
         "y": [
          65660.75,
          51530.4,
          45009.25,
          43117.25,
          33105,
          31273.8,
          31242.5,
          25932.2,
          25517.6,
          25040.8,
          21300.3,
          20872,
          18003.65,
          16720,
          15915,
          7651.4,
          7118.9,
          5376,
          1295.5,
          1004.4
         ],
         "yaxis": "y"
        },
        {
         "hovertemplate": "Country=Brazil<br>OrderDate=%{x}<br>TotalAmount=%{marker.size}<extra></extra>",
         "legendgroup": "Brazil",
         "marker": {
          "color": "#ab63fa",
          "size": [
           52334.4,
           26183.2,
           25277,
           25147.239999999998,
           24732.35,
           16321.9,
           15475.849999999999,
           14402.4,
           13143.5,
           11705,
           11270.8,
           9682.05,
           8651.2,
           7154.400000000001,
           6941.66,
           6803.639999999999,
           6151.3,
           3712,
           3584,
           2743.2,
           2317.5,
           699
          ],
          "sizemode": "area",
          "sizeref": 251.03474999999997,
          "symbol": "circle"
         },
         "mode": "markers",
         "name": "Brazil",
         "orientation": "v",
         "showlegend": true,
         "type": "scatter",
         "x": [
          "2012-12-01T00:00:00",
          "2014-02-01T00:00:00",
          "2013-01-01T00:00:00",
          "2014-01-01T00:00:00",
          "2013-08-01T00:00:00",
          "2013-10-01T00:00:00",
          "2013-12-01T00:00:00",
          "2012-08-01T00:00:00",
          "2014-04-01T00:00:00",
          "2012-07-01T00:00:00",
          "2014-03-01T00:00:00",
          "2013-11-01T00:00:00",
          "2013-05-01T00:00:00",
          "2014-05-01T00:00:00",
          "2013-09-01T00:00:00",
          "2013-07-01T00:00:00",
          "2013-03-01T00:00:00",
          "2012-11-01T00:00:00",
          "2013-04-01T00:00:00",
          "2013-02-01T00:00:00",
          "2013-06-01T00:00:00",
          "2012-09-01T00:00:00"
         ],
         "xaxis": "x",
         "y": [
          52334.4,
          26183.2,
          25277,
          25147.239999999998,
          24732.35,
          16321.9,
          15475.849999999999,
          14402.4,
          13143.5,
          11705,
          11270.8,
          9682.05,
          8651.2,
          7154.400000000001,
          6941.66,
          6803.639999999999,
          6151.3,
          3712,
          3584,
          2743.2,
          2317.5,
          699
         ],
         "yaxis": "y"
        },
        {
         "hovertemplate": "Country=Canada<br>OrderDate=%{x}<br>TotalAmount=%{marker.size}<extra></extra>",
         "legendgroup": "Canada",
         "marker": {
          "color": "#FFA15A",
          "size": [
           47278.100000000006,
           28428.3,
           19584,
           17090.399999999998,
           10727.5,
           9354,
           7751.2,
           6612,
           5484.6,
           4312,
           2773.9,
           1277,
           561
          ],
          "sizemode": "area",
          "sizeref": 251.03474999999997,
          "symbol": "circle"
         },
         "mode": "markers",
         "name": "Canada",
         "orientation": "v",
         "showlegend": true,
         "type": "scatter",
         "x": [
          "2013-01-01T00:00:00",
          "2014-03-01T00:00:00",
          "2013-07-01T00:00:00",
          "2012-10-01T00:00:00",
          "2013-08-01T00:00:00",
          "2013-11-01T00:00:00",
          "2012-12-01T00:00:00",
          "2013-06-01T00:00:00",
          "2014-04-01T00:00:00",
          "2013-02-01T00:00:00",
          "2013-04-01T00:00:00",
          "2013-10-01T00:00:00",
          "2014-01-01T00:00:00"
         ],
         "xaxis": "x",
         "y": [
          47278.100000000006,
          28428.3,
          19584,
          17090.399999999998,
          10727.5,
          9354,
          7751.2,
          6612,
          5484.6,
          4312,
          2773.9,
          1277,
          561
         ],
         "yaxis": "y"
        },
        {
         "hovertemplate": "Country=Denmark<br>OrderDate=%{x}<br>TotalAmount=%{marker.size}<extra></extra>",
         "legendgroup": "Denmark",
         "marker": {
          "color": "#19d3f3",
          "size": [
           45132.8,
           22511,
           13595,
           10470,
           8094.5,
           7062.4,
           3336.8,
           2502.5,
           1740,
           990,
           920,
           835.2,
           824,
           570,
           244.3
          ],
          "sizemode": "area",
          "sizeref": 251.03474999999997,
          "symbol": "circle"
         },
         "mode": "markers",
         "name": "Denmark",
         "orientation": "v",
         "showlegend": true,
         "type": "scatter",
         "x": [
          "2013-01-01T00:00:00",
          "2013-12-01T00:00:00",
          "2013-03-01T00:00:00",
          "2013-10-01T00:00:00",
          "2014-03-01T00:00:00",
          "2012-12-01T00:00:00",
          "2012-11-01T00:00:00",
          "2013-07-01T00:00:00",
          "2013-08-01T00:00:00",
          "2014-04-01T00:00:00",
          "2013-11-01T00:00:00",
          "2013-06-01T00:00:00",
          "2012-10-01T00:00:00",
          "2013-09-01T00:00:00",
          "2014-05-01T00:00:00"
         ],
         "xaxis": "x",
         "y": [
          45132.8,
          22511,
          13595,
          10470,
          8094.5,
          7062.4,
          3336.8,
          2502.5,
          1740,
          990,
          920,
          835.2,
          824,
          570,
          244.3
         ],
         "yaxis": "y"
        },
        {
         "hovertemplate": "Country=France<br>OrderDate=%{x}<br>TotalAmount=%{marker.size}<extra></extra>",
         "legendgroup": "France",
         "marker": {
          "color": "#FF6692",
          "size": [
           44382.6,
           23833.9,
           22898.21,
           21726.600000000002,
           20454,
           19118.8,
           13093.2,
           12196.8,
           12129.6,
           10773,
           10128,
           9579.3,
           8071.3,
           7840.6,
           7470.4,
           5684.4,
           3499.2,
           3171,
           2592,
           1671,
           1077.2,
           255,
           91.2
          ],
          "sizemode": "area",
          "sizeref": 251.03474999999997,
          "symbol": "circle"
         },
         "mode": "markers",
         "name": "France",
         "orientation": "v",
         "showlegend": true,
         "type": "scatter",
         "x": [
          "2012-11-01T00:00:00",
          "2013-12-01T00:00:00",
          "2014-03-01T00:00:00",
          "2013-02-01T00:00:00",
          "2013-08-01T00:00:00",
          "2014-01-01T00:00:00",
          "2013-11-01T00:00:00",
          "2013-01-01T00:00:00",
          "2013-04-01T00:00:00",
          "2014-02-01T00:00:00",
          "2013-05-01T00:00:00",
          "2013-09-01T00:00:00",
          "2012-10-01T00:00:00",
          "2013-06-01T00:00:00",
          "2013-03-01T00:00:00",
          "2012-07-01T00:00:00",
          "2012-09-01T00:00:00",
          "2014-05-01T00:00:00",
          "2013-10-01T00:00:00",
          "2013-07-01T00:00:00",
          "2012-08-01T00:00:00",
          "2014-04-01T00:00:00",
          "2012-12-01T00:00:00"
         ],
         "xaxis": "x",
         "y": [
          44382.6,
          23833.9,
          22898.21,
          21726.600000000002,
          20454,
          19118.8,
          13093.2,
          12196.8,
          12129.6,
          10773,
          10128,
          9579.3,
          8071.3,
          7840.6,
          7470.4,
          5684.4,
          3499.2,
          3171,
          2592,
          1671,
          1077.2,
          255,
          91.2
         ],
         "yaxis": "y"
        },
        {
         "hovertemplate": "Country=Ireland<br>OrderDate=%{x}<br>TotalAmount=%{marker.size}<extra></extra>",
         "legendgroup": "Ireland",
         "marker": {
          "color": "#B6E880",
          "size": [
           38205.28,
           21318,
           20012.199999999997,
           12586.8,
           11940.5,
           10180.8,
           9327,
           9095.2,
           7712,
           6744.599999999999,
           4336.5,
           3497,
           1994
          ],
          "sizemode": "area",
          "sizeref": 251.03474999999997,
          "symbol": "circle"
         },
         "mode": "markers",
         "name": "Ireland",
         "orientation": "v",
         "showlegend": true,
         "type": "scatter",
         "x": [
          "2014-02-01T00:00:00",
          "2012-09-01T00:00:00",
          "2013-09-01T00:00:00",
          "2013-10-01T00:00:00",
          "2013-04-01T00:00:00",
          "2012-10-01T00:00:00",
          "2013-06-01T00:00:00",
          "2012-12-01T00:00:00",
          "2013-08-01T00:00:00",
          "2014-03-01T00:00:00",
          "2014-04-01T00:00:00",
          "2013-01-01T00:00:00",
          "2013-11-01T00:00:00"
         ],
         "xaxis": "x",
         "y": [
          38205.28,
          21318,
          20012.199999999997,
          12586.8,
          11940.5,
          10180.8,
          9327,
          9095.2,
          7712,
          6744.599999999999,
          4336.5,
          3497,
          1994
         ],
         "yaxis": "y"
        },
        {
         "hovertemplate": "Country=Venezuela<br>OrderDate=%{x}<br>TotalAmount=%{marker.size}<extra></extra>",
         "legendgroup": "Venezuela",
         "marker": {
          "color": "#FF97FF",
          "size": [
           25480.2,
           23267.5,
           20710.4,
           17730.1,
           13727.32,
           12268.150000000001,
           7111.599999999999,
           6154.799999999999,
           5659.2,
           5562.1,
           5550,
           5301,
           5286,
           5051.6,
           4549,
           4080,
           3880,
           3151.7999999999997,
           3051,
           1525.12,
           400
          ],
          "sizemode": "area",
          "sizeref": 251.03474999999997,
          "symbol": "circle"
         },
         "mode": "markers",
         "name": "Venezuela",
         "orientation": "v",
         "showlegend": true,
         "type": "scatter",
         "x": [
          "2014-04-01T00:00:00",
          "2014-01-01T00:00:00",
          "2013-03-01T00:00:00",
          "2014-03-01T00:00:00",
          "2013-12-01T00:00:00",
          "2013-08-01T00:00:00",
          "2012-12-01T00:00:00",
          "2013-02-01T00:00:00",
          "2012-08-01T00:00:00",
          "2012-07-01T00:00:00",
          "2013-11-01T00:00:00",
          "2013-05-01T00:00:00",
          "2013-07-01T00:00:00",
          "2013-10-01T00:00:00",
          "2013-04-01T00:00:00",
          "2012-11-01T00:00:00",
          "2012-10-01T00:00:00",
          "2012-09-01T00:00:00",
          "2014-02-01T00:00:00",
          "2014-05-01T00:00:00",
          "2013-01-01T00:00:00"
         ],
         "xaxis": "x",
         "y": [
          25480.2,
          23267.5,
          20710.4,
          17730.1,
          13727.32,
          12268.150000000001,
          7111.599999999999,
          6154.799999999999,
          5659.2,
          5562.1,
          5550,
          5301,
          5286,
          5051.6,
          4549,
          4080,
          3880,
          3151.7999999999997,
          3051,
          1525.12,
          400
         ],
         "yaxis": "y"
        },
        {
         "hovertemplate": "Country=UK<br>OrderDate=%{x}<br>TotalAmount=%{marker.size}<extra></extra>",
         "legendgroup": "UK",
         "marker": {
          "color": "#FECB52",
          "size": [
           25296.239999999998,
           22250.2,
           18951.05,
           17973.9,
           13823.2,
           11668.5,
           9189,
           8919,
           8551,
           7084,
           6689.8,
           5675,
           5112,
           3034,
           2800.8,
           1056,
           1033.6,
           958.8,
           624.8,
           493,
           45
          ],
          "sizemode": "area",
          "sizeref": 251.03474999999997,
          "symbol": "circle"
         },
         "mode": "markers",
         "name": "UK",
         "orientation": "v",
         "showlegend": true,
         "type": "scatter",
         "x": [
          "2014-04-01T00:00:00",
          "2014-03-01T00:00:00",
          "2013-12-01T00:00:00",
          "2013-05-01T00:00:00",
          "2012-11-01T00:00:00",
          "2013-06-01T00:00:00",
          "2013-01-01T00:00:00",
          "2014-01-01T00:00:00",
          "2012-12-01T00:00:00",
          "2014-02-01T00:00:00",
          "2013-03-01T00:00:00",
          "2013-11-01T00:00:00",
          "2013-10-01T00:00:00",
          "2013-08-01T00:00:00",
          "2013-02-01T00:00:00",
          "2013-04-01T00:00:00",
          "2012-09-01T00:00:00",
          "2012-08-01T00:00:00",
          "2012-10-01T00:00:00",
          "2013-07-01T00:00:00",
          "2013-09-01T00:00:00"
         ],
         "xaxis": "x",
         "y": [
          25296.239999999998,
          22250.2,
          18951.05,
          17973.9,
          13823.2,
          11668.5,
          9189,
          8919,
          8551,
          7084,
          6689.8,
          5675,
          5112,
          3034,
          2800.8,
          1056,
          1033.6,
          958.8,
          624.8,
          493,
          45
         ],
         "yaxis": "y"
        },
        {
         "hovertemplate": "Country=Sweden<br>OrderDate=%{x}<br>TotalAmount=%{marker.size}<extra></extra>",
         "legendgroup": "Sweden",
         "marker": {
          "color": "#636efa",
          "size": [
           25030.5,
           19656.2,
           19194.5,
           15438.5,
           14229.9,
           13410.449999999999,
           11951.6,
           10427.1,
           9050,
           8265,
           7794.8,
           5666.2,
           4548,
           4510.799999999999,
           4377,
           1449
          ],
          "sizemode": "area",
          "sizeref": 251.03474999999997,
          "symbol": "circle"
         },
         "mode": "markers",
         "name": "Sweden",
         "orientation": "v",
         "showlegend": true,
         "type": "scatter",
         "x": [
          "2014-04-01T00:00:00",
          "2013-05-01T00:00:00",
          "2013-12-01T00:00:00",
          "2014-03-01T00:00:00",
          "2014-02-01T00:00:00",
          "2014-01-01T00:00:00",
          "2013-06-01T00:00:00",
          "2013-09-01T00:00:00",
          "2012-10-01T00:00:00",
          "2013-10-01T00:00:00",
          "2012-08-01T00:00:00",
          "2013-02-01T00:00:00",
          "2012-12-01T00:00:00",
          "2013-08-01T00:00:00",
          "2013-11-01T00:00:00",
          "2012-07-01T00:00:00"
         ],
         "xaxis": "x",
         "y": [
          25030.5,
          19656.2,
          19194.5,
          15438.5,
          14229.9,
          13410.449999999999,
          11951.6,
          10427.1,
          9050,
          8265,
          7794.8,
          5666.2,
          4548,
          4510.799999999999,
          4377,
          1449
         ],
         "yaxis": "y"
        },
        {
         "hovertemplate": "Country=Switzerland<br>OrderDate=%{x}<br>TotalAmount=%{marker.size}<extra></extra>",
         "legendgroup": "Switzerland",
         "marker": {
          "color": "#EF553B",
          "size": [
           24966.44,
           13531.6,
           11837.6,
           9333.88,
           9119,
           7068,
           6889.5,
           4416,
           3522,
           1758
          ],
          "sizemode": "area",
          "sizeref": 251.03474999999997,
          "symbol": "circle"
         },
         "mode": "markers",
         "name": "Switzerland",
         "orientation": "v",
         "showlegend": true,
         "type": "scatter",
         "x": [
          "2013-11-01T00:00:00",
          "2014-04-01T00:00:00",
          "2012-07-01T00:00:00",
          "2013-09-01T00:00:00",
          "2013-05-01T00:00:00",
          "2013-04-01T00:00:00",
          "2014-03-01T00:00:00",
          "2013-01-01T00:00:00",
          "2012-12-01T00:00:00",
          "2014-05-01T00:00:00"
         ],
         "xaxis": "x",
         "y": [
          24966.44,
          13531.6,
          11837.6,
          9333.88,
          9119,
          7068,
          6889.5,
          4416,
          3522,
          1758
         ],
         "yaxis": "y"
        },
        {
         "hovertemplate": "Country=Belgium<br>OrderDate=%{x}<br>TotalAmount=%{marker.size}<extra></extra>",
         "legendgroup": "Belgium",
         "marker": {
          "color": "#00cc96",
          "size": [
           21660,
           19455,
           15822.8,
           11190,
           9940,
           9861.76,
           8537,
           8126.400000000001,
           6739,
           2868,
           2838
          ],
          "sizemode": "area",
          "sizeref": 251.03474999999997,
          "symbol": "circle"
         },
         "mode": "markers",
         "name": "Belgium",
         "orientation": "v",
         "showlegend": true,
         "type": "scatter",
         "x": [
          "2014-01-01T00:00:00",
          "2013-02-01T00:00:00",
          "2014-03-01T00:00:00",
          "2012-07-01T00:00:00",
          "2013-12-01T00:00:00",
          "2014-04-01T00:00:00",
          "2014-02-01T00:00:00",
          "2012-09-01T00:00:00",
          "2013-03-01T00:00:00",
          "2013-08-01T00:00:00",
          "2013-05-01T00:00:00"
         ],
         "xaxis": "x",
         "y": [
          21660,
          19455,
          15822.8,
          11190,
          9940,
          9861.76,
          8537,
          8126.400000000001,
          6739,
          2868,
          2838
         ],
         "yaxis": "y"
        },
        {
         "hovertemplate": "Country=Mexico<br>OrderDate=%{x}<br>TotalAmount=%{marker.size}<extra></extra>",
         "legendgroup": "Mexico",
         "marker": {
          "color": "#ab63fa",
          "size": [
           16661.55,
           8761.35,
           8626,
           5220,
           4996.4,
           4644.85,
           4234.8,
           3685.6000000000004,
           3040.7999999999997,
           2392,
           2057.6,
           1618.5,
           1540.8,
           1439.25,
           960,
           320,
           201.6
          ],
          "sizemode": "area",
          "sizeref": 251.03474999999997,
          "symbol": "circle"
         },
         "mode": "markers",
         "name": "Mexico",
         "orientation": "v",
         "showlegend": true,
         "type": "scatter",
         "x": [
          "2013-04-01T00:00:00",
          "2013-06-01T00:00:00",
          "2013-05-01T00:00:00",
          "2014-01-01T00:00:00",
          "2013-03-01T00:00:00",
          "2013-09-01T00:00:00",
          "2012-08-01T00:00:00",
          "2012-10-01T00:00:00",
          "2012-09-01T00:00:00",
          "2014-04-01T00:00:00",
          "2014-03-01T00:00:00",
          "2014-02-01T00:00:00",
          "2012-11-01T00:00:00",
          "2013-08-01T00:00:00",
          "2014-05-01T00:00:00",
          "2013-11-01T00:00:00",
          "2012-07-01T00:00:00"
         ],
         "xaxis": "x",
         "y": [
          16661.55,
          8761.35,
          8626,
          5220,
          4996.4,
          4644.85,
          4234.8,
          3685.6000000000004,
          3040.7999999999997,
          2392,
          2057.6,
          1618.5,
          1540.8,
          1439.25,
          960,
          320,
          201.6
         ],
         "yaxis": "y"
        },
        {
         "hovertemplate": "Country=Spain<br>OrderDate=%{x}<br>TotalAmount=%{marker.size}<extra></extra>",
         "legendgroup": "Spain",
         "marker": {
          "color": "#FFA15A",
          "size": [
           12831.2,
           8373.529999999999,
           8071.6,
           5550.1,
           5221.5,
           3610,
           2996,
           2946,
           676.4,
           570.3,
           272,
           155
          ],
          "sizemode": "area",
          "sizeref": 251.03474999999997,
          "symbol": "circle"
         },
         "mode": "markers",
         "name": "Spain",
         "orientation": "v",
         "showlegend": true,
         "type": "scatter",
         "x": [
          "2014-02-01T00:00:00",
          "2014-03-01T00:00:00",
          "2013-12-01T00:00:00",
          "2013-08-01T00:00:00",
          "2012-09-01T00:00:00",
          "2014-04-01T00:00:00",
          "2013-05-01T00:00:00",
          "2012-10-01T00:00:00",
          "2013-01-01T00:00:00",
          "2012-08-01T00:00:00",
          "2012-11-01T00:00:00",
          "2013-06-01T00:00:00"
         ],
         "xaxis": "x",
         "y": [
          12831.2,
          8373.529999999999,
          8071.6,
          5550.1,
          5221.5,
          3610,
          2996,
          2946,
          676.4,
          570.3,
          272,
          155
         ],
         "yaxis": "y"
        },
        {
         "hovertemplate": "Country=Argentina<br>OrderDate=%{x}<br>TotalAmount=%{marker.size}<extra></extra>",
         "legendgroup": "Argentina",
         "marker": {
          "color": "#19d3f3",
          "size": [
           12512.6,
           2818,
           2240.1000000000004,
           2118,
           886.8,
           762,
           676.5,
           638.4,
           110,
           12.5
          ],
          "sizemode": "area",
          "sizeref": 251.03474999999997,
          "symbol": "circle"
         },
         "mode": "markers",
         "name": "Argentina",
         "orientation": "v",
         "showlegend": true,
         "type": "scatter",
         "x": [
          "2014-03-01T00:00:00",
          "2014-01-01T00:00:00",
          "2014-02-01T00:00:00",
          "2013-10-01T00:00:00",
          "2013-02-01T00:00:00",
          "2014-04-01T00:00:00",
          "2013-04-01T00:00:00",
          "2013-01-01T00:00:00",
          "2013-05-01T00:00:00",
          "2013-12-01T00:00:00"
         ],
         "xaxis": "x",
         "y": [
          12512.6,
          2818,
          2240.1000000000004,
          2118,
          886.8,
          762,
          676.5,
          638.4,
          110,
          12.5
         ],
         "yaxis": "y"
        },
        {
         "hovertemplate": "Country=Finland<br>OrderDate=%{x}<br>TotalAmount=%{marker.size}<extra></extra>",
         "legendgroup": "Finland",
         "marker": {
          "color": "#FF6692",
          "size": [
           11763.5,
           11129,
           7241.700000000001,
           5613.75,
           3866.2,
           3397.0499999999997,
           3378,
           2752,
           2532,
           1926,
           1772,
           1259,
           1237.0500000000002,
           364.8,
           120
          ],
          "sizemode": "area",
          "sizeref": 251.03474999999997,
          "symbol": "circle"
         },
         "mode": "markers",
         "name": "Finland",
         "orientation": "v",
         "showlegend": true,
         "type": "scatter",
         "x": [
          "2013-05-01T00:00:00",
          "2013-02-01T00:00:00",
          "2013-06-01T00:00:00",
          "2013-11-01T00:00:00",
          "2014-02-01T00:00:00",
          "2013-12-01T00:00:00",
          "2012-10-01T00:00:00",
          "2012-08-01T00:00:00",
          "2013-01-01T00:00:00",
          "2013-10-01T00:00:00",
          "2014-04-01T00:00:00",
          "2013-08-01T00:00:00",
          "2013-09-01T00:00:00",
          "2012-07-01T00:00:00",
          "2013-07-01T00:00:00"
         ],
         "xaxis": "x",
         "y": [
          11763.5,
          11129,
          7241.700000000001,
          5613.75,
          3866.2,
          3397.0499999999997,
          3378,
          2752,
          2532,
          1926,
          1772,
          1259,
          1237.0500000000002,
          364.8,
          120
         ],
         "yaxis": "y"
        },
        {
         "hovertemplate": "Country=Norway<br>OrderDate=%{x}<br>TotalAmount=%{marker.size}<extra></extra>",
         "legendgroup": "Norway",
         "marker": {
          "color": "#B6E880",
          "size": [
           10737.6,
           4233.6,
           2010,
           1244.7,
           500,
           400
          ],
          "sizemode": "area",
          "sizeref": 251.03474999999997,
          "symbol": "circle"
         },
         "mode": "markers",
         "name": "Norway",
         "orientation": "v",
         "showlegend": true,
         "type": "scatter",
         "x": [
          "2014-01-01T00:00:00",
          "2012-12-01T00:00:00",
          "2014-02-01T00:00:00",
          "2014-04-01T00:00:00",
          "2013-08-01T00:00:00",
          "2013-04-01T00:00:00"
         ],
         "xaxis": "x",
         "y": [
          10737.6,
          4233.6,
          2010,
          1244.7,
          500,
          400
         ],
         "yaxis": "y"
        },
        {
         "hovertemplate": "Country=Portugal<br>OrderDate=%{x}<br>TotalAmount=%{marker.size}<extra></extra>",
         "legendgroup": "Portugal",
         "marker": {
          "color": "#FF97FF",
          "size": [
           10018.6,
           7901.700000000001,
           5508,
           4547.25,
           3820.8,
           1686.4,
           851.2,
           513,
           308,
           68
          ],
          "sizemode": "area",
          "sizeref": 251.03474999999997,
          "symbol": "circle"
         },
         "mode": "markers",
         "name": "Portugal",
         "orientation": "v",
         "showlegend": true,
         "type": "scatter",
         "x": [
          "2013-03-01T00:00:00",
          "2014-04-01T00:00:00",
          "2013-05-01T00:00:00",
          "2013-09-01T00:00:00",
          "2012-10-01T00:00:00",
          "2012-12-01T00:00:00",
          "2013-02-01T00:00:00",
          "2013-07-01T00:00:00",
          "2012-11-01T00:00:00",
          "2014-03-01T00:00:00"
         ],
         "xaxis": "x",
         "y": [
          10018.6,
          7901.700000000001,
          5508,
          4547.25,
          3820.8,
          1686.4,
          851.2,
          513,
          308,
          68
         ],
         "yaxis": "y"
        },
        {
         "hovertemplate": "Country=Italy<br>OrderDate=%{x}<br>TotalAmount=%{marker.size}<extra></extra>",
         "legendgroup": "Italy",
         "marker": {
          "color": "#FECB52",
          "size": [
           7222,
           5361.2,
           5266.8,
           4968.4,
           4898,
           4140.75,
           2170,
           1396,
           1216,
           1086,
           1075.2,
           792.4,
           470.4,
           193,
           187,
           28
          ],
          "sizemode": "area",
          "sizeref": 251.03474999999997,
          "symbol": "circle"
         },
         "mode": "markers",
         "name": "Italy",
         "orientation": "v",
         "showlegend": true,
         "type": "scatter",
         "x": [
          "2014-01-01T00:00:00",
          "2013-11-01T00:00:00",
          "2013-01-01T00:00:00",
          "2013-12-01T00:00:00",
          "2014-04-01T00:00:00",
          "2013-08-01T00:00:00",
          "2014-03-01T00:00:00",
          "2014-02-01T00:00:00",
          "2012-09-01T00:00:00",
          "2013-06-01T00:00:00",
          "2013-02-01T00:00:00",
          "2012-08-01T00:00:00",
          "2013-03-01T00:00:00",
          "2013-09-01T00:00:00",
          "2013-10-01T00:00:00",
          "2013-07-01T00:00:00"
         ],
         "xaxis": "x",
         "y": [
          7222,
          5361.2,
          5266.8,
          4968.4,
          4898,
          4140.75,
          2170,
          1396,
          1216,
          1086,
          1075.2,
          792.4,
          470.4,
          193,
          187,
          28
         ],
         "yaxis": "y"
        },
        {
         "hovertemplate": "Country=Poland<br>OrderDate=%{x}<br>TotalAmount=%{marker.size}<extra></extra>",
         "legendgroup": "Poland",
         "marker": {
          "color": "#636efa",
          "size": [
           3335.6,
           2424,
           1199.5500000000002,
           918,
           747.5
          ],
          "sizemode": "area",
          "sizeref": 251.03474999999997,
          "symbol": "circle"
         },
         "mode": "markers",
         "name": "Poland",
         "orientation": "v",
         "showlegend": true,
         "type": "scatter",
         "x": [
          "2014-04-01T00:00:00",
          "2013-07-01T00:00:00",
          "2013-12-01T00:00:00",
          "2012-12-01T00:00:00",
          "2014-02-01T00:00:00"
         ],
         "xaxis": "x",
         "y": [
          3335.6,
          2424,
          1199.5500000000002,
          918,
          747.5
         ],
         "yaxis": "y"
        }
       ],
       "layout": {
        "legend": {
         "itemsizing": "constant",
         "title": {
          "text": "Country"
         },
         "tracegroupgap": 0
        },
        "margin": {
         "t": 60
        },
        "template": {
         "data": {
          "bar": [
           {
            "error_x": {
             "color": "#2a3f5f"
            },
            "error_y": {
             "color": "#2a3f5f"
            },
            "marker": {
             "line": {
              "color": "#E5ECF6",
              "width": 0.5
             },
             "pattern": {
              "fillmode": "overlay",
              "size": 10,
              "solidity": 0.2
             }
            },
            "type": "bar"
           }
          ],
          "barpolar": [
           {
            "marker": {
             "line": {
              "color": "#E5ECF6",
              "width": 0.5
             },
             "pattern": {
              "fillmode": "overlay",
              "size": 10,
              "solidity": 0.2
             }
            },
            "type": "barpolar"
           }
          ],
          "carpet": [
           {
            "aaxis": {
             "endlinecolor": "#2a3f5f",
             "gridcolor": "white",
             "linecolor": "white",
             "minorgridcolor": "white",
             "startlinecolor": "#2a3f5f"
            },
            "baxis": {
             "endlinecolor": "#2a3f5f",
             "gridcolor": "white",
             "linecolor": "white",
             "minorgridcolor": "white",
             "startlinecolor": "#2a3f5f"
            },
            "type": "carpet"
           }
          ],
          "choropleth": [
           {
            "colorbar": {
             "outlinewidth": 0,
             "ticks": ""
            },
            "type": "choropleth"
           }
          ],
          "contour": [
           {
            "colorbar": {
             "outlinewidth": 0,
             "ticks": ""
            },
            "colorscale": [
             [
              0,
              "#0d0887"
             ],
             [
              0.1111111111111111,
              "#46039f"
             ],
             [
              0.2222222222222222,
              "#7201a8"
             ],
             [
              0.3333333333333333,
              "#9c179e"
             ],
             [
              0.4444444444444444,
              "#bd3786"
             ],
             [
              0.5555555555555556,
              "#d8576b"
             ],
             [
              0.6666666666666666,
              "#ed7953"
             ],
             [
              0.7777777777777778,
              "#fb9f3a"
             ],
             [
              0.8888888888888888,
              "#fdca26"
             ],
             [
              1,
              "#f0f921"
             ]
            ],
            "type": "contour"
           }
          ],
          "contourcarpet": [
           {
            "colorbar": {
             "outlinewidth": 0,
             "ticks": ""
            },
            "type": "contourcarpet"
           }
          ],
          "heatmap": [
           {
            "colorbar": {
             "outlinewidth": 0,
             "ticks": ""
            },
            "colorscale": [
             [
              0,
              "#0d0887"
             ],
             [
              0.1111111111111111,
              "#46039f"
             ],
             [
              0.2222222222222222,
              "#7201a8"
             ],
             [
              0.3333333333333333,
              "#9c179e"
             ],
             [
              0.4444444444444444,
              "#bd3786"
             ],
             [
              0.5555555555555556,
              "#d8576b"
             ],
             [
              0.6666666666666666,
              "#ed7953"
             ],
             [
              0.7777777777777778,
              "#fb9f3a"
             ],
             [
              0.8888888888888888,
              "#fdca26"
             ],
             [
              1,
              "#f0f921"
             ]
            ],
            "type": "heatmap"
           }
          ],
          "heatmapgl": [
           {
            "colorbar": {
             "outlinewidth": 0,
             "ticks": ""
            },
            "colorscale": [
             [
              0,
              "#0d0887"
             ],
             [
              0.1111111111111111,
              "#46039f"
             ],
             [
              0.2222222222222222,
              "#7201a8"
             ],
             [
              0.3333333333333333,
              "#9c179e"
             ],
             [
              0.4444444444444444,
              "#bd3786"
             ],
             [
              0.5555555555555556,
              "#d8576b"
             ],
             [
              0.6666666666666666,
              "#ed7953"
             ],
             [
              0.7777777777777778,
              "#fb9f3a"
             ],
             [
              0.8888888888888888,
              "#fdca26"
             ],
             [
              1,
              "#f0f921"
             ]
            ],
            "type": "heatmapgl"
           }
          ],
          "histogram": [
           {
            "marker": {
             "pattern": {
              "fillmode": "overlay",
              "size": 10,
              "solidity": 0.2
             }
            },
            "type": "histogram"
           }
          ],
          "histogram2d": [
           {
            "colorbar": {
             "outlinewidth": 0,
             "ticks": ""
            },
            "colorscale": [
             [
              0,
              "#0d0887"
             ],
             [
              0.1111111111111111,
              "#46039f"
             ],
             [
              0.2222222222222222,
              "#7201a8"
             ],
             [
              0.3333333333333333,
              "#9c179e"
             ],
             [
              0.4444444444444444,
              "#bd3786"
             ],
             [
              0.5555555555555556,
              "#d8576b"
             ],
             [
              0.6666666666666666,
              "#ed7953"
             ],
             [
              0.7777777777777778,
              "#fb9f3a"
             ],
             [
              0.8888888888888888,
              "#fdca26"
             ],
             [
              1,
              "#f0f921"
             ]
            ],
            "type": "histogram2d"
           }
          ],
          "histogram2dcontour": [
           {
            "colorbar": {
             "outlinewidth": 0,
             "ticks": ""
            },
            "colorscale": [
             [
              0,
              "#0d0887"
             ],
             [
              0.1111111111111111,
              "#46039f"
             ],
             [
              0.2222222222222222,
              "#7201a8"
             ],
             [
              0.3333333333333333,
              "#9c179e"
             ],
             [
              0.4444444444444444,
              "#bd3786"
             ],
             [
              0.5555555555555556,
              "#d8576b"
             ],
             [
              0.6666666666666666,
              "#ed7953"
             ],
             [
              0.7777777777777778,
              "#fb9f3a"
             ],
             [
              0.8888888888888888,
              "#fdca26"
             ],
             [
              1,
              "#f0f921"
             ]
            ],
            "type": "histogram2dcontour"
           }
          ],
          "mesh3d": [
           {
            "colorbar": {
             "outlinewidth": 0,
             "ticks": ""
            },
            "type": "mesh3d"
           }
          ],
          "parcoords": [
           {
            "line": {
             "colorbar": {
              "outlinewidth": 0,
              "ticks": ""
             }
            },
            "type": "parcoords"
           }
          ],
          "pie": [
           {
            "automargin": true,
            "type": "pie"
           }
          ],
          "scatter": [
           {
            "fillpattern": {
             "fillmode": "overlay",
             "size": 10,
             "solidity": 0.2
            },
            "type": "scatter"
           }
          ],
          "scatter3d": [
           {
            "line": {
             "colorbar": {
              "outlinewidth": 0,
              "ticks": ""
             }
            },
            "marker": {
             "colorbar": {
              "outlinewidth": 0,
              "ticks": ""
             }
            },
            "type": "scatter3d"
           }
          ],
          "scattercarpet": [
           {
            "marker": {
             "colorbar": {
              "outlinewidth": 0,
              "ticks": ""
             }
            },
            "type": "scattercarpet"
           }
          ],
          "scattergeo": [
           {
            "marker": {
             "colorbar": {
              "outlinewidth": 0,
              "ticks": ""
             }
            },
            "type": "scattergeo"
           }
          ],
          "scattergl": [
           {
            "marker": {
             "colorbar": {
              "outlinewidth": 0,
              "ticks": ""
             }
            },
            "type": "scattergl"
           }
          ],
          "scattermapbox": [
           {
            "marker": {
             "colorbar": {
              "outlinewidth": 0,
              "ticks": ""
             }
            },
            "type": "scattermapbox"
           }
          ],
          "scatterpolar": [
           {
            "marker": {
             "colorbar": {
              "outlinewidth": 0,
              "ticks": ""
             }
            },
            "type": "scatterpolar"
           }
          ],
          "scatterpolargl": [
           {
            "marker": {
             "colorbar": {
              "outlinewidth": 0,
              "ticks": ""
             }
            },
            "type": "scatterpolargl"
           }
          ],
          "scatterternary": [
           {
            "marker": {
             "colorbar": {
              "outlinewidth": 0,
              "ticks": ""
             }
            },
            "type": "scatterternary"
           }
          ],
          "surface": [
           {
            "colorbar": {
             "outlinewidth": 0,
             "ticks": ""
            },
            "colorscale": [
             [
              0,
              "#0d0887"
             ],
             [
              0.1111111111111111,
              "#46039f"
             ],
             [
              0.2222222222222222,
              "#7201a8"
             ],
             [
              0.3333333333333333,
              "#9c179e"
             ],
             [
              0.4444444444444444,
              "#bd3786"
             ],
             [
              0.5555555555555556,
              "#d8576b"
             ],
             [
              0.6666666666666666,
              "#ed7953"
             ],
             [
              0.7777777777777778,
              "#fb9f3a"
             ],
             [
              0.8888888888888888,
              "#fdca26"
             ],
             [
              1,
              "#f0f921"
             ]
            ],
            "type": "surface"
           }
          ],
          "table": [
           {
            "cells": {
             "fill": {
              "color": "#EBF0F8"
             },
             "line": {
              "color": "white"
             }
            },
            "header": {
             "fill": {
              "color": "#C8D4E3"
             },
             "line": {
              "color": "white"
             }
            },
            "type": "table"
           }
          ]
         },
         "layout": {
          "annotationdefaults": {
           "arrowcolor": "#2a3f5f",
           "arrowhead": 0,
           "arrowwidth": 1
          },
          "autotypenumbers": "strict",
          "coloraxis": {
           "colorbar": {
            "outlinewidth": 0,
            "ticks": ""
           }
          },
          "colorscale": {
           "diverging": [
            [
             0,
             "#8e0152"
            ],
            [
             0.1,
             "#c51b7d"
            ],
            [
             0.2,
             "#de77ae"
            ],
            [
             0.3,
             "#f1b6da"
            ],
            [
             0.4,
             "#fde0ef"
            ],
            [
             0.5,
             "#f7f7f7"
            ],
            [
             0.6,
             "#e6f5d0"
            ],
            [
             0.7,
             "#b8e186"
            ],
            [
             0.8,
             "#7fbc41"
            ],
            [
             0.9,
             "#4d9221"
            ],
            [
             1,
             "#276419"
            ]
           ],
           "sequential": [
            [
             0,
             "#0d0887"
            ],
            [
             0.1111111111111111,
             "#46039f"
            ],
            [
             0.2222222222222222,
             "#7201a8"
            ],
            [
             0.3333333333333333,
             "#9c179e"
            ],
            [
             0.4444444444444444,
             "#bd3786"
            ],
            [
             0.5555555555555556,
             "#d8576b"
            ],
            [
             0.6666666666666666,
             "#ed7953"
            ],
            [
             0.7777777777777778,
             "#fb9f3a"
            ],
            [
             0.8888888888888888,
             "#fdca26"
            ],
            [
             1,
             "#f0f921"
            ]
           ],
           "sequentialminus": [
            [
             0,
             "#0d0887"
            ],
            [
             0.1111111111111111,
             "#46039f"
            ],
            [
             0.2222222222222222,
             "#7201a8"
            ],
            [
             0.3333333333333333,
             "#9c179e"
            ],
            [
             0.4444444444444444,
             "#bd3786"
            ],
            [
             0.5555555555555556,
             "#d8576b"
            ],
            [
             0.6666666666666666,
             "#ed7953"
            ],
            [
             0.7777777777777778,
             "#fb9f3a"
            ],
            [
             0.8888888888888888,
             "#fdca26"
            ],
            [
             1,
             "#f0f921"
            ]
           ]
          },
          "colorway": [
           "#636efa",
           "#EF553B",
           "#00cc96",
           "#ab63fa",
           "#FFA15A",
           "#19d3f3",
           "#FF6692",
           "#B6E880",
           "#FF97FF",
           "#FECB52"
          ],
          "font": {
           "color": "#2a3f5f"
          },
          "geo": {
           "bgcolor": "white",
           "lakecolor": "white",
           "landcolor": "#E5ECF6",
           "showlakes": true,
           "showland": true,
           "subunitcolor": "white"
          },
          "hoverlabel": {
           "align": "left"
          },
          "hovermode": "closest",
          "mapbox": {
           "style": "light"
          },
          "paper_bgcolor": "white",
          "plot_bgcolor": "#E5ECF6",
          "polar": {
           "angularaxis": {
            "gridcolor": "white",
            "linecolor": "white",
            "ticks": ""
           },
           "bgcolor": "#E5ECF6",
           "radialaxis": {
            "gridcolor": "white",
            "linecolor": "white",
            "ticks": ""
           }
          },
          "scene": {
           "xaxis": {
            "backgroundcolor": "#E5ECF6",
            "gridcolor": "white",
            "gridwidth": 2,
            "linecolor": "white",
            "showbackground": true,
            "ticks": "",
            "zerolinecolor": "white"
           },
           "yaxis": {
            "backgroundcolor": "#E5ECF6",
            "gridcolor": "white",
            "gridwidth": 2,
            "linecolor": "white",
            "showbackground": true,
            "ticks": "",
            "zerolinecolor": "white"
           },
           "zaxis": {
            "backgroundcolor": "#E5ECF6",
            "gridcolor": "white",
            "gridwidth": 2,
            "linecolor": "white",
            "showbackground": true,
            "ticks": "",
            "zerolinecolor": "white"
           }
          },
          "shapedefaults": {
           "line": {
            "color": "#2a3f5f"
           }
          },
          "ternary": {
           "aaxis": {
            "gridcolor": "white",
            "linecolor": "white",
            "ticks": ""
           },
           "baxis": {
            "gridcolor": "white",
            "linecolor": "white",
            "ticks": ""
           },
           "bgcolor": "#E5ECF6",
           "caxis": {
            "gridcolor": "white",
            "linecolor": "white",
            "ticks": ""
           }
          },
          "title": {
           "x": 0.05
          },
          "xaxis": {
           "automargin": true,
           "gridcolor": "white",
           "linecolor": "white",
           "ticks": "",
           "title": {
            "standoff": 15
           },
           "zerolinecolor": "white",
           "zerolinewidth": 2
          },
          "yaxis": {
           "automargin": true,
           "gridcolor": "white",
           "linecolor": "white",
           "ticks": "",
           "title": {
            "standoff": 15
           },
           "zerolinecolor": "white",
           "zerolinewidth": 2
          }
         }
        },
        "xaxis": {
         "anchor": "y",
         "domain": [
          0,
          1
         ],
         "title": {
          "text": "OrderDate"
         }
        },
        "yaxis": {
         "anchor": "x",
         "domain": [
          0,
          1
         ],
         "title": {
          "text": "TotalAmount"
         }
        }
       }
      }
     },
     "metadata": {},
     "output_type": "display_data"
    }
   ],
   "source": [
    "px.scatter(data_frame=multi1,x=multi1.OrderDate,y='TotalAmount',color='Country',size='TotalAmount')"
   ]
  },
  {
   "cell_type": "code",
   "execution_count": 95,
   "metadata": {},
   "outputs": [
    {
     "data": {
      "application/vnd.plotly.v1+json": {
       "config": {
        "plotlyServerURL": "https://plot.ly"
       },
       "data": [
        {
         "alignmentgroup": "True",
         "hovertemplate": "Country=USA<br>OrderDate=%{x}<br>TotalAmount=%{y}<extra></extra>",
         "legendgroup": "USA",
         "marker": {
          "color": "#636efa",
          "pattern": {
           "shape": ""
          }
         },
         "name": "USA",
         "offsetgroup": "USA",
         "orientation": "v",
         "showlegend": true,
         "textposition": "auto",
         "type": "bar",
         "x": [
          "2013-07-01T00:00:00",
          "2014-01-01T00:00:00",
          "2013-10-01T00:00:00",
          "2013-09-01T00:00:00",
          "2014-05-01T00:00:00",
          "2014-04-01T00:00:00",
          "2012-10-01T00:00:00",
          "2013-03-01T00:00:00",
          "2014-02-01T00:00:00",
          "2013-11-01T00:00:00",
          "2014-03-01T00:00:00",
          "2012-12-01T00:00:00",
          "2013-06-01T00:00:00",
          "2013-02-01T00:00:00",
          "2012-09-01T00:00:00",
          "2013-01-01T00:00:00",
          "2013-04-01T00:00:00",
          "2012-08-01T00:00:00",
          "2012-11-01T00:00:00",
          "2013-12-01T00:00:00",
          "2013-08-01T00:00:00",
          "2012-07-01T00:00:00",
          "2013-05-01T00:00:00"
         ],
         "xaxis": "x",
         "y": [
          100413.9,
          96773.2,
          75056.96,
          64009.15,
          60762.75,
          58436.96,
          51926.1,
          46913.9,
          42753.9,
          37138,
          35499.25,
          31191.399999999998,
          29654.2,
          29119.4,
          26930,
          16649.2,
          15024.88,
          13854,
          9316,
          7265,
          6708.72,
          3226.3999999999996,
          2233
         ],
         "yaxis": "y"
        },
        {
         "alignmentgroup": "True",
         "hovertemplate": "Country=Germany<br>OrderDate=%{x}<br>TotalAmount=%{y}<extra></extra>",
         "legendgroup": "Germany",
         "marker": {
          "color": "#EF553B",
          "pattern": {
           "shape": ""
          }
         },
         "name": "Germany",
         "offsetgroup": "Germany",
         "orientation": "v",
         "showlegend": true,
         "textposition": "auto",
         "type": "bar",
         "x": [
          "2013-10-01T00:00:00",
          "2014-01-01T00:00:00",
          "2013-04-01T00:00:00",
          "2013-05-01T00:00:00",
          "2014-04-01T00:00:00",
          "2013-09-01T00:00:00",
          "2014-03-01T00:00:00",
          "2012-10-01T00:00:00",
          "2012-08-01T00:00:00",
          "2014-02-01T00:00:00",
          "2013-12-01T00:00:00",
          "2012-07-01T00:00:00",
          "2013-02-01T00:00:00",
          "2013-07-01T00:00:00",
          "2012-11-01T00:00:00",
          "2013-11-01T00:00:00",
          "2013-06-01T00:00:00",
          "2013-08-01T00:00:00",
          "2013-01-01T00:00:00",
          "2012-09-01T00:00:00",
          "2014-05-01T00:00:00",
          "2012-12-01T00:00:00",
          "2013-03-01T00:00:00"
         ],
         "xaxis": "x",
         "y": [
          85770.75,
          81250.45,
          76687.8,
          75359.3,
          74216.45,
          45305.8,
          41838.45,
          34274.4,
          31959.2,
          29518.899999999998,
          29057.559999999998,
          22804.6,
          22802.5,
          18822.3,
          18774.4,
          18119.2,
          17270.5,
          15372.75,
          10841.2,
          8151.599999999999,
          7580.85,
          5797.8,
          4555.2
         ],
         "yaxis": "y"
        },
        {
         "alignmentgroup": "True",
         "hovertemplate": "Country=Austria<br>OrderDate=%{x}<br>TotalAmount=%{y}<extra></extra>",
         "legendgroup": "Austria",
         "marker": {
          "color": "#00cc96",
          "pattern": {
           "shape": ""
          }
         },
         "name": "Austria",
         "offsetgroup": "Austria",
         "orientation": "v",
         "showlegend": true,
         "textposition": "auto",
         "type": "bar",
         "x": [
          "2014-04-01T00:00:00",
          "2012-11-01T00:00:00",
          "2013-12-01T00:00:00",
          "2013-04-01T00:00:00",
          "2014-03-01T00:00:00",
          "2013-01-01T00:00:00",
          "2014-01-01T00:00:00",
          "2013-08-01T00:00:00",
          "2014-02-01T00:00:00",
          "2012-12-01T00:00:00",
          "2013-07-01T00:00:00",
          "2014-05-01T00:00:00",
          "2013-10-01T00:00:00",
          "2013-05-01T00:00:00",
          "2012-07-01T00:00:00",
          "2013-11-01T00:00:00",
          "2013-09-01T00:00:00",
          "2013-02-01T00:00:00",
          "2013-06-01T00:00:00",
          "2013-03-01T00:00:00"
         ],
         "xaxis": "x",
         "y": [
          65660.75,
          51530.4,
          45009.25,
          43117.25,
          33105,
          31273.8,
          31242.5,
          25932.2,
          25517.6,
          25040.8,
          21300.3,
          20872,
          18003.65,
          16720,
          15915,
          7651.4,
          7118.9,
          5376,
          1295.5,
          1004.4
         ],
         "yaxis": "y"
        },
        {
         "alignmentgroup": "True",
         "hovertemplate": "Country=Brazil<br>OrderDate=%{x}<br>TotalAmount=%{y}<extra></extra>",
         "legendgroup": "Brazil",
         "marker": {
          "color": "#ab63fa",
          "pattern": {
           "shape": ""
          }
         },
         "name": "Brazil",
         "offsetgroup": "Brazil",
         "orientation": "v",
         "showlegend": true,
         "textposition": "auto",
         "type": "bar",
         "x": [
          "2012-12-01T00:00:00",
          "2014-02-01T00:00:00",
          "2013-01-01T00:00:00",
          "2014-01-01T00:00:00",
          "2013-08-01T00:00:00",
          "2013-10-01T00:00:00",
          "2013-12-01T00:00:00",
          "2012-08-01T00:00:00",
          "2014-04-01T00:00:00",
          "2012-07-01T00:00:00",
          "2014-03-01T00:00:00",
          "2013-11-01T00:00:00",
          "2013-05-01T00:00:00",
          "2014-05-01T00:00:00",
          "2013-09-01T00:00:00",
          "2013-07-01T00:00:00",
          "2013-03-01T00:00:00",
          "2012-11-01T00:00:00",
          "2013-04-01T00:00:00",
          "2013-02-01T00:00:00",
          "2013-06-01T00:00:00",
          "2012-09-01T00:00:00"
         ],
         "xaxis": "x",
         "y": [
          52334.4,
          26183.2,
          25277,
          25147.239999999998,
          24732.35,
          16321.9,
          15475.849999999999,
          14402.4,
          13143.5,
          11705,
          11270.8,
          9682.05,
          8651.2,
          7154.400000000001,
          6941.66,
          6803.639999999999,
          6151.3,
          3712,
          3584,
          2743.2,
          2317.5,
          699
         ],
         "yaxis": "y"
        },
        {
         "alignmentgroup": "True",
         "hovertemplate": "Country=Canada<br>OrderDate=%{x}<br>TotalAmount=%{y}<extra></extra>",
         "legendgroup": "Canada",
         "marker": {
          "color": "#FFA15A",
          "pattern": {
           "shape": ""
          }
         },
         "name": "Canada",
         "offsetgroup": "Canada",
         "orientation": "v",
         "showlegend": true,
         "textposition": "auto",
         "type": "bar",
         "x": [
          "2013-01-01T00:00:00",
          "2014-03-01T00:00:00",
          "2013-07-01T00:00:00",
          "2012-10-01T00:00:00",
          "2013-08-01T00:00:00",
          "2013-11-01T00:00:00",
          "2012-12-01T00:00:00",
          "2013-06-01T00:00:00",
          "2014-04-01T00:00:00",
          "2013-02-01T00:00:00",
          "2013-04-01T00:00:00",
          "2013-10-01T00:00:00",
          "2014-01-01T00:00:00"
         ],
         "xaxis": "x",
         "y": [
          47278.100000000006,
          28428.3,
          19584,
          17090.399999999998,
          10727.5,
          9354,
          7751.2,
          6612,
          5484.6,
          4312,
          2773.9,
          1277,
          561
         ],
         "yaxis": "y"
        },
        {
         "alignmentgroup": "True",
         "hovertemplate": "Country=Denmark<br>OrderDate=%{x}<br>TotalAmount=%{y}<extra></extra>",
         "legendgroup": "Denmark",
         "marker": {
          "color": "#19d3f3",
          "pattern": {
           "shape": ""
          }
         },
         "name": "Denmark",
         "offsetgroup": "Denmark",
         "orientation": "v",
         "showlegend": true,
         "textposition": "auto",
         "type": "bar",
         "x": [
          "2013-01-01T00:00:00",
          "2013-12-01T00:00:00",
          "2013-03-01T00:00:00",
          "2013-10-01T00:00:00",
          "2014-03-01T00:00:00",
          "2012-12-01T00:00:00",
          "2012-11-01T00:00:00",
          "2013-07-01T00:00:00",
          "2013-08-01T00:00:00",
          "2014-04-01T00:00:00",
          "2013-11-01T00:00:00",
          "2013-06-01T00:00:00",
          "2012-10-01T00:00:00",
          "2013-09-01T00:00:00",
          "2014-05-01T00:00:00"
         ],
         "xaxis": "x",
         "y": [
          45132.8,
          22511,
          13595,
          10470,
          8094.5,
          7062.4,
          3336.8,
          2502.5,
          1740,
          990,
          920,
          835.2,
          824,
          570,
          244.3
         ],
         "yaxis": "y"
        },
        {
         "alignmentgroup": "True",
         "hovertemplate": "Country=France<br>OrderDate=%{x}<br>TotalAmount=%{y}<extra></extra>",
         "legendgroup": "France",
         "marker": {
          "color": "#FF6692",
          "pattern": {
           "shape": ""
          }
         },
         "name": "France",
         "offsetgroup": "France",
         "orientation": "v",
         "showlegend": true,
         "textposition": "auto",
         "type": "bar",
         "x": [
          "2012-11-01T00:00:00",
          "2013-12-01T00:00:00",
          "2014-03-01T00:00:00",
          "2013-02-01T00:00:00",
          "2013-08-01T00:00:00",
          "2014-01-01T00:00:00",
          "2013-11-01T00:00:00",
          "2013-01-01T00:00:00",
          "2013-04-01T00:00:00",
          "2014-02-01T00:00:00",
          "2013-05-01T00:00:00",
          "2013-09-01T00:00:00",
          "2012-10-01T00:00:00",
          "2013-06-01T00:00:00",
          "2013-03-01T00:00:00",
          "2012-07-01T00:00:00",
          "2012-09-01T00:00:00",
          "2014-05-01T00:00:00",
          "2013-10-01T00:00:00",
          "2013-07-01T00:00:00",
          "2012-08-01T00:00:00",
          "2014-04-01T00:00:00",
          "2012-12-01T00:00:00"
         ],
         "xaxis": "x",
         "y": [
          44382.6,
          23833.9,
          22898.21,
          21726.600000000002,
          20454,
          19118.8,
          13093.2,
          12196.8,
          12129.6,
          10773,
          10128,
          9579.3,
          8071.3,
          7840.6,
          7470.4,
          5684.4,
          3499.2,
          3171,
          2592,
          1671,
          1077.2,
          255,
          91.2
         ],
         "yaxis": "y"
        },
        {
         "alignmentgroup": "True",
         "hovertemplate": "Country=Ireland<br>OrderDate=%{x}<br>TotalAmount=%{y}<extra></extra>",
         "legendgroup": "Ireland",
         "marker": {
          "color": "#B6E880",
          "pattern": {
           "shape": ""
          }
         },
         "name": "Ireland",
         "offsetgroup": "Ireland",
         "orientation": "v",
         "showlegend": true,
         "textposition": "auto",
         "type": "bar",
         "x": [
          "2014-02-01T00:00:00",
          "2012-09-01T00:00:00",
          "2013-09-01T00:00:00",
          "2013-10-01T00:00:00",
          "2013-04-01T00:00:00",
          "2012-10-01T00:00:00",
          "2013-06-01T00:00:00",
          "2012-12-01T00:00:00",
          "2013-08-01T00:00:00",
          "2014-03-01T00:00:00",
          "2014-04-01T00:00:00",
          "2013-01-01T00:00:00",
          "2013-11-01T00:00:00"
         ],
         "xaxis": "x",
         "y": [
          38205.28,
          21318,
          20012.199999999997,
          12586.8,
          11940.5,
          10180.8,
          9327,
          9095.2,
          7712,
          6744.599999999999,
          4336.5,
          3497,
          1994
         ],
         "yaxis": "y"
        },
        {
         "alignmentgroup": "True",
         "hovertemplate": "Country=Venezuela<br>OrderDate=%{x}<br>TotalAmount=%{y}<extra></extra>",
         "legendgroup": "Venezuela",
         "marker": {
          "color": "#FF97FF",
          "pattern": {
           "shape": ""
          }
         },
         "name": "Venezuela",
         "offsetgroup": "Venezuela",
         "orientation": "v",
         "showlegend": true,
         "textposition": "auto",
         "type": "bar",
         "x": [
          "2014-04-01T00:00:00",
          "2014-01-01T00:00:00",
          "2013-03-01T00:00:00",
          "2014-03-01T00:00:00",
          "2013-12-01T00:00:00",
          "2013-08-01T00:00:00",
          "2012-12-01T00:00:00",
          "2013-02-01T00:00:00",
          "2012-08-01T00:00:00",
          "2012-07-01T00:00:00",
          "2013-11-01T00:00:00",
          "2013-05-01T00:00:00",
          "2013-07-01T00:00:00",
          "2013-10-01T00:00:00",
          "2013-04-01T00:00:00",
          "2012-11-01T00:00:00",
          "2012-10-01T00:00:00",
          "2012-09-01T00:00:00",
          "2014-02-01T00:00:00",
          "2014-05-01T00:00:00",
          "2013-01-01T00:00:00"
         ],
         "xaxis": "x",
         "y": [
          25480.2,
          23267.5,
          20710.4,
          17730.1,
          13727.32,
          12268.150000000001,
          7111.599999999999,
          6154.799999999999,
          5659.2,
          5562.1,
          5550,
          5301,
          5286,
          5051.6,
          4549,
          4080,
          3880,
          3151.7999999999997,
          3051,
          1525.12,
          400
         ],
         "yaxis": "y"
        },
        {
         "alignmentgroup": "True",
         "hovertemplate": "Country=UK<br>OrderDate=%{x}<br>TotalAmount=%{y}<extra></extra>",
         "legendgroup": "UK",
         "marker": {
          "color": "#FECB52",
          "pattern": {
           "shape": ""
          }
         },
         "name": "UK",
         "offsetgroup": "UK",
         "orientation": "v",
         "showlegend": true,
         "textposition": "auto",
         "type": "bar",
         "x": [
          "2014-04-01T00:00:00",
          "2014-03-01T00:00:00",
          "2013-12-01T00:00:00",
          "2013-05-01T00:00:00",
          "2012-11-01T00:00:00",
          "2013-06-01T00:00:00",
          "2013-01-01T00:00:00",
          "2014-01-01T00:00:00",
          "2012-12-01T00:00:00",
          "2014-02-01T00:00:00",
          "2013-03-01T00:00:00",
          "2013-11-01T00:00:00",
          "2013-10-01T00:00:00",
          "2013-08-01T00:00:00",
          "2013-02-01T00:00:00",
          "2013-04-01T00:00:00",
          "2012-09-01T00:00:00",
          "2012-08-01T00:00:00",
          "2012-10-01T00:00:00",
          "2013-07-01T00:00:00",
          "2013-09-01T00:00:00"
         ],
         "xaxis": "x",
         "y": [
          25296.239999999998,
          22250.2,
          18951.05,
          17973.9,
          13823.2,
          11668.5,
          9189,
          8919,
          8551,
          7084,
          6689.8,
          5675,
          5112,
          3034,
          2800.8,
          1056,
          1033.6,
          958.8,
          624.8,
          493,
          45
         ],
         "yaxis": "y"
        },
        {
         "alignmentgroup": "True",
         "hovertemplate": "Country=Sweden<br>OrderDate=%{x}<br>TotalAmount=%{y}<extra></extra>",
         "legendgroup": "Sweden",
         "marker": {
          "color": "#636efa",
          "pattern": {
           "shape": ""
          }
         },
         "name": "Sweden",
         "offsetgroup": "Sweden",
         "orientation": "v",
         "showlegend": true,
         "textposition": "auto",
         "type": "bar",
         "x": [
          "2014-04-01T00:00:00",
          "2013-05-01T00:00:00",
          "2013-12-01T00:00:00",
          "2014-03-01T00:00:00",
          "2014-02-01T00:00:00",
          "2014-01-01T00:00:00",
          "2013-06-01T00:00:00",
          "2013-09-01T00:00:00",
          "2012-10-01T00:00:00",
          "2013-10-01T00:00:00",
          "2012-08-01T00:00:00",
          "2013-02-01T00:00:00",
          "2012-12-01T00:00:00",
          "2013-08-01T00:00:00",
          "2013-11-01T00:00:00",
          "2012-07-01T00:00:00"
         ],
         "xaxis": "x",
         "y": [
          25030.5,
          19656.2,
          19194.5,
          15438.5,
          14229.9,
          13410.449999999999,
          11951.6,
          10427.1,
          9050,
          8265,
          7794.8,
          5666.2,
          4548,
          4510.799999999999,
          4377,
          1449
         ],
         "yaxis": "y"
        },
        {
         "alignmentgroup": "True",
         "hovertemplate": "Country=Switzerland<br>OrderDate=%{x}<br>TotalAmount=%{y}<extra></extra>",
         "legendgroup": "Switzerland",
         "marker": {
          "color": "#EF553B",
          "pattern": {
           "shape": ""
          }
         },
         "name": "Switzerland",
         "offsetgroup": "Switzerland",
         "orientation": "v",
         "showlegend": true,
         "textposition": "auto",
         "type": "bar",
         "x": [
          "2013-11-01T00:00:00",
          "2014-04-01T00:00:00",
          "2012-07-01T00:00:00",
          "2013-09-01T00:00:00",
          "2013-05-01T00:00:00",
          "2013-04-01T00:00:00",
          "2014-03-01T00:00:00",
          "2013-01-01T00:00:00",
          "2012-12-01T00:00:00",
          "2014-05-01T00:00:00"
         ],
         "xaxis": "x",
         "y": [
          24966.44,
          13531.6,
          11837.6,
          9333.88,
          9119,
          7068,
          6889.5,
          4416,
          3522,
          1758
         ],
         "yaxis": "y"
        },
        {
         "alignmentgroup": "True",
         "hovertemplate": "Country=Belgium<br>OrderDate=%{x}<br>TotalAmount=%{y}<extra></extra>",
         "legendgroup": "Belgium",
         "marker": {
          "color": "#00cc96",
          "pattern": {
           "shape": ""
          }
         },
         "name": "Belgium",
         "offsetgroup": "Belgium",
         "orientation": "v",
         "showlegend": true,
         "textposition": "auto",
         "type": "bar",
         "x": [
          "2014-01-01T00:00:00",
          "2013-02-01T00:00:00",
          "2014-03-01T00:00:00",
          "2012-07-01T00:00:00",
          "2013-12-01T00:00:00",
          "2014-04-01T00:00:00",
          "2014-02-01T00:00:00",
          "2012-09-01T00:00:00",
          "2013-03-01T00:00:00",
          "2013-08-01T00:00:00",
          "2013-05-01T00:00:00"
         ],
         "xaxis": "x",
         "y": [
          21660,
          19455,
          15822.8,
          11190,
          9940,
          9861.76,
          8537,
          8126.400000000001,
          6739,
          2868,
          2838
         ],
         "yaxis": "y"
        },
        {
         "alignmentgroup": "True",
         "hovertemplate": "Country=Mexico<br>OrderDate=%{x}<br>TotalAmount=%{y}<extra></extra>",
         "legendgroup": "Mexico",
         "marker": {
          "color": "#ab63fa",
          "pattern": {
           "shape": ""
          }
         },
         "name": "Mexico",
         "offsetgroup": "Mexico",
         "orientation": "v",
         "showlegend": true,
         "textposition": "auto",
         "type": "bar",
         "x": [
          "2013-04-01T00:00:00",
          "2013-06-01T00:00:00",
          "2013-05-01T00:00:00",
          "2014-01-01T00:00:00",
          "2013-03-01T00:00:00",
          "2013-09-01T00:00:00",
          "2012-08-01T00:00:00",
          "2012-10-01T00:00:00",
          "2012-09-01T00:00:00",
          "2014-04-01T00:00:00",
          "2014-03-01T00:00:00",
          "2014-02-01T00:00:00",
          "2012-11-01T00:00:00",
          "2013-08-01T00:00:00",
          "2014-05-01T00:00:00",
          "2013-11-01T00:00:00",
          "2012-07-01T00:00:00"
         ],
         "xaxis": "x",
         "y": [
          16661.55,
          8761.35,
          8626,
          5220,
          4996.4,
          4644.85,
          4234.8,
          3685.6000000000004,
          3040.7999999999997,
          2392,
          2057.6,
          1618.5,
          1540.8,
          1439.25,
          960,
          320,
          201.6
         ],
         "yaxis": "y"
        },
        {
         "alignmentgroup": "True",
         "hovertemplate": "Country=Spain<br>OrderDate=%{x}<br>TotalAmount=%{y}<extra></extra>",
         "legendgroup": "Spain",
         "marker": {
          "color": "#FFA15A",
          "pattern": {
           "shape": ""
          }
         },
         "name": "Spain",
         "offsetgroup": "Spain",
         "orientation": "v",
         "showlegend": true,
         "textposition": "auto",
         "type": "bar",
         "x": [
          "2014-02-01T00:00:00",
          "2014-03-01T00:00:00",
          "2013-12-01T00:00:00",
          "2013-08-01T00:00:00",
          "2012-09-01T00:00:00",
          "2014-04-01T00:00:00",
          "2013-05-01T00:00:00",
          "2012-10-01T00:00:00",
          "2013-01-01T00:00:00",
          "2012-08-01T00:00:00",
          "2012-11-01T00:00:00",
          "2013-06-01T00:00:00"
         ],
         "xaxis": "x",
         "y": [
          12831.2,
          8373.529999999999,
          8071.6,
          5550.1,
          5221.5,
          3610,
          2996,
          2946,
          676.4,
          570.3,
          272,
          155
         ],
         "yaxis": "y"
        },
        {
         "alignmentgroup": "True",
         "hovertemplate": "Country=Argentina<br>OrderDate=%{x}<br>TotalAmount=%{y}<extra></extra>",
         "legendgroup": "Argentina",
         "marker": {
          "color": "#19d3f3",
          "pattern": {
           "shape": ""
          }
         },
         "name": "Argentina",
         "offsetgroup": "Argentina",
         "orientation": "v",
         "showlegend": true,
         "textposition": "auto",
         "type": "bar",
         "x": [
          "2014-03-01T00:00:00",
          "2014-01-01T00:00:00",
          "2014-02-01T00:00:00",
          "2013-10-01T00:00:00",
          "2013-02-01T00:00:00",
          "2014-04-01T00:00:00",
          "2013-04-01T00:00:00",
          "2013-01-01T00:00:00",
          "2013-05-01T00:00:00",
          "2013-12-01T00:00:00"
         ],
         "xaxis": "x",
         "y": [
          12512.6,
          2818,
          2240.1000000000004,
          2118,
          886.8,
          762,
          676.5,
          638.4,
          110,
          12.5
         ],
         "yaxis": "y"
        },
        {
         "alignmentgroup": "True",
         "hovertemplate": "Country=Finland<br>OrderDate=%{x}<br>TotalAmount=%{y}<extra></extra>",
         "legendgroup": "Finland",
         "marker": {
          "color": "#FF6692",
          "pattern": {
           "shape": ""
          }
         },
         "name": "Finland",
         "offsetgroup": "Finland",
         "orientation": "v",
         "showlegend": true,
         "textposition": "auto",
         "type": "bar",
         "x": [
          "2013-05-01T00:00:00",
          "2013-02-01T00:00:00",
          "2013-06-01T00:00:00",
          "2013-11-01T00:00:00",
          "2014-02-01T00:00:00",
          "2013-12-01T00:00:00",
          "2012-10-01T00:00:00",
          "2012-08-01T00:00:00",
          "2013-01-01T00:00:00",
          "2013-10-01T00:00:00",
          "2014-04-01T00:00:00",
          "2013-08-01T00:00:00",
          "2013-09-01T00:00:00",
          "2012-07-01T00:00:00",
          "2013-07-01T00:00:00"
         ],
         "xaxis": "x",
         "y": [
          11763.5,
          11129,
          7241.700000000001,
          5613.75,
          3866.2,
          3397.0499999999997,
          3378,
          2752,
          2532,
          1926,
          1772,
          1259,
          1237.0500000000002,
          364.8,
          120
         ],
         "yaxis": "y"
        },
        {
         "alignmentgroup": "True",
         "hovertemplate": "Country=Norway<br>OrderDate=%{x}<br>TotalAmount=%{y}<extra></extra>",
         "legendgroup": "Norway",
         "marker": {
          "color": "#B6E880",
          "pattern": {
           "shape": ""
          }
         },
         "name": "Norway",
         "offsetgroup": "Norway",
         "orientation": "v",
         "showlegend": true,
         "textposition": "auto",
         "type": "bar",
         "x": [
          "2014-01-01T00:00:00",
          "2012-12-01T00:00:00",
          "2014-02-01T00:00:00",
          "2014-04-01T00:00:00",
          "2013-08-01T00:00:00",
          "2013-04-01T00:00:00"
         ],
         "xaxis": "x",
         "y": [
          10737.6,
          4233.6,
          2010,
          1244.7,
          500,
          400
         ],
         "yaxis": "y"
        },
        {
         "alignmentgroup": "True",
         "hovertemplate": "Country=Portugal<br>OrderDate=%{x}<br>TotalAmount=%{y}<extra></extra>",
         "legendgroup": "Portugal",
         "marker": {
          "color": "#FF97FF",
          "pattern": {
           "shape": ""
          }
         },
         "name": "Portugal",
         "offsetgroup": "Portugal",
         "orientation": "v",
         "showlegend": true,
         "textposition": "auto",
         "type": "bar",
         "x": [
          "2013-03-01T00:00:00",
          "2014-04-01T00:00:00",
          "2013-05-01T00:00:00",
          "2013-09-01T00:00:00",
          "2012-10-01T00:00:00",
          "2012-12-01T00:00:00",
          "2013-02-01T00:00:00",
          "2013-07-01T00:00:00",
          "2012-11-01T00:00:00",
          "2014-03-01T00:00:00"
         ],
         "xaxis": "x",
         "y": [
          10018.6,
          7901.700000000001,
          5508,
          4547.25,
          3820.8,
          1686.4,
          851.2,
          513,
          308,
          68
         ],
         "yaxis": "y"
        },
        {
         "alignmentgroup": "True",
         "hovertemplate": "Country=Italy<br>OrderDate=%{x}<br>TotalAmount=%{y}<extra></extra>",
         "legendgroup": "Italy",
         "marker": {
          "color": "#FECB52",
          "pattern": {
           "shape": ""
          }
         },
         "name": "Italy",
         "offsetgroup": "Italy",
         "orientation": "v",
         "showlegend": true,
         "textposition": "auto",
         "type": "bar",
         "x": [
          "2014-01-01T00:00:00",
          "2013-11-01T00:00:00",
          "2013-01-01T00:00:00",
          "2013-12-01T00:00:00",
          "2014-04-01T00:00:00",
          "2013-08-01T00:00:00",
          "2014-03-01T00:00:00",
          "2014-02-01T00:00:00",
          "2012-09-01T00:00:00",
          "2013-06-01T00:00:00",
          "2013-02-01T00:00:00",
          "2012-08-01T00:00:00",
          "2013-03-01T00:00:00",
          "2013-09-01T00:00:00",
          "2013-10-01T00:00:00",
          "2013-07-01T00:00:00"
         ],
         "xaxis": "x",
         "y": [
          7222,
          5361.2,
          5266.8,
          4968.4,
          4898,
          4140.75,
          2170,
          1396,
          1216,
          1086,
          1075.2,
          792.4,
          470.4,
          193,
          187,
          28
         ],
         "yaxis": "y"
        },
        {
         "alignmentgroup": "True",
         "hovertemplate": "Country=Poland<br>OrderDate=%{x}<br>TotalAmount=%{y}<extra></extra>",
         "legendgroup": "Poland",
         "marker": {
          "color": "#636efa",
          "pattern": {
           "shape": ""
          }
         },
         "name": "Poland",
         "offsetgroup": "Poland",
         "orientation": "v",
         "showlegend": true,
         "textposition": "auto",
         "type": "bar",
         "x": [
          "2014-04-01T00:00:00",
          "2013-07-01T00:00:00",
          "2013-12-01T00:00:00",
          "2012-12-01T00:00:00",
          "2014-02-01T00:00:00"
         ],
         "xaxis": "x",
         "y": [
          3335.6,
          2424,
          1199.5500000000002,
          918,
          747.5
         ],
         "yaxis": "y"
        }
       ],
       "layout": {
        "barmode": "relative",
        "legend": {
         "title": {
          "text": "Country"
         },
         "tracegroupgap": 0
        },
        "margin": {
         "t": 60
        },
        "template": {
         "data": {
          "bar": [
           {
            "error_x": {
             "color": "#2a3f5f"
            },
            "error_y": {
             "color": "#2a3f5f"
            },
            "marker": {
             "line": {
              "color": "#E5ECF6",
              "width": 0.5
             },
             "pattern": {
              "fillmode": "overlay",
              "size": 10,
              "solidity": 0.2
             }
            },
            "type": "bar"
           }
          ],
          "barpolar": [
           {
            "marker": {
             "line": {
              "color": "#E5ECF6",
              "width": 0.5
             },
             "pattern": {
              "fillmode": "overlay",
              "size": 10,
              "solidity": 0.2
             }
            },
            "type": "barpolar"
           }
          ],
          "carpet": [
           {
            "aaxis": {
             "endlinecolor": "#2a3f5f",
             "gridcolor": "white",
             "linecolor": "white",
             "minorgridcolor": "white",
             "startlinecolor": "#2a3f5f"
            },
            "baxis": {
             "endlinecolor": "#2a3f5f",
             "gridcolor": "white",
             "linecolor": "white",
             "minorgridcolor": "white",
             "startlinecolor": "#2a3f5f"
            },
            "type": "carpet"
           }
          ],
          "choropleth": [
           {
            "colorbar": {
             "outlinewidth": 0,
             "ticks": ""
            },
            "type": "choropleth"
           }
          ],
          "contour": [
           {
            "colorbar": {
             "outlinewidth": 0,
             "ticks": ""
            },
            "colorscale": [
             [
              0,
              "#0d0887"
             ],
             [
              0.1111111111111111,
              "#46039f"
             ],
             [
              0.2222222222222222,
              "#7201a8"
             ],
             [
              0.3333333333333333,
              "#9c179e"
             ],
             [
              0.4444444444444444,
              "#bd3786"
             ],
             [
              0.5555555555555556,
              "#d8576b"
             ],
             [
              0.6666666666666666,
              "#ed7953"
             ],
             [
              0.7777777777777778,
              "#fb9f3a"
             ],
             [
              0.8888888888888888,
              "#fdca26"
             ],
             [
              1,
              "#f0f921"
             ]
            ],
            "type": "contour"
           }
          ],
          "contourcarpet": [
           {
            "colorbar": {
             "outlinewidth": 0,
             "ticks": ""
            },
            "type": "contourcarpet"
           }
          ],
          "heatmap": [
           {
            "colorbar": {
             "outlinewidth": 0,
             "ticks": ""
            },
            "colorscale": [
             [
              0,
              "#0d0887"
             ],
             [
              0.1111111111111111,
              "#46039f"
             ],
             [
              0.2222222222222222,
              "#7201a8"
             ],
             [
              0.3333333333333333,
              "#9c179e"
             ],
             [
              0.4444444444444444,
              "#bd3786"
             ],
             [
              0.5555555555555556,
              "#d8576b"
             ],
             [
              0.6666666666666666,
              "#ed7953"
             ],
             [
              0.7777777777777778,
              "#fb9f3a"
             ],
             [
              0.8888888888888888,
              "#fdca26"
             ],
             [
              1,
              "#f0f921"
             ]
            ],
            "type": "heatmap"
           }
          ],
          "heatmapgl": [
           {
            "colorbar": {
             "outlinewidth": 0,
             "ticks": ""
            },
            "colorscale": [
             [
              0,
              "#0d0887"
             ],
             [
              0.1111111111111111,
              "#46039f"
             ],
             [
              0.2222222222222222,
              "#7201a8"
             ],
             [
              0.3333333333333333,
              "#9c179e"
             ],
             [
              0.4444444444444444,
              "#bd3786"
             ],
             [
              0.5555555555555556,
              "#d8576b"
             ],
             [
              0.6666666666666666,
              "#ed7953"
             ],
             [
              0.7777777777777778,
              "#fb9f3a"
             ],
             [
              0.8888888888888888,
              "#fdca26"
             ],
             [
              1,
              "#f0f921"
             ]
            ],
            "type": "heatmapgl"
           }
          ],
          "histogram": [
           {
            "marker": {
             "pattern": {
              "fillmode": "overlay",
              "size": 10,
              "solidity": 0.2
             }
            },
            "type": "histogram"
           }
          ],
          "histogram2d": [
           {
            "colorbar": {
             "outlinewidth": 0,
             "ticks": ""
            },
            "colorscale": [
             [
              0,
              "#0d0887"
             ],
             [
              0.1111111111111111,
              "#46039f"
             ],
             [
              0.2222222222222222,
              "#7201a8"
             ],
             [
              0.3333333333333333,
              "#9c179e"
             ],
             [
              0.4444444444444444,
              "#bd3786"
             ],
             [
              0.5555555555555556,
              "#d8576b"
             ],
             [
              0.6666666666666666,
              "#ed7953"
             ],
             [
              0.7777777777777778,
              "#fb9f3a"
             ],
             [
              0.8888888888888888,
              "#fdca26"
             ],
             [
              1,
              "#f0f921"
             ]
            ],
            "type": "histogram2d"
           }
          ],
          "histogram2dcontour": [
           {
            "colorbar": {
             "outlinewidth": 0,
             "ticks": ""
            },
            "colorscale": [
             [
              0,
              "#0d0887"
             ],
             [
              0.1111111111111111,
              "#46039f"
             ],
             [
              0.2222222222222222,
              "#7201a8"
             ],
             [
              0.3333333333333333,
              "#9c179e"
             ],
             [
              0.4444444444444444,
              "#bd3786"
             ],
             [
              0.5555555555555556,
              "#d8576b"
             ],
             [
              0.6666666666666666,
              "#ed7953"
             ],
             [
              0.7777777777777778,
              "#fb9f3a"
             ],
             [
              0.8888888888888888,
              "#fdca26"
             ],
             [
              1,
              "#f0f921"
             ]
            ],
            "type": "histogram2dcontour"
           }
          ],
          "mesh3d": [
           {
            "colorbar": {
             "outlinewidth": 0,
             "ticks": ""
            },
            "type": "mesh3d"
           }
          ],
          "parcoords": [
           {
            "line": {
             "colorbar": {
              "outlinewidth": 0,
              "ticks": ""
             }
            },
            "type": "parcoords"
           }
          ],
          "pie": [
           {
            "automargin": true,
            "type": "pie"
           }
          ],
          "scatter": [
           {
            "fillpattern": {
             "fillmode": "overlay",
             "size": 10,
             "solidity": 0.2
            },
            "type": "scatter"
           }
          ],
          "scatter3d": [
           {
            "line": {
             "colorbar": {
              "outlinewidth": 0,
              "ticks": ""
             }
            },
            "marker": {
             "colorbar": {
              "outlinewidth": 0,
              "ticks": ""
             }
            },
            "type": "scatter3d"
           }
          ],
          "scattercarpet": [
           {
            "marker": {
             "colorbar": {
              "outlinewidth": 0,
              "ticks": ""
             }
            },
            "type": "scattercarpet"
           }
          ],
          "scattergeo": [
           {
            "marker": {
             "colorbar": {
              "outlinewidth": 0,
              "ticks": ""
             }
            },
            "type": "scattergeo"
           }
          ],
          "scattergl": [
           {
            "marker": {
             "colorbar": {
              "outlinewidth": 0,
              "ticks": ""
             }
            },
            "type": "scattergl"
           }
          ],
          "scattermapbox": [
           {
            "marker": {
             "colorbar": {
              "outlinewidth": 0,
              "ticks": ""
             }
            },
            "type": "scattermapbox"
           }
          ],
          "scatterpolar": [
           {
            "marker": {
             "colorbar": {
              "outlinewidth": 0,
              "ticks": ""
             }
            },
            "type": "scatterpolar"
           }
          ],
          "scatterpolargl": [
           {
            "marker": {
             "colorbar": {
              "outlinewidth": 0,
              "ticks": ""
             }
            },
            "type": "scatterpolargl"
           }
          ],
          "scatterternary": [
           {
            "marker": {
             "colorbar": {
              "outlinewidth": 0,
              "ticks": ""
             }
            },
            "type": "scatterternary"
           }
          ],
          "surface": [
           {
            "colorbar": {
             "outlinewidth": 0,
             "ticks": ""
            },
            "colorscale": [
             [
              0,
              "#0d0887"
             ],
             [
              0.1111111111111111,
              "#46039f"
             ],
             [
              0.2222222222222222,
              "#7201a8"
             ],
             [
              0.3333333333333333,
              "#9c179e"
             ],
             [
              0.4444444444444444,
              "#bd3786"
             ],
             [
              0.5555555555555556,
              "#d8576b"
             ],
             [
              0.6666666666666666,
              "#ed7953"
             ],
             [
              0.7777777777777778,
              "#fb9f3a"
             ],
             [
              0.8888888888888888,
              "#fdca26"
             ],
             [
              1,
              "#f0f921"
             ]
            ],
            "type": "surface"
           }
          ],
          "table": [
           {
            "cells": {
             "fill": {
              "color": "#EBF0F8"
             },
             "line": {
              "color": "white"
             }
            },
            "header": {
             "fill": {
              "color": "#C8D4E3"
             },
             "line": {
              "color": "white"
             }
            },
            "type": "table"
           }
          ]
         },
         "layout": {
          "annotationdefaults": {
           "arrowcolor": "#2a3f5f",
           "arrowhead": 0,
           "arrowwidth": 1
          },
          "autotypenumbers": "strict",
          "coloraxis": {
           "colorbar": {
            "outlinewidth": 0,
            "ticks": ""
           }
          },
          "colorscale": {
           "diverging": [
            [
             0,
             "#8e0152"
            ],
            [
             0.1,
             "#c51b7d"
            ],
            [
             0.2,
             "#de77ae"
            ],
            [
             0.3,
             "#f1b6da"
            ],
            [
             0.4,
             "#fde0ef"
            ],
            [
             0.5,
             "#f7f7f7"
            ],
            [
             0.6,
             "#e6f5d0"
            ],
            [
             0.7,
             "#b8e186"
            ],
            [
             0.8,
             "#7fbc41"
            ],
            [
             0.9,
             "#4d9221"
            ],
            [
             1,
             "#276419"
            ]
           ],
           "sequential": [
            [
             0,
             "#0d0887"
            ],
            [
             0.1111111111111111,
             "#46039f"
            ],
            [
             0.2222222222222222,
             "#7201a8"
            ],
            [
             0.3333333333333333,
             "#9c179e"
            ],
            [
             0.4444444444444444,
             "#bd3786"
            ],
            [
             0.5555555555555556,
             "#d8576b"
            ],
            [
             0.6666666666666666,
             "#ed7953"
            ],
            [
             0.7777777777777778,
             "#fb9f3a"
            ],
            [
             0.8888888888888888,
             "#fdca26"
            ],
            [
             1,
             "#f0f921"
            ]
           ],
           "sequentialminus": [
            [
             0,
             "#0d0887"
            ],
            [
             0.1111111111111111,
             "#46039f"
            ],
            [
             0.2222222222222222,
             "#7201a8"
            ],
            [
             0.3333333333333333,
             "#9c179e"
            ],
            [
             0.4444444444444444,
             "#bd3786"
            ],
            [
             0.5555555555555556,
             "#d8576b"
            ],
            [
             0.6666666666666666,
             "#ed7953"
            ],
            [
             0.7777777777777778,
             "#fb9f3a"
            ],
            [
             0.8888888888888888,
             "#fdca26"
            ],
            [
             1,
             "#f0f921"
            ]
           ]
          },
          "colorway": [
           "#636efa",
           "#EF553B",
           "#00cc96",
           "#ab63fa",
           "#FFA15A",
           "#19d3f3",
           "#FF6692",
           "#B6E880",
           "#FF97FF",
           "#FECB52"
          ],
          "font": {
           "color": "#2a3f5f"
          },
          "geo": {
           "bgcolor": "white",
           "lakecolor": "white",
           "landcolor": "#E5ECF6",
           "showlakes": true,
           "showland": true,
           "subunitcolor": "white"
          },
          "hoverlabel": {
           "align": "left"
          },
          "hovermode": "closest",
          "mapbox": {
           "style": "light"
          },
          "paper_bgcolor": "white",
          "plot_bgcolor": "#E5ECF6",
          "polar": {
           "angularaxis": {
            "gridcolor": "white",
            "linecolor": "white",
            "ticks": ""
           },
           "bgcolor": "#E5ECF6",
           "radialaxis": {
            "gridcolor": "white",
            "linecolor": "white",
            "ticks": ""
           }
          },
          "scene": {
           "xaxis": {
            "backgroundcolor": "#E5ECF6",
            "gridcolor": "white",
            "gridwidth": 2,
            "linecolor": "white",
            "showbackground": true,
            "ticks": "",
            "zerolinecolor": "white"
           },
           "yaxis": {
            "backgroundcolor": "#E5ECF6",
            "gridcolor": "white",
            "gridwidth": 2,
            "linecolor": "white",
            "showbackground": true,
            "ticks": "",
            "zerolinecolor": "white"
           },
           "zaxis": {
            "backgroundcolor": "#E5ECF6",
            "gridcolor": "white",
            "gridwidth": 2,
            "linecolor": "white",
            "showbackground": true,
            "ticks": "",
            "zerolinecolor": "white"
           }
          },
          "shapedefaults": {
           "line": {
            "color": "#2a3f5f"
           }
          },
          "ternary": {
           "aaxis": {
            "gridcolor": "white",
            "linecolor": "white",
            "ticks": ""
           },
           "baxis": {
            "gridcolor": "white",
            "linecolor": "white",
            "ticks": ""
           },
           "bgcolor": "#E5ECF6",
           "caxis": {
            "gridcolor": "white",
            "linecolor": "white",
            "ticks": ""
           }
          },
          "title": {
           "x": 0.05
          },
          "xaxis": {
           "automargin": true,
           "gridcolor": "white",
           "linecolor": "white",
           "ticks": "",
           "title": {
            "standoff": 15
           },
           "zerolinecolor": "white",
           "zerolinewidth": 2
          },
          "yaxis": {
           "automargin": true,
           "gridcolor": "white",
           "linecolor": "white",
           "ticks": "",
           "title": {
            "standoff": 15
           },
           "zerolinecolor": "white",
           "zerolinewidth": 2
          }
         }
        },
        "xaxis": {
         "anchor": "y",
         "domain": [
          0,
          1
         ],
         "title": {
          "text": "OrderDate"
         }
        },
        "yaxis": {
         "anchor": "x",
         "domain": [
          0,
          1
         ],
         "title": {
          "text": "TotalAmount"
         }
        }
       }
      }
     },
     "metadata": {},
     "output_type": "display_data"
    }
   ],
   "source": [
    "px.bar(data_frame=multi1,x=multi1.OrderDate,y='TotalAmount',color='Country')"
   ]
  },
  {
   "cell_type": "code",
   "execution_count": null,
   "metadata": {},
   "outputs": [],
   "source": []
  }
 ],
 "metadata": {
  "kernelspec": {
   "display_name": "Python 3",
   "language": "python",
   "name": "python3"
  },
  "language_info": {
   "codemirror_mode": {
    "name": "ipython",
    "version": 3
   },
   "file_extension": ".py",
   "mimetype": "text/x-python",
   "name": "python",
   "nbconvert_exporter": "python",
   "pygments_lexer": "ipython3",
   "version": "3.12.3"
  }
 },
 "nbformat": 4,
 "nbformat_minor": 2
}
